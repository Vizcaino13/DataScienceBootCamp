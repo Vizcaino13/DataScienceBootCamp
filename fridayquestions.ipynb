{
  "nbformat": 4,
  "nbformat_minor": 0,
  "metadata": {
    "colab": {
      "provenance": [],
      "authorship_tag": "ABX9TyPIi/ioaAhji26c7yRgx+Nh",
      "include_colab_link": true
    },
    "kernelspec": {
      "name": "python3",
      "display_name": "Python 3"
    },
    "language_info": {
      "name": "python"
    }
  },
  "cells": [
    {
      "cell_type": "markdown",
      "metadata": {
        "id": "view-in-github",
        "colab_type": "text"
      },
      "source": [
        "<a href=\"https://colab.research.google.com/github/Vizcaino13/DataScienceBootCamp/blob/main/fridayquestions.ipynb\" target=\"_parent\"><img src=\"https://colab.research.google.com/assets/colab-badge.svg\" alt=\"Open In Colab\"/></a>"
      ]
    },
    {
      "cell_type": "markdown",
      "source": [
        "Q. what is data science ?\n",
        "\n",
        "A. Is the process of the collection of data analyzation interpretation of it to get valuable insights and make decisions. Examples of data science can be the use of data to answer important questions or make business is better. An example of this is telehealth company finding out why there are a small amount of patients in one state versus another state using data to figure out as to why and how to reach out to those people.\n"
      ],
      "metadata": {
        "id": "pY5HMtwAYdYr"
      }
    },
    {
      "cell_type": "code",
      "execution_count": null,
      "metadata": {
        "id": "lpJsdTTIYZU3"
      },
      "outputs": [],
      "source": []
    },
    {
      "cell_type": "markdown",
      "source": [
        "#Q.What is supervised learning, unsupervised, and reinforcent learning?\n",
        "#Define all three in my own words, examples and for each topic i need examples each\n",
        "#what are the algorithms part of supervised learning, unsupervised, and reinforcent learning\n",
        "\n",
        "\n",
        "\n",
        "supervised learning- is basically showing the computer examples and answers of data and then the computer using that same information you’ve given it , create its own answers/guesses for things that it's never seen before. Supervised learning can also include trying to predict information or just guess things.\n",
        "\n",
        "examples: supervised learning you might be able to predict the weather, when it comes to the weather you can give the computer previous weather history and current weather. Then the computer will learn patterns from before and now and use that to make predictions about the future weather conditions. It can also predict what an image might be based off of previous images that the computer has been shown before\n",
        "\n",
        "\n",
        "Algorithms for supervised learning:\n",
        "\n",
        "Linear regression- linear regression is like a tool that helps you figure out how one thing (the thing you want to predict) is connected to other things (the things you think might influence it).\n",
        "\n",
        "an example of this is - Let's say you want to predict the selling price of houses based on their size (in square feet). You have a dataset with historical data on house sizes and their corresponding selling prices. This dataset is your labeled data.\n",
        "\n",
        "Logistic regression\n",
        "Support Vector machines\n",
        "K nearest neighbors\n",
        "Decision tree\n",
        "\n",
        "\n",
        "\n",
        "unsupervised learning- is when you give the computer  a lot of data and the computer figures out on its own how to group or make sense of the data. It uses things in common with the data or patterns to figure out what the data might be.\n",
        "\n",
        "\n",
        "examples - unsupervised Learning can be used to sort through a lot of data or massive amounts of data and it creates relationships between those unknown data an example of this can be customer data where you tried to group all of the customers who have similarities, this can be based off of their behaviors such as items they may have bought or items they do not like.\n",
        "\n",
        "\n",
        "\n",
        "Unsupervised learning algorithms:\n",
        "\n",
        "K means clustering- K-means clustering is a popular algorithm in unsupervised machine learning used for grouping or clustering similar data points together. this ties into customer similarity, customers are clustered based on their shopping habits.\n",
        "Hierarchical clustering\n",
        "DBscan\n",
        "principal component analysis\n",
        "\n",
        "\n",
        "\n",
        "\n",
        "\n",
        "reinforcement learning- is training/teaching a computer to do new things and if the computer does this correctly then it will receive a reward and if it does not do it correctly then there's a penalty for it. If the computer receives a penalty for then the computer continues to try until they receive the reward. The computer will learn through practice.\n",
        "\n",
        "Example Reinforcement learning: since reinforcement is learning is used most in games this could be used for playing chess so teaching the computer how to play chess through practice\n",
        "\n",
        "\n",
        "Reinforcement learning algorithms:\n",
        "Q learning-Q-learning is like a learning method for computer programs, called agents, to make smart decisions in different situations, like games or navigating mazes, so they can reach a goal\n",
        "SARSA\n",
        "Monte Carlo\n",
        "deepQ network\n",
        "\n",
        "\n",
        "\n",
        "\n",
        "\n",
        "\n",
        "\n"
      ],
      "metadata": {
        "id": "UxjMrI9UIAqF"
      }
    },
    {
      "cell_type": "markdown",
      "source": [
        "Q.Comparing Descriptive, Predictive, Prescriptive, and Diagnostic Analytics\n",
        "    1. Definition\n",
        "    2. Examples\n",
        "\n",
        " descriptive analytics- involves breaking down data and summarizing its key features and characteristics. This summary typically includes basic statistics like counts, averages, measures of distribution, and variability. It helps you get a sense of what's going on with your data without delving into the reasons behind it.\n",
        "\n",
        " examples of it: After conducting customer surveys, businesses can use descriptive analytics to summarize the survey results. This might involve calculating the average customer satisfaction score, identifying common customer complaints, or visualizing survey responses.\n",
        "\n",
        "\n",
        " Diagnostic analytics- while descriptive analytics tells us what happened in the past, diagnostic analytics goes a step further to uncover why it happened. It's like trying to find the root cause or reasons behind certain events or trends in data.It involves analyzing data and using various techniques to uncover hidden patterns, anomalies, or causes behind specific outcomes.\n",
        "\n",
        "examples of it: Employee Retention: Human resources departments use diagnostic analytics to understand why employees are leaving a company. By analyzing employee data and conducting exit interviews, they can identify factors such as job dissatisfaction, inadequate compensation, or issues with company culture contributing to turnover.\n",
        "\n",
        "\n",
        "Predictive analytics - is an advanced branch of data analysis that uses mathematical models, statistical algorithms, and machine learning techniques to make predictions about future events or outcomes based on historical data.\n",
        "\n",
        "example: Credit Scoring\n",
        "\n",
        "Problem: A bank wants to assess the creditworthiness of loan applicants.\n",
        "Data: Historical data on past borrowers, including credit scores, income, employment history, and whether they defaulted on loans.\n",
        "Predictive Model: A machine learning model is trained on the historical data to predict the likelihood of loan default.\n",
        "Application: When a new loan application is received, the model predicts the risk of default. This helps the bank make decisions on whether to approve or deny the loan.\n",
        "\n",
        "\n",
        "Prescriptive analytics is an advanced form of data analytics that goes beyond simply identifying past events or predicting future outcomes. It focuses on recommending specific actions or decisions based on data analysis, statistical modeling, and machine learning algorithms.\n",
        "\n",
        "examples:  Online retailers like Amazon use prescriptive analytics to recommend products to users based on their browsing and purchase history. By analyzing user data and behavior, the system suggests personalized product recommendations to increase sales."
      ],
      "metadata": {
        "id": "JSLG0YN6XDJJ"
      }
    }
  ]
}