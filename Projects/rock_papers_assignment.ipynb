{
  "nbformat": 4,
  "nbformat_minor": 0,
  "metadata": {
    "colab": {
      "provenance": []
    },
    "kernelspec": {
      "name": "python3",
      "display_name": "Python 3"
    },
    "language_info": {
      "name": "python"
    }
  },
  "cells": [
    {
      "cell_type": "code",
      "execution_count": null,
      "metadata": {
        "id": "jFB2wYEkqXry"
      },
      "outputs": [],
      "source": [
        "\n",
        "import random\n",
        "\n",
        "possible_actions=[\"rock\",\"paper\", \"scissors\"]\n",
        "computer_action=random.choice(possible_actions)\n",
        "computer_action\n",
        "user_win= False\n",
        "\n",
        "while not user_win:\n",
        "  user_choice=input(\"Make a choice rock, paper , scissors\")\n",
        "\n",
        "if user_choice.lower() == 'end':\n",
        "  break\n",
        "  def user_option(user_choice):\n",
        "    if user_choice== \"rock\" and computer_action == \"scissors\":\n",
        "        print(\"rock beats scissors: the user won\")\n",
        "    elif user_choice== \"scissors\" and computer_action == \"paper\":\n",
        "        return \"scissors beats paper: the user won\"\n",
        "    elif user_choice== \"paper\" and computer_action == \"rock\":\n",
        "        return \"paper beats rock: the user won\"\n",
        "    elif user_choice == computer_action:\n",
        "        return \"this is a tie\"\n",
        "    else:\n",
        "        return \"the computer won\"\n",
        "\n",
        "who_wins= user_option(user_choice)\n",
        "print(\"your choice\", user_choice, \"the compuers choice\", computer_action,\"result\", who_wins)\n",
        "\n",
        "if \"user won\" in who_wins.lower():\n",
        "        user_win = True"
      ]
    },
    {
      "cell_type": "code",
      "source": [],
      "metadata": {
        "id": "Wi3uVDW7sS5L"
      },
      "execution_count": null,
      "outputs": []
    }
  ]
}