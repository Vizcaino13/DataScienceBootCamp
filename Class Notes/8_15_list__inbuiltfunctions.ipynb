{
  "nbformat": 4,
  "nbformat_minor": 0,
  "metadata": {
    "colab": {
      "provenance": []
    },
    "kernelspec": {
      "name": "python3",
      "display_name": "Python 3"
    },
    "language_info": {
      "name": "python"
    }
  },
  "cells": [
    {
      "cell_type": "code",
      "execution_count": null,
      "metadata": {
        "id": "hie-p1zBKDid"
      },
      "outputs": [],
      "source": [
        "a=[1,2,3,4,5]"
      ]
    },
    {
      "cell_type": "code",
      "source": [
        "dir(a)"
      ],
      "metadata": {
        "id": "0bZYfWt3KN6H"
      },
      "execution_count": null,
      "outputs": []
    },
    {
      "cell_type": "code",
      "source": [
        "#append: this adds another value to the end of the list\n",
        "a=[1,2,3,4,5]\n",
        "print(\"before append\", a)\n",
        "a.append(8)\n",
        "print(\"after append\", a)"
      ],
      "metadata": {
        "id": "MhFNRldRKPdp"
      },
      "execution_count": null,
      "outputs": []
    },
    {
      "cell_type": "code",
      "source": [
        "#clear: all elements of the list are removed\n",
        "a=[1,2,3,4,5]\n",
        "print(\"before clear\", a)\n",
        "a.clear()\n",
        "print(\"after clear\", a)\n",
        "a.clear()\n",
        "print(len(a))"
      ],
      "metadata": {
        "id": "sPGAwCWYKdd4"
      },
      "execution_count": null,
      "outputs": []
    },
    {
      "cell_type": "markdown",
      "source": [],
      "metadata": {
        "id": "nuHe1vULLyky"
      }
    },
    {
      "cell_type": "code",
      "source": [
        "#copy: elements are copied but once it is copied if orginal is changed then it wont change with iy\n",
        "a_list=[1,2,3,4,5,6,7]\n",
        "b_list=a_list #what ever happpens to alist then will happen to blist\n",
        "c_list=a_list.copy() #once the copy is done then whatever is done to alistr after then it does not change with it\n",
        "print(\"before actual list\", a_list)\n",
        "print(\"equal list\", b_list)\n",
        "print(\"copy list\", c_list)\n",
        "print(\"=============================\")\n",
        "\n",
        "\n",
        "a_list.append(8)\n",
        "print(\" after actual list\", a_list)\n",
        "print(\"equal list\", b_list)\n",
        "print(\"copy list\", c_list)\n"
      ],
      "metadata": {
        "id": "zDCZ6QvYLH-9"
      },
      "execution_count": null,
      "outputs": []
    },
    {
      "cell_type": "code",
      "source": [
        "#count: this counts how many times a number appears in the list\n",
        "a_list=[1,2,3,4,5,6,7,1,2,22,1, \"a\",\"b\", \"c\"]\n",
        "print(\"this number appears this many times:\", a_list.count(7))\n",
        "print(\"this number appears this many times:\",a_list.count(1))\n",
        "print(\"this letter appears this many times:\",a_list.count(\"b\"))"
      ],
      "metadata": {
        "id": "uVpmtCdyL4sw"
      },
      "execution_count": null,
      "outputs": []
    },
    {
      "cell_type": "code",
      "source": [
        "#the len is only 8 since the list added is only one element not 3\n",
        "a_list=[1,2,3,4,5,6,7]\n",
        "a_list.append([8,9,10])\n",
        "print('append function', a_list)\n",
        "print('append function len ', len(a_list))\n",
        "\n"
      ],
      "metadata": {
        "id": "Yj9PikshNwN8"
      },
      "execution_count": null,
      "outputs": []
    },
    {
      "cell_type": "code",
      "source": [
        "#extend function added each element as its own number\n",
        "a_list=[1,2,3,4,5,6,7]\n",
        "a_list.extend([8,9,10])\n",
        "print('extend function', a_list)\n",
        "print('extend function len ', len(a_list))"
      ],
      "metadata": {
        "id": "Q_DpLdHVOsjY"
      },
      "execution_count": null,
      "outputs": []
    },
    {
      "cell_type": "code",
      "source": [
        "#print remove 9 out , so you use double indexing\n",
        "a_list=[1,2,3,4,5,6,7]\n",
        "a_list.append([8,9,10])\n",
        "print(a_list[7][1])\n",
        "\n"
      ],
      "metadata": {
        "id": "yxwR7oaoPANL"
      },
      "execution_count": null,
      "outputs": []
    },
    {
      "cell_type": "code",
      "source": [
        "#print out the second list reveresed\n",
        "\n",
        "a_list=[1,2,3,4,5,6,7]\n",
        "a_list.append([8,9,10])\n",
        "print(a_list[7][::-1])\n"
      ],
      "metadata": {
        "id": "3TzdziKXPOo3"
      },
      "execution_count": null,
      "outputs": []
    },
    {
      "cell_type": "code",
      "source": [
        "#index:this counts the index of whatever value you put, it gives the index of the first value , it will give an error if it is not in the list and it will specifically say that it's not in the list\n",
        "\n",
        "a_list=[11,22,33,44,55,66,77,33]\n",
        "print(a_list.index(33))\n",
        "print(a_list.index(55))"
      ],
      "metadata": {
        "id": "pe4wSvR_Sb91"
      },
      "execution_count": null,
      "outputs": []
    },
    {
      "cell_type": "code",
      "source": [
        "# insert: function takes in two values index and object/value/number .. it will put the value in an index, so they put 111 in 3 index place\n",
        "a_list=[11,22,33,44,55,66,77,33]\n",
        "a_list.insert(3,111)\n",
        "a_list"
      ],
      "metadata": {
        "id": "Y8SiErY_Uk9m"
      },
      "execution_count": null,
      "outputs": []
    },
    {
      "cell_type": "code",
      "source": [
        "#pop function: removes the last value in the function or a number at spefic index\n",
        "a_list=[11,22,33,44,55,66,77,33]\n",
        "print(a_list.pop())\n",
        "print(a_list)\n",
        "\n",
        "\n",
        "a_list=[11,22,33,44,55,66,77,33]  #this removed the value at the 4index with was 55\n",
        "print(a_list.pop(4))\n",
        "print(a_list)\n"
      ],
      "metadata": {
        "id": "ScL53f9rVpg0"
      },
      "execution_count": null,
      "outputs": []
    },
    {
      "cell_type": "code",
      "source": [
        "# remove function: this removes the number value you put in, if there are multiple it only removes one\n",
        "a_list=[11,22,33,44,55,66,77,33]\n",
        "a_list.remove(55)\n",
        "print(a_list)"
      ],
      "metadata": {
        "id": "iX3URGAiWGpq"
      },
      "execution_count": null,
      "outputs": []
    },
    {
      "cell_type": "code",
      "source": [
        "#reverse: this just reverses the list\n",
        "a_list=[11,22,33,44,55,66,77,33]\n",
        "a_list.reverse()\n",
        "print(a_list)"
      ],
      "metadata": {
        "colab": {
          "base_uri": "https://localhost:8080/"
        },
        "id": "L040XGW2WgLD",
        "outputId": "aa0ab385-6d68-4478-aa87-7057d75be732"
      },
      "execution_count": null,
      "outputs": [
        {
          "output_type": "stream",
          "name": "stdout",
          "text": [
            "[33, 77, 66, 55, 44, 33, 22, 11]\n"
          ]
        }
      ]
    },
    {
      "cell_type": "code",
      "source": [
        "#Sort: this sorts the lis in asc order , smallest to biggest\n",
        "a_list=[11,55,77,44,8,66,22]\n",
        "a_list.sort()\n",
        "print(a_list)"
      ],
      "metadata": {
        "id": "hRs1EWQjXIBF"
      },
      "execution_count": null,
      "outputs": []
    },
    {
      "cell_type": "code",
      "source": [
        "#Sort: this sorts the lis in desc order , biggest to smallest\n",
        "a_list=[11,55,77,44,8,66,22]\n",
        "a_list.sort(reverse=True)\n",
        "print(a_list)"
      ],
      "metadata": {
        "id": "acO9JsTMY4Ri"
      },
      "execution_count": null,
      "outputs": []
    },
    {
      "cell_type": "code",
      "source": [
        "b_tup=(1,2,3,4)\n",
        "dir(b_tup)"
      ],
      "metadata": {
        "id": "8ISjIcc-ZH1H"
      },
      "execution_count": null,
      "outputs": []
    },
    {
      "cell_type": "code",
      "source": [
        "#count function counts how many times a number appears\n",
        "b_tup=(1,2,3,4,2,4)\n",
        "b_tup.count(4)"
      ],
      "metadata": {
        "id": "oovsS2TiaXNn"
      },
      "execution_count": null,
      "outputs": []
    },
    {
      "cell_type": "code",
      "source": [
        "#index function counts the index of a number\n",
        "b_tup=(1,2,3,4,2,4)\n",
        "b_tup.index(4)"
      ],
      "metadata": {
        "id": "XWifbgRuab1N"
      },
      "execution_count": null,
      "outputs": []
    },
    {
      "cell_type": "code",
      "source": [
        "#Question 1) Remove all repeated elements from the list Given below using for loop.\n",
        "a=[1,2,3,4,5,11,1,2,6,1,8]\n",
        "\n",
        "for i in a:\n",
        "  print(set(a))"
      ],
      "metadata": {
        "id": "_dQU4EnGbiPV"
      },
      "execution_count": null,
      "outputs": []
    },
    {
      "cell_type": "code",
      "source": [
        "#Question 2) Print all prime numbers below 100\n",
        "# i do not understrand this one i need help\n",
        "for i in range(2, 100):\n",
        "    is_prime = True\n",
        "\n",
        "    for j in range(2, int(i ** 0.5) + 1):\n",
        "        if i % j == 0:\n",
        "            is_prime = False\n",
        "            break\n",
        "\n",
        "    if is_prime:\n",
        "        print(i, \"is a prime number\")\n"
      ],
      "metadata": {
        "id": "rbzIV40besG-",
        "colab": {
          "base_uri": "https://localhost:8080/"
        },
        "outputId": "4cfdf5f0-110f-4194-8791-383d56c52019"
      },
      "execution_count": null,
      "outputs": [
        {
          "output_type": "stream",
          "name": "stdout",
          "text": [
            "2 is a prime number\n",
            "3 is a prime number\n",
            "5 is a prime number\n",
            "7 is a prime number\n",
            "11 is a prime number\n",
            "13 is a prime number\n",
            "17 is a prime number\n",
            "19 is a prime number\n",
            "23 is a prime number\n",
            "29 is a prime number\n",
            "31 is a prime number\n",
            "37 is a prime number\n",
            "41 is a prime number\n",
            "43 is a prime number\n",
            "47 is a prime number\n",
            "53 is a prime number\n",
            "59 is a prime number\n",
            "61 is a prime number\n",
            "67 is a prime number\n",
            "71 is a prime number\n",
            "73 is a prime number\n",
            "79 is a prime number\n",
            "83 is a prime number\n",
            "89 is a prime number\n",
            "97 is a prime number\n"
          ]
        }
      ]
    },
    {
      "cell_type": "code",
      "source": [
        "# 3.print a list in reverse order using for loop\n",
        "#review this as well\n",
        "lst1 = [1,6,3,8,3,92,6,85,25,71,65]\n",
        "print(\"List before reverse : \",lst1)\n",
        "reversed_list = []\n",
        "for i in lst1:\n",
        "  reversed_list = [i] + reversed_list\n",
        "print(\"List after reverse : \", reversed_list)\n",
        "\n",
        "\n",
        "\n",
        "\n",
        "\n",
        "\n",
        "\n",
        "\n",
        "\n",
        "\n"
      ],
      "metadata": {
        "colab": {
          "base_uri": "https://localhost:8080/"
        },
        "id": "JFPwmE9cLo8g",
        "outputId": "feb41861-bd45-446f-873c-c5c0a0e6688c"
      },
      "execution_count": null,
      "outputs": [
        {
          "output_type": "stream",
          "name": "stdout",
          "text": [
            "List before reverse :  [1, 6, 3, 8, 3, 92, 6, 85, 25, 71, 65]\n",
            "List after reverse :  [65, 71, 25, 85, 6, 92, 3, 8, 3, 6, 1]\n"
          ]
        }
      ]
    },
    {
      "cell_type": "code",
      "source": [
        "# 4.print multiplication table of 13 using for loop\n",
        "\n",
        "numbera= 13\n",
        "for count in range(0,30):\n",
        "  print(count, 'x', numbera, '=:',count *numbera)\n",
        "\n",
        "\n",
        "\n",
        "\n",
        "\n"
      ],
      "metadata": {
        "colab": {
          "base_uri": "https://localhost:8080/"
        },
        "id": "QKD21vu4ritx",
        "outputId": "729759c2-441d-4feb-cd01-2d85e548ea17"
      },
      "execution_count": null,
      "outputs": [
        {
          "output_type": "stream",
          "name": "stdout",
          "text": [
            "0 x 13 =: 0\n",
            "1 x 13 =: 13\n",
            "2 x 13 =: 26\n",
            "3 x 13 =: 39\n",
            "4 x 13 =: 52\n",
            "5 x 13 =: 65\n",
            "6 x 13 =: 78\n",
            "7 x 13 =: 91\n",
            "8 x 13 =: 104\n",
            "9 x 13 =: 117\n",
            "10 x 13 =: 130\n",
            "11 x 13 =: 143\n",
            "12 x 13 =: 156\n",
            "13 x 13 =: 169\n",
            "14 x 13 =: 182\n",
            "15 x 13 =: 195\n",
            "16 x 13 =: 208\n",
            "17 x 13 =: 221\n",
            "18 x 13 =: 234\n",
            "19 x 13 =: 247\n",
            "20 x 13 =: 260\n",
            "21 x 13 =: 273\n",
            "22 x 13 =: 286\n",
            "23 x 13 =: 299\n",
            "24 x 13 =: 312\n",
            "25 x 13 =: 325\n",
            "26 x 13 =: 338\n",
            "27 x 13 =: 351\n",
            "28 x 13 =: 364\n",
            "29 x 13 =: 377\n"
          ]
        }
      ]
    },
    {
      "cell_type": "code",
      "source": [
        "#hw august 18 due before 12:00pm est . use all the set inbuilt functions and dict inbuiltfunctions\n",
        "\n",
        "\n",
        "#set\n",
        "\n",
        "\n",
        "st1= (1,2,45,78,987,2,9)\n",
        "\n",
        "dir(st1)\n",
        "\n",
        "\n",
        "\n"
      ],
      "metadata": {
        "id": "50H3HKowawBV",
        "colab": {
          "base_uri": "https://localhost:8080/"
        },
        "outputId": "4b8f9560-00af-44e3-8436-1310edf5fc95"
      },
      "execution_count": null,
      "outputs": [
        {
          "output_type": "execute_result",
          "data": {
            "text/plain": [
              "['__add__',\n",
              " '__class__',\n",
              " '__class_getitem__',\n",
              " '__contains__',\n",
              " '__delattr__',\n",
              " '__dir__',\n",
              " '__doc__',\n",
              " '__eq__',\n",
              " '__format__',\n",
              " '__ge__',\n",
              " '__getattribute__',\n",
              " '__getitem__',\n",
              " '__getnewargs__',\n",
              " '__gt__',\n",
              " '__hash__',\n",
              " '__init__',\n",
              " '__init_subclass__',\n",
              " '__iter__',\n",
              " '__le__',\n",
              " '__len__',\n",
              " '__lt__',\n",
              " '__mul__',\n",
              " '__ne__',\n",
              " '__new__',\n",
              " '__reduce__',\n",
              " '__reduce_ex__',\n",
              " '__repr__',\n",
              " '__rmul__',\n",
              " '__setattr__',\n",
              " '__sizeof__',\n",
              " '__str__',\n",
              " '__subclasshook__',\n",
              " 'count',\n",
              " 'index']"
            ]
          },
          "metadata": {},
          "execution_count": 177
        }
      ]
    },
    {
      "cell_type": "code",
      "source": [
        "#dict\n",
        "\n",
        "dict1= {1:\"ham\",45:\"cheese\",9:\"salami\",2:\"9\"}\n",
        "\n",
        "dir(dict1)\n"
      ],
      "metadata": {
        "id": "6iUs-aoGgYw4",
        "colab": {
          "base_uri": "https://localhost:8080/"
        },
        "outputId": "cafa71d0-0925-4b02-fa31-53d2008c0fef"
      },
      "execution_count": null,
      "outputs": [
        {
          "output_type": "execute_result",
          "data": {
            "text/plain": [
              "['__class__',\n",
              " '__class_getitem__',\n",
              " '__contains__',\n",
              " '__delattr__',\n",
              " '__delitem__',\n",
              " '__dir__',\n",
              " '__doc__',\n",
              " '__eq__',\n",
              " '__format__',\n",
              " '__ge__',\n",
              " '__getattribute__',\n",
              " '__getitem__',\n",
              " '__gt__',\n",
              " '__hash__',\n",
              " '__init__',\n",
              " '__init_subclass__',\n",
              " '__ior__',\n",
              " '__iter__',\n",
              " '__le__',\n",
              " '__len__',\n",
              " '__lt__',\n",
              " '__ne__',\n",
              " '__new__',\n",
              " '__or__',\n",
              " '__reduce__',\n",
              " '__reduce_ex__',\n",
              " '__repr__',\n",
              " '__reversed__',\n",
              " '__ror__',\n",
              " '__setattr__',\n",
              " '__setitem__',\n",
              " '__sizeof__',\n",
              " '__str__',\n",
              " '__subclasshook__',\n",
              " 'clear',\n",
              " 'copy',\n",
              " 'fromkeys',\n",
              " 'get',\n",
              " 'items',\n",
              " 'keys',\n",
              " 'pop',\n",
              " 'popitem',\n",
              " 'setdefault',\n",
              " 'update',\n",
              " 'values']"
            ]
          },
          "metadata": {},
          "execution_count": 176
        }
      ]
    },
    {
      "cell_type": "code",
      "source": [],
      "metadata": {
        "id": "gV-D0zyn1e0E"
      },
      "execution_count": null,
      "outputs": []
    }
  ]
}