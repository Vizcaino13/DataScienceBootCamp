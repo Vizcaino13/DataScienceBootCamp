{
  "nbformat": 4,
  "nbformat_minor": 0,
  "metadata": {
    "colab": {
      "provenance": []
    },
    "kernelspec": {
      "name": "python3",
      "display_name": "Python 3"
    },
    "language_info": {
      "name": "python"
    }
  },
  "cells": [
    {
      "cell_type": "code",
      "execution_count": null,
      "metadata": {
        "id": "h5xsoxOu2ccm"
      },
      "outputs": [],
      "source": [
        "if x < y:\n",
        "  print(x,\"is smaller than\", y)\n",
        "elif x > y:\n",
        "  print(x, \"is greater than \", y)\n",
        "else:\n",
        "  print(x,\"is equal to\", y)\n",
        "\n",
        "\n",
        "\n",
        "\n",
        "#lambda equvailent\n",
        "result = lambda x,y : f\"{x} is smaller than {y}\" \\\n",
        "if x < y else (f\"{x} is greater than {y}\" if x > y \\\n",
        "               else f\"{x} is equal to {y}\")"
      ]
    },
    {
      "cell_type": "code",
      "source": [],
      "metadata": {
        "id": "q5xuLpGw5zUn"
      },
      "execution_count": null,
      "outputs": []
    },
    {
      "cell_type": "code",
      "source": [
        "if(percentage>=78):\n",
        "  print(\"pass with first class distinction\")\n",
        "elif(percentage>=60):\n",
        "  print(\"pass with first class\")\n",
        "elif(percentage>=40):\n",
        "  print(\"pass with second class\")\n",
        "elif(percentage>=33):\n",
        "  print(\"pass with third class\")\n",
        "else:\n",
        "  print(\"better luck next time\")"
      ],
      "metadata": {
        "colab": {
          "base_uri": "https://localhost:8080/",
          "height": 250
        },
        "id": "X8fiEoEH4Id7",
        "outputId": "ca6d054c-8658-4bc7-a35e-ca687db445c5"
      },
      "execution_count": 14,
      "outputs": [
        {
          "output_type": "error",
          "ename": "NameError",
          "evalue": "ignored",
          "traceback": [
            "\u001b[0;31m---------------------------------------------------------------------------\u001b[0m",
            "\u001b[0;31mNameError\u001b[0m                                 Traceback (most recent call last)",
            "\u001b[0;32m<ipython-input-14-e42277fea384>\u001b[0m in \u001b[0;36m<cell line: 1>\u001b[0;34m()\u001b[0m\n\u001b[0;32m----> 1\u001b[0;31m \u001b[0;32mif\u001b[0m\u001b[0;34m(\u001b[0m\u001b[0mpercentage\u001b[0m\u001b[0;34m>=\u001b[0m\u001b[0;36m78\u001b[0m\u001b[0;34m)\u001b[0m\u001b[0;34m:\u001b[0m\u001b[0;34m\u001b[0m\u001b[0;34m\u001b[0m\u001b[0m\n\u001b[0m\u001b[1;32m      2\u001b[0m   \u001b[0mprint\u001b[0m\u001b[0;34m(\u001b[0m\u001b[0;34m\"pass with first class distinction\"\u001b[0m\u001b[0;34m)\u001b[0m\u001b[0;34m\u001b[0m\u001b[0;34m\u001b[0m\u001b[0m\n\u001b[1;32m      3\u001b[0m \u001b[0;32melif\u001b[0m\u001b[0;34m(\u001b[0m\u001b[0mpercentage\u001b[0m\u001b[0;34m>=\u001b[0m\u001b[0;36m60\u001b[0m\u001b[0;34m)\u001b[0m\u001b[0;34m:\u001b[0m\u001b[0;34m\u001b[0m\u001b[0;34m\u001b[0m\u001b[0m\n\u001b[1;32m      4\u001b[0m   \u001b[0mprint\u001b[0m\u001b[0;34m(\u001b[0m\u001b[0;34m\"pass with first class\"\u001b[0m\u001b[0;34m)\u001b[0m\u001b[0;34m\u001b[0m\u001b[0;34m\u001b[0m\u001b[0m\n\u001b[1;32m      5\u001b[0m \u001b[0;32melif\u001b[0m\u001b[0;34m(\u001b[0m\u001b[0mpercentage\u001b[0m\u001b[0;34m>=\u001b[0m\u001b[0;36m40\u001b[0m\u001b[0;34m)\u001b[0m\u001b[0;34m:\u001b[0m\u001b[0;34m\u001b[0m\u001b[0;34m\u001b[0m\u001b[0m\n",
            "\u001b[0;31mNameError\u001b[0m: name 'percentage' is not defined"
          ]
        }
      ]
    },
    {
      "cell_type": "code",
      "source": [
        "result = lambda percentage: f\"{percentage} pass with first class distinction\" if percentage >= 78 else (\\\n",
        "                            f\"{percentage} pass with first class\" if percentage >= 60  else (\\\n",
        "                            f\"{percentage} pass with second class\" if percentage >= 40  else (\\\n",
        "                            f\"{percentage} pass with third class\" if percentage >= 33  else (\\\n",
        "                            f\"{percentage} better luck next time\"))))"
      ],
      "metadata": {
        "id": "eeRpMEYR40h1"
      },
      "execution_count": 12,
      "outputs": []
    },
    {
      "cell_type": "code",
      "source": [
        "grade(79),grade(65),grade(49),grade(39)"
      ],
      "metadata": {
        "colab": {
          "base_uri": "https://localhost:8080/"
        },
        "id": "Iei33Ifb7EAa",
        "outputId": "a8cf979d-e956-443f-dd08-1203f455bd34"
      },
      "execution_count": 13,
      "outputs": [
        {
          "output_type": "execute_result",
          "data": {
            "text/plain": [
              "('79 pass with first class distinction',\n",
              " '65 pass with first class',\n",
              " '49 pass with second class',\n",
              " '39 pass with third class')"
            ]
          },
          "metadata": {},
          "execution_count": 13
        }
      ]
    },
    {
      "cell_type": "markdown",
      "source": [
        "#*args"
      ],
      "metadata": {
        "id": "vWviDrYRKODx"
      }
    },
    {
      "cell_type": "code",
      "source": [
        "def func_sum(a,b):\n",
        "  return a+b"
      ],
      "metadata": {
        "id": "jhE0mkbO7TU-"
      },
      "execution_count": 17,
      "outputs": []
    },
    {
      "cell_type": "code",
      "source": [
        "def func_sum(a,b,c,d):\n",
        "  return a+b+c+d"
      ],
      "metadata": {
        "id": "jkoygBkc_4xS"
      },
      "execution_count": 18,
      "outputs": []
    },
    {
      "cell_type": "code",
      "source": [
        "def func_sum(a,b,c,d,a1,b1,c1,d1):\n",
        "  return a+b+c+d+a1+b1+c1+d1"
      ],
      "metadata": {
        "id": "pkmMaXbH__v9"
      },
      "execution_count": 19,
      "outputs": []
    },
    {
      "cell_type": "code",
      "source": [
        "def func_sum(*args): #args takes any number of parameters,limitless (non-key arguments)\n",
        "  return args\n",
        "\n",
        "\n",
        "func_sum(1,2,3,4,6,78,74,90)"
      ],
      "metadata": {
        "colab": {
          "base_uri": "https://localhost:8080/"
        },
        "id": "E1_NIXEZAGpS",
        "outputId": "59b17663-9639-4c48-c183-672975bfd243"
      },
      "execution_count": 29,
      "outputs": [
        {
          "output_type": "execute_result",
          "data": {
            "text/plain": [
              "(1, 2, 3, 4, 6, 78, 74, 90)"
            ]
          },
          "metadata": {},
          "execution_count": 29
        }
      ]
    },
    {
      "cell_type": "code",
      "source": [
        "def add_vals(*Ash):\n",
        "  for i in Ash:\n",
        "    return sum(Ash)\n",
        "\n"
      ],
      "metadata": {
        "id": "oxA3KD9OA0hr"
      },
      "execution_count": 91,
      "outputs": []
    },
    {
      "cell_type": "code",
      "source": [
        "add_vals(1,7,9,8)\n"
      ],
      "metadata": {
        "colab": {
          "base_uri": "https://localhost:8080/"
        },
        "id": "t7doYnNPB8Og",
        "outputId": "5b1b7096-7b86-49d4-f272-c0786432ee27"
      },
      "execution_count": 92,
      "outputs": [
        {
          "output_type": "execute_result",
          "data": {
            "text/plain": [
              "25"
            ]
          },
          "metadata": {},
          "execution_count": 92
        }
      ]
    },
    {
      "cell_type": "code",
      "source": [
        "def func_sum(a,b,c,*args): #args takes any number of parameters,limitless (non-key arguments)\n",
        "  return a+b+c+(sum(args))\n"
      ],
      "metadata": {
        "id": "hd2YbPDnDFMn"
      },
      "execution_count": 83,
      "outputs": []
    },
    {
      "cell_type": "code",
      "source": [
        "func_sum(1,2,3,4,98,78)\n"
      ],
      "metadata": {
        "colab": {
          "base_uri": "https://localhost:8080/"
        },
        "id": "rq-o55wOFsKA",
        "outputId": "535e7df5-83e3-4076-f2cd-3dad5d219e80"
      },
      "execution_count": 85,
      "outputs": [
        {
          "output_type": "execute_result",
          "data": {
            "text/plain": [
              "186"
            ]
          },
          "metadata": {},
          "execution_count": 85
        }
      ]
    },
    {
      "cell_type": "code",
      "source": [
        "def func_sum(*args,a,b,c,d,e): #since arg takes all the arguments then it makes it false\n",
        "  return a+b+c+d+e(sum(args))\n"
      ],
      "metadata": {
        "id": "sxrl-oInFvfZ"
      },
      "execution_count": 94,
      "outputs": []
    },
    {
      "cell_type": "code",
      "source": [
        "func_sum(1,2,3,4,98,78)"
      ],
      "metadata": {
        "colab": {
          "base_uri": "https://localhost:8080/",
          "height": 179
        },
        "id": "iAY96MzTGFCO",
        "outputId": "ca6160e7-ad26-4206-a9f7-c0f7c38a5b4b"
      },
      "execution_count": 95,
      "outputs": [
        {
          "output_type": "error",
          "ename": "TypeError",
          "evalue": "ignored",
          "traceback": [
            "\u001b[0;31m---------------------------------------------------------------------------\u001b[0m",
            "\u001b[0;31mTypeError\u001b[0m                                 Traceback (most recent call last)",
            "\u001b[0;32m<ipython-input-95-0099a8e93e19>\u001b[0m in \u001b[0;36m<cell line: 1>\u001b[0;34m()\u001b[0m\n\u001b[0;32m----> 1\u001b[0;31m \u001b[0mfunc_sum\u001b[0m\u001b[0;34m(\u001b[0m\u001b[0;36m1\u001b[0m\u001b[0;34m,\u001b[0m\u001b[0;36m2\u001b[0m\u001b[0;34m,\u001b[0m\u001b[0;36m3\u001b[0m\u001b[0;34m,\u001b[0m\u001b[0;36m4\u001b[0m\u001b[0;34m,\u001b[0m\u001b[0;36m98\u001b[0m\u001b[0;34m,\u001b[0m\u001b[0;36m78\u001b[0m\u001b[0;34m)\u001b[0m\u001b[0;34m\u001b[0m\u001b[0;34m\u001b[0m\u001b[0m\n\u001b[0m",
            "\u001b[0;31mTypeError\u001b[0m: func_sum() missing 5 required keyword-only arguments: 'a', 'b', 'c', 'd', and 'e'"
          ]
        }
      ]
    },
    {
      "cell_type": "code",
      "source": [
        "def func_sum(*args,a,b,c,d,e): #since arg takes all the arguments then it makes it false\n",
        "  return a+b+c+d+e(sum(args))\n"
      ],
      "metadata": {
        "id": "lmtTmy_fGF9s"
      },
      "execution_count": null,
      "outputs": []
    },
    {
      "cell_type": "code",
      "source": [
        "def func_sum(*args): #args takes any number of parameters,limitless (non-key arguments)\n",
        "  return args\n",
        "\n",
        "\n",
        "func_sum(1,2,3,4,6,78,74,90)"
      ],
      "metadata": {
        "id": "q5aIcRm7IDPs"
      },
      "execution_count": null,
      "outputs": []
    },
    {
      "cell_type": "code",
      "source": [
        "def func_new(*args,val,val2,val3,val4,val5):\n",
        "  for i in func_new:\n",
        "    print(i)"
      ],
      "metadata": {
        "id": "ykQYFvqdIiVg"
      },
      "execution_count": 102,
      "outputs": []
    },
    {
      "cell_type": "code",
      "source": [
        "func_new(\"Ha\",2,\"words\",4,\"not work\",78)"
      ],
      "metadata": {
        "colab": {
          "base_uri": "https://localhost:8080/",
          "height": 179
        },
        "id": "C7g0iZ6GIpls",
        "outputId": "285a5802-76b0-48ac-fbff-043b8c3993d4"
      },
      "execution_count": 104,
      "outputs": [
        {
          "output_type": "error",
          "ename": "TypeError",
          "evalue": "ignored",
          "traceback": [
            "\u001b[0;31m---------------------------------------------------------------------------\u001b[0m",
            "\u001b[0;31mTypeError\u001b[0m                                 Traceback (most recent call last)",
            "\u001b[0;32m<ipython-input-104-abc05e0f3b04>\u001b[0m in \u001b[0;36m<cell line: 1>\u001b[0;34m()\u001b[0m\n\u001b[0;32m----> 1\u001b[0;31m \u001b[0mfunc_new\u001b[0m\u001b[0;34m(\u001b[0m\u001b[0;34m\"Ha\"\u001b[0m\u001b[0;34m,\u001b[0m\u001b[0;36m2\u001b[0m\u001b[0;34m,\u001b[0m\u001b[0;34m\"words\"\u001b[0m\u001b[0;34m,\u001b[0m\u001b[0;36m4\u001b[0m\u001b[0;34m,\u001b[0m\u001b[0;34m\"not work\"\u001b[0m\u001b[0;34m,\u001b[0m\u001b[0;36m78\u001b[0m\u001b[0;34m)\u001b[0m\u001b[0;34m\u001b[0m\u001b[0;34m\u001b[0m\u001b[0m\n\u001b[0m",
            "\u001b[0;31mTypeError\u001b[0m: func_new() missing 5 required keyword-only arguments: 'val', 'val2', 'val3', 'val4', and 'val5'"
          ]
        }
      ]
    },
    {
      "cell_type": "markdown",
      "source": [
        "#**Kwargs"
      ],
      "metadata": {
        "id": "ruoe8ChQKUtS"
      }
    },
    {
      "cell_type": "code",
      "source": [
        "def func_sum(**kwargs): #when you want to pass a value in **kwargs, you have to pass it in form of key and vlaue\n",
        "  return kwargs"
      ],
      "metadata": {
        "id": "0UE1_oSgI4MV"
      },
      "execution_count": 105,
      "outputs": []
    },
    {
      "cell_type": "code",
      "source": [
        "func_sum(fname=\"ash\", mname=\"hg\", lname=\"had\")"
      ],
      "metadata": {
        "colab": {
          "base_uri": "https://localhost:8080/"
        },
        "id": "7KOmoVUaKlVt",
        "outputId": "5f10595a-aeb6-4f87-d47f-0520e5fc0d66"
      },
      "execution_count": 106,
      "outputs": [
        {
          "output_type": "execute_result",
          "data": {
            "text/plain": [
              "{'fname': 'ash', 'mname': 'hg', 'lname': 'had'}"
            ]
          },
          "metadata": {},
          "execution_count": 106
        }
      ]
    },
    {
      "cell_type": "code",
      "source": [
        "def new_func(**kwargs):\n",
        "  return kwargs\n"
      ],
      "metadata": {
        "id": "8IfkE8-MKxgq"
      },
      "execution_count": 137,
      "outputs": []
    },
    {
      "cell_type": "code",
      "source": [
        "new_func(fruit=7, veg=8, bread=3.60)"
      ],
      "metadata": {
        "colab": {
          "base_uri": "https://localhost:8080/"
        },
        "id": "9PW-Yq3OLil_",
        "outputId": "24a90ba1-08c3-4e78-fe17-3512ba1847de"
      },
      "execution_count": 139,
      "outputs": [
        {
          "output_type": "execute_result",
          "data": {
            "text/plain": [
              "{'fruit': 7, 'veg': 8, 'bread': 3.6}"
            ]
          },
          "metadata": {},
          "execution_count": 139
        }
      ]
    },
    {
      "cell_type": "code",
      "source": [
        "def new_func(*args,**kwargs):\n",
        "  for i in args:\n",
        "    return sum(args),kwargs\n",
        "\n"
      ],
      "metadata": {
        "id": "kD9-ldztLklJ"
      },
      "execution_count": 159,
      "outputs": []
    },
    {
      "cell_type": "code",
      "source": [
        "new_func(7,8,9, Fruit=\"blueberry\")"
      ],
      "metadata": {
        "colab": {
          "base_uri": "https://localhost:8080/"
        },
        "id": "csjiVY9XOCG_",
        "outputId": "72098b60-284e-4b0b-b1c9-71c55551f765"
      },
      "execution_count": 161,
      "outputs": [
        {
          "output_type": "execute_result",
          "data": {
            "text/plain": [
              "(24, {'Fruit': 'blueberry'})"
            ]
          },
          "metadata": {},
          "execution_count": 161
        }
      ]
    },
    {
      "cell_type": "code",
      "source": [
        "#first value should be kwargs, args, and anythong"
      ],
      "metadata": {
        "id": "wl8ltwTuODuN"
      },
      "execution_count": 162,
      "outputs": []
    },
    {
      "cell_type": "code",
      "source": [
        "def new_func(**kwargs,*args, new):\n",
        "  for i in args:\n",
        "    return sum(args),kwargs"
      ],
      "metadata": {
        "colab": {
          "base_uri": "https://localhost:8080/",
          "height": 143
        },
        "id": "CmWjO-AKPYQr",
        "outputId": "866d361a-0c2e-44dc-9d21-dd79ac1292c3"
      },
      "execution_count": 164,
      "outputs": [
        {
          "output_type": "error",
          "ename": "SyntaxError",
          "evalue": "ignored",
          "traceback": [
            "\u001b[0;36m  File \u001b[0;32m\"<ipython-input-164-399513f2f711>\"\u001b[0;36m, line \u001b[0;32m1\u001b[0m\n\u001b[0;31m    def new_func(**kwargs,*args, new):\u001b[0m\n\u001b[0m                          ^\u001b[0m\n\u001b[0;31mSyntaxError\u001b[0m\u001b[0;31m:\u001b[0m invalid syntax\n"
          ]
        }
      ]
    },
    {
      "cell_type": "code",
      "source": [
        "def new_func(*args,**kwargs,new):\n",
        "  for i in args:\n",
        "    return sum(args),kwargs,new"
      ],
      "metadata": {
        "colab": {
          "base_uri": "https://localhost:8080/",
          "height": 143
        },
        "id": "XFVTCwuCPeQa",
        "outputId": "f336711a-d853-4c5d-97a3-89fbccabeb36"
      },
      "execution_count": 167,
      "outputs": [
        {
          "output_type": "error",
          "ename": "SyntaxError",
          "evalue": "ignored",
          "traceback": [
            "\u001b[0;36m  File \u001b[0;32m\"<ipython-input-167-3dcbfca0fe9e>\"\u001b[0;36m, line \u001b[0;32m1\u001b[0m\n\u001b[0;31m    def new_func(*args,**kwargs,new):\u001b[0m\n\u001b[0m                                ^\u001b[0m\n\u001b[0;31mSyntaxError\u001b[0m\u001b[0;31m:\u001b[0m invalid syntax\n"
          ]
        }
      ]
    },
    {
      "cell_type": "code",
      "source": [
        "def new_func(new,*args,**kwargs):\n",
        "  for i in args:\n",
        "    return new,sum(args),kwargs"
      ],
      "metadata": {
        "id": "7w2YBhupPoK6"
      },
      "execution_count": 168,
      "outputs": []
    },
    {
      "cell_type": "code",
      "source": [],
      "metadata": {
        "id": "7AwAME0xPthe"
      },
      "execution_count": null,
      "outputs": []
    }
  ]
}