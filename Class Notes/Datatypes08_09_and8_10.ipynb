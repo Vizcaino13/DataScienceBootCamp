{
  "nbformat": 4,
  "nbformat_minor": 0,
  "metadata": {
    "colab": {
      "provenance": []
    },
    "kernelspec": {
      "name": "python3",
      "display_name": "Python 3"
    },
    "language_info": {
      "name": "python"
    }
  },
  "cells": [
    {
      "cell_type": "code",
      "execution_count": null,
      "metadata": {
        "id": "VkCd6hJhwWUE"
      },
      "outputs": [],
      "source": []
    },
    {
      "cell_type": "markdown",
      "source": [
        "Python Data Types\n",
        "\n",
        "1.Standard data type\n",
        "1.Numbers\n",
        "1a. interger\n",
        "1b.float\n",
        "1c.complex\n",
        "2.Booolean\n",
        "3.String\n",
        "\n",
        "2.structured data types\n",
        "1.list\n",
        "2.tuple\n",
        "2.set\n",
        "4dictionoary\n"
      ],
      "metadata": {
        "id": "qFUMeTd4waRW"
      }
    },
    {
      "cell_type": "code",
      "source": [
        "#interger: any whole number (+ or -) is an interger\n",
        "\n",
        "int1 =1974\n",
        "\n",
        "print (int1)\n",
        "\n",
        "print(type(int1))\n",
        "\n",
        "int2 =-1974\n",
        "\n",
        "print (int2)\n",
        "\n",
        "print(type(int2))"
      ],
      "metadata": {
        "colab": {
          "base_uri": "https://localhost:8080/"
        },
        "id": "abQNgEapw91B",
        "outputId": "407e1e7b-9d75-49ea-ed6f-4a3cc7268099"
      },
      "execution_count": null,
      "outputs": [
        {
          "output_type": "stream",
          "name": "stdout",
          "text": [
            "1974\n",
            "<class 'int'>\n",
            "-1974\n",
            "<class 'int'>\n"
          ]
        }
      ]
    },
    {
      "cell_type": "code",
      "source": [
        "#float: any combination of whole number and fractional number is called a float.. so decimals\n",
        "\n",
        "flt1= 3.1415\n",
        "\n",
        "print(flt1)\n",
        "\n",
        "print(type(flt1))\n",
        "\n",
        "\n",
        "flt1= -3.1415\n",
        "\n",
        "print(flt1)\n",
        "\n",
        "print(type(flt1))"
      ],
      "metadata": {
        "colab": {
          "base_uri": "https://localhost:8080/"
        },
        "id": "tjfQ7K3KxLPz",
        "outputId": "ec184c67-7dcc-4ba3-e5fa-8f00d689149d"
      },
      "execution_count": null,
      "outputs": [
        {
          "output_type": "stream",
          "name": "stdout",
          "text": [
            "3.1415\n",
            "<class 'float'>\n",
            "-3.1415\n",
            "<class 'float'>\n"
          ]
        }
      ]
    },
    {
      "cell_type": "code",
      "source": [
        "#complex number : combination of interger or float and imageninary number interger or float is called complex positive or negative used more in scientific calculations more into research and imaginary numbers\n",
        "\n",
        "cmplx1= 2+3j\n",
        "print(cmplx1)\n",
        "print(type(cmplx1))\n",
        "\n",
        "cmplx1= 2.98+3j\n",
        "print(cmplx1)\n",
        "print(type(cmplx1))\n",
        "\n",
        "cmplx1= 2.98+-90j\n",
        "print(cmplx1)\n",
        "print(type(cmplx1))"
      ],
      "metadata": {
        "colab": {
          "base_uri": "https://localhost:8080/"
        },
        "id": "qqsI0XkKxjd_",
        "outputId": "acee476d-3458-44fa-ee32-4bcced3605a9"
      },
      "execution_count": null,
      "outputs": [
        {
          "output_type": "stream",
          "name": "stdout",
          "text": [
            "(2+3j)\n",
            "<class 'complex'>\n",
            "(2.98+3j)\n",
            "<class 'complex'>\n",
            "(2.98-90j)\n",
            "<class 'complex'>\n"
          ]
        }
      ]
    },
    {
      "cell_type": "code",
      "source": [
        "#boolean: comprised of two values True or False the numeric value of true is 1 and false is 0\n",
        "\n",
        "bool1= True\n",
        "print(bool1)\n",
        "print(type(bool1))\n",
        "\n",
        "bool1= False\n",
        "print(bool1)\n",
        "print(type(bool1))"
      ],
      "metadata": {
        "colab": {
          "base_uri": "https://localhost:8080/"
        },
        "id": "p0BEd4Spyb_z",
        "outputId": "c782999d-4e7e-488d-b22b-366166e9ea92"
      },
      "execution_count": null,
      "outputs": [
        {
          "output_type": "stream",
          "name": "stdout",
          "text": [
            "True\n",
            "<class 'bool'>\n",
            "False\n",
            "<class 'bool'>\n"
          ]
        }
      ]
    },
    {
      "cell_type": "code",
      "source": [
        "#string: a combination of charcter anything in '' or \"\" is a string\n",
        "\n",
        "str1= 'Python progam'\n",
        "print(str1)\n",
        "print(type(str1))\n",
        "\n",
        "str1= \"Python progam\"\n",
        "print(str1)\n",
        "print(type(str1))\n",
        "\n",
        "\n",
        "str1= '''Python progam'''\n",
        "print(str1)\n",
        "print(type(str1))\n",
        "\n",
        "\n",
        "\n",
        "str1= \"\"\"Python progam\"\"\"\n",
        "print(str1)\n",
        "print(type(str1))\n",
        "\n",
        "\n",
        "str1= \"\"\"&8%#@#$%\"\"\"\n",
        "print(str1)\n",
        "print(type(str1))\n",
        "\n",
        "\n",
        "\n",
        "str1= 'P()00897867$%$#%$%)m'\n",
        "print(str1)\n",
        "print(type(str1))"
      ],
      "metadata": {
        "colab": {
          "base_uri": "https://localhost:8080/"
        },
        "id": "3n913Vd1zBJo",
        "outputId": "0904da7e-f85d-4b12-c214-9a5f7f744d21"
      },
      "execution_count": null,
      "outputs": [
        {
          "output_type": "stream",
          "name": "stdout",
          "text": [
            "Python progam\n",
            "<class 'str'>\n",
            "Python progam\n",
            "<class 'str'>\n",
            "Python progam\n",
            "<class 'str'>\n",
            "Python progam\n",
            "<class 'str'>\n",
            "&8%#@#$%\n",
            "<class 'str'>\n",
            "P()00897867$%$#%$%)m\n",
            "<class 'str'>\n"
          ]
        }
      ]
    },
    {
      "cell_type": "code",
      "source": [
        "#my own string example\n",
        "\n",
        "\n",
        "str2= \"how are you today ?\" 'I am well.' \"\"\"Thats awesome\"\"\"\n",
        "\n",
        "\n",
        "print (str2)\n",
        "\n",
        "print(type(str2))"
      ],
      "metadata": {
        "colab": {
          "base_uri": "https://localhost:8080/"
        },
        "id": "lyPTCcYgz5S5",
        "outputId": "c8626f15-36ef-4932-dd4e-b071976df1f8"
      },
      "execution_count": null,
      "outputs": [
        {
          "output_type": "stream",
          "name": "stdout",
          "text": [
            "how are you today ?I am well.Thats awesome\n",
            "<class 'str'>\n"
          ]
        }
      ]
    },
    {
      "cell_type": "markdown",
      "source": [
        "#Data structure data types 1.list 2.tuple 2.set 4dictionoary"
      ],
      "metadata": {
        "id": "RE9cd5RI5Npg"
      }
    },
    {
      "cell_type": "code",
      "source": [
        "\n",
        "\n",
        "#list example, important things about lists\n",
        "\n",
        "# 1. list is represented by square bracets []\n",
        "#2.list is mutable ( so it can be changed)\n",
        "\n",
        "\n",
        "lst1= [1,3,6,7,8,9,678]\n",
        "\n",
        "print (lst1)\n",
        "\n",
        "print(type(lst1))"
      ],
      "metadata": {
        "colab": {
          "base_uri": "https://localhost:8080/"
        },
        "id": "VjwxTGEE4R5m",
        "outputId": "8efa5624-bdda-4d56-e74d-88c207305cc5"
      },
      "execution_count": null,
      "outputs": [
        {
          "output_type": "stream",
          "name": "stdout",
          "text": [
            "[1, 3, 6, 7, 8, 9, 678]\n",
            "<class 'list'>\n"
          ]
        }
      ]
    },
    {
      "cell_type": "code",
      "source": [
        "#tuple\n",
        "\n",
        "#1. tuple is represented by parthesis ()\n",
        "#2. Tuple is immuatble ( so that means you cannot chanbge elenmts in tuple)\n",
        "\n",
        "tupl1= (1,2,2,3,5,5,777)\n",
        "print (tupl1)\n",
        "\n",
        "print(type(tupl1))\n"
      ],
      "metadata": {
        "colab": {
          "base_uri": "https://localhost:8080/"
        },
        "id": "7yvvvaNN5U_4",
        "outputId": "82b25d99-bfd7-4e40-b370-1d05b9509418"
      },
      "execution_count": null,
      "outputs": [
        {
          "output_type": "stream",
          "name": "stdout",
          "text": [
            "(1, 2, 2, 3, 5, 5, 777)\n",
            "<class 'tuple'>\n"
          ]
        }
      ]
    },
    {
      "cell_type": "code",
      "source": [
        "#Set\n",
        "#1. set is a combination of unique values\n",
        "#2. set is a collection of unordered elements (so it desplays the values randomly not in any sequence )\n",
        "#3. set is represented by curly brackets {}\n",
        "#4. set is mutable\n",
        "set1= {\"a\", \"b\", \"c\", \"D\", \"E\", \"F\", 1,6,8,9,\"@\", \"#\", \"*\"}\n",
        "print (set1)\n",
        "\n",
        "print(type(set1))"
      ],
      "metadata": {
        "colab": {
          "base_uri": "https://localhost:8080/"
        },
        "id": "AzhiDTHP571c",
        "outputId": "5ed32eef-763e-469e-fdf7-50ec39b86139"
      },
      "execution_count": null,
      "outputs": [
        {
          "output_type": "stream",
          "name": "stdout",
          "text": [
            "{1, 'F', '*', 'b', 6, 8, 9, 'D', '#', 'E', '@', 'c', 'a'}\n",
            "<class 'set'>\n"
          ]
        }
      ]
    },
    {
      "cell_type": "code",
      "source": [
        "# my own example\n",
        "\n",
        "\n",
        "#list should be float, complex, boolean,\n",
        "\n",
        "list1=  [\"ham\", 0.89, 1, -56, 76j*6, True]\n",
        "\n",
        "print (list1)\n",
        "\n",
        "print(type(list1))\n",
        "#tuple should be float, complex, boolean,\n",
        "tup1=  (\"ham\", 0.89, 1, -56, 76j*6, True)\n",
        "\n",
        "print (tup1)\n",
        "\n",
        "print(type(tup1))\n",
        "\n",
        "#set should be float, complex, boolean,\n",
        "\n",
        "set1=  {\"ham\", 0.89, 1, -56, 76j+6, False\n",
        "}\n",
        "print (set1)\n",
        "\n",
        "print(type(set1))\n",
        "\n",
        "\n",
        "\n",
        "set1=  {\"ham\", 0.89, 1, -56, 76j+6, False, \"$\", \"@\", \"!\", 0, 1, True\n",
        "}\n",
        "print (set1)\n",
        "\n",
        "print(type(set1))"
      ],
      "metadata": {
        "colab": {
          "base_uri": "https://localhost:8080/"
        },
        "id": "-Th0erwR7Pj0",
        "outputId": "822920b1-8a6d-4fc6-82c7-5120aa2d7641"
      },
      "execution_count": null,
      "outputs": [
        {
          "output_type": "stream",
          "name": "stdout",
          "text": [
            "['ham', 0.89, 1, -56, 456j, True]\n",
            "<class 'list'>\n",
            "('ham', 0.89, 1, -56, 456j, True)\n",
            "<class 'tuple'>\n",
            "{0.89, 1, False, 'ham', -56, (6+76j)}\n",
            "<class 'set'>\n",
            "{0.89, 1, False, '$', 'ham', -56, (6+76j), '!', '@'}\n",
            "<class 'set'>\n"
          ]
        }
      ]
    },
    {
      "cell_type": "code",
      "source": [
        "dict1= {'a':'apple',\n",
        "        'b':'banana',\n",
        "        'c':'cherry'}\n",
        "\n",
        "print (dict1)\n",
        "print(type(dict1))\n",
        "\n"
      ],
      "metadata": {
        "colab": {
          "base_uri": "https://localhost:8080/"
        },
        "id": "LzModZJd_bKw",
        "outputId": "fd36b6fb-6eb0-4a31-bb0c-ea0513e30e42"
      },
      "execution_count": null,
      "outputs": [
        {
          "output_type": "stream",
          "name": "stdout",
          "text": [
            "{'a': 'apple', 'b': 'banana', 'c': 'cherry'}\n",
            "<class 'dict'>\n"
          ]
        }
      ]
    },
    {
      "cell_type": "code",
      "source": [
        "#example dictionary with set, tuple, and list\n",
        "\n",
        "dict1 = {'key1':{345, 76, \"apple\"},\n",
        "\n",
        "         'key2': (4.8, \"horse\", -98),\n",
        "\n",
        "         'key3': [97, \"cool\", False]}\n",
        "print (dict1)\n",
        "print(type(dict1))"
      ],
      "metadata": {
        "colab": {
          "base_uri": "https://localhost:8080/"
        },
        "id": "4HXCXiCm_7oZ",
        "outputId": "2891e3c1-0be0-4ad3-f5ed-9f89d1aa879a"
      },
      "execution_count": null,
      "outputs": [
        {
          "output_type": "stream",
          "name": "stdout",
          "text": [
            "{'key1': {345, 'apple', 76}, 'key2': (4.8, 'horse', -98), 'key3': [97, 'cool', False]}\n",
            "<class 'dict'>\n"
          ]
        }
      ]
    },
    {
      "cell_type": "code",
      "source": [
        "#indexing it starts at zero and it counts up the length but index is 16, space is also considered an index value\n",
        "\n",
        "str1 = \"Carsaregreattouse\"\n",
        "print(str1)\n",
        "print(type(str1))\n",
        "\n",
        "print(len(str1))\n",
        "\n",
        "print(str1[0])\n",
        "print(str1[1])\n",
        "print(str1[2])\n",
        "print(str1[3])\n",
        "print(str1[4])\n"
      ],
      "metadata": {
        "colab": {
          "base_uri": "https://localhost:8080/"
        },
        "id": "Sbo0gR-0BbjG",
        "outputId": "60044fb9-2903-4d67-9620-5041e04b422d"
      },
      "execution_count": null,
      "outputs": [
        {
          "output_type": "stream",
          "name": "stdout",
          "text": [
            "Carsaregreattouse\n",
            "<class 'str'>\n",
            "17\n",
            "C\n",
            "a\n",
            "r\n",
            "s\n",
            "a\n"
          ]
        }
      ]
    },
    {
      "cell_type": "code",
      "source": [
        "#print out the certain postion , so slicing , the third number is the step value so how many letters it jumps over\n",
        "# this is how it is written [index: length: skipvalue]\n",
        "str1 = \"Carsaregreattouse\"\n",
        "print(str1)\n",
        "print(type(str1))\n",
        "\n",
        "print(str1[4:7: 1], str1[12:17:1])\n",
        "\n",
        "print(str1[0:17])\n",
        "\n",
        "print(str1[::])\n",
        "print(str1[0::])\n",
        "print(str1[0::])\n",
        "print(str1[:4:])\n",
        "print(str1[12::])\n",
        "print(str1[0:17:3])\n",
        "\n",
        "str1[:len(str1):]"
      ],
      "metadata": {
        "colab": {
          "base_uri": "https://localhost:8080/",
          "height": 214
        },
        "id": "CiPzr_C7EBC-",
        "outputId": "f5b52ef8-2bc0-4a84-f022-82def4d7f6fe"
      },
      "execution_count": null,
      "outputs": [
        {
          "output_type": "stream",
          "name": "stdout",
          "text": [
            "Carsaregreattouse\n",
            "<class 'str'>\n",
            "are touse\n",
            "Carsaregreattouse\n",
            "Carsaregreattouse\n",
            "Carsaregreattouse\n",
            "Carsaregreattouse\n",
            "Cars\n",
            "touse\n",
            "Cseets\n"
          ]
        },
        {
          "output_type": "execute_result",
          "data": {
            "text/plain": [
              "'Carsaregreattouse'"
            ],
            "application/vnd.google.colaboratory.intrinsic+json": {
              "type": "string"
            }
          },
          "metadata": {},
          "execution_count": 89
        }
      ]
    },
    {
      "cell_type": "code",
      "source": [],
      "metadata": {
        "colab": {
          "base_uri": "https://localhost:8080/"
        },
        "id": "QPTD0fyjFx1b",
        "outputId": "5cd39601-104e-4081-f528-2b65147a4d88"
      },
      "execution_count": null,
      "outputs": [
        {
          "output_type": "stream",
          "name": "stdout",
          "text": [
            "Cseets\n"
          ]
        }
      ]
    },
    {
      "cell_type": "code",
      "source": [
        "#string fuctions inbilt fuctions, all fuctions that is avaible within python\n",
        "\n",
        "\n"
      ],
      "metadata": {
        "id": "4TjtGV561i1h"
      },
      "execution_count": null,
      "outputs": []
    },
    {
      "cell_type": "code",
      "source": [
        "# 08/10 Thursday\n",
        "\n",
        "str1='Peppa prefer Python Programming'\n",
        "\n",
        "print(str1[:5], str1[5:12], str1[13:19], str1[20:])\n",
        "\n",
        "\n",
        "print(len(str1))\n"
      ],
      "metadata": {
        "colab": {
          "base_uri": "https://localhost:8080/"
        },
        "id": "5dH9tZvg5iHW",
        "outputId": "8bf21e24-332b-465c-9ffe-228e1afc2d5e"
      },
      "execution_count": null,
      "outputs": [
        {
          "output_type": "stream",
          "name": "stdout",
          "text": [
            "Peppa  prefer Python Programming\n",
            "31\n"
          ]
        }
      ]
    },
    {
      "cell_type": "code",
      "source": [
        "#negative slicing, is is negtive indexing going right to left\n",
        "\n",
        "str1= 'cars are too cool '\n",
        "print(str1[::1])\n",
        "print(str1[::-1])\n",
        "\n",
        "print(str1[-1:-6:-1])\n"
      ],
      "metadata": {
        "colab": {
          "base_uri": "https://localhost:8080/"
        },
        "id": "Bs2MQ80k531k",
        "outputId": "4c676584-90e4-4c98-f3cb-982f577bee82"
      },
      "execution_count": null,
      "outputs": [
        {
          "output_type": "stream",
          "name": "stdout",
          "text": [
            "cars are too cool \n",
            " looc oot era srac\n",
            " looc\n"
          ]
        }
      ]
    },
    {
      "cell_type": "code",
      "source": [
        "str1='Peppa prefer Python Programming'\n",
        "\n",
        "print(str1[-1:-12:-1], str1[-13:-19:-1], str1[-20:-27:-1], str1[-25:-32:-1] )\n"
      ],
      "metadata": {
        "colab": {
          "base_uri": "https://localhost:8080/"
        },
        "id": "N4_MBKht9OM2",
        "outputId": "eda7635f-8f54-4cf2-cf3f-358aef8b771d"
      },
      "execution_count": null,
      "outputs": [
        {
          "output_type": "stream",
          "name": "stdout",
          "text": [
            "gnimmargorP nohtyP referp  p appeP\n"
          ]
        }
      ]
    },
    {
      "cell_type": "code",
      "source": [
        "str1 = 'Venkatanarasimharajuvaripeta'\n",
        "print(str1)\n",
        "print( str1[-22:-30:-1], str1[-11:-22:-1], str1[-1:-11:-1],)\n",
        "\n",
        "print(len(str1))\n"
      ],
      "metadata": {
        "colab": {
          "base_uri": "https://localhost:8080/",
          "height": 89
        },
        "id": "dCkwOMKn_R3H",
        "outputId": "3547597c-c99f-4c37-e3a8-7e554c27d554"
      },
      "execution_count": null,
      "outputs": [
        {
          "output_type": "stream",
          "name": "stdout",
          "text": [
            "Venkatanarasimharajuvaripeta\n",
            "atakneV arahmisaran atepiravuj\n",
            "28\n"
          ]
        },
        {
          "output_type": "execute_result",
          "data": {
            "text/plain": [
              "'a'"
            ],
            "application/vnd.google.colaboratory.intrinsic+json": {
              "type": "string"
            }
          },
          "metadata": {},
          "execution_count": 73
        }
      ]
    },
    {
      "cell_type": "code",
      "source": [
        "#postive indexing and negative slicing\n",
        "\n",
        "\n",
        "#[start:length:skipping in characters ]\n",
        "str1='VenkataNarasimhaRajuvaripeta'\n",
        "\n",
        "str1[6::-1], str1[15:6:-1], str1[27:15:-1]\n",
        "\n",
        "\n",
        "\n",
        "str2='Peppa prefer Python Programming'\n",
        "\n",
        "print(str2[4::-1],str2[-19:4:-1], str2[19:12:-1], str2[31:19:-1] )\n",
        "\n",
        "\n",
        "print(len(str2))\n",
        "\n"
      ],
      "metadata": {
        "colab": {
          "base_uri": "https://localhost:8080/"
        },
        "id": "LD482dQQBoEA",
        "outputId": "32127c65-8556-4add-f09e-f85d12f9b188"
      },
      "execution_count": null,
      "outputs": [
        {
          "output_type": "stream",
          "name": "stdout",
          "text": [
            "appeP  referp   nohtyP gnimmargorP\n",
            "31\n"
          ]
        }
      ]
    },
    {
      "cell_type": "code",
      "source": [
        "#negative indexing and positive slicing\n",
        "\n",
        "\n",
        "str2='Peppa prefer Python Programming'\n",
        "\n",
        "print(str2[-31:-26:1])\n",
        "\n",
        "\n",
        "str1='VenkataNarasimhaRajuvaripeta'\n",
        "\n",
        "print(str1[-28:-21:1],str1[-21:-12:1], str1[-12::1] )\n",
        "\n",
        "print(len(str1))\n",
        "\n"
      ],
      "metadata": {
        "colab": {
          "base_uri": "https://localhost:8080/"
        },
        "id": "xmCXYwEPES1f",
        "outputId": "682ab2b5-bed4-428f-ec48-c950ef9b9e7c"
      },
      "execution_count": null,
      "outputs": [
        {
          "output_type": "stream",
          "name": "stdout",
          "text": [
            "Peppa\n",
            "Venkata Narasimha Rajuvaripeta\n",
            "28\n"
          ]
        }
      ]
    },
    {
      "cell_type": "code",
      "source": [
        "\n",
        "lst1=['apple','banana','cherries', 'dates', 'egg', 'fig', 'honeyfruit', 'icefruit']\n",
        "print(lst1)\n",
        "\n",
        "print(type(lst1))\n",
        "\n",
        "\n"
      ],
      "metadata": {
        "colab": {
          "base_uri": "https://localhost:8080/"
        },
        "id": "T235ACJpJ_YR",
        "outputId": "b385bda0-fc36-4924-907c-3010edbb0392"
      },
      "execution_count": null,
      "outputs": [
        {
          "output_type": "stream",
          "name": "stdout",
          "text": [
            "['apple', 'banana', 'cherries', 'dates', 'egg', 'fig', 'honeyfruit', 'icefruit']\n",
            "<class 'list'>\n"
          ]
        },
        {
          "output_type": "execute_result",
          "data": {
            "text/plain": [
              "['apple',\n",
              " 'banana',\n",
              " 'cherries',\n",
              " 'dates',\n",
              " 'egg',\n",
              " 'fig',\n",
              " 'honeyfruit',\n",
              " 'icefruit']"
            ]
          },
          "metadata": {},
          "execution_count": 152
        }
      ]
    },
    {
      "cell_type": "code",
      "source": [
        "\n",
        "lst1[0], lst1[1], lst1[2], lst1[3], lst1[4], lst1[5], lst1[6], lst1[7]\n",
        "\n",
        "\n",
        "print(lst1[::])\n",
        "print(lst1[0::])\n",
        "print(lst1[:len(lst1):])\n",
        "print(lst1[::1])\n",
        "print(lst1[0::])\n",
        "\n",
        "print(lst1[0:len(lst1):1])\n",
        "print(lst1[::-1])\n",
        "\n",
        "print(lst1[-1::-1])\n",
        "print(lst1[8::-1])\n",
        "print(lst1[-9::1])\n",
        "\n",
        "print(lst1[7::-1])"
      ],
      "metadata": {
        "colab": {
          "base_uri": "https://localhost:8080/"
        },
        "id": "aMuWU8EoN060",
        "outputId": "3774904b-5b3e-423c-9ea0-3fbe7991abdd"
      },
      "execution_count": null,
      "outputs": [
        {
          "output_type": "stream",
          "name": "stdout",
          "text": [
            "['apple', 'banana', 'cherries', 'dates', 'egg', 'fig', 'honeyfruit', 'icefruit']\n",
            "['apple', 'banana', 'cherries', 'dates', 'egg', 'fig', 'honeyfruit', 'icefruit']\n",
            "['apple', 'banana', 'cherries', 'dates', 'egg', 'fig', 'honeyfruit', 'icefruit']\n",
            "['apple', 'banana', 'cherries', 'dates', 'egg', 'fig', 'honeyfruit', 'icefruit']\n",
            "['apple', 'banana', 'cherries', 'dates', 'egg', 'fig', 'honeyfruit', 'icefruit']\n",
            "['apple', 'banana', 'cherries', 'dates', 'egg', 'fig', 'honeyfruit', 'icefruit']\n",
            "['icefruit', 'honeyfruit', 'fig', 'egg', 'dates', 'cherries', 'banana', 'apple']\n",
            "['icefruit', 'honeyfruit', 'fig', 'egg', 'dates', 'cherries', 'banana', 'apple']\n",
            "['icefruit', 'honeyfruit', 'fig', 'egg', 'dates', 'cherries', 'banana', 'apple']\n",
            "['apple', 'banana', 'cherries', 'dates', 'egg', 'fig', 'honeyfruit', 'icefruit']\n",
            "['icefruit', 'honeyfruit', 'fig', 'egg', 'dates', 'cherries', 'banana', 'apple']\n"
          ]
        }
      ]
    },
    {
      "cell_type": "code",
      "source": [
        "lst2=['cheese','apple', 'milk','eggs', 'fruit','cucumber','tape', 'soap','shampoo', 'sponge ']\n",
        "\n",
        "print(lst2)\n",
        "\n",
        "print(len(lst2))\n",
        "\n",
        "\n",
        "print(lst2[-1::-1]) #negative index, neg slicing\n",
        "\n",
        "print(lst2[:3:]) # positive index, postive slicing\n",
        "\n",
        "print(lst2[4::-1]) #positive index, negative slicing\n",
        "\n",
        "print(lst2[-5::3]) #negative index, postive slicing\n",
        "\n",
        "\n"
      ],
      "metadata": {
        "colab": {
          "base_uri": "https://localhost:8080/"
        },
        "id": "FCaKOrMlOry3",
        "outputId": "11d3b9ec-782c-4abd-a0f7-aa1c0c7884af"
      },
      "execution_count": null,
      "outputs": [
        {
          "output_type": "stream",
          "name": "stdout",
          "text": [
            "['cheese', 'apple', 'milk', 'eggs', 'fruit', 'cucumber', 'tape', 'soap', 'shampoo', 'sponge ']\n",
            "10\n",
            "['sponge ', 'shampoo', 'soap', 'tape', 'cucumber', 'fruit', 'eggs', 'milk', 'apple', 'cheese']\n",
            "['cheese', 'apple', 'milk']\n",
            "['fruit', 'eggs', 'milk', 'apple', 'cheese']\n",
            "['cucumber', 'shampoo']\n"
          ]
        }
      ]
    },
    {
      "cell_type": "code",
      "source": [
        "#tuple example\n",
        "tupl2=('cheese','apple', 'milk','eggs', 'fruit','cucumber','tape', 'soap','shampoo', 'sponge ')\n",
        "print(tupl2)\n",
        "\n",
        "\n",
        "print(tupl2[-1::-1]) #negative index, neg slicing\n",
        "\n",
        "print(tupl2[:3:]) # positive index, postive slicing\n",
        "\n",
        "print(tupl2[4::-1]) #positive index, negative slicing\n",
        "\n",
        "print(tupl2[-5::3]) #negative index, postive slicing\n",
        "\n"
      ],
      "metadata": {
        "colab": {
          "base_uri": "https://localhost:8080/"
        },
        "id": "BeaBBN_wQbFQ",
        "outputId": "23cdb396-24d8-461f-c93d-e7a65abf0f65"
      },
      "execution_count": null,
      "outputs": [
        {
          "output_type": "stream",
          "name": "stdout",
          "text": [
            "('cheese', 'apple', 'milk', 'eggs', 'fruit', 'cucumber', 'tape', 'soap', 'shampoo', 'sponge ')\n",
            "('sponge ', 'shampoo', 'soap', 'tape', 'cucumber', 'fruit', 'eggs', 'milk', 'apple', 'cheese')\n",
            "('cheese', 'apple', 'milk')\n",
            "('fruit', 'eggs', 'milk', 'apple', 'cheese')\n",
            "('cucumber', 'shampoo')\n"
          ]
        }
      ]
    },
    {
      "cell_type": "code",
      "source": [],
      "metadata": {
        "id": "42Tlv-mSSWhY"
      },
      "execution_count": null,
      "outputs": []
    }
  ]
}