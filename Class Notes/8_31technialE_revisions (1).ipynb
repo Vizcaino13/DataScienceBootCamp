{
  "nbformat": 4,
  "nbformat_minor": 0,
  "metadata": {
    "colab": {
      "provenance": []
    },
    "kernelspec": {
      "name": "python3",
      "display_name": "Python 3"
    },
    "language_info": {
      "name": "python"
    }
  },
  "cells": [
    {
      "cell_type": "code",
      "execution_count": null,
      "metadata": {
        "colab": {
          "base_uri": "https://localhost:8080/"
        },
        "id": "bOPF1pVgkeJN",
        "outputId": "f33f4888-1f37-4161-f2a6-ded9ca17ce57"
      },
      "outputs": [
        {
          "output_type": "stream",
          "name": "stdout",
          "text": [
            "enter a number you want to sum 2\n",
            "enter a number you want to sum 4\n",
            "enter a number you want to sum 6\n",
            "enter a number you want to sum 0\n",
            "total 12\n"
          ]
        }
      ],
      "source": [
        "#example using while loop\n",
        "#program to sum user input until user enters zero\n",
        "\n",
        "#this code adds up all the inputs until the user puts in a zero as an input\n",
        "\n",
        "n=int(input(\"enter a number you want to sum \"))\n",
        "\n",
        "sum1=0\n",
        "\n",
        "while n!=0:\n",
        "  sum1=sum1+n\n",
        "  n=int(input(\"enter a number you want to sum \"))\n",
        "print(\"total\", sum1)"
      ]
    },
    {
      "cell_type": "code",
      "source": [
        "#this is another way to do it but using true in while\n",
        "n=int(input(\"enter a number you want to sum \"))\n",
        "sum1=0\n",
        "\n",
        "while True:\n",
        "  if n!=0:\n",
        "    sum1=sum1+n\n",
        "    n=int(input(\"enter a number you want to sum \"))\n",
        "  else:\n",
        "    break\n",
        "print(\"total\", sum1)"
      ],
      "metadata": {
        "colab": {
          "base_uri": "https://localhost:8080/"
        },
        "id": "3G-hEcBolEWc",
        "outputId": "8dedac8c-507c-42dd-f429-f1caa09b1826"
      },
      "execution_count": null,
      "outputs": [
        {
          "output_type": "stream",
          "name": "stdout",
          "text": [
            "enter a number you want to sum 9\n",
            "enter a number you want to sum 8\n",
            "enter a number you want to sum 0\n",
            "total 17\n"
          ]
        }
      ]
    },
    {
      "cell_type": "code",
      "source": [
        "from IPython.utils.io import atomic_writing\n",
        "#functions are code block that is used to do repetion of things, you use it if you would need the code again in the future\n",
        "\n",
        "#def is defition of function\n",
        "\n",
        "def calculate_sum(list_marks):\n",
        "  sum_list=sum(list_marks)\n",
        "  avg=sum(list_marks)/len(list_marks)\n",
        "  return sum_list, avg\n"
      ],
      "metadata": {
        "id": "glXIxS9rlp18"
      },
      "execution_count": null,
      "outputs": []
    },
    {
      "cell_type": "code",
      "source": [
        "pwefo=calculate_sum([1,5,16,19,20])\n",
        "\n",
        "print(type(pwefo))\n"
      ],
      "metadata": {
        "colab": {
          "base_uri": "https://localhost:8080/"
        },
        "id": "e1bbhNu1noI4",
        "outputId": "42feb214-0be6-42f6-8577-7ceb498fa3cf"
      },
      "execution_count": null,
      "outputs": [
        {
          "output_type": "stream",
          "name": "stdout",
          "text": [
            "<class 'list'>\n"
          ]
        }
      ]
    },
    {
      "cell_type": "code",
      "source": [
        "b= (1,2)\n",
        "c= 1,\n",
        "d= 1,2,3,4,5"
      ],
      "metadata": {
        "id": "DIGR4g1fn1T4"
      },
      "execution_count": null,
      "outputs": []
    },
    {
      "cell_type": "code",
      "source": [
        "print(type(b))\n",
        "print(type(c))\n",
        "print(type(d))"
      ],
      "metadata": {
        "colab": {
          "base_uri": "https://localhost:8080/"
        },
        "id": "68wQJzc1oRQk",
        "outputId": "066142b1-c497-4b70-87d1-9d594e2dee53"
      },
      "execution_count": null,
      "outputs": [
        {
          "output_type": "stream",
          "name": "stdout",
          "text": [
            "<class 'tuple'>\n",
            "<class 'tuple'>\n",
            "<class 'tuple'>\n"
          ]
        }
      ]
    },
    {
      "cell_type": "code",
      "source": [
        "def calculate_sum(list_marks, class_avg=80):\n",
        "  sum_list=sum(list_marks)\n",
        "  avg=sum(list_marks)/len(list_marks)\n",
        "  print(sum_list)\n",
        "  print(avg)\n",
        "  if avg > class_avg:\n",
        "    print(\"pass\")\n",
        "  else:\n",
        "    print(\"fail\")"
      ],
      "metadata": {
        "id": "VoXaQPU-oWRY"
      },
      "execution_count": null,
      "outputs": []
    },
    {
      "cell_type": "code",
      "source": [
        "calculate_sum([1,5,16,19,20])"
      ],
      "metadata": {
        "colab": {
          "base_uri": "https://localhost:8080/"
        },
        "id": "lz6QcyaOpq8u",
        "outputId": "8e8a8567-8606-45ab-f979-7f0a738599fd"
      },
      "execution_count": null,
      "outputs": [
        {
          "output_type": "stream",
          "name": "stdout",
          "text": [
            "61\n",
            "12.2\n",
            "fail\n"
          ]
        }
      ]
    },
    {
      "cell_type": "code",
      "source": [
        "calculate_sum([100,5,16,19,20], class_avg= 30)"
      ],
      "metadata": {
        "colab": {
          "base_uri": "https://localhost:8080/"
        },
        "id": "OW5QWHbsprkX",
        "outputId": "373ed0c5-795c-4298-dea8-80349c47e961"
      },
      "execution_count": null,
      "outputs": [
        {
          "output_type": "stream",
          "name": "stdout",
          "text": [
            "160\n",
            "32.0\n",
            "pass\n"
          ]
        }
      ]
    },
    {
      "cell_type": "code",
      "source": [
        "#exception handling\n",
        "\n",
        "n=int(input(\"enter a number \"))\n",
        "try:\n",
        "  k=5//0\n",
        "\n",
        "except ZeroDivisionError:\n",
        "  print(\"{} cannot be divided by zero\".format(n))"
      ],
      "metadata": {
        "colab": {
          "base_uri": "https://localhost:8080/"
        },
        "id": "W0J-sda1qOXa",
        "outputId": "47cc6c4c-8eca-4ee1-87a2-7b0e7cbf2e80"
      },
      "execution_count": null,
      "outputs": [
        {
          "output_type": "stream",
          "name": "stdout",
          "text": [
            "enter a number 9\n",
            "9 cannot be divided by zero\n"
          ]
        }
      ]
    },
    {
      "cell_type": "code",
      "source": [
        "# Exception handling\n",
        "n=int(input(\"Enter the number you want to divide from\"))\n",
        "try:\n",
        "  k=5/n\n",
        "  print(k)\n",
        "except Exception as e:\n",
        "  print(\"Cant Divide by Zero\")\n",
        "finally:\n",
        "  print(\"THIS BLOCK IS ALWAYS EXCECUTED\")"
      ],
      "metadata": {
        "colab": {
          "base_uri": "https://localhost:8080/"
        },
        "id": "zagu5n5rsGvn",
        "outputId": "34be798d-6050-401c-bd6f-5f8820493242"
      },
      "execution_count": null,
      "outputs": [
        {
          "output_type": "stream",
          "name": "stdout",
          "text": [
            "Enter the number you want to divide from8\n",
            "0.625\n",
            "THIS BLOCK IS ALWAYS EXCECUTED\n"
          ]
        }
      ]
    },
    {
      "cell_type": "code",
      "source": [
        "def divide_by_user_input(n):\n",
        "  error=False\n",
        "  try:\n",
        "    k=5/n\n",
        "    print(k)\n",
        "  except ZeroDivisionError:\n",
        "    print(\"Cant Divide by Zero\")\n",
        "    error=True\n",
        "  finally:\n",
        "    if error:\n",
        "      n=int(input(\"Enter the number you want to divide from should be greater than 0\"))\n",
        "      divide_by_user_input(n)"
      ],
      "metadata": {
        "id": "dHg3OpwfxF7-"
      },
      "execution_count": null,
      "outputs": []
    },
    {
      "cell_type": "code",
      "source": [],
      "metadata": {
        "id": "_xpwRjQhxgoa"
      },
      "execution_count": null,
      "outputs": []
    }
  ]
}