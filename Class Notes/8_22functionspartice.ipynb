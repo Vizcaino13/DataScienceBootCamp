{
  "nbformat": 4,
  "nbformat_minor": 0,
  "metadata": {
    "colab": {
      "provenance": []
    },
    "kernelspec": {
      "name": "python3",
      "display_name": "Python 3"
    },
    "language_info": {
      "name": "python"
    }
  },
  "cells": [
    {
      "cell_type": "code",
      "execution_count": 1,
      "metadata": {
        "id": "z6SjHX3MLdYD"
      },
      "outputs": [],
      "source": [
        "#4) Write a program to print twin primes less than 1000.\n",
        "#If two consecutive odd numbers are both prime then they are known as twin primes\n",
        "\n",
        "#logical break down\n",
        "#first part is that we have to iterare till 1000\n",
        "#2nd part only check for odd numbers\n",
        "#3rd both numbers houkd be prime"
      ]
    },
    {
      "cell_type": "code",
      "source": [
        "n=int(input(\"Enter the Max Range :- \"))\n",
        "\n",
        "def check_prime_number(num):#have a num\n",
        "  for i in range(2,num):#for loop starts at 2, stops athe num\n",
        "    if num%i==0: #if any number is divisable by i then its not prime so example i=2 so 4/2 so not prime, so itll hit the false return\n",
        "      return False\n",
        "  return True  #if it hists true then that means it is not diviable by i so a prime number\n",
        "\n",
        "\n",
        "def print_prime_pairs(n):\n",
        "  # We start from 3 which is first odd prime number and jump 2 places each for next odd number\n",
        "  for k in range(3,n,2): #3 is the first prime number go to n and skip 2 places for next odd number\n",
        "    if check_prime_number(k) and check_prime_number(k+2): #this checks if bother numbers are prime pairs, so lets say 5, 5+2, 7 so then prime pairs\n",
        "      print(\"Pair Prime Numbers\",k,k+2)\n",
        "\n",
        "print_prime_pairs(n)"
      ],
      "metadata": {
        "colab": {
          "base_uri": "https://localhost:8080/"
        },
        "id": "-TNyH6aENX6P",
        "outputId": "cda5c445-4512-4c93-d6ea-5deae36e5af9"
      },
      "execution_count": 11,
      "outputs": [
        {
          "output_type": "stream",
          "name": "stdout",
          "text": [
            "Enter the Max Range :- 1000\n",
            "Pair Prime Numbers 3 5\n",
            "Pair Prime Numbers 5 7\n",
            "Pair Prime Numbers 11 13\n",
            "Pair Prime Numbers 17 19\n",
            "Pair Prime Numbers 29 31\n",
            "Pair Prime Numbers 41 43\n",
            "Pair Prime Numbers 59 61\n",
            "Pair Prime Numbers 71 73\n",
            "Pair Prime Numbers 101 103\n",
            "Pair Prime Numbers 107 109\n",
            "Pair Prime Numbers 137 139\n",
            "Pair Prime Numbers 149 151\n",
            "Pair Prime Numbers 179 181\n",
            "Pair Prime Numbers 191 193\n",
            "Pair Prime Numbers 197 199\n",
            "Pair Prime Numbers 227 229\n",
            "Pair Prime Numbers 239 241\n",
            "Pair Prime Numbers 269 271\n",
            "Pair Prime Numbers 281 283\n",
            "Pair Prime Numbers 311 313\n",
            "Pair Prime Numbers 347 349\n",
            "Pair Prime Numbers 419 421\n",
            "Pair Prime Numbers 431 433\n",
            "Pair Prime Numbers 461 463\n",
            "Pair Prime Numbers 521 523\n",
            "Pair Prime Numbers 569 571\n",
            "Pair Prime Numbers 599 601\n",
            "Pair Prime Numbers 617 619\n",
            "Pair Prime Numbers 641 643\n",
            "Pair Prime Numbers 659 661\n",
            "Pair Prime Numbers 809 811\n",
            "Pair Prime Numbers 821 823\n",
            "Pair Prime Numbers 827 829\n",
            "Pair Prime Numbers 857 859\n",
            "Pair Prime Numbers 881 883\n"
          ]
        }
      ]
    },
    {
      "cell_type": "code",
      "source": [
        "#2 Write a program to find out the prime factorization of a number. Example: prime factorization  of 56 2 × 2 × 2 × 7\n",
        "\n",
        "#logic\n",
        "\n",
        "#1 divid the number until it becomes one\n",
        "#2"
      ],
      "metadata": {
        "id": "mrovYZiRSSqR"
      },
      "execution_count": null,
      "outputs": []
    },
    {
      "cell_type": "code",
      "source": [
        "n=int(input(\"Enter the Number for prime factorization\"))\n",
        "\n",
        "def prime_factors(num):\n",
        "  factors=[]\n",
        "  divisor=2\n",
        "  while num>1:\n",
        "    while num%divisor==0:\n",
        "      num=num/divisor\n",
        "      factors.append(str(divisor))\n",
        "    divisor=divisor+1\n",
        "  return factors\n",
        "\n",
        "def show_prime_factorization(n):\n",
        "  factors=prime_factors(n)\n",
        "  return \"x\".join(factors)\n",
        "\n",
        "show_prime_factorization(n)"
      ],
      "metadata": {
        "colab": {
          "base_uri": "https://localhost:8080/",
          "height": 399
        },
        "id": "lRWKEPfMV5KK",
        "outputId": "2eaabb8a-c4ee-4623-d81d-0b763b418d44"
      },
      "execution_count": 18,
      "outputs": [
        {
          "output_type": "error",
          "ename": "KeyboardInterrupt",
          "evalue": "ignored",
          "traceback": [
            "\u001b[0;31m---------------------------------------------------------------------------\u001b[0m",
            "\u001b[0;31mKeyboardInterrupt\u001b[0m                         Traceback (most recent call last)",
            "\u001b[0;32m<ipython-input-18-4d333de52f23>\u001b[0m in \u001b[0;36m<cell line: 1>\u001b[0;34m()\u001b[0m\n\u001b[0;32m----> 1\u001b[0;31m \u001b[0mn\u001b[0m\u001b[0;34m=\u001b[0m\u001b[0mint\u001b[0m\u001b[0;34m(\u001b[0m\u001b[0minput\u001b[0m\u001b[0;34m(\u001b[0m\u001b[0;34m\"Enter the Number for prime factorization\"\u001b[0m\u001b[0;34m)\u001b[0m\u001b[0;34m)\u001b[0m\u001b[0;34m\u001b[0m\u001b[0;34m\u001b[0m\u001b[0m\n\u001b[0m\u001b[1;32m      2\u001b[0m \u001b[0;34m\u001b[0m\u001b[0m\n\u001b[1;32m      3\u001b[0m \u001b[0;32mdef\u001b[0m \u001b[0mprime_factors\u001b[0m\u001b[0;34m(\u001b[0m\u001b[0mnum\u001b[0m\u001b[0;34m)\u001b[0m\u001b[0;34m:\u001b[0m\u001b[0;34m\u001b[0m\u001b[0;34m\u001b[0m\u001b[0m\n\u001b[1;32m      4\u001b[0m   \u001b[0mfactors\u001b[0m\u001b[0;34m=\u001b[0m\u001b[0;34m[\u001b[0m\u001b[0;34m]\u001b[0m\u001b[0;34m\u001b[0m\u001b[0;34m\u001b[0m\u001b[0m\n\u001b[1;32m      5\u001b[0m   \u001b[0mdivisor\u001b[0m\u001b[0;34m=\u001b[0m\u001b[0;36m2\u001b[0m\u001b[0;34m\u001b[0m\u001b[0;34m\u001b[0m\u001b[0m\n",
            "\u001b[0;32m/usr/local/lib/python3.10/dist-packages/ipykernel/kernelbase.py\u001b[0m in \u001b[0;36mraw_input\u001b[0;34m(self, prompt)\u001b[0m\n\u001b[1;32m    849\u001b[0m                 \u001b[0;34m\"raw_input was called, but this frontend does not support input requests.\"\u001b[0m\u001b[0;34m\u001b[0m\u001b[0;34m\u001b[0m\u001b[0m\n\u001b[1;32m    850\u001b[0m             )\n\u001b[0;32m--> 851\u001b[0;31m         return self._input_request(str(prompt),\n\u001b[0m\u001b[1;32m    852\u001b[0m             \u001b[0mself\u001b[0m\u001b[0;34m.\u001b[0m\u001b[0m_parent_ident\u001b[0m\u001b[0;34m,\u001b[0m\u001b[0;34m\u001b[0m\u001b[0;34m\u001b[0m\u001b[0m\n\u001b[1;32m    853\u001b[0m             \u001b[0mself\u001b[0m\u001b[0;34m.\u001b[0m\u001b[0m_parent_header\u001b[0m\u001b[0;34m,\u001b[0m\u001b[0;34m\u001b[0m\u001b[0;34m\u001b[0m\u001b[0m\n",
            "\u001b[0;32m/usr/local/lib/python3.10/dist-packages/ipykernel/kernelbase.py\u001b[0m in \u001b[0;36m_input_request\u001b[0;34m(self, prompt, ident, parent, password)\u001b[0m\n\u001b[1;32m    893\u001b[0m             \u001b[0;32mexcept\u001b[0m \u001b[0mKeyboardInterrupt\u001b[0m\u001b[0;34m:\u001b[0m\u001b[0;34m\u001b[0m\u001b[0;34m\u001b[0m\u001b[0m\n\u001b[1;32m    894\u001b[0m                 \u001b[0;31m# re-raise KeyboardInterrupt, to truncate traceback\u001b[0m\u001b[0;34m\u001b[0m\u001b[0;34m\u001b[0m\u001b[0m\n\u001b[0;32m--> 895\u001b[0;31m                 \u001b[0;32mraise\u001b[0m \u001b[0mKeyboardInterrupt\u001b[0m\u001b[0;34m(\u001b[0m\u001b[0;34m\"Interrupted by user\"\u001b[0m\u001b[0;34m)\u001b[0m \u001b[0;32mfrom\u001b[0m \u001b[0;32mNone\u001b[0m\u001b[0;34m\u001b[0m\u001b[0;34m\u001b[0m\u001b[0m\n\u001b[0m\u001b[1;32m    896\u001b[0m             \u001b[0;32mexcept\u001b[0m \u001b[0mException\u001b[0m \u001b[0;32mas\u001b[0m \u001b[0me\u001b[0m\u001b[0;34m:\u001b[0m\u001b[0;34m\u001b[0m\u001b[0;34m\u001b[0m\u001b[0m\n\u001b[1;32m    897\u001b[0m                 \u001b[0mself\u001b[0m\u001b[0;34m.\u001b[0m\u001b[0mlog\u001b[0m\u001b[0;34m.\u001b[0m\u001b[0mwarning\u001b[0m\u001b[0;34m(\u001b[0m\u001b[0;34m\"Invalid Message:\"\u001b[0m\u001b[0;34m,\u001b[0m \u001b[0mexc_info\u001b[0m\u001b[0;34m=\u001b[0m\u001b[0;32mTrue\u001b[0m\u001b[0;34m)\u001b[0m\u001b[0;34m\u001b[0m\u001b[0;34m\u001b[0m\u001b[0m\n",
            "\u001b[0;31mKeyboardInterrupt\u001b[0m: Interrupted by user"
          ]
        }
      ]
    },
    {
      "cell_type": "code",
      "source": [
        "#Two different numbers are called amicable numbers if the sum of the proper divisors of each is equal to the other number.\n",
        "# For example 220 and 284 are amicable numbers.like 1\n",
        "\n",
        "\n",
        "# logic\n",
        "#get all divisors of both numbers\n",
        "#check if sum is equal to orginal number"
      ],
      "metadata": {
        "id": "NMonJtBUTiv1"
      },
      "execution_count": null,
      "outputs": []
    },
    {
      "cell_type": "code",
      "source": [
        "x=int(input(\"Enter first number \"))\n",
        "y=int(input(\"Enter second number \"))\n",
        "\n",
        "def get_proper_divisors_sum(num):\n",
        "  sum=0\n",
        "  for k in range(1,num):\n",
        "    if num%k==0:\n",
        "      sum=sum+k\n",
        "  return sum\n",
        "\n",
        "\n",
        "def check_ambicale_numbers(x,y):\n",
        "  if get_proper_divisors_sum(x)==y and get_proper_divisors_sum(y)==x:\n",
        "    print(\"These are ambicale numbers\",x,y)\n",
        "  else:\n",
        "    print(\"Not ambicale number\")\n",
        "\n",
        "check_ambicale_numbers(x,y)"
      ],
      "metadata": {
        "colab": {
          "base_uri": "https://localhost:8080/"
        },
        "id": "lglFO-JaYWDv",
        "outputId": "538df5e8-3247-4684-bf61-233d4f475b07"
      },
      "execution_count": 29,
      "outputs": [
        {
          "output_type": "stream",
          "name": "stdout",
          "text": [
            "Enter first number 220\n",
            "Enter second number 284\n",
            "These are ambicale numbers 220 284\n"
          ]
        }
      ]
    },
    {
      "cell_type": "code",
      "source": [
        "#1) Swap first and last element of the list\n",
        "#a=[\"1\",2,5,10,1]\n",
        "a=[1,2,5,10,'1']\n",
        "a2=[]\n",
        "\n",
        "def lista(a):\n",
        "  for i in lista:\n",
        "    if lista==1:\n",
        "      a.remove(1)\n",
        "    else:\n",
        "      a.remove(1)\n",
        "      print(a)\n",
        "      print(lista)\n"
      ],
      "metadata": {
        "id": "rE-xEl3DZENd"
      },
      "execution_count": 75,
      "outputs": []
    },
    {
      "cell_type": "code",
      "source": [
        "# swap 1st and last element of list\n",
        "a=[1,2,5,10,'1']\n",
        "# remove functions work on values which we might not know\n",
        "# pop works at indexs more suitable\n",
        "# clear removes everything from list which is not suggested\n",
        "def swap_elements(list_temp):\n",
        "  first=list_temp.pop(0)\n",
        "  last=list_temp.pop(-1)\n",
        "  list_temp.insert(0,last)\n",
        "  list_temp.append(first)\n",
        "  return list_temp\n",
        "\n",
        "swap_elements(a)"
      ],
      "metadata": {
        "colab": {
          "base_uri": "https://localhost:8080/"
        },
        "id": "A2iogurFdEs9",
        "outputId": "dfcb2e75-95f1-43a6-f552-ab43827e9642"
      },
      "execution_count": 78,
      "outputs": [
        {
          "output_type": "execute_result",
          "data": {
            "text/plain": [
              "['1', 2, 5, 10, 1]"
            ]
          },
          "metadata": {},
          "execution_count": 78
        }
      ]
    },
    {
      "cell_type": "code",
      "source": [
        "#a shortcut of this\n",
        "def swap_elements(list_temp):\n",
        "  list_temp[0],list_temp[-1]=list_temp[-1],list_temp[0]\n",
        "  return list_temp\n",
        "\n",
        "\n",
        "swap_elements(a)\n"
      ],
      "metadata": {
        "colab": {
          "base_uri": "https://localhost:8080/"
        },
        "id": "BPxRM3V8fRVb",
        "outputId": "77a4a3d2-85ef-4c27-d5c0-2acc2214b8b6"
      },
      "execution_count": 80,
      "outputs": [
        {
          "output_type": "execute_result",
          "data": {
            "text/plain": [
              "['1', 2, 5, 10, 1]"
            ]
          },
          "metadata": {},
          "execution_count": 80
        }
      ]
    },
    {
      "cell_type": "code",
      "source": [],
      "metadata": {
        "id": "Xro3GaLdjJLN"
      },
      "execution_count": null,
      "outputs": []
    }
  ]
}