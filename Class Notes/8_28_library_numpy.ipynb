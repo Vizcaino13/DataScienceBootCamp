{
  "nbformat": 4,
  "nbformat_minor": 0,
  "metadata": {
    "colab": {
      "provenance": []
    },
    "kernelspec": {
      "name": "python3",
      "display_name": "Python 3"
    },
    "language_info": {
      "name": "python"
    }
  },
  "cells": [
    {
      "cell_type": "code",
      "execution_count": 1,
      "metadata": {
        "id": "o17Ecv08mDpN"
      },
      "outputs": [],
      "source": []
    },
    {
      "cell_type": "markdown",
      "source": [
        "#librarys\n",
        "\n",
        "#if you want to work on many types of files, tasks can be achieved by using libraries. makes life easier.\n",
        "#library is a set of codes, classes, functions,packages.\n",
        "\n",
        "\n",
        "A collection of modules that are linked together is also known as python library. It has code bundles that can be used again and again in different programs. For programmers it makes python programming easier and simpler. Since then we will not need to compose the same code for various projects."
      ],
      "metadata": {
        "id": "duWnYxW5r095"
      }
    },
    {
      "cell_type": "code",
      "source": [
        "#these are the most important librarys in Data Science\n",
        "#numpy is the math library, 2 dimensional - 3d\n",
        "#panadas is for data sets\n",
        "#mathplotlib\n"
      ],
      "metadata": {
        "id": "IXTx0B6AqsKC"
      },
      "execution_count": 2,
      "outputs": []
    },
    {
      "cell_type": "code",
      "source": [
        "#numpy\n",
        "\n",
        "import numpy as np #this is the alisas name of numpy, you can name it what you like, you are taking numpy and its represented as np\n"
      ],
      "metadata": {
        "id": "Wex1w8IHri6J"
      },
      "execution_count": 12,
      "outputs": []
    },
    {
      "cell_type": "code",
      "source": [
        "#this is showing the lattest version of it\n",
        "print(np.__version__)\n",
        "np.show_config()"
      ],
      "metadata": {
        "colab": {
          "base_uri": "https://localhost:8080/"
        },
        "id": "50aYZqUNs2S7",
        "outputId": "60e6e552-16e3-4e6d-9e6e-49d69221cb19"
      },
      "execution_count": 13,
      "outputs": [
        {
          "output_type": "stream",
          "name": "stdout",
          "text": [
            "1.23.5\n",
            "openblas64__info:\n",
            "    libraries = ['openblas64_', 'openblas64_']\n",
            "    library_dirs = ['/usr/local/lib']\n",
            "    language = c\n",
            "    define_macros = [('HAVE_CBLAS', None), ('BLAS_SYMBOL_SUFFIX', '64_'), ('HAVE_BLAS_ILP64', None)]\n",
            "    runtime_library_dirs = ['/usr/local/lib']\n",
            "blas_ilp64_opt_info:\n",
            "    libraries = ['openblas64_', 'openblas64_']\n",
            "    library_dirs = ['/usr/local/lib']\n",
            "    language = c\n",
            "    define_macros = [('HAVE_CBLAS', None), ('BLAS_SYMBOL_SUFFIX', '64_'), ('HAVE_BLAS_ILP64', None)]\n",
            "    runtime_library_dirs = ['/usr/local/lib']\n",
            "openblas64__lapack_info:\n",
            "    libraries = ['openblas64_', 'openblas64_']\n",
            "    library_dirs = ['/usr/local/lib']\n",
            "    language = c\n",
            "    define_macros = [('HAVE_CBLAS', None), ('BLAS_SYMBOL_SUFFIX', '64_'), ('HAVE_BLAS_ILP64', None), ('HAVE_LAPACKE', None)]\n",
            "    runtime_library_dirs = ['/usr/local/lib']\n",
            "lapack_ilp64_opt_info:\n",
            "    libraries = ['openblas64_', 'openblas64_']\n",
            "    library_dirs = ['/usr/local/lib']\n",
            "    language = c\n",
            "    define_macros = [('HAVE_CBLAS', None), ('BLAS_SYMBOL_SUFFIX', '64_'), ('HAVE_BLAS_ILP64', None), ('HAVE_LAPACKE', None)]\n",
            "    runtime_library_dirs = ['/usr/local/lib']\n",
            "Supported SIMD extensions in this NumPy install:\n",
            "    baseline = SSE,SSE2,SSE3\n",
            "    found = SSSE3,SSE41,POPCNT,SSE42,AVX,F16C,FMA3,AVX2\n",
            "    not found = AVX512F,AVX512CD,AVX512_KNL,AVX512_KNM,AVX512_SKX,AVX512_CLX,AVX512_CNL,AVX512_ICL\n"
          ]
        }
      ]
    },
    {
      "cell_type": "code",
      "source": [
        "#creat vector of zeros\n",
        "\n",
        "v=np.zeros(10)\n",
        "print(v)"
      ],
      "metadata": {
        "colab": {
          "base_uri": "https://localhost:8080/"
        },
        "id": "Fdt3Uh_-s_Gs",
        "outputId": "4198c622-7bbe-4a4e-83c2-0084034be1f4"
      },
      "execution_count": 14,
      "outputs": [
        {
          "output_type": "stream",
          "name": "stdout",
          "text": [
            "[0. 0. 0. 0. 0. 0. 0. 0. 0. 0.]\n"
          ]
        }
      ]
    },
    {
      "cell_type": "code",
      "source": [
        "#check what is the memory size used for that operation\n",
        "print(\"%d bytes\" % (v.size*v.itemsize))"
      ],
      "metadata": {
        "colab": {
          "base_uri": "https://localhost:8080/"
        },
        "id": "M4unTxpAtOY3",
        "outputId": "8b6570a7-715f-4ed4-bfd4-02b69f857c99"
      },
      "execution_count": 15,
      "outputs": [
        {
          "output_type": "stream",
          "name": "stdout",
          "text": [
            "80 bytes\n"
          ]
        }
      ]
    },
    {
      "cell_type": "code",
      "source": [
        "#create a vectorof size 10\n",
        "\n",
        "v=np.zeros(10)\n",
        "v[4]=1 #this is replaxing the value of 0 at the 4index to 1\n",
        "print(v)"
      ],
      "metadata": {
        "colab": {
          "base_uri": "https://localhost:8080/"
        },
        "id": "VdHuJ0bWt_5R",
        "outputId": "3a89d1ad-5557-4ee6-8a3c-0a5de24019fd"
      },
      "execution_count": 17,
      "outputs": [
        {
          "output_type": "stream",
          "name": "stdout",
          "text": [
            "[0. 0. 0. 0. 1. 0. 0. 0. 0. 0.]\n"
          ]
        }
      ]
    },
    {
      "cell_type": "code",
      "source": [
        "v=np.arange(10,20) #this is printing the vector of range of 10 to 20 but stops at 19\n",
        "print(v)"
      ],
      "metadata": {
        "colab": {
          "base_uri": "https://localhost:8080/"
        },
        "id": "2Z9Nyka8u4L6",
        "outputId": "c3105463-5a12-4d31-d2b6-474f9136b45a"
      },
      "execution_count": 18,
      "outputs": [
        {
          "output_type": "stream",
          "name": "stdout",
          "text": [
            "[10 11 12 13 14 15 16 17 18 19]\n"
          ]
        }
      ]
    },
    {
      "cell_type": "code",
      "source": [
        "v= np.arange(10,50) #this is printing the vector of range of 10 to 50 but stops at 49, it can also be refered to as a list\n",
        "print(v)\n",
        "print(type(v))"
      ],
      "metadata": {
        "colab": {
          "base_uri": "https://localhost:8080/"
        },
        "id": "XylIJ86RvHCm",
        "outputId": "da83a067-8858-4cbb-d89e-2ce5f6a8b372"
      },
      "execution_count": 21,
      "outputs": [
        {
          "output_type": "stream",
          "name": "stdout",
          "text": [
            "[10 11 12 13 14 15 16 17 18 19 20 21 22 23 24 25 26 27 28 29 30 31 32 33\n",
            " 34 35 36 37 38 39 40 41 42 43 44 45 46 47 48 49]\n",
            "<class 'numpy.ndarray'>\n"
          ]
        }
      ]
    },
    {
      "cell_type": "code",
      "source": [
        "from numpy.lib.shape_base import vsplit\n",
        "v=np.arange(50) #starts from 0 to  46, array is a list of numbers\n",
        "print(v)\n",
        "v=v[::-1] #this is reverse list\n",
        "print(v)"
      ],
      "metadata": {
        "colab": {
          "base_uri": "https://localhost:8080/"
        },
        "id": "nn5pJdtvvSs7",
        "outputId": "5c274043-1bc3-46ff-8450-a60428eef902"
      },
      "execution_count": 25,
      "outputs": [
        {
          "output_type": "stream",
          "name": "stdout",
          "text": [
            "[ 0  1  2  3  4  5  6  7  8  9 10 11 12 13 14 15 16 17 18 19 20 21 22 23\n",
            " 24 25 26 27 28 29 30 31 32 33 34 35 36 37 38 39 40 41 42 43 44 45 46 47\n",
            " 48 49]\n",
            "[49 48 47 46 45 44 43 42 41 40 39 38 37 36 35 34 33 32 31 30 29 28 27 26\n",
            " 25 24 23 22 21 20 19 18 17 16 15 14 13 12 11 10  9  8  7  6  5  4  3  2\n",
            "  1  0]\n"
          ]
        }
      ]
    },
    {
      "cell_type": "code",
      "source": [
        "v=np.arange(9).reshape(3,3) #3 dimensional data\n",
        "print(v)"
      ],
      "metadata": {
        "colab": {
          "base_uri": "https://localhost:8080/"
        },
        "id": "7xcUKLAuv2Z9",
        "outputId": "fce94790-00ea-4206-8ade-a1ae39f57a9a"
      },
      "execution_count": 26,
      "outputs": [
        {
          "output_type": "stream",
          "name": "stdout",
          "text": [
            "[[0 1 2]\n",
            " [3 4 5]\n",
            " [6 7 8]]\n"
          ]
        }
      ]
    },
    {
      "cell_type": "code",
      "source": [
        "nz=np.nonzero([1,0,2,0,3,0,5,0,6,0,7,8,0]) #looking for non zero values ajnd it returns the index values of those numbers\n",
        "\n",
        "print(nz)"
      ],
      "metadata": {
        "colab": {
          "base_uri": "https://localhost:8080/"
        },
        "id": "LC7qQ9j2x3Qj",
        "outputId": "bf70c65c-cb02-4d68-e093-52adcdcc26b8"
      },
      "execution_count": 28,
      "outputs": [
        {
          "output_type": "stream",
          "name": "stdout",
          "text": [
            "(array([ 0,  2,  4,  6,  8, 10, 11]),)\n"
          ]
        }
      ]
    },
    {
      "cell_type": "code",
      "source": [
        "v=np.eye(3) #this prints matrix of vlaues, 3 rows, 3 columns\n",
        "print(v)"
      ],
      "metadata": {
        "colab": {
          "base_uri": "https://localhost:8080/"
        },
        "id": "7pgOTa_WykJD",
        "outputId": "0e7db1e3-44f8-46c0-f038-65965a627338"
      },
      "execution_count": 29,
      "outputs": [
        {
          "output_type": "stream",
          "name": "stdout",
          "text": [
            "[[1. 0. 0.]\n",
            " [0. 1. 0.]\n",
            " [0. 0. 1.]]\n"
          ]
        }
      ]
    },
    {
      "cell_type": "code",
      "source": [
        "v=np.eye(5) #this prints matrix of vlaues, 5 rows, 5 columns\n",
        "print(v)"
      ],
      "metadata": {
        "colab": {
          "base_uri": "https://localhost:8080/"
        },
        "id": "_IVUHtjfyuMt",
        "outputId": "7dbc73a4-865d-41e9-ada9-a15bd8737156"
      },
      "execution_count": 30,
      "outputs": [
        {
          "output_type": "stream",
          "name": "stdout",
          "text": [
            "[[1. 0. 0. 0. 0.]\n",
            " [0. 1. 0. 0. 0.]\n",
            " [0. 0. 1. 0. 0.]\n",
            " [0. 0. 0. 1. 0.]\n",
            " [0. 0. 0. 0. 1.]]\n"
          ]
        }
      ]
    },
    {
      "cell_type": "code",
      "source": [
        "# i want to generate random values, generate 10 random values betweeen 0 and 1\n",
        "\n",
        "v=np.random.random(10) #np is numpy library and you have one module has a function called random,\n",
        "print(v)"
      ],
      "metadata": {
        "colab": {
          "base_uri": "https://localhost:8080/"
        },
        "id": "6hLHiICRy0yt",
        "outputId": "86c62c5d-5474-4f8b-d48d-98f8f0072ce0"
      },
      "execution_count": 32,
      "outputs": [
        {
          "output_type": "stream",
          "name": "stdout",
          "text": [
            "[0.47734269 0.98783947 0.43551605 0.30076894 0.02426617 0.0778729\n",
            " 0.48770495 0.8743798  0.02935862 0.56582192]\n"
          ]
        }
      ]
    },
    {
      "cell_type": "code",
      "source": [
        "q =np.random.random((10,10))  #this generates 2 dimension values\n",
        "print(q)"
      ],
      "metadata": {
        "colab": {
          "base_uri": "https://localhost:8080/"
        },
        "id": "XdZ-GkqJzGs4",
        "outputId": "cc7ca647-c7d2-4dea-92d6-d631923dd593"
      },
      "execution_count": 37,
      "outputs": [
        {
          "output_type": "stream",
          "name": "stdout",
          "text": [
            "[[0.4394338  0.30180167 0.18499425 0.68813696 0.62249151 0.60439751\n",
            "  0.78464335 0.19875503 0.12824752 0.47205158]\n",
            " [0.72615469 0.46514749 0.39170436 0.80316748 0.91885733 0.0187055\n",
            "  0.09092097 0.15918023 0.82972989 0.15787197]\n",
            " [0.28466147 0.55464474 0.1514918  0.7681304  0.78798694 0.0288654\n",
            "  0.85254564 0.05561068 0.82449847 0.71347897]\n",
            " [0.6296717  0.67383188 0.68869976 0.08923665 0.22996597 0.42025314\n",
            "  0.7271887  0.85795779 0.67127863 0.415868  ]\n",
            " [0.73289327 0.6242338  0.02642264 0.38391137 0.17372565 0.45373834\n",
            "  0.92743029 0.56396533 0.99088133 0.59331487]\n",
            " [0.08243922 0.34866952 0.76258419 0.14508776 0.29026134 0.53054618\n",
            "  0.76706245 0.13127822 0.75293339 0.06071066]\n",
            " [0.84121966 0.92175924 0.53487156 0.46016377 0.34753642 0.15211163\n",
            "  0.48398426 0.42634813 0.0900025  0.64156513]\n",
            " [0.72092996 0.73204968 0.9671129  0.05490432 0.52194962 0.63296358\n",
            "  0.22148263 0.1348346  0.70631318 0.41994718]\n",
            " [0.23393196 0.23489193 0.21060852 0.55197348 0.1104549  0.35293097\n",
            "  0.70391749 0.20075542 0.78177863 0.86566215]\n",
            " [0.60978125 0.3823307  0.26939811 0.88119747 0.38661973 0.74422017\n",
            "  0.53922432 0.70796573 0.03817418 0.95280121]]\n"
          ]
        }
      ]
    },
    {
      "cell_type": "code",
      "source": [
        "q =np.random.random((2,3,4))  #this makes 2 overall rows [],  with 3 inner rows in those overall rows , 4 values in each row\n",
        "print(q)\n",
        "\n"
      ],
      "metadata": {
        "colab": {
          "base_uri": "https://localhost:8080/"
        },
        "id": "6l6XOD-RzWe_",
        "outputId": "331beb45-4441-4121-9980-eec657466827"
      },
      "execution_count": 38,
      "outputs": [
        {
          "output_type": "stream",
          "name": "stdout",
          "text": [
            "[[[0.51054456 0.29641665 0.1191965  0.32146559]\n",
            "  [0.34114134 0.49621723 0.05040352 0.03619539]\n",
            "  [0.90183301 0.48348505 0.83994522 0.81771705]]\n",
            "\n",
            " [[0.75707314 0.45288836 0.04855869 0.99067067]\n",
            "  [0.77378544 0.52530557 0.69548149 0.26092809]\n",
            "  [0.61348294 0.57286577 0.32479473 0.06818602]]]\n"
          ]
        }
      ]
    },
    {
      "cell_type": "code",
      "source": [
        "h =np.random.random((3,5,2))\n",
        "print(h)\n",
        "#data is generated between 0 and 1\n",
        "\n",
        "#h =np.random.random((3 outter rows ,5 inner rows ,2 elements per row ))\n",
        "\n",
        "#     #two numbers per row\n",
        "# [[[0.14657495 0.11036407]   #1 row outter row  , #1 internal row of 5\n",
        "#   [0.50057361 0.51256106]   #2 internal row of 5\n",
        "#   [0.11339655 0.74090508] #3 internal row of 5\n",
        "#   [0.62854022 0.2072085 ] #4 internal row of 5\n",
        "#   [0.16991964 0.74651901]] #5 internal row of 5\n",
        "\n",
        "#  [[0.43516508 0.39551729] #2row outter\n",
        "#   [0.26955838 0.37893141]\n",
        "#   [0.17721686 0.25625667]\n",
        "#   [0.91064253 0.83705866]\n",
        "#   [0.59244441 0.95840729]]\n",
        "\n",
        "#  [[0.70244962 0.9417962 ] #3row outter\n",
        "#   [0.35542218 0.32026072]\n",
        "#   [0.6751833  0.96162901]\n",
        "#   [0.19739006 0.55754499]\n",
        "#   [0.74527355 0.26655768]]]"
      ],
      "metadata": {
        "colab": {
          "base_uri": "https://localhost:8080/"
        },
        "id": "t0Q2rFNB0ATB",
        "outputId": "1bd925bc-95d5-4948-dc4b-c610112708d2"
      },
      "execution_count": 40,
      "outputs": [
        {
          "output_type": "stream",
          "name": "stdout",
          "text": [
            "[[[0.07184702 0.88221811]\n",
            "  [0.95768598 0.91944697]\n",
            "  [0.49136147 0.02395515]\n",
            "  [0.07468979 0.04716658]\n",
            "  [0.80751636 0.4544727 ]]\n",
            "\n",
            " [[0.75034914 0.17097558]\n",
            "  [0.4530556  0.00566637]\n",
            "  [0.68718955 0.63775856]\n",
            "  [0.26557481 0.22835334]\n",
            "  [0.75505172 0.96655211]]\n",
            "\n",
            " [[0.94841376 0.12579812]\n",
            "  [0.16392941 0.390746  ]\n",
            "  [0.69336566 0.87520166]\n",
            "  [0.40698744 0.65223741]\n",
            "  [0.24568978 0.78805444]]]\n"
          ]
        }
      ]
    },
    {
      "cell_type": "code",
      "source": [
        "#this is printing out the random values that are max and min , it will generate new values each time\n",
        "v= np.random.random((10,10))\n",
        "v_max, v_min= v.max(), v.min()\n",
        "print(v_max, v_min)"
      ],
      "metadata": {
        "colab": {
          "base_uri": "https://localhost:8080/"
        },
        "id": "DQjzOlMx0VmI",
        "outputId": "eaa6e7db-ead4-400d-d68b-a041866cb1f6"
      },
      "execution_count": 44,
      "outputs": [
        {
          "output_type": "stream",
          "name": "stdout",
          "text": [
            "0.9942830700641812 0.0010079153885846903\n"
          ]
        }
      ]
    },
    {
      "cell_type": "code",
      "source": [
        "#this is printing the mean of this data\n",
        "v=np.random.random(30)\n",
        "v_mean= v.mean()\n",
        "print(v_mean)"
      ],
      "metadata": {
        "colab": {
          "base_uri": "https://localhost:8080/"
        },
        "id": "XVXQViVy15vI",
        "outputId": "1e3f17a8-895d-4729-b250-68500d19af29"
      },
      "execution_count": 47,
      "outputs": [
        {
          "output_type": "stream",
          "name": "stdout",
          "text": [
            "0.5227359009557064\n"
          ]
        }
      ]
    },
    {
      "cell_type": "code",
      "source": [
        "v = np.ones((10,10))\n",
        "print(v)\n",
        "v[1:-1, 1:-1] = 0 #rows from 1  and skipping by -1 and then column starting at 1 but skipping  by -1\n",
        "print(v)"
      ],
      "metadata": {
        "colab": {
          "base_uri": "https://localhost:8080/"
        },
        "id": "tfiyjhsO2Ycj",
        "outputId": "3debcca7-365d-428d-9505-f69706151fd7"
      },
      "execution_count": 52,
      "outputs": [
        {
          "output_type": "stream",
          "name": "stdout",
          "text": [
            "[[1. 1. 1. 1. 1. 1. 1. 1. 1. 1.]\n",
            " [1. 1. 1. 1. 1. 1. 1. 1. 1. 1.]\n",
            " [1. 1. 1. 1. 1. 1. 1. 1. 1. 1.]\n",
            " [1. 1. 1. 1. 1. 1. 1. 1. 1. 1.]\n",
            " [1. 1. 1. 1. 1. 1. 1. 1. 1. 1.]\n",
            " [1. 1. 1. 1. 1. 1. 1. 1. 1. 1.]\n",
            " [1. 1. 1. 1. 1. 1. 1. 1. 1. 1.]\n",
            " [1. 1. 1. 1. 1. 1. 1. 1. 1. 1.]\n",
            " [1. 1. 1. 1. 1. 1. 1. 1. 1. 1.]\n",
            " [1. 1. 1. 1. 1. 1. 1. 1. 1. 1.]]\n",
            "[[1. 1. 1. 1. 1. 1. 1. 1. 1. 1.]\n",
            " [1. 0. 0. 0. 0. 0. 0. 0. 0. 1.]\n",
            " [1. 0. 0. 0. 0. 0. 0. 0. 0. 1.]\n",
            " [1. 0. 0. 0. 0. 0. 0. 0. 0. 1.]\n",
            " [1. 0. 0. 0. 0. 0. 0. 0. 0. 1.]\n",
            " [1. 0. 0. 0. 0. 0. 0. 0. 0. 1.]\n",
            " [1. 0. 0. 0. 0. 0. 0. 0. 0. 1.]\n",
            " [1. 0. 0. 0. 0. 0. 0. 0. 0. 1.]\n",
            " [1. 0. 0. 0. 0. 0. 0. 0. 0. 1.]\n",
            " [1. 1. 1. 1. 1. 1. 1. 1. 1. 1.]]\n"
          ]
        }
      ]
    },
    {
      "cell_type": "code",
      "source": [
        "#generate zeros and convert the inner values to one\n",
        "\n",
        "v=np.zeros((10, 10))\n",
        "print(v)\n",
        "print(\"after converting the inner values to 1:\")\n",
        "print(\" \")\n",
        "v[1:-1, 1:-1] = 1\n",
        "print(v)"
      ],
      "metadata": {
        "colab": {
          "base_uri": "https://localhost:8080/"
        },
        "id": "6Q0pEM8f21O_",
        "outputId": "401e8572-5548-4479-eb2d-c2b25a8bed54"
      },
      "execution_count": 64,
      "outputs": [
        {
          "output_type": "stream",
          "name": "stdout",
          "text": [
            "[[0. 0. 0. 0. 0. 0. 0. 0. 0. 0.]\n",
            " [0. 0. 0. 0. 0. 0. 0. 0. 0. 0.]\n",
            " [0. 0. 0. 0. 0. 0. 0. 0. 0. 0.]\n",
            " [0. 0. 0. 0. 0. 0. 0. 0. 0. 0.]\n",
            " [0. 0. 0. 0. 0. 0. 0. 0. 0. 0.]\n",
            " [0. 0. 0. 0. 0. 0. 0. 0. 0. 0.]\n",
            " [0. 0. 0. 0. 0. 0. 0. 0. 0. 0.]\n",
            " [0. 0. 0. 0. 0. 0. 0. 0. 0. 0.]\n",
            " [0. 0. 0. 0. 0. 0. 0. 0. 0. 0.]\n",
            " [0. 0. 0. 0. 0. 0. 0. 0. 0. 0.]]\n",
            "after converting the inner values to 1:\n",
            " \n",
            "[[0. 0. 0. 0. 0. 0. 0. 0. 0. 0.]\n",
            " [0. 1. 1. 1. 1. 1. 1. 1. 1. 0.]\n",
            " [0. 1. 1. 1. 1. 1. 1. 1. 1. 0.]\n",
            " [0. 1. 1. 1. 1. 1. 1. 1. 1. 0.]\n",
            " [0. 1. 1. 1. 1. 1. 1. 1. 1. 0.]\n",
            " [0. 1. 1. 1. 1. 1. 1. 1. 1. 0.]\n",
            " [0. 1. 1. 1. 1. 1. 1. 1. 1. 0.]\n",
            " [0. 1. 1. 1. 1. 1. 1. 1. 1. 0.]\n",
            " [0. 1. 1. 1. 1. 1. 1. 1. 1. 0.]\n",
            " [0. 0. 0. 0. 0. 0. 0. 0. 0. 0.]]\n"
          ]
        }
      ]
    },
    {
      "cell_type": "code",
      "source": [
        "v=np.ones((5,5)) #5 rows of 1s by 5 columns of 1s\n",
        "print(v)\n",
        "\n",
        "\n",
        "v=np.pad(v,pad_width=1,mode=\"constant\", constant_values=9) #padding the numbers with 9, you cange the value to anythinhg, only floats\n",
        "print(v)"
      ],
      "metadata": {
        "colab": {
          "base_uri": "https://localhost:8080/"
        },
        "id": "4vJ3oSx63jXL",
        "outputId": "a18ea5cb-71c4-4bc5-9343-9f9626645143"
      },
      "execution_count": 67,
      "outputs": [
        {
          "output_type": "stream",
          "name": "stdout",
          "text": [
            "[[1. 1. 1. 1. 1.]\n",
            " [1. 1. 1. 1. 1.]\n",
            " [1. 1. 1. 1. 1.]\n",
            " [1. 1. 1. 1. 1.]\n",
            " [1. 1. 1. 1. 1.]]\n",
            "[[9. 9. 9. 9. 9. 9. 9.]\n",
            " [9. 1. 1. 1. 1. 1. 9.]\n",
            " [9. 1. 1. 1. 1. 1. 9.]\n",
            " [9. 1. 1. 1. 1. 1. 9.]\n",
            " [9. 1. 1. 1. 1. 1. 9.]\n",
            " [9. 1. 1. 1. 1. 1. 9.]\n",
            " [9. 9. 9. 9. 9. 9. 9.]]\n"
          ]
        }
      ]
    },
    {
      "cell_type": "code",
      "source": [
        "np.nan #nan means null, so null is nothing,so blank, but dont be confused its not 0\n",
        "\n",
        "print(0 * np.nan)\n",
        "print(np.nan == np.nan)\n",
        "print(np.inf > np.nan)\n",
        "print(np.nan - np.nan)\n",
        "print(0.3 == 3 * 0.1) #this is false since its a bit more than just 0.3"
      ],
      "metadata": {
        "colab": {
          "base_uri": "https://localhost:8080/"
        },
        "id": "0pJSeR6n5XUF",
        "outputId": "61cd780d-a33b-42a2-b5d7-da6f9b90dd93"
      },
      "execution_count": 68,
      "outputs": [
        {
          "output_type": "stream",
          "name": "stdout",
          "text": [
            "nan\n",
            "False\n",
            "False\n",
            "nan\n",
            "False\n"
          ]
        }
      ]
    },
    {
      "cell_type": "code",
      "source": [
        "3 * 0.1"
      ],
      "metadata": {
        "colab": {
          "base_uri": "https://localhost:8080/"
        },
        "id": "LJFdQUfV7IHi",
        "outputId": "86cb718f-de77-48e9-aafe-2ae3c92db9de"
      },
      "execution_count": 69,
      "outputs": [
        {
          "output_type": "execute_result",
          "data": {
            "text/plain": [
              "0.30000000000000004"
            ]
          },
          "metadata": {},
          "execution_count": 69
        }
      ]
    },
    {
      "cell_type": "code",
      "source": [
        "#nan different combos\n",
        "\n",
        "a= np.nan\n",
        "b= np.nan\n",
        "print(a,b)\n",
        "\n"
      ],
      "metadata": {
        "colab": {
          "base_uri": "https://localhost:8080/"
        },
        "id": "YaQtB9_87grN",
        "outputId": "c9183e32-1e7f-4842-b2d9-a61f4165cad9"
      },
      "execution_count": 71,
      "outputs": [
        {
          "output_type": "stream",
          "name": "stdout",
          "text": [
            "nan nan\n"
          ]
        }
      ]
    },
    {
      "cell_type": "code",
      "source": [
        "#Create a 5x5 matrix with values 1,2,3,4 just below the diagonal\n",
        "\n",
        "\n",
        "# np.arange(4) creates an array [0, 1, 2, 3]. This is like counting from 0 to 3.\n",
        "\n",
        "# 1 + np.arange(4) adds 1 to each element of the array, resulting in [1, 2, 3, 4].\n",
        "#np.diag(...) is a function that constructs a diagonal matrix.\n",
        "# k=-1 is an argument that specifies which diagonal to use. In this case, it's -1, which means the diagonal below the main diagonal.\n",
        "\n",
        "Z = np.diag(1+np.arange(4),k=-3)\n",
        "print(Z)"
      ],
      "metadata": {
        "colab": {
          "base_uri": "https://localhost:8080/"
        },
        "id": "bqgbiHCX82_K",
        "outputId": "9c57a5a9-aef7-4499-f648-c56f4d27c548"
      },
      "execution_count": 101,
      "outputs": [
        {
          "output_type": "stream",
          "name": "stdout",
          "text": [
            "[[0 0 0 0 0 0 0]\n",
            " [0 0 0 0 0 0 0]\n",
            " [0 0 0 0 0 0 0]\n",
            " [1 0 0 0 0 0 0]\n",
            " [0 2 0 0 0 0 0]\n",
            " [0 0 3 0 0 0 0]\n",
            " [0 0 0 4 0 0 0]]\n"
          ]
        }
      ]
    },
    {
      "cell_type": "code",
      "source": [],
      "metadata": {
        "id": "CvWv2bwn-Wfe"
      },
      "execution_count": null,
      "outputs": []
    }
  ]
}