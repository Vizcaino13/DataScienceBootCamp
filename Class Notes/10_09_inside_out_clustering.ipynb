{
  "nbformat": 4,
  "nbformat_minor": 0,
  "metadata": {
    "colab": {
      "provenance": []
    },
    "kernelspec": {
      "name": "python3",
      "display_name": "Python 3"
    },
    "language_info": {
      "name": "python"
    }
  },
  "cells": [
    {
      "cell_type": "markdown",
      "source": [
        "#clustering vs classification\n",
        "\n",
        "*clustering-* grouping of observations together on the base of patterns of data set features  ( unsupervised ), you pass it it the data set and you tell it the numbers of groups you want.  you only tell it how many groups to group it by. usually after it groups it, we do not know what are the groups it put in only until we look at the cluster graph.\n",
        "\n",
        "*classification*- we already know what class/group the observations will fall into( supervised) you use the dataset and labels to put it into a class.\n",
        "\n",
        "\n",
        "\n"
      ],
      "metadata": {
        "id": "-3JXEXBYaXGw"
      }
    },
    {
      "cell_type": "markdown",
      "source": [
        "# k-means clustering"
      ],
      "metadata": {
        "id": "dy0OBIZQb3SB"
      }
    },
    {
      "cell_type": "code",
      "source": [
        "# it takes 3 data points randomly. then the points will have distance calculated from the centroid and it then creates a cluster.\n",
        "\n",
        "# then it gets the mean of the data points of each cluster to create a 3 new clusters with  3 new centroids\n",
        "\n",
        "# to find the distance euclidean distance is the most common"
      ],
      "metadata": {
        "id": "7rEb3XDgb_Qv"
      },
      "execution_count": null,
      "outputs": []
    },
    {
      "cell_type": "code",
      "source": [
        "\n",
        "\n",
        "import math\n",
        "\n",
        "def euclidean_distance(p1, p2):\n",
        "  \"\"\"Calculates the Euclidean distance between two points.\"\"\"\n",
        "  x1, y1 = p1\n",
        "  x2, y2 = p2\n",
        "\n",
        "  return math.sqrt((x1 - x2) ** 2 + (y1 - y2) ** 2)\n",
        "# Find the Euclidean distance between the points (2, 3) and (4, 1).\n",
        "# Find the distance between the points (6, 2) and (9, 1).\n",
        "# Determine the Euclidean distance between the points (3, 4) and (6, 7).\n",
        "p1 = (2, 3)\n",
        "p2 = (4, 1)\n",
        "\n",
        "a1=(6, 2)\n",
        "a2= (9, 1)\n",
        "\n",
        "b1 = (3, 4)\n",
        "b2= (6, 7)\n",
        "distance1 = euclidean_distance(p1, p2)\n",
        "distance2 = euclidean_distance(a1, a2)\n",
        "distance3 = euclidean_distance(b1, b2)\n",
        "print(distance1)\n",
        "print(distance2)\n",
        "print(distance3)"
      ],
      "metadata": {
        "colab": {
          "base_uri": "https://localhost:8080/"
        },
        "id": "NcewsKmig3dX",
        "outputId": "5597b482-77fa-49b4-f64b-b43c9a0e5136"
      },
      "execution_count": 3,
      "outputs": [
        {
          "output_type": "stream",
          "name": "stdout",
          "text": [
            "2.8284271247461903\n",
            "3.1622776601683795\n",
            "4.242640687119285\n"
          ]
        }
      ]
    },
    {
      "cell_type": "code",
      "source": [
        "# Importing math module\n",
        "import math\n",
        "\n",
        "# Coordinates of Point P\n",
        "P = [2,3]\n",
        "\n",
        "# Coordinates of point Q\n",
        "Q = [4,1]\n",
        "\n",
        "# Calculate the Euclidean distance\n",
        "# between points P and Q\n",
        "eDistance = math.dist(P, Q)\n",
        "print(eDistance)"
      ],
      "metadata": {
        "colab": {
          "base_uri": "https://localhost:8080/"
        },
        "id": "0hY4YJ1NhQzb",
        "outputId": "2f7d7ceb-e2b5-429a-98e8-d3170bad8104"
      },
      "execution_count": 4,
      "outputs": [
        {
          "output_type": "stream",
          "name": "stdout",
          "text": [
            "2.8284271247461903\n"
          ]
        }
      ]
    },
    {
      "cell_type": "code",
      "source": [
        "# hierarchical clustering calculated the distance between each and every data point,\n",
        "# it then identifies what points are the two closest together and it then groups it together,\n",
        "#then it once again finds the two cloestes points and groups them together and then it goes on .. until it becomes a dendogram\n",
        "\n",
        "https://scikit-learn.org/stable/modules/generated/sklearn.metrics.DistanceMetric.html"
      ],
      "metadata": {
        "id": "ZDVQzN57igEa"
      },
      "execution_count": null,
      "outputs": []
    },
    {
      "cell_type": "code",
      "source": [],
      "metadata": {
        "id": "tZ2WMSHHiTcD"
      },
      "execution_count": null,
      "outputs": []
    }
  ]
}