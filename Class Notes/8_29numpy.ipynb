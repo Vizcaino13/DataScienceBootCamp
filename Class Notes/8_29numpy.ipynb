{
  "nbformat": 4,
  "nbformat_minor": 0,
  "metadata": {
    "colab": {
      "provenance": []
    },
    "kernelspec": {
      "name": "python3",
      "display_name": "Python 3"
    },
    "language_info": {
      "name": "python"
    }
  },
  "cells": [
    {
      "cell_type": "code",
      "execution_count": null,
      "metadata": {
        "id": "fblk9T8wv1Zu"
      },
      "outputs": [],
      "source": [
        "# Converting all things to array, arrays are far better to use then everything else,"
      ]
    },
    {
      "cell_type": "code",
      "source": [
        "import numpy as np\n",
        "lst1=[11,22,33,44,55,66,77,88,99,110]\n",
        "arr1=np.array(lst1)\n",
        "print(type(arr1)) #the list has convrerted to an array"
      ],
      "metadata": {
        "colab": {
          "base_uri": "https://localhost:8080/"
        },
        "id": "4vuaabOrDmcU",
        "outputId": "5cb8fc89-7a3b-4f50-def3-e2c19e9c1b98"
      },
      "execution_count": 2,
      "outputs": [
        {
          "output_type": "stream",
          "name": "stdout",
          "text": [
            "<class 'numpy.ndarray'>\n"
          ]
        }
      ]
    },
    {
      "cell_type": "code",
      "source": [
        "tup1=(12,23,34,45,56,67,78,89,90)\n",
        "ar2=np.array(tup1)\n",
        "print(type(ar2))"
      ],
      "metadata": {
        "colab": {
          "base_uri": "https://localhost:8080/"
        },
        "id": "NL8ALwHED1uZ",
        "outputId": "f3972a1e-e5ac-4a45-9472-85bb22b3551a"
      },
      "execution_count": 3,
      "outputs": [
        {
          "output_type": "stream",
          "name": "stdout",
          "text": [
            "<class 'numpy.ndarray'>\n"
          ]
        }
      ]
    },
    {
      "cell_type": "code",
      "source": [
        "set1={1,2,3,4,5,0,True,False,\"Python\",\"programing\"}\n",
        "arr3=np.array(set1)\n",
        "print(type(arr3))\n",
        "arr3"
      ],
      "metadata": {
        "colab": {
          "base_uri": "https://localhost:8080/"
        },
        "id": "vwjDXa5vEUC6",
        "outputId": "57a1db70-6632-450c-8808-7e554ae2fae1"
      },
      "execution_count": 5,
      "outputs": [
        {
          "output_type": "stream",
          "name": "stdout",
          "text": [
            "<class 'numpy.ndarray'>\n"
          ]
        },
        {
          "output_type": "execute_result",
          "data": {
            "text/plain": [
              "array({0, 1, 2, 3, 4, 5, 'programing', 'Python'}, dtype=object)"
            ]
          },
          "metadata": {},
          "execution_count": 5
        }
      ]
    },
    {
      "cell_type": "code",
      "source": [
        "dict1={\"a\":[1,2,3,4,5,0],\"b\":(True,False),\"c\":\"Python\",\"d\":\"programing\"}\n",
        "arr4=np.array(dict1)\n",
        "print(type(arr4))\n",
        "arr4"
      ],
      "metadata": {
        "colab": {
          "base_uri": "https://localhost:8080/"
        },
        "id": "mF8yD1LwEpN9",
        "outputId": "3d3e90a4-13f5-4c07-f3ca-9b157292a171"
      },
      "execution_count": 7,
      "outputs": [
        {
          "output_type": "stream",
          "name": "stdout",
          "text": [
            "<class 'numpy.ndarray'>\n"
          ]
        },
        {
          "output_type": "execute_result",
          "data": {
            "text/plain": [
              "array({'a': [1, 2, 3, 4, 5, 0], 'b': (True, False), 'c': 'Python', 'd': 'programing'},\n",
              "      dtype=object)"
            ]
          },
          "metadata": {},
          "execution_count": 7
        }
      ]
    },
    {
      "cell_type": "code",
      "source": [
        "str1=\"python Programming\"\n",
        "arr5=np.array(str1)\n",
        "print(arr5)"
      ],
      "metadata": {
        "colab": {
          "base_uri": "https://localhost:8080/"
        },
        "id": "-UVD2OYLFDBw",
        "outputId": "3168e282-de85-4bc9-e803-83f6df5280cb"
      },
      "execution_count": 8,
      "outputs": [
        {
          "output_type": "stream",
          "name": "stdout",
          "text": [
            "python Programming\n"
          ]
        }
      ]
    },
    {
      "cell_type": "code",
      "source": [
        "#the list has convrerted to an array\n",
        "lst2=[1,22,3,44,85,66,7,818,99,110]\n",
        "another_arr=np.array(lst2)\n",
        "print(type(another_arr))\n",
        "print(lst2)"
      ],
      "metadata": {
        "colab": {
          "base_uri": "https://localhost:8080/"
        },
        "id": "-RuD4fJTFOAs",
        "outputId": "977f0acc-5994-4278-a1f3-27567316d92d"
      },
      "execution_count": 10,
      "outputs": [
        {
          "output_type": "stream",
          "name": "stdout",
          "text": [
            "<class 'numpy.ndarray'>\n",
            "[1, 22, 3, 44, 85, 66, 7, 818, 99, 110]\n"
          ]
        }
      ]
    },
    {
      "cell_type": "code",
      "source": [
        "tupie=(190,89,56,34,65,75,23,90)\n",
        "another_arr2=np.array(tupie)\n",
        "print(type(another_arr2))\n",
        "print(tupie)"
      ],
      "metadata": {
        "colab": {
          "base_uri": "https://localhost:8080/"
        },
        "id": "7b6WXotuFuYm",
        "outputId": "5d456b8b-6ce6-4f67-d561-5b26c66f5d56"
      },
      "execution_count": 12,
      "outputs": [
        {
          "output_type": "stream",
          "name": "stdout",
          "text": [
            "<class 'numpy.ndarray'>\n",
            "(190, 89, 56, 34, 65, 75, 23, 90)\n"
          ]
        }
      ]
    },
    {
      "cell_type": "code",
      "source": [
        "set1={1,2,3,4,5,0,True,False,\"Chocolate\",\"cake\"}\n",
        "another_arr3=np.array(set1)\n",
        "print(type(another_arr3))\n",
        "arr3"
      ],
      "metadata": {
        "colab": {
          "base_uri": "https://localhost:8080/"
        },
        "id": "RP4we7juGLKL",
        "outputId": "c2ca089d-2c25-4fd8-c224-d9acfc69d810"
      },
      "execution_count": 14,
      "outputs": [
        {
          "output_type": "stream",
          "name": "stdout",
          "text": [
            "<class 'numpy.ndarray'>\n"
          ]
        },
        {
          "output_type": "execute_result",
          "data": {
            "text/plain": [
              "array({0, 1, 2, 3, 4, 5, 'programing', 'Python'}, dtype=object)"
            ]
          },
          "metadata": {},
          "execution_count": 14
        }
      ]
    },
    {
      "cell_type": "code",
      "source": [
        "arr1d=np.array([1,2,3,4,5,67,8,9,10])\n",
        "print(arr1d)\n",
        "arr1d.ndim\n",
        "#this makes this one dimensional"
      ],
      "metadata": {
        "colab": {
          "base_uri": "https://localhost:8080/"
        },
        "id": "g4HuOXGDGfUV",
        "outputId": "8758a368-f317-495d-a022-37912c13acb7"
      },
      "execution_count": 16,
      "outputs": [
        {
          "output_type": "stream",
          "name": "stdout",
          "text": [
            "[ 1  2  3  4  5 67  8  9 10]\n"
          ]
        },
        {
          "output_type": "execute_result",
          "data": {
            "text/plain": [
              "1"
            ]
          },
          "metadata": {},
          "execution_count": 16
        }
      ]
    },
    {
      "cell_type": "code",
      "source": [
        "arr2d=np.array([[1,2,3,], [8,9,10]])\n",
        "print(arr2d)\n",
        "arr2d.ndim\n",
        "#this is creating a 2d"
      ],
      "metadata": {
        "colab": {
          "base_uri": "https://localhost:8080/"
        },
        "id": "jeXuFGR9HXgO",
        "outputId": "71cb46dc-ff78-4dbb-8ccb-e4bbfad318f8"
      },
      "execution_count": 18,
      "outputs": [
        {
          "output_type": "stream",
          "name": "stdout",
          "text": [
            "[[ 1  2  3]\n",
            " [ 8  9 10]]\n"
          ]
        },
        {
          "output_type": "execute_result",
          "data": {
            "text/plain": [
              "2"
            ]
          },
          "metadata": {},
          "execution_count": 18
        }
      ]
    },
    {
      "cell_type": "code",
      "source": [
        "arr3d = np.array([[[1,2,3],[2,3,4]],[[3,4,5],[4,5,6]]])\n",
        "print(arr3d)\n",
        "arr3d.ndim\n",
        "\n",
        "#this is creating a 3d array"
      ],
      "metadata": {
        "colab": {
          "base_uri": "https://localhost:8080/"
        },
        "id": "15oMpHQ1H3RW",
        "outputId": "03c25ac7-1e34-4350-d208-67a13284cce6"
      },
      "execution_count": 19,
      "outputs": [
        {
          "output_type": "stream",
          "name": "stdout",
          "text": [
            "[[[1 2 3]\n",
            "  [2 3 4]]\n",
            "\n",
            " [[3 4 5]\n",
            "  [4 5 6]]]\n"
          ]
        },
        {
          "output_type": "execute_result",
          "data": {
            "text/plain": [
              "3"
            ]
          },
          "metadata": {},
          "execution_count": 19
        }
      ]
    },
    {
      "cell_type": "code",
      "source": [
        "a = np.array(42)\n",
        "b = np.array([1, 2, 3, 4, 5])\n",
        "c = np.array([[1, 2, 3], [4, 5, 6]])\n",
        "d = np.array([[[1, 2, 3], [4, 5, 6]], [[1, 2, 3], [4, 5, 6]]])\n",
        "\n",
        "print(a.ndim)\n",
        "print(b.ndim)\n",
        "print(c.ndim)\n",
        "print(d.ndim)"
      ],
      "metadata": {
        "colab": {
          "base_uri": "https://localhost:8080/"
        },
        "id": "gRNPUu6RIbjS",
        "outputId": "3d084ce9-84fb-4375-cd67-bd137808163a"
      },
      "execution_count": 20,
      "outputs": [
        {
          "output_type": "stream",
          "name": "stdout",
          "text": [
            "0\n",
            "1\n",
            "2\n",
            "3\n"
          ]
        }
      ]
    },
    {
      "cell_type": "code",
      "source": [
        "arr1d=np.array([3,7,8,9,10])\n",
        "print(arr1d)\n",
        "arr1d.ndim\n",
        "print(\"this is the one dimension\")\n",
        "#this makes this one dimensional\n",
        "\n",
        "arr2d=np.array([[1,8,\"bob\",], [15,\"cheese\",85]])\n",
        "print(arr2d)\n",
        "arr2d.ndim\n",
        "print(\"this is the two dimension\")\n",
        "#this is creating a 2d\n",
        "\n",
        "\n",
        "arr3d = np.array([[[1,2,\"fish\"],[2,3,\"scales\"]],[[3,4,\"tails\"],[4,5,\"water\"]]])\n",
        "print(arr3d)\n",
        "arr3d.ndim\n",
        "print(\"this is the three dimension\")\n",
        "#this is creating a 3d array\n",
        "\n"
      ],
      "metadata": {
        "colab": {
          "base_uri": "https://localhost:8080/"
        },
        "id": "MdaBtndvI6tx",
        "outputId": "aa7190ef-1e48-4430-8137-667b59708579"
      },
      "execution_count": 26,
      "outputs": [
        {
          "output_type": "stream",
          "name": "stdout",
          "text": [
            "[ 3  7  8  9 10]\n",
            "this is the one dimension\n",
            "[['1' '8' 'bob']\n",
            " ['15' 'cheese' '85']]\n",
            "this is the two dimension\n",
            "[[['1' '2' 'fish']\n",
            "  ['2' '3' 'scales']]\n",
            "\n",
            " [['3' '4' 'tails']\n",
            "  ['4' '5' 'water']]]\n",
            "this is the three dimension\n"
          ]
        }
      ]
    },
    {
      "cell_type": "code",
      "source": [],
      "metadata": {
        "id": "cRPAfuF1JPgQ"
      },
      "execution_count": null,
      "outputs": []
    }
  ]
}