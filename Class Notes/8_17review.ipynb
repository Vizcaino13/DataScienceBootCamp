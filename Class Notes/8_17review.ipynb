{
  "nbformat": 4,
  "nbformat_minor": 0,
  "metadata": {
    "colab": {
      "provenance": []
    },
    "kernelspec": {
      "name": "python3",
      "display_name": "Python 3"
    },
    "language_info": {
      "name": "python"
    }
  },
  "cells": [
    {
      "cell_type": "code",
      "execution_count": null,
      "metadata": {
        "colab": {
          "base_uri": "https://localhost:8080/"
        },
        "id": "fwelObHOCnaC",
        "outputId": "04fb1a38-354e-4822-c24a-27e445fab9fc"
      },
      "outputs": [
        {
          "output_type": "stream",
          "name": "stdout",
          "text": [
            "* * * * * * * * * * \r\n",
            "* * * * * * * * * * \r\n",
            "* * * * * * * * * * \r\n",
            "* * * * * * * * * * \r\n",
            "* * * * * * * * * * \r\n",
            "* * * * * * * * * * \r\n",
            "* * * * * * * * * * \r\n",
            "* * * * * * * * * * \r\n",
            "* * * * * * * * * * \r\n",
            "* * * * * * * * * * \r\n"
          ]
        }
      ],
      "source": [
        "#understanding how to build logic\n",
        "\n",
        "\n",
        "#planning to print a pattern **********\n",
        "#we need something that is controlling number of rows\n",
        "\n",
        "\n",
        "for row in range(0,10,1): #all ten rows #parent loop, so starts at  in row 0 for it and then loops for col at 0, 0 then 0,1 , 0,3\n",
        "  for col in range(0,10,1): #10 astricks columns\n",
        "    print(\"*\", end=\" \")\n",
        "  print('\\r')\n"
      ]
    },
    {
      "cell_type": "code",
      "source": [
        "\n",
        "for rows in range(10): #draw ten rows\n",
        "  for space in range(0,rows+1): #this is the bottom of the triangle , #it sprints the spaces\n",
        "    print(' ', end='')\n",
        "  for astr in range(0,10-rows): #this is the top, #this counts down the rows\n",
        "    print('*', end =' ')\n",
        "  print('\\r')"
      ],
      "metadata": {
        "colab": {
          "base_uri": "https://localhost:8080/"
        },
        "id": "Ixaep27-DuJw",
        "outputId": "804e3de2-1ace-415b-a6ee-abf6e40b281b"
      },
      "execution_count": null,
      "outputs": [
        {
          "output_type": "stream",
          "name": "stdout",
          "text": [
            " * * * * * * * * * * \r\n",
            "  * * * * * * * * * \r\n",
            "   * * * * * * * * \r\n",
            "    * * * * * * * \r\n",
            "     * * * * * * \r\n",
            "      * * * * * \r\n",
            "       * * * * \r\n",
            "        * * * \r\n",
            "         * * \r\n",
            "          * \r\n"
          ]
        }
      ]
    },
    {
      "cell_type": "code",
      "source": [
        "for row in range(0,10,1): #all ten rows #parent loop, so starts at  in row 0 for it and then loops for col at 0, 0 then 0,1 , 0,3\n",
        "  for col in range(0,10,1): #10 astricks columns\n",
        "    print(\"*\", end=\" \")\n",
        "  print('\\r')\n"
      ],
      "metadata": {
        "colab": {
          "base_uri": "https://localhost:8080/"
        },
        "id": "rTH7HOmLFhXz",
        "outputId": "fa21a5d9-b6fa-4dad-bc18-287cf31ae64a"
      },
      "execution_count": null,
      "outputs": [
        {
          "output_type": "stream",
          "name": "stdout",
          "text": [
            "* * * * * * * * * * \r\n",
            "* * * * * * * * * * \r\n",
            "* * * * * * * * * * \r\n",
            "* * * * * * * * * * \r\n",
            "* * * * * * * * * * \r\n",
            "* * * * * * * * * * \r\n",
            "* * * * * * * * * * \r\n",
            "* * * * * * * * * * \r\n",
            "* * * * * * * * * * \r\n",
            "* * * * * * * * * * \r\n"
          ]
        }
      ]
    },
    {
      "cell_type": "code",
      "source": [
        "# Generating Hollow Pyramid Pattern Using Stars\n",
        "\n",
        "row = int(input('Enter number of rows required: '))\n",
        "\n",
        "for i in range(row):\n",
        "    for j in range(row-i):\n",
        "        print(' ', end='') # printing space required and staying in same line\n",
        "\n",
        "    for j in range(2*i+1):\n",
        "        if j==0 or j==2*i or i==row-1:\n",
        "            print(j,end='')\n",
        "        else:\n",
        "            print('*', end='')\n",
        "    print() # printing new line"
      ],
      "metadata": {
        "colab": {
          "base_uri": "https://localhost:8080/"
        },
        "id": "Hmo1a5HiJHPG",
        "outputId": "2c089302-7c1c-455c-978c-d49dced97f90"
      },
      "execution_count": null,
      "outputs": [
        {
          "output_type": "stream",
          "name": "stdout",
          "text": [
            "Enter number of rows required: 10\n",
            "          0\n",
            "         0*2\n",
            "        0***4\n",
            "       0*****6\n",
            "      0*******8\n",
            "     0*********10\n",
            "    0***********12\n",
            "   0*************14\n",
            "  0***************16\n",
            " 0123456789101112131415161718\n"
          ]
        }
      ]
    },
    {
      "cell_type": "code",
      "source": [
        "#fibonacci starts with 0 and 1, so 0+1= 1\n",
        " #                                   1+1=2\n",
        "  #                                  2+1=3\n",
        "   #                                 2+3=5\n",
        "   #                                 5+3=8\n",
        "    #                                8+5=13\n",
        "      #                              13+8=21\n",
        "     #                               21+13=34\n",
        "\n",
        "\n",
        "\n",
        "\n",
        "a= 0\n",
        "b=1\n",
        "\n",
        "print(a, b, end=\" \")\n",
        "\n",
        "for i in range(10):\n",
        "  c=a+b\n",
        "  print(c, end=\" \")\n",
        "  a=b\n",
        "  b=c\n"
      ],
      "metadata": {
        "colab": {
          "base_uri": "https://localhost:8080/"
        },
        "id": "0Aa4_9SNKCoN",
        "outputId": "8838a4af-612d-45a9-da87-9edb0f74f547"
      },
      "execution_count": null,
      "outputs": [
        {
          "output_type": "stream",
          "name": "stdout",
          "text": [
            "0 1 1 2 3 5 8 13 21 34 55 89 "
          ]
        }
      ]
    },
    {
      "cell_type": "code",
      "source": [
        "#for loop is used number of (iterations )repeats, while loop is used if you dont know how much the number needs to repeat(iterate)"
      ],
      "metadata": {
        "id": "FNseAcJsMXE4"
      },
      "execution_count": null,
      "outputs": []
    },
    {
      "cell_type": "code",
      "source": [
        "#built in function"
      ],
      "metadata": {
        "id": "0Q1JQfauM1wG"
      },
      "execution_count": null,
      "outputs": []
    },
    {
      "cell_type": "code",
      "source": [
        "#indexing\n",
        "\n",
        "flag=True\n",
        "str1=\"python\"\n",
        "range(len(str1))\n",
        "\n",
        "for elements in str1:\n",
        "  if flag== True:\n",
        "    print(str1[::-1])\n",
        "    break\n",
        "\n",
        "\n"
      ],
      "metadata": {
        "colab": {
          "base_uri": "https://localhost:8080/"
        },
        "id": "OmMVWV6eQLRW",
        "outputId": "4d97c90d-7219-40bb-abd1-ccb3ea0cfeff"
      },
      "execution_count": null,
      "outputs": [
        {
          "output_type": "stream",
          "name": "stdout",
          "text": [
            "nohtyp\n"
          ]
        }
      ]
    },
    {
      "cell_type": "code",
      "source": [
        "#simpler way of printing it backwards\n",
        "\n",
        "str1[::-1]"
      ],
      "metadata": {
        "colab": {
          "base_uri": "https://localhost:8080/",
          "height": 35
        },
        "id": "ySw9k4CHQWQ9",
        "outputId": "9293f000-4e84-44e3-cf8b-cddfc222a55c"
      },
      "execution_count": null,
      "outputs": [
        {
          "output_type": "execute_result",
          "data": {
            "text/plain": [
              "'nohtyp'"
            ],
            "application/vnd.google.colaboratory.intrinsic+json": {
              "type": "string"
            }
          },
          "metadata": {},
          "execution_count": 79
        }
      ]
    },
    {
      "cell_type": "code",
      "source": [
        "#hw\n",
        "#what is supervised learning, unsupervised, and reinforcent learning ,\n",
        "#define all three in my own words, examples and for each topic i need examples each\n",
        "#what are the algorithms part of supervised learning, unsupervised, and reinforcent learning"
      ],
      "metadata": {
        "id": "_LpeDKeLRdfh"
      },
      "execution_count": null,
      "outputs": []
    },
    {
      "cell_type": "markdown",
      "source": [
        "supervised learning- someone who is guding , teaching and helping you learn the topic. incase of machine learning is when you know the input and out put\n",
        "data that is labled\n",
        "\n",
        "unsupervised learning - this is the studying you do on your own. where evere you dont have labled data with you thats called unsupervised learnung.\n",
        "\n",
        "reinforcent learning- in an advere situation where you have to learn on your own.\n",
        "\n",
        "\n",
        "---\n",
        "\n"
      ],
      "metadata": {
        "id": "GYofVqQeS54J"
      }
    },
    {
      "cell_type": "code",
      "source": [
        "#user defined functions- you can make your own logic\n",
        "\n",
        "\n",
        "#check that first and letter are the same\n",
        "#pallidrone\n",
        "\n",
        "letter= input(\"write the letter here :\")\n",
        "new = letter[::-1]\n",
        "\n",
        "if new:\n",
        "  print(\"these letters match\", new)\n",
        "else:\n",
        "    print(\"that dont match\")\n"
      ],
      "metadata": {
        "id": "jn3UxdDRSRuj"
      },
      "execution_count": null,
      "outputs": []
    },
    {
      "cell_type": "code",
      "source": [
        "str1 = \"malayalam\"\n",
        "letter = input(\"write the letter here: \")\n",
        "new = str1[::-1]\n",
        "\n",
        "for i in range(len(str1)):\n",
        "    if new[i] == letter:\n",
        "        print(\"This letter matches:\", str1[i])\n",
        "    else:\n",
        "        print(\"This letter doesn't match:\", str1[i])\n"
      ],
      "metadata": {
        "colab": {
          "base_uri": "https://localhost:8080/"
        },
        "id": "dsxyhe-jXs3d",
        "outputId": "12062586-ca01-4d8e-ff32-71cbddf46a11"
      },
      "execution_count": null,
      "outputs": [
        {
          "output_type": "stream",
          "name": "stdout",
          "text": [
            "write the letter here: m\n",
            "This letter matches: m\n",
            "This letter doesn't match: a\n",
            "This letter doesn't match: l\n",
            "This letter doesn't match: a\n",
            "This letter doesn't match: y\n",
            "This letter doesn't match: a\n",
            "This letter doesn't match: l\n",
            "This letter doesn't match: a\n",
            "This letter matches: m\n"
          ]
        }
      ]
    },
    {
      "cell_type": "code",
      "source": [],
      "metadata": {
        "id": "2nAYNZM0U_Iw"
      },
      "execution_count": null,
      "outputs": []
    }
  ]
}