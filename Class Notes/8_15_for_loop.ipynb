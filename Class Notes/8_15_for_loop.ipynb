{
  "nbformat": 4,
  "nbformat_minor": 0,
  "metadata": {
    "colab": {
      "provenance": []
    },
    "kernelspec": {
      "name": "python3",
      "display_name": "Python 3"
    },
    "language_info": {
      "name": "python"
    }
  },
  "cells": [
    {
      "cell_type": "code",
      "execution_count": 1,
      "metadata": {
        "colab": {
          "base_uri": "https://localhost:8080/"
        },
        "id": "U3nGfOG-pWiB",
        "outputId": "93c4ae9c-06d7-41a9-d4f9-5b9af3c9cf6a"
      },
      "outputs": [
        {
          "output_type": "stream",
          "name": "stdout",
          "text": [
            "value of i 12\n",
            "value of i 23\n",
            "value of i 34\n",
            "value of i 45\n",
            "value of i 56\n",
            "value of i 67\n",
            "value of i 78\n",
            "value of i 89\n",
            "value of i 90\n",
            "value of i 21\n",
            "value of i 32\n",
            "value of i 43\n",
            "value of i 54\n",
            "value of i 65\n",
            "value of i 76\n",
            "value of i 87\n",
            "value of i 98\n",
            "value of i 9\n"
          ]
        }
      ],
      "source": [
        "#for loop, will keep on putting one value at a time\n",
        "\n",
        "lst1=[12,23,34,45,56,67,78,89,90,21,32,43,54,65,76,87,98,9]\n",
        "\n",
        "for i in lst1:\n",
        "  print('value of i', i)"
      ]
    },
    {
      "cell_type": "code",
      "source": [
        "#this prints each value once at a time\n",
        "tup1=('apple','cherry','dates','strawberry','grapes','fig')\n",
        "\n",
        "for i in tup1:\n",
        "  print('value of i', i)"
      ],
      "metadata": {
        "colab": {
          "base_uri": "https://localhost:8080/"
        },
        "id": "oJ325DH5p8hb",
        "outputId": "e9b8ebb3-047b-44e7-fe60-56e3e938edcb"
      },
      "execution_count": 2,
      "outputs": [
        {
          "output_type": "stream",
          "name": "stdout",
          "text": [
            "value of i apple\n",
            "value of i cherry\n",
            "value of i dates\n",
            "value of i strawberry\n",
            "value of i grapes\n",
            "value of i fig\n"
          ]
        }
      ]
    },
    {
      "cell_type": "code",
      "source": [
        "#set is a collection of unordered values, his just prints out everything\n",
        "set1={'apple','cherry','dates','strawberry','grapes','fig',12,23,34,45,56,67,78,89,90,21,32,43,54,65,76,87,98,9}\n",
        "for i in set1:\n",
        "  print('value of i', i)"
      ],
      "metadata": {
        "colab": {
          "base_uri": "https://localhost:8080/"
        },
        "id": "SGWuYHLiqaE6",
        "outputId": "5fb06230-b76e-42b0-b369-8d22211c626c"
      },
      "execution_count": 4,
      "outputs": [
        {
          "output_type": "stream",
          "name": "stdout",
          "text": [
            "value of i 65\n",
            "value of i 67\n",
            "value of i strawberry\n",
            "value of i 9\n",
            "value of i 12\n",
            "value of i 76\n",
            "value of i 78\n",
            "value of i 21\n",
            "value of i 23\n",
            "value of i 87\n",
            "value of i 89\n",
            "value of i 90\n",
            "value of i apple\n",
            "value of i 32\n",
            "value of i 34\n",
            "value of i grapes\n",
            "value of i fig\n",
            "value of i 98\n",
            "value of i 43\n",
            "value of i 45\n",
            "value of i dates\n",
            "value of i 54\n",
            "value of i 56\n",
            "value of i cherry\n"
          ]
        }
      ]
    },
    {
      "cell_type": "code",
      "source": [
        "str1='Peppa prefer python programming'\n",
        "print(len(str1)) #this counts the string\n",
        "for i in str1:\n",
        "  print('value of i',i)"
      ],
      "metadata": {
        "colab": {
          "base_uri": "https://localhost:8080/"
        },
        "id": "Mw_5nFq1qsHr",
        "outputId": "33264a5e-79c7-4031-fb46-d232c2bea516"
      },
      "execution_count": 6,
      "outputs": [
        {
          "output_type": "stream",
          "name": "stdout",
          "text": [
            "31\n",
            "value of i P\n",
            "value of i e\n",
            "value of i p\n",
            "value of i p\n",
            "value of i a\n",
            "value of i  \n",
            "value of i p\n",
            "value of i r\n",
            "value of i e\n",
            "value of i f\n",
            "value of i e\n",
            "value of i r\n",
            "value of i  \n",
            "value of i p\n",
            "value of i y\n",
            "value of i t\n",
            "value of i h\n",
            "value of i o\n",
            "value of i n\n",
            "value of i  \n",
            "value of i p\n",
            "value of i r\n",
            "value of i o\n",
            "value of i g\n",
            "value of i r\n",
            "value of i a\n",
            "value of i m\n",
            "value of i m\n",
            "value of i i\n",
            "value of i n\n",
            "value of i g\n"
          ]
        }
      ]
    },
    {
      "cell_type": "code",
      "source": [
        "dict1 = {'a':'apple', 'b':'ball', 'c': 'cat', 'd': 'doll'}. #this one only shows the key not the value\n",
        "\n",
        "for i in dict1:\n",
        "  print('value of i ', i)"
      ],
      "metadata": {
        "colab": {
          "base_uri": "https://localhost:8080/"
        },
        "id": "oH3H0TOmrIvB",
        "outputId": "99ba0827-5cb6-4134-a8a9-c538dbbc9c89"
      },
      "execution_count": 12,
      "outputs": [
        {
          "output_type": "stream",
          "name": "stdout",
          "text": [
            "value of i  a\n",
            "value of i  b\n",
            "value of i  c\n",
            "value of i  d\n"
          ]
        }
      ]
    },
    {
      "cell_type": "code",
      "source": [
        "for i in range(10): #0,1,2,3,4,5,6,7,8,9\n",
        "  print('value of i',i)"
      ],
      "metadata": {
        "colab": {
          "base_uri": "https://localhost:8080/"
        },
        "id": "VcwBX3-zru49",
        "outputId": "c828d163-7c70-4a30-a74d-6962f16ae922"
      },
      "execution_count": 8,
      "outputs": [
        {
          "output_type": "stream",
          "name": "stdout",
          "text": [
            "value of i 0\n",
            "value of i 1\n",
            "value of i 2\n",
            "value of i 3\n",
            "value of i 4\n",
            "value of i 5\n",
            "value of i 6\n",
            "value of i 7\n",
            "value of i 8\n",
            "value of i 9\n"
          ]
        }
      ]
    },
    {
      "cell_type": "code",
      "source": [
        "for i in range(0,10,1): #0,1,2,3,4,5,6,7,8,9. #range is how long you want the numbers to go to, (start,range,skip)\n",
        "  print('value of i',i)"
      ],
      "metadata": {
        "colab": {
          "base_uri": "https://localhost:8080/"
        },
        "id": "6VKqt_97r3GU",
        "outputId": "5a074d03-f9b8-4f41-a21e-6b5620e093b9"
      },
      "execution_count": 11,
      "outputs": [
        {
          "output_type": "stream",
          "name": "stdout",
          "text": [
            "value of i 0\n",
            "value of i 1\n",
            "value of i 2\n",
            "value of i 3\n",
            "value of i 4\n",
            "value of i 5\n",
            "value of i 6\n",
            "value of i 7\n",
            "value of i 8\n",
            "value of i 9\n"
          ]
        }
      ]
    },
    {
      "cell_type": "code",
      "source": [
        "#my own example\n",
        "\n",
        "for i in range(1,20,2):  #starts at 1, goes up to 20, skips 2\n",
        "  print('this is the value of i', i)\n"
      ],
      "metadata": {
        "colab": {
          "base_uri": "https://localhost:8080/"
        },
        "id": "GogONS9ssATO",
        "outputId": "0494f828-7bb3-4534-f86f-a220f28e6aba"
      },
      "execution_count": 17,
      "outputs": [
        {
          "output_type": "stream",
          "name": "stdout",
          "text": [
            "this is the value of i 1\n",
            "this is the value of i 3\n",
            "this is the value of i 5\n",
            "this is the value of i 7\n",
            "this is the value of i 9\n",
            "this is the value of i 11\n",
            "this is the value of i 13\n",
            "this is the value of i 15\n",
            "this is the value of i 17\n",
            "this is the value of i 19\n"
          ]
        }
      ]
    },
    {
      "cell_type": "code",
      "source": [
        "str1= \"cheeseburger\"\n",
        "\n",
        "for i in str1:\n",
        "  print(\"text\", i)"
      ],
      "metadata": {
        "colab": {
          "base_uri": "https://localhost:8080/"
        },
        "id": "6OTef3Zpst8S",
        "outputId": "e39ab927-f4ec-4e1c-c7c5-146c7cc9e23d"
      },
      "execution_count": 18,
      "outputs": [
        {
          "output_type": "stream",
          "name": "stdout",
          "text": [
            "text c\n",
            "text h\n",
            "text e\n",
            "text e\n",
            "text s\n",
            "text e\n",
            "text b\n",
            "text u\n",
            "text r\n",
            "text g\n",
            "text e\n",
            "text r\n"
          ]
        }
      ]
    },
    {
      "cell_type": "code",
      "source": [
        "lst2= [6,8,9,0,89,34,87,345,92,990, \"cow\", \"sheep\"]\n",
        "\n",
        "for i in lst2:\n",
        "  print(\"this is the value of i \", i)\n",
        "\n"
      ],
      "metadata": {
        "colab": {
          "base_uri": "https://localhost:8080/"
        },
        "id": "DH_uMCFBtE3a",
        "outputId": "d0909cae-52c7-427f-d51d-eb49b4add142"
      },
      "execution_count": 54,
      "outputs": [
        {
          "output_type": "stream",
          "name": "stdout",
          "text": [
            "this is the value of i  6\n",
            "this is the value of i  8\n",
            "this is the value of i  9\n",
            "this is the value of i  0\n",
            "this is the value of i  89\n",
            "this is the value of i  34\n",
            "this is the value of i  87\n",
            "this is the value of i  345\n",
            "this is the value of i  92\n",
            "this is the value of i  990\n",
            "this is the value of i  cow\n",
            "this is the value of i  sheep\n"
          ]
        }
      ]
    },
    {
      "cell_type": "code",
      "source": [
        "for i in range(10): # 0,1 #this top range is the length\n",
        "  for j in range(10): # 0,1,2,3,4,5,6,7,8,9 #this is the width\n",
        "    print('*', end=' ') #ends helps it become the width too\n",
        "  print('\\r') #this changes the row\n",
        "\n"
      ],
      "metadata": {
        "colab": {
          "base_uri": "https://localhost:8080/"
        },
        "id": "TcNnMEJRu8WP",
        "outputId": "8f88c8fa-7d98-416a-9974-8fef07a26283"
      },
      "execution_count": 61,
      "outputs": [
        {
          "output_type": "stream",
          "name": "stdout",
          "text": [
            "* * * * * * * * * * \r\n",
            "* * * * * * * * * * \r\n",
            "* * * * * * * * * * \r\n",
            "* * * * * * * * * * \r\n",
            "* * * * * * * * * * \r\n",
            "* * * * * * * * * * \r\n",
            "* * * * * * * * * * \r\n",
            "* * * * * * * * * * \r\n",
            "* * * * * * * * * * \r\n",
            "* * * * * * * * * * \r\n"
          ]
        }
      ]
    },
    {
      "cell_type": "code",
      "source": [
        "#question: change the astricts into numbers\n",
        "\n",
        "a= 0\n",
        "for i in range(10): # 0,1.\n",
        "  for j in range(0,10): # 0,1,2,3,4,5,6,7,8,9\n",
        "    print( a, end=' ')\n",
        "    a+=1\n",
        "  print('\\r') #this changes the row\n",
        "\n"
      ],
      "metadata": {
        "colab": {
          "base_uri": "https://localhost:8080/"
        },
        "id": "sN7n83ajvoYY",
        "outputId": "f316d705-4f4c-4f07-d249-7be66245388f"
      },
      "execution_count": 68,
      "outputs": [
        {
          "output_type": "stream",
          "name": "stdout",
          "text": [
            "0 1 2 3 4 5 6 7 8 9 \r\n",
            "10 11 12 13 14 15 16 17 18 19 \r\n",
            "20 21 22 23 24 25 26 27 28 29 \r\n",
            "30 31 32 33 34 35 36 37 38 39 \r\n",
            "40 41 42 43 44 45 46 47 48 49 \r\n",
            "50 51 52 53 54 55 56 57 58 59 \r\n",
            "60 61 62 63 64 65 66 67 68 69 \r\n",
            "70 71 72 73 74 75 76 77 78 79 \r\n",
            "80 81 82 83 84 85 86 87 88 89 \r\n",
            "90 91 92 93 94 95 96 97 98 99 \r\n"
          ]
        }
      ]
    },
    {
      "cell_type": "code",
      "source": [
        "for i in range(10): #draw ten rows\n",
        "  for j in range(0,10-i): # bottom of triangle, so as it prints each astrit it removes 1 since 10-i)\n",
        "    print(' ', end='')\n",
        "  for k in range(0,i+1): #this prints the rows, so the top of the truangle plus one each time i+1\n",
        "    print('*', end =' ')\n",
        "  print('\\r')"
      ],
      "metadata": {
        "colab": {
          "base_uri": "https://localhost:8080/"
        },
        "id": "7nlb0YVIx4-n",
        "outputId": "28d9b455-218e-4133-8486-14d6d9c7045a"
      },
      "execution_count": 81,
      "outputs": [
        {
          "output_type": "stream",
          "name": "stdout",
          "text": [
            "          * \r\n",
            "         * * \r\n",
            "        * * * \r\n",
            "       * * * * \r\n",
            "      * * * * * \r\n",
            "     * * * * * * \r\n",
            "    * * * * * * * \r\n",
            "   * * * * * * * * \r\n",
            "  * * * * * * * * * \r\n",
            " * * * * * * * * * * \r\n"
          ]
        }
      ]
    },
    {
      "cell_type": "code",
      "source": [
        "# i have to invert it\n",
        "\n",
        "for i in range(10): #draw ten rows\n",
        "  for j in range(0,i+1): #this is the bottom of the triangle ,\n",
        "    print(' ', end='')\n",
        "  for k in range(0,10-i): #this is the top\n",
        "    print('*', end =' ')\n",
        "  print('\\r')"
      ],
      "metadata": {
        "colab": {
          "base_uri": "https://localhost:8080/"
        },
        "id": "VRiD1_duz8nL",
        "outputId": "2301f14d-1aa8-40fd-8240-fadf90b5a2be"
      },
      "execution_count": 147,
      "outputs": [
        {
          "output_type": "stream",
          "name": "stdout",
          "text": [
            " * * * * * * * * * * \r\n",
            "  * * * * * * * * * \r\n",
            "   * * * * * * * * \r\n",
            "    * * * * * * * \r\n",
            "     * * * * * * \r\n",
            "      * * * * * \r\n",
            "       * * * * \r\n",
            "        * * * \r\n",
            "         * * \r\n",
            "          * \r\n"
          ]
        }
      ]
    },
    {
      "cell_type": "code",
      "source": [
        "#make an hour glass shape\n",
        "\n",
        "for i in range(10):\n",
        "  for j in range(0,i+1):\n",
        "    print(' ', end='')\n",
        "  for k in range(0,10-i):\n",
        "    print('*', end =' ')\n",
        "  print('\\r')\n",
        "\n",
        "\n",
        "for i in range(10):\n",
        "  for j in range(0,9-i):\n",
        "    print(' ', end='')\n",
        "  for k in range(0,i+2):\n",
        "    print('*', end =' ')\n",
        "  print('\\r')\n"
      ],
      "metadata": {
        "colab": {
          "base_uri": "https://localhost:8080/"
        },
        "id": "rBB1Z7pZ0bmF",
        "outputId": "2f81b193-02c3-43fa-f2de-36af634b3a77"
      },
      "execution_count": 176,
      "outputs": [
        {
          "output_type": "stream",
          "name": "stdout",
          "text": [
            " * * * * * * * * * * \r\n",
            "  * * * * * * * * * \r\n",
            "   * * * * * * * * \r\n",
            "    * * * * * * * \r\n",
            "     * * * * * * \r\n",
            "      * * * * * \r\n",
            "       * * * * \r\n",
            "        * * * \r\n",
            "         * * \r\n",
            "          * \r\n",
            "         * * \r\n",
            "        * * * \r\n",
            "       * * * * \r\n",
            "      * * * * * \r\n",
            "     * * * * * * \r\n",
            "    * * * * * * * \r\n",
            "   * * * * * * * * \r\n",
            "  * * * * * * * * * \r\n",
            " * * * * * * * * * * \r\n",
            "* * * * * * * * * * * \r\n"
          ]
        }
      ]
    },
    {
      "cell_type": "code",
      "source": [
        "for i in range(10): #draw ten rows\n",
        "  for j in range(0,10-i): # bottom of triangle, so as it prints each astrit it removes 1 since 10-i)\n",
        "    print(' ', end='')\n",
        "  for k in range(0,i+1): #this prints the rows, so the top of the truangle plus one each time i+1\n",
        "    print('*', end =' ')\n",
        "  print('\\r')\n",
        "\n",
        "for i in range(10): #draw ten rows\n",
        "  for j in range(0,i+1): #this is the bottom of the triangle ,\n",
        "    print(' ', end='')\n",
        "  for k in range(0,10-i): #this is the top\n",
        "    print('*', end =' ')\n",
        "  print('\\r')\n",
        "\n",
        "\n",
        "\n"
      ],
      "metadata": {
        "colab": {
          "base_uri": "https://localhost:8080/"
        },
        "id": "tyqa3don2LzH",
        "outputId": "113f008e-6605-4678-d3d4-336967ad78f6"
      },
      "execution_count": 198,
      "outputs": [
        {
          "output_type": "stream",
          "name": "stdout",
          "text": [
            "          * \r\n",
            "         * * \r\n",
            "        * * * \r\n",
            "       * * * * \r\n",
            "      * * * * * \r\n",
            "     * * * * * * \r\n",
            "    * * * * * * * \r\n",
            "   * * * * * * * * \r\n",
            "  * * * * * * * * * \r\n",
            " * * * * * * * * * * \r\n",
            " * * * * * * * * * * \r\n",
            "  * * * * * * * * * \r\n",
            "   * * * * * * * * \r\n",
            "    * * * * * * * \r\n",
            "     * * * * * * \r\n",
            "      * * * * * \r\n",
            "       * * * * \r\n",
            "        * * * \r\n",
            "         * * \r\n",
            "          * \r\n"
          ]
        }
      ]
    },
    {
      "cell_type": "code",
      "source": [
        "#make the shape hollow\n",
        "\n",
        "for i in range(10): #draw ten rows\n",
        "  for j in range(0,10-i): # bottom of triangle, so as it prints each astrit it removes 1 since 10-i)\n",
        "    print(' ', end='')\n",
        "    print('*', end =' ')\n",
        "  print('\\r')\n"
      ],
      "metadata": {
        "colab": {
          "base_uri": "https://localhost:8080/"
        },
        "id": "IC4Ux21k-5bS",
        "outputId": "d6e67b54-2986-4186-99e5-8315a8f95494"
      },
      "execution_count": 294,
      "outputs": [
        {
          "output_type": "stream",
          "name": "stdout",
          "text": [
            " *  *  *  *  *  *  *  *  *  * \r\n",
            " *  *  *  *  *  *  *  *  * \r\n",
            " *  *  *  *  *  *  *  * \r\n",
            " *  *  *  *  *  *  * \r\n",
            " *  *  *  *  *  * \r\n",
            " *  *  *  *  * \r\n",
            " *  *  *  * \r\n",
            " *  *  * \r\n",
            " *  * \r\n",
            " * \r\n"
          ]
        }
      ]
    },
    {
      "cell_type": "code",
      "source": [],
      "metadata": {
        "id": "5Jga7H51_2ob"
      },
      "execution_count": 277,
      "outputs": []
    }
  ]
}