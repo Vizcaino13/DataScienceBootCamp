{
  "nbformat": 4,
  "nbformat_minor": 0,
  "metadata": {
    "colab": {
      "provenance": []
    },
    "kernelspec": {
      "name": "python3",
      "display_name": "Python 3"
    },
    "language_info": {
      "name": "python"
    }
  },
  "cells": [
    {
      "cell_type": "code",
      "execution_count": 9,
      "metadata": {
        "colab": {
          "base_uri": "https://localhost:8080/"
        },
        "id": "huZQhsuE2EVu",
        "outputId": "4734f15e-d059-49ef-dd08-0c7220e5d37e"
      },
      "outputs": [
        {
          "output_type": "stream",
          "name": "stdout",
          "text": [
            "                    * * * * * * * * * * * * * * * * * * * * * * * * * * * * * * * * * * * * * * * * * * * * * \n",
            "\n",
            "                    * * * * * * * * * * * * * * * * * * * * * * * * * * * * * * * * * * * * * * * * * * * * * \n",
            "\n",
            "                    * * * * * * * * * * * * * * * * * * * * * * * * * * * * * * * * * * * * * * * * * * * * * \n",
            "\n",
            "                    * * * * * * * * * * * * * * * * * * * * * * * * * * * * * * * * * * * * * * * * * * * * * \n",
            "\n",
            "                    * * * * * * * * * * * * * * * * * * * * * * * * * * * * * * * * * * * * * * * * * * * * * \n",
            "\n",
            "                    * * * * * * * * * * * * * * * * * * * * * * * * * * * * * * * * * * * * * * * * * * * * * \n",
            "\n",
            "                    * * * * * * * * * * * * * * * * * * * * * * * * * * * * * * * * * * * * * * * * * * * * * \n",
            "\n",
            "                    * * * * * * * * * * * * * * * * * * * * * * * * * * * * * * * * * * * * * * * * * * * * * \n",
            "\n",
            "                    * * * * * * * * * * * * * * * * * * * * * * * * * * * * * * * * * * * * * * * * * * * * * \n",
            "\n",
            "                    * * * * * * * * * * * * * * * * * * * * * * * * * * * * * * * * * * * * * * * * * * * * * \n",
            "\n"
          ]
        }
      ],
      "source": [
        "for i in range(10): #draw ten rows\n",
        "  for j in range(20): # bottom of triangle, so as it prints each astrit it removes 1 since 10-i)\n",
        "    print(' ', end='') #this '' is the space\n",
        "  for k in range(45): #this prints the rows, so the top of the truangle plus one each time i+1\n",
        "    print('*', end =' ')\n",
        "  print('\\n')"
      ]
    },
    {
      "cell_type": "code",
      "source": [],
      "metadata": {
        "colab": {
          "base_uri": "https://localhost:8080/"
        },
        "id": "afgJ6YfH2NP8",
        "outputId": "64d5f0f6-a6e3-476e-ea18-16ccd1bc1194"
      },
      "execution_count": 17,
      "outputs": [
        {
          "output_type": "stream",
          "name": "stdout",
          "text": [
            "          * \r\n",
            "         * * \r\n",
            "        * * * \r\n",
            "       * * * * \r\n",
            "      * * * * * \r\n",
            "     * * * * * * \r\n",
            "    * * * * * * * \r\n",
            "   * * * * * * * * \r\n",
            "  * * * * * * * * * \r\n",
            " * * * * * * * * * * \r\n"
          ]
        }
      ]
    },
    {
      "cell_type": "code",
      "source": [
        "#fibonacci series: print first 20 fibonacci numbers starting from 0.\n",
        "\n",
        "#0,1,1,2,3,5,8,13,21,34....\n",
        "\n",
        "a = 0\n",
        "b = 1\n",
        "\n",
        "print (a)\n",
        "print (b)\n",
        "for i in range(18):\n",
        "  c = a+b\n",
        "  print(c)\n",
        "  a=b\n",
        "  b=c\n",
        "\n",
        "\n",
        "\n",
        "\n",
        "\n"
      ],
      "metadata": {
        "colab": {
          "base_uri": "https://localhost:8080/"
        },
        "id": "4y5iSeib3Dm1",
        "outputId": "a455ccd4-a074-4acd-e627-2e4bd2c3d974"
      },
      "execution_count": 85,
      "outputs": [
        {
          "output_type": "stream",
          "name": "stdout",
          "text": [
            "0\n",
            "1\n",
            "1\n",
            "2\n",
            "3\n",
            "5\n",
            "8\n",
            "13\n",
            "21\n",
            "34\n",
            "55\n",
            "89\n",
            "144\n",
            "233\n",
            "377\n",
            "610\n",
            "987\n",
            "1597\n",
            "2584\n",
            "4181\n"
          ]
        }
      ]
    },
    {
      "cell_type": "code",
      "source": [
        "#take the grades of 5 students, and check if the student passed with certain distrinctions like pass, fail etc. use a dict\n",
        "#this is printing out the keys and values\n",
        "\n",
        "stu_record={\"ash\":89, \"sam\":78, \"andy\":69, \"wumi\":100, \"damien\":77, \"isabel\":35, \"samy\":98}\n",
        "\n",
        "for keys, values in stu_record.items():\n",
        "  if values >= 85:\n",
        "    print(keys, \" passed in distiction Score:\", values)\n",
        "  elif values >= 60 and values< 85:\n",
        "    print(keys,\"passed in 1st class Score:\", values)\n",
        "  elif values >= 40 and values< 60:\n",
        "    print(keys,\"passed in 2nd class Score:\", values)\n",
        "  elif values >= 35 and values< 40:\n",
        "    print(keys,\"passed in 2nd class Score:\", values)\n",
        "  elif values < 35:\n",
        "    print(keys,\"failed Score:\", values)\n",
        "\n",
        "\n",
        "\n",
        "\n",
        "\n",
        "\n"
      ],
      "metadata": {
        "colab": {
          "base_uri": "https://localhost:8080/"
        },
        "id": "FGIwpp5B6iHq",
        "outputId": "77c65e72-920f-4713-de0f-a05ae185fcc0"
      },
      "execution_count": 104,
      "outputs": [
        {
          "output_type": "stream",
          "name": "stdout",
          "text": [
            "ash  passed in distiction Score: 89\n",
            "sam passed in 1st class Score: 78\n",
            "andy passed in 1st class Score: 69\n",
            "wumi  passed in distiction Score: 100\n",
            "damien passed in 1st class Score: 77\n",
            "isabel passed in 2nd class Score: 35\n",
            "samy  passed in distiction Score: 98\n"
          ]
        }
      ]
    },
    {
      "cell_type": "code",
      "source": [
        " #functions in python\n",
        "\n",
        "#there are two types:\n",
        "#builtin functions (https://docs.python.org/3/library/functions.html)\n",
        "#user defined function\n",
        "\n"
      ],
      "metadata": {
        "id": "bEujTqVlCG_a"
      },
      "execution_count": null,
      "outputs": []
    },
    {
      "cell_type": "code",
      "source": [
        "#type casting functions: this is to change one type of data type to another\n",
        "\n",
        "int(), float(),complex(), bool(), str(),\n",
        "list(), tuple(), set(), dict()"
      ],
      "metadata": {
        "id": "VqiBZKs0HLFC"
      },
      "execution_count": null,
      "outputs": []
    },
    {
      "cell_type": "code",
      "source": [
        "#example of type casting\n",
        "\n",
        "int1= 1947\n",
        "\n",
        "print(float(int1))\n",
        "print(complex(int1))\n",
        "print(bool(int1))\n",
        "print(str(int1))\n",
        "print(list(int1)) #this creates an error since theres no repeated value: 'int' object is not iterable\n",
        "print(tuple(int1))#this creates an error since theres no repeated value\n",
        "print(set(int1))#this creates an error since theres no repeated value\n",
        "print(tuple(int1))#this creates an error since theres no repeated value\n",
        "print(dict(int1))#this creates an error since theres no repeated value"
      ],
      "metadata": {
        "colab": {
          "base_uri": "https://localhost:8080/",
          "height": 322
        },
        "id": "3mQYtg6mHhNA",
        "outputId": "0f0880e9-3408-499b-ba41-2a966c548ea0"
      },
      "execution_count": 107,
      "outputs": [
        {
          "output_type": "stream",
          "name": "stdout",
          "text": [
            "1947.0\n",
            "(1947+0j)\n",
            "True\n",
            "1947\n"
          ]
        },
        {
          "output_type": "error",
          "ename": "TypeError",
          "evalue": "ignored",
          "traceback": [
            "\u001b[0;31m---------------------------------------------------------------------------\u001b[0m",
            "\u001b[0;31mTypeError\u001b[0m                                 Traceback (most recent call last)",
            "\u001b[0;32m<ipython-input-107-6f1524c3c3e0>\u001b[0m in \u001b[0;36m<cell line: 9>\u001b[0;34m()\u001b[0m\n\u001b[1;32m      7\u001b[0m \u001b[0mprint\u001b[0m\u001b[0;34m(\u001b[0m\u001b[0mbool\u001b[0m\u001b[0;34m(\u001b[0m\u001b[0mint1\u001b[0m\u001b[0;34m)\u001b[0m\u001b[0;34m)\u001b[0m\u001b[0;34m\u001b[0m\u001b[0;34m\u001b[0m\u001b[0m\n\u001b[1;32m      8\u001b[0m \u001b[0mprint\u001b[0m\u001b[0;34m(\u001b[0m\u001b[0mstr\u001b[0m\u001b[0;34m(\u001b[0m\u001b[0mint1\u001b[0m\u001b[0;34m)\u001b[0m\u001b[0;34m)\u001b[0m\u001b[0;34m\u001b[0m\u001b[0;34m\u001b[0m\u001b[0m\n\u001b[0;32m----> 9\u001b[0;31m \u001b[0mprint\u001b[0m\u001b[0;34m(\u001b[0m\u001b[0mlist\u001b[0m\u001b[0;34m(\u001b[0m\u001b[0mint1\u001b[0m\u001b[0;34m)\u001b[0m\u001b[0;34m)\u001b[0m \u001b[0;31m#this creates an error since theres no repeated value\u001b[0m\u001b[0;34m\u001b[0m\u001b[0;34m\u001b[0m\u001b[0m\n\u001b[0m\u001b[1;32m     10\u001b[0m \u001b[0mprint\u001b[0m\u001b[0;34m(\u001b[0m\u001b[0mtuple\u001b[0m\u001b[0;34m(\u001b[0m\u001b[0mint1\u001b[0m\u001b[0;34m)\u001b[0m\u001b[0;34m)\u001b[0m\u001b[0;34m\u001b[0m\u001b[0;34m\u001b[0m\u001b[0m\n\u001b[1;32m     11\u001b[0m \u001b[0mprint\u001b[0m\u001b[0;34m(\u001b[0m\u001b[0mset\u001b[0m\u001b[0;34m(\u001b[0m\u001b[0mint1\u001b[0m\u001b[0;34m)\u001b[0m\u001b[0;34m)\u001b[0m\u001b[0;34m\u001b[0m\u001b[0;34m\u001b[0m\u001b[0m\n",
            "\u001b[0;31mTypeError\u001b[0m: 'int' object is not iterable"
          ]
        }
      ]
    },
    {
      "cell_type": "code",
      "source": [
        "#binary\n",
        "#decimal values go into these\n",
        " #bin(), oct(), hexa()\n",
        "\n",
        "for i in range(0, 100):\n",
        "\n",
        "  print('Decimal: ', i)\n",
        "\n",
        "  print('Binary: ', bin(i))\n",
        "\n",
        "  print('Octa Decimal: ', oct(i))\n",
        "\n",
        "  print('Hexa Decimal: ', hex(i))\n"
      ],
      "metadata": {
        "colab": {
          "base_uri": "https://localhost:8080/"
        },
        "id": "Vk4mHiIvHnsa",
        "outputId": "3a408e86-02be-4add-8993-0e7f69a7e4eb"
      },
      "execution_count": 111,
      "outputs": [
        {
          "output_type": "stream",
          "name": "stdout",
          "text": [
            "Decimal:  0\n",
            "Binary:  0b0\n",
            "Octa Decimal:  0o0\n",
            "Hexa Decimal:  0x0\n",
            "Decimal:  1\n",
            "Binary:  0b1\n",
            "Octa Decimal:  0o1\n",
            "Hexa Decimal:  0x1\n",
            "Decimal:  2\n",
            "Binary:  0b10\n",
            "Octa Decimal:  0o2\n",
            "Hexa Decimal:  0x2\n",
            "Decimal:  3\n",
            "Binary:  0b11\n",
            "Octa Decimal:  0o3\n",
            "Hexa Decimal:  0x3\n",
            "Decimal:  4\n",
            "Binary:  0b100\n",
            "Octa Decimal:  0o4\n",
            "Hexa Decimal:  0x4\n",
            "Decimal:  5\n",
            "Binary:  0b101\n",
            "Octa Decimal:  0o5\n",
            "Hexa Decimal:  0x5\n",
            "Decimal:  6\n",
            "Binary:  0b110\n",
            "Octa Decimal:  0o6\n",
            "Hexa Decimal:  0x6\n",
            "Decimal:  7\n",
            "Binary:  0b111\n",
            "Octa Decimal:  0o7\n",
            "Hexa Decimal:  0x7\n",
            "Decimal:  8\n",
            "Binary:  0b1000\n",
            "Octa Decimal:  0o10\n",
            "Hexa Decimal:  0x8\n",
            "Decimal:  9\n",
            "Binary:  0b1001\n",
            "Octa Decimal:  0o11\n",
            "Hexa Decimal:  0x9\n",
            "Decimal:  10\n",
            "Binary:  0b1010\n",
            "Octa Decimal:  0o12\n",
            "Hexa Decimal:  0xa\n",
            "Decimal:  11\n",
            "Binary:  0b1011\n",
            "Octa Decimal:  0o13\n",
            "Hexa Decimal:  0xb\n",
            "Decimal:  12\n",
            "Binary:  0b1100\n",
            "Octa Decimal:  0o14\n",
            "Hexa Decimal:  0xc\n",
            "Decimal:  13\n",
            "Binary:  0b1101\n",
            "Octa Decimal:  0o15\n",
            "Hexa Decimal:  0xd\n",
            "Decimal:  14\n",
            "Binary:  0b1110\n",
            "Octa Decimal:  0o16\n",
            "Hexa Decimal:  0xe\n",
            "Decimal:  15\n",
            "Binary:  0b1111\n",
            "Octa Decimal:  0o17\n",
            "Hexa Decimal:  0xf\n",
            "Decimal:  16\n",
            "Binary:  0b10000\n",
            "Octa Decimal:  0o20\n",
            "Hexa Decimal:  0x10\n",
            "Decimal:  17\n",
            "Binary:  0b10001\n",
            "Octa Decimal:  0o21\n",
            "Hexa Decimal:  0x11\n",
            "Decimal:  18\n",
            "Binary:  0b10010\n",
            "Octa Decimal:  0o22\n",
            "Hexa Decimal:  0x12\n",
            "Decimal:  19\n",
            "Binary:  0b10011\n",
            "Octa Decimal:  0o23\n",
            "Hexa Decimal:  0x13\n",
            "Decimal:  20\n",
            "Binary:  0b10100\n",
            "Octa Decimal:  0o24\n",
            "Hexa Decimal:  0x14\n",
            "Decimal:  21\n",
            "Binary:  0b10101\n",
            "Octa Decimal:  0o25\n",
            "Hexa Decimal:  0x15\n",
            "Decimal:  22\n",
            "Binary:  0b10110\n",
            "Octa Decimal:  0o26\n",
            "Hexa Decimal:  0x16\n",
            "Decimal:  23\n",
            "Binary:  0b10111\n",
            "Octa Decimal:  0o27\n",
            "Hexa Decimal:  0x17\n",
            "Decimal:  24\n",
            "Binary:  0b11000\n",
            "Octa Decimal:  0o30\n",
            "Hexa Decimal:  0x18\n",
            "Decimal:  25\n",
            "Binary:  0b11001\n",
            "Octa Decimal:  0o31\n",
            "Hexa Decimal:  0x19\n",
            "Decimal:  26\n",
            "Binary:  0b11010\n",
            "Octa Decimal:  0o32\n",
            "Hexa Decimal:  0x1a\n",
            "Decimal:  27\n",
            "Binary:  0b11011\n",
            "Octa Decimal:  0o33\n",
            "Hexa Decimal:  0x1b\n",
            "Decimal:  28\n",
            "Binary:  0b11100\n",
            "Octa Decimal:  0o34\n",
            "Hexa Decimal:  0x1c\n",
            "Decimal:  29\n",
            "Binary:  0b11101\n",
            "Octa Decimal:  0o35\n",
            "Hexa Decimal:  0x1d\n",
            "Decimal:  30\n",
            "Binary:  0b11110\n",
            "Octa Decimal:  0o36\n",
            "Hexa Decimal:  0x1e\n",
            "Decimal:  31\n",
            "Binary:  0b11111\n",
            "Octa Decimal:  0o37\n",
            "Hexa Decimal:  0x1f\n",
            "Decimal:  32\n",
            "Binary:  0b100000\n",
            "Octa Decimal:  0o40\n",
            "Hexa Decimal:  0x20\n",
            "Decimal:  33\n",
            "Binary:  0b100001\n",
            "Octa Decimal:  0o41\n",
            "Hexa Decimal:  0x21\n",
            "Decimal:  34\n",
            "Binary:  0b100010\n",
            "Octa Decimal:  0o42\n",
            "Hexa Decimal:  0x22\n",
            "Decimal:  35\n",
            "Binary:  0b100011\n",
            "Octa Decimal:  0o43\n",
            "Hexa Decimal:  0x23\n",
            "Decimal:  36\n",
            "Binary:  0b100100\n",
            "Octa Decimal:  0o44\n",
            "Hexa Decimal:  0x24\n",
            "Decimal:  37\n",
            "Binary:  0b100101\n",
            "Octa Decimal:  0o45\n",
            "Hexa Decimal:  0x25\n",
            "Decimal:  38\n",
            "Binary:  0b100110\n",
            "Octa Decimal:  0o46\n",
            "Hexa Decimal:  0x26\n",
            "Decimal:  39\n",
            "Binary:  0b100111\n",
            "Octa Decimal:  0o47\n",
            "Hexa Decimal:  0x27\n",
            "Decimal:  40\n",
            "Binary:  0b101000\n",
            "Octa Decimal:  0o50\n",
            "Hexa Decimal:  0x28\n",
            "Decimal:  41\n",
            "Binary:  0b101001\n",
            "Octa Decimal:  0o51\n",
            "Hexa Decimal:  0x29\n",
            "Decimal:  42\n",
            "Binary:  0b101010\n",
            "Octa Decimal:  0o52\n",
            "Hexa Decimal:  0x2a\n",
            "Decimal:  43\n",
            "Binary:  0b101011\n",
            "Octa Decimal:  0o53\n",
            "Hexa Decimal:  0x2b\n",
            "Decimal:  44\n",
            "Binary:  0b101100\n",
            "Octa Decimal:  0o54\n",
            "Hexa Decimal:  0x2c\n",
            "Decimal:  45\n",
            "Binary:  0b101101\n",
            "Octa Decimal:  0o55\n",
            "Hexa Decimal:  0x2d\n",
            "Decimal:  46\n",
            "Binary:  0b101110\n",
            "Octa Decimal:  0o56\n",
            "Hexa Decimal:  0x2e\n",
            "Decimal:  47\n",
            "Binary:  0b101111\n",
            "Octa Decimal:  0o57\n",
            "Hexa Decimal:  0x2f\n",
            "Decimal:  48\n",
            "Binary:  0b110000\n",
            "Octa Decimal:  0o60\n",
            "Hexa Decimal:  0x30\n",
            "Decimal:  49\n",
            "Binary:  0b110001\n",
            "Octa Decimal:  0o61\n",
            "Hexa Decimal:  0x31\n",
            "Decimal:  50\n",
            "Binary:  0b110010\n",
            "Octa Decimal:  0o62\n",
            "Hexa Decimal:  0x32\n",
            "Decimal:  51\n",
            "Binary:  0b110011\n",
            "Octa Decimal:  0o63\n",
            "Hexa Decimal:  0x33\n",
            "Decimal:  52\n",
            "Binary:  0b110100\n",
            "Octa Decimal:  0o64\n",
            "Hexa Decimal:  0x34\n",
            "Decimal:  53\n",
            "Binary:  0b110101\n",
            "Octa Decimal:  0o65\n",
            "Hexa Decimal:  0x35\n",
            "Decimal:  54\n",
            "Binary:  0b110110\n",
            "Octa Decimal:  0o66\n",
            "Hexa Decimal:  0x36\n",
            "Decimal:  55\n",
            "Binary:  0b110111\n",
            "Octa Decimal:  0o67\n",
            "Hexa Decimal:  0x37\n",
            "Decimal:  56\n",
            "Binary:  0b111000\n",
            "Octa Decimal:  0o70\n",
            "Hexa Decimal:  0x38\n",
            "Decimal:  57\n",
            "Binary:  0b111001\n",
            "Octa Decimal:  0o71\n",
            "Hexa Decimal:  0x39\n",
            "Decimal:  58\n",
            "Binary:  0b111010\n",
            "Octa Decimal:  0o72\n",
            "Hexa Decimal:  0x3a\n",
            "Decimal:  59\n",
            "Binary:  0b111011\n",
            "Octa Decimal:  0o73\n",
            "Hexa Decimal:  0x3b\n",
            "Decimal:  60\n",
            "Binary:  0b111100\n",
            "Octa Decimal:  0o74\n",
            "Hexa Decimal:  0x3c\n",
            "Decimal:  61\n",
            "Binary:  0b111101\n",
            "Octa Decimal:  0o75\n",
            "Hexa Decimal:  0x3d\n",
            "Decimal:  62\n",
            "Binary:  0b111110\n",
            "Octa Decimal:  0o76\n",
            "Hexa Decimal:  0x3e\n",
            "Decimal:  63\n",
            "Binary:  0b111111\n",
            "Octa Decimal:  0o77\n",
            "Hexa Decimal:  0x3f\n",
            "Decimal:  64\n",
            "Binary:  0b1000000\n",
            "Octa Decimal:  0o100\n",
            "Hexa Decimal:  0x40\n",
            "Decimal:  65\n",
            "Binary:  0b1000001\n",
            "Octa Decimal:  0o101\n",
            "Hexa Decimal:  0x41\n",
            "Decimal:  66\n",
            "Binary:  0b1000010\n",
            "Octa Decimal:  0o102\n",
            "Hexa Decimal:  0x42\n",
            "Decimal:  67\n",
            "Binary:  0b1000011\n",
            "Octa Decimal:  0o103\n",
            "Hexa Decimal:  0x43\n",
            "Decimal:  68\n",
            "Binary:  0b1000100\n",
            "Octa Decimal:  0o104\n",
            "Hexa Decimal:  0x44\n",
            "Decimal:  69\n",
            "Binary:  0b1000101\n",
            "Octa Decimal:  0o105\n",
            "Hexa Decimal:  0x45\n",
            "Decimal:  70\n",
            "Binary:  0b1000110\n",
            "Octa Decimal:  0o106\n",
            "Hexa Decimal:  0x46\n",
            "Decimal:  71\n",
            "Binary:  0b1000111\n",
            "Octa Decimal:  0o107\n",
            "Hexa Decimal:  0x47\n",
            "Decimal:  72\n",
            "Binary:  0b1001000\n",
            "Octa Decimal:  0o110\n",
            "Hexa Decimal:  0x48\n",
            "Decimal:  73\n",
            "Binary:  0b1001001\n",
            "Octa Decimal:  0o111\n",
            "Hexa Decimal:  0x49\n",
            "Decimal:  74\n",
            "Binary:  0b1001010\n",
            "Octa Decimal:  0o112\n",
            "Hexa Decimal:  0x4a\n",
            "Decimal:  75\n",
            "Binary:  0b1001011\n",
            "Octa Decimal:  0o113\n",
            "Hexa Decimal:  0x4b\n",
            "Decimal:  76\n",
            "Binary:  0b1001100\n",
            "Octa Decimal:  0o114\n",
            "Hexa Decimal:  0x4c\n",
            "Decimal:  77\n",
            "Binary:  0b1001101\n",
            "Octa Decimal:  0o115\n",
            "Hexa Decimal:  0x4d\n",
            "Decimal:  78\n",
            "Binary:  0b1001110\n",
            "Octa Decimal:  0o116\n",
            "Hexa Decimal:  0x4e\n",
            "Decimal:  79\n",
            "Binary:  0b1001111\n",
            "Octa Decimal:  0o117\n",
            "Hexa Decimal:  0x4f\n",
            "Decimal:  80\n",
            "Binary:  0b1010000\n",
            "Octa Decimal:  0o120\n",
            "Hexa Decimal:  0x50\n",
            "Decimal:  81\n",
            "Binary:  0b1010001\n",
            "Octa Decimal:  0o121\n",
            "Hexa Decimal:  0x51\n",
            "Decimal:  82\n",
            "Binary:  0b1010010\n",
            "Octa Decimal:  0o122\n",
            "Hexa Decimal:  0x52\n",
            "Decimal:  83\n",
            "Binary:  0b1010011\n",
            "Octa Decimal:  0o123\n",
            "Hexa Decimal:  0x53\n",
            "Decimal:  84\n",
            "Binary:  0b1010100\n",
            "Octa Decimal:  0o124\n",
            "Hexa Decimal:  0x54\n",
            "Decimal:  85\n",
            "Binary:  0b1010101\n",
            "Octa Decimal:  0o125\n",
            "Hexa Decimal:  0x55\n",
            "Decimal:  86\n",
            "Binary:  0b1010110\n",
            "Octa Decimal:  0o126\n",
            "Hexa Decimal:  0x56\n",
            "Decimal:  87\n",
            "Binary:  0b1010111\n",
            "Octa Decimal:  0o127\n",
            "Hexa Decimal:  0x57\n",
            "Decimal:  88\n",
            "Binary:  0b1011000\n",
            "Octa Decimal:  0o130\n",
            "Hexa Decimal:  0x58\n",
            "Decimal:  89\n",
            "Binary:  0b1011001\n",
            "Octa Decimal:  0o131\n",
            "Hexa Decimal:  0x59\n",
            "Decimal:  90\n",
            "Binary:  0b1011010\n",
            "Octa Decimal:  0o132\n",
            "Hexa Decimal:  0x5a\n",
            "Decimal:  91\n",
            "Binary:  0b1011011\n",
            "Octa Decimal:  0o133\n",
            "Hexa Decimal:  0x5b\n",
            "Decimal:  92\n",
            "Binary:  0b1011100\n",
            "Octa Decimal:  0o134\n",
            "Hexa Decimal:  0x5c\n",
            "Decimal:  93\n",
            "Binary:  0b1011101\n",
            "Octa Decimal:  0o135\n",
            "Hexa Decimal:  0x5d\n",
            "Decimal:  94\n",
            "Binary:  0b1011110\n",
            "Octa Decimal:  0o136\n",
            "Hexa Decimal:  0x5e\n",
            "Decimal:  95\n",
            "Binary:  0b1011111\n",
            "Octa Decimal:  0o137\n",
            "Hexa Decimal:  0x5f\n",
            "Decimal:  96\n",
            "Binary:  0b1100000\n",
            "Octa Decimal:  0o140\n",
            "Hexa Decimal:  0x60\n",
            "Decimal:  97\n",
            "Binary:  0b1100001\n",
            "Octa Decimal:  0o141\n",
            "Hexa Decimal:  0x61\n",
            "Decimal:  98\n",
            "Binary:  0b1100010\n",
            "Octa Decimal:  0o142\n",
            "Hexa Decimal:  0x62\n",
            "Decimal:  99\n",
            "Binary:  0b1100011\n",
            "Octa Decimal:  0o143\n",
            "Hexa Decimal:  0x63\n"
          ]
        }
      ]
    },
    {
      "cell_type": "code",
      "source": [
        "#help function tells you what it does and every detail\n",
        "\n",
        "help(print)"
      ],
      "metadata": {
        "colab": {
          "base_uri": "https://localhost:8080/"
        },
        "id": "pBDMThbfJZjk",
        "outputId": "c4cc153d-1844-4908-b5a2-4829efe880b0"
      },
      "execution_count": 112,
      "outputs": [
        {
          "output_type": "stream",
          "name": "stdout",
          "text": [
            "Help on built-in function print in module builtins:\n",
            "\n",
            "print(...)\n",
            "    print(value, ..., sep=' ', end='\\n', file=sys.stdout, flush=False)\n",
            "    \n",
            "    Prints the values to a stream, or to sys.stdout by default.\n",
            "    Optional keyword arguments:\n",
            "    file:  a file-like object (stream); defaults to the current sys.stdout.\n",
            "    sep:   string inserted between values, default a space.\n",
            "    end:   string appended after the last value, default a newline.\n",
            "    flush: whether to forcibly flush the stream.\n",
            "\n"
          ]
        }
      ]
    },
    {
      "cell_type": "code",
      "source": [
        "help(type)"
      ],
      "metadata": {
        "colab": {
          "base_uri": "https://localhost:8080/"
        },
        "id": "WHF7JrmeLhU3",
        "outputId": "b074cf1b-f3e5-4445-b0f8-c4c570323f31"
      },
      "execution_count": 113,
      "outputs": [
        {
          "output_type": "stream",
          "name": "stdout",
          "text": [
            "Help on class type in module builtins:\n",
            "\n",
            "class type(object)\n",
            " |  type(object) -> the object's type\n",
            " |  type(name, bases, dict, **kwds) -> a new type\n",
            " |  \n",
            " |  Methods defined here:\n",
            " |  \n",
            " |  __call__(self, /, *args, **kwargs)\n",
            " |      Call self as a function.\n",
            " |  \n",
            " |  __delattr__(self, name, /)\n",
            " |      Implement delattr(self, name).\n",
            " |  \n",
            " |  __dir__(self, /)\n",
            " |      Specialized __dir__ implementation for types.\n",
            " |  \n",
            " |  __getattribute__(self, name, /)\n",
            " |      Return getattr(self, name).\n",
            " |  \n",
            " |  __init__(self, /, *args, **kwargs)\n",
            " |      Initialize self.  See help(type(self)) for accurate signature.\n",
            " |  \n",
            " |  __instancecheck__(self, instance, /)\n",
            " |      Check if an object is an instance.\n",
            " |  \n",
            " |  __or__(self, value, /)\n",
            " |      Return self|value.\n",
            " |  \n",
            " |  __repr__(self, /)\n",
            " |      Return repr(self).\n",
            " |  \n",
            " |  __ror__(self, value, /)\n",
            " |      Return value|self.\n",
            " |  \n",
            " |  __setattr__(self, name, value, /)\n",
            " |      Implement setattr(self, name, value).\n",
            " |  \n",
            " |  __sizeof__(self, /)\n",
            " |      Return memory consumption of the type object.\n",
            " |  \n",
            " |  __subclasscheck__(self, subclass, /)\n",
            " |      Check if a class is a subclass.\n",
            " |  \n",
            " |  __subclasses__(self, /)\n",
            " |      Return a list of immediate subclasses.\n",
            " |  \n",
            " |  mro(self, /)\n",
            " |      Return a type's method resolution order.\n",
            " |  \n",
            " |  ----------------------------------------------------------------------\n",
            " |  Class methods defined here:\n",
            " |  \n",
            " |  __prepare__(...)\n",
            " |      __prepare__() -> dict\n",
            " |      used to create the namespace for the class statement\n",
            " |  \n",
            " |  ----------------------------------------------------------------------\n",
            " |  Static methods defined here:\n",
            " |  \n",
            " |  __new__(*args, **kwargs)\n",
            " |      Create and return a new object.  See help(type) for accurate signature.\n",
            " |  \n",
            " |  ----------------------------------------------------------------------\n",
            " |  Data descriptors defined here:\n",
            " |  \n",
            " |  __abstractmethods__\n",
            " |  \n",
            " |  __annotations__\n",
            " |  \n",
            " |  __dict__\n",
            " |  \n",
            " |  __text_signature__\n",
            " |  \n",
            " |  ----------------------------------------------------------------------\n",
            " |  Data and other attributes defined here:\n",
            " |  \n",
            " |  __base__ = <class 'object'>\n",
            " |      The base class of the class hierarchy.\n",
            " |      \n",
            " |      When called, it accepts no arguments and returns a new featureless\n",
            " |      instance that has no instance attributes and cannot be given any.\n",
            " |  \n",
            " |  \n",
            " |  __bases__ = (<class 'object'>,)\n",
            " |  \n",
            " |  __basicsize__ = 888\n",
            " |  \n",
            " |  __dictoffset__ = 264\n",
            " |  \n",
            " |  __flags__ = 2148031744\n",
            " |  \n",
            " |  __itemsize__ = 40\n",
            " |  \n",
            " |  __mro__ = (<class 'type'>, <class 'object'>)\n",
            " |  \n",
            " |  __weakrefoffset__ = 368\n",
            "\n"
          ]
        }
      ]
    },
    {
      "cell_type": "code",
      "source": [
        "help(input )"
      ],
      "metadata": {
        "colab": {
          "base_uri": "https://localhost:8080/"
        },
        "id": "0S1ycoayLmyB",
        "outputId": "29a8cf80-017c-43b9-b5b8-41c796805c25"
      },
      "execution_count": 118,
      "outputs": [
        {
          "output_type": "stream",
          "name": "stdout",
          "text": [
            "Help on method raw_input in module ipykernel.kernelbase:\n",
            "\n",
            "raw_input(prompt='') method of google.colab._kernel.Kernel instance\n",
            "    Forward raw_input to frontends\n",
            "    \n",
            "    Raises\n",
            "    ------\n",
            "    StdinNotImplementedError if active frontend doesn't support stdin.\n",
            "\n"
          ]
        }
      ]
    },
    {
      "cell_type": "code",
      "source": [
        "#user defined function: provides flexibility so you can use code many times\n",
        "\n",
        "def sum_of_two(a, b):\n",
        "  return(a+b)"
      ],
      "metadata": {
        "id": "sMGuQK7xLpYc"
      },
      "execution_count": 119,
      "outputs": []
    },
    {
      "cell_type": "code",
      "source": [
        "sum_of_two(1947, -1947)"
      ],
      "metadata": {
        "colab": {
          "base_uri": "https://localhost:8080/"
        },
        "id": "9OPGcviLMuzV",
        "outputId": "7824a6cf-3f3f-474f-b5ca-7faad6b34901"
      },
      "execution_count": 120,
      "outputs": [
        {
          "output_type": "execute_result",
          "data": {
            "text/plain": [
              "0"
            ]
          },
          "metadata": {},
          "execution_count": 120
        }
      ]
    },
    {
      "cell_type": "code",
      "source": [
        "sum_of_two(3.14, -3.14)"
      ],
      "metadata": {
        "colab": {
          "base_uri": "https://localhost:8080/"
        },
        "id": "1vZ4A6oWM2zn",
        "outputId": "41d94b7b-6642-4e87-fe56-3ba476722f49"
      },
      "execution_count": 121,
      "outputs": [
        {
          "output_type": "execute_result",
          "data": {
            "text/plain": [
              "0.0"
            ]
          },
          "metadata": {},
          "execution_count": 121
        }
      ]
    },
    {
      "cell_type": "code",
      "source": [
        "sum_of_two(12+13j, -12+13j)"
      ],
      "metadata": {
        "colab": {
          "base_uri": "https://localhost:8080/"
        },
        "id": "cnJNJMB2M7Lu",
        "outputId": "3f8d7186-ffce-4263-faa7-f81976fef828"
      },
      "execution_count": 123,
      "outputs": [
        {
          "output_type": "execute_result",
          "data": {
            "text/plain": [
              "26j"
            ]
          },
          "metadata": {},
          "execution_count": 123
        }
      ]
    },
    {
      "cell_type": "code",
      "source": [
        "sum_of_two(\"python\", \"programming\")"
      ],
      "metadata": {
        "colab": {
          "base_uri": "https://localhost:8080/",
          "height": 35
        },
        "id": "H0ixza61NHfO",
        "outputId": "3cec4ab7-a184-4d8f-a0d1-bde9b84e0b5d"
      },
      "execution_count": 124,
      "outputs": [
        {
          "output_type": "execute_result",
          "data": {
            "text/plain": [
              "'pythonprogramming'"
            ],
            "application/vnd.google.colaboratory.intrinsic+json": {
              "type": "string"
            }
          },
          "metadata": {},
          "execution_count": 124
        }
      ]
    },
    {
      "cell_type": "code",
      "source": [
        "sum_of_two([1,2,3,4,5,5,66,],[1,2,3,4,5,5,66,])"
      ],
      "metadata": {
        "colab": {
          "base_uri": "https://localhost:8080/"
        },
        "id": "S6J6qwnlNPiJ",
        "outputId": "c34b61b5-bc74-4cd8-bef5-9591a182c01d"
      },
      "execution_count": 125,
      "outputs": [
        {
          "output_type": "execute_result",
          "data": {
            "text/plain": [
              "[1, 2, 3, 4, 5, 5, 66, 1, 2, 3, 4, 5, 5, 66]"
            ]
          },
          "metadata": {},
          "execution_count": 125
        }
      ]
    },
    {
      "cell_type": "code",
      "source": [
        "sum_of_two((1,2,3,4,5,5,66,),(1,2,3,4,5,5,66,))"
      ],
      "metadata": {
        "colab": {
          "base_uri": "https://localhost:8080/"
        },
        "id": "IKpNlMReNaV-",
        "outputId": "6903c2f7-2094-48d9-d4d4-c64a12935968"
      },
      "execution_count": 126,
      "outputs": [
        {
          "output_type": "execute_result",
          "data": {
            "text/plain": [
              "(1, 2, 3, 4, 5, 5, 66, 1, 2, 3, 4, 5, 5, 66)"
            ]
          },
          "metadata": {},
          "execution_count": 126
        }
      ]
    },
    {
      "cell_type": "code",
      "source": [
        "sum_of_two({1,2,3,4,5,5,66,},{\"end\", \"of\", \"game\", True, False}) #does not support this"
      ],
      "metadata": {
        "colab": {
          "base_uri": "https://localhost:8080/",
          "height": 268
        },
        "id": "QP2LAHDQNd9C",
        "outputId": "2330258f-fe48-4388-dd6d-1e27050e3a21"
      },
      "execution_count": 128,
      "outputs": [
        {
          "output_type": "error",
          "ename": "TypeError",
          "evalue": "ignored",
          "traceback": [
            "\u001b[0;31m---------------------------------------------------------------------------\u001b[0m",
            "\u001b[0;31mTypeError\u001b[0m                                 Traceback (most recent call last)",
            "\u001b[0;32m<ipython-input-128-7f1950d82278>\u001b[0m in \u001b[0;36m<cell line: 1>\u001b[0;34m()\u001b[0m\n\u001b[0;32m----> 1\u001b[0;31m \u001b[0msum_of_two\u001b[0m\u001b[0;34m(\u001b[0m\u001b[0;34m{\u001b[0m\u001b[0;36m1\u001b[0m\u001b[0;34m,\u001b[0m\u001b[0;36m2\u001b[0m\u001b[0;34m,\u001b[0m\u001b[0;36m3\u001b[0m\u001b[0;34m,\u001b[0m\u001b[0;36m4\u001b[0m\u001b[0;34m,\u001b[0m\u001b[0;36m5\u001b[0m\u001b[0;34m,\u001b[0m\u001b[0;36m5\u001b[0m\u001b[0;34m,\u001b[0m\u001b[0;36m66\u001b[0m\u001b[0;34m,\u001b[0m\u001b[0;34m}\u001b[0m\u001b[0;34m,\u001b[0m\u001b[0;34m{\u001b[0m\u001b[0;34m\"end\"\u001b[0m\u001b[0;34m,\u001b[0m \u001b[0;34m\"of\"\u001b[0m\u001b[0;34m,\u001b[0m \u001b[0;34m\"game\"\u001b[0m\u001b[0;34m,\u001b[0m \u001b[0;32mTrue\u001b[0m\u001b[0;34m,\u001b[0m \u001b[0;32mFalse\u001b[0m\u001b[0;34m}\u001b[0m\u001b[0;34m)\u001b[0m\u001b[0;34m\u001b[0m\u001b[0;34m\u001b[0m\u001b[0m\n\u001b[0m",
            "\u001b[0;32m<ipython-input-119-227795ee7eb8>\u001b[0m in \u001b[0;36msum_of_two\u001b[0;34m(a, b)\u001b[0m\n\u001b[1;32m      2\u001b[0m \u001b[0;34m\u001b[0m\u001b[0m\n\u001b[1;32m      3\u001b[0m \u001b[0;32mdef\u001b[0m \u001b[0msum_of_two\u001b[0m\u001b[0;34m(\u001b[0m\u001b[0ma\u001b[0m\u001b[0;34m,\u001b[0m \u001b[0mb\u001b[0m\u001b[0;34m)\u001b[0m\u001b[0;34m:\u001b[0m\u001b[0;34m\u001b[0m\u001b[0;34m\u001b[0m\u001b[0m\n\u001b[0;32m----> 4\u001b[0;31m   \u001b[0;32mreturn\u001b[0m\u001b[0;34m(\u001b[0m\u001b[0ma\u001b[0m\u001b[0;34m+\u001b[0m\u001b[0mb\u001b[0m\u001b[0;34m)\u001b[0m\u001b[0;34m\u001b[0m\u001b[0;34m\u001b[0m\u001b[0m\n\u001b[0m",
            "\u001b[0;31mTypeError\u001b[0m: unsupported operand type(s) for +: 'set' and 'set'"
          ]
        }
      ]
    },
    {
      "cell_type": "code",
      "source": [],
      "metadata": {
        "id": "cU9PEJMVNvTj"
      },
      "execution_count": null,
      "outputs": []
    }
  ]
}