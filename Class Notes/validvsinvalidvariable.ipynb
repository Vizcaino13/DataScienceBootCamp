{
  "nbformat": 4,
  "nbformat_minor": 0,
  "metadata": {
    "colab": {
      "provenance": []
    },
    "kernelspec": {
      "name": "python3",
      "display_name": "Python 3"
    },
    "language_info": {
      "name": "python"
    }
  },
  "cells": [
    {
      "cell_type": "markdown",
      "source": [
        "valid vs invalid variables"
      ],
      "metadata": {
        "id": "lJXisAjVAigQ"
      }
    },
    {
      "cell_type": "code",
      "execution_count": 6,
      "metadata": {
        "id": "OEXy562aAMgf"
      },
      "outputs": [],
      "source": [
        "name='Ashley'   #valid variable\n",
        "\n",
        "_hname='hanana' #valid variable\n",
        "gen12der= 'm' #valid variable"
      ]
    },
    {
      "cell_type": "code",
      "source": [
        "print(name, _hname,gen12der)"
      ],
      "metadata": {
        "colab": {
          "base_uri": "https://localhost:8080/"
        },
        "id": "WTtJpQ-hA0E2",
        "outputId": "e2214b79-3f14-41c1-f3d7-1e8bf87c7286"
      },
      "execution_count": 8,
      "outputs": [
        {
          "output_type": "stream",
          "name": "stdout",
          "text": [
            "Ashley hanana m\n"
          ]
        }
      ]
    },
    {
      "cell_type": "code",
      "source": [
        "12ham='m' #example of invalid\n",
        "\n",
        "@address='123 park st ' #example of invalid\n",
        "\n",
        "\n",
        "#special charcaters are not permitted for a variable"
      ],
      "metadata": {
        "colab": {
          "base_uri": "https://localhost:8080/",
          "height": 143
        },
        "id": "_5RPBzfbAr75",
        "outputId": "78543ff0-f5f0-4707-92f5-cb9044ccece5"
      },
      "execution_count": 3,
      "outputs": [
        {
          "output_type": "error",
          "ename": "SyntaxError",
          "evalue": "ignored",
          "traceback": [
            "\u001b[0;36m  File \u001b[0;32m\"<ipython-input-3-dad531a8df44>\"\u001b[0;36m, line \u001b[0;32m1\u001b[0m\n\u001b[0;31m    12ham='m' #example of invalid\u001b[0m\n\u001b[0m     ^\u001b[0m\n\u001b[0;31mSyntaxError\u001b[0m\u001b[0;31m:\u001b[0m invalid decimal literal\n"
          ]
        }
      ]
    }
  ]
}