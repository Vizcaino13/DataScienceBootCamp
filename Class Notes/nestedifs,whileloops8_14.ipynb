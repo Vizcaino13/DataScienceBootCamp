{
  "nbformat": 4,
  "nbformat_minor": 0,
  "metadata": {
    "colab": {
      "provenance": []
    },
    "kernelspec": {
      "name": "python3",
      "display_name": "Python 3"
    },
    "language_info": {
      "name": "python"
    }
  },
  "cells": [
    {
      "cell_type": "code",
      "execution_count": null,
      "metadata": {
        "colab": {
          "base_uri": "https://localhost:8080/"
        },
        "id": "rZQ72jjngH6f",
        "outputId": "e7ce5071-7d79-47e1-97de-6cc947257f7f"
      },
      "outputs": [
        {
          "output_type": "stream",
          "name": "stdout",
          "text": [
            "if (a < 200):\n",
            "if (a < 175):\n",
            "if (a < 150):\n",
            "else if (a < 125):\n"
          ]
        }
      ],
      "source": [
        "#Nested IF\n",
        "\n",
        "\n",
        "a = 125\n",
        "\n",
        "if (a < 200):\n",
        "  print('if (a < 200):')\n",
        "  if (a < 175):\n",
        "    print('if (a < 175):')\n",
        "    if (a < 150):\n",
        "      print('if (a < 150):')\n",
        "      if (a < 125):\n",
        "        print('if (a < 125):')\n",
        "        if (a < 100):\n",
        "          print('if (a < 100):')\n",
        "          if (a < 75):\n",
        "            print('if (a < 75):')\n",
        "          else:\n",
        "            print('else if (a < 75):')\n",
        "        else:\n",
        "          print('else if (a < 100):')\n",
        "      else:\n",
        "        print('else if (a < 125):')\n",
        "    else:\n",
        "      print('else if (a < 150):')\n",
        "  else:\n",
        "    print('else if (a < 175):')\n",
        "else:\n",
        "  print('else if (a < 200):')\n"
      ]
    },
    {
      "cell_type": "code",
      "source": [
        "#Nested IF example\n",
        "\n",
        "\n",
        "a = 78\n",
        "if (a >= 50):\n",
        "  print('if (a >= 50):')\n",
        "  if (a > 59):\n",
        "    print('if (a > 59):')\n",
        "    if(a>=70):\n",
        "      print('if (a >= 70):')\n",
        "      if(a>=78):\n",
        "        print('if (a >= 78):')\n",
        "      else:\n",
        "          print('else if (a < 150):')"
      ],
      "metadata": {
        "colab": {
          "base_uri": "https://localhost:8080/"
        },
        "id": "ZZyjCC7QgpcK",
        "outputId": "95e8c0a2-bc27-462b-f80f-4cbfdf0eec92"
      },
      "execution_count": null,
      "outputs": [
        {
          "output_type": "stream",
          "name": "stdout",
          "text": [
            "if (a >= 50):\n",
            "if (a > 59):\n",
            "if (a >= 70):\n",
            "if (a >= 78):\n"
          ]
        }
      ]
    },
    {
      "cell_type": "code",
      "source": [
        "#while loop : if you want to repeatedly do an operation you use this , this works for when your condition is true\n",
        "\n",
        "a= 100\n",
        "\n",
        "while a > 10: #it is checking if this true\n",
        "  print(a,\"is greater than 10\")\n",
        "  a -= 1 #this is reducing the value of a by 1 in every loop , till it stops being true,\n",
        "         #so example 99,98..65..20,11. it stops at 11 since the conition is still true, 11 is greater than 10\n",
        "         #loop terminates once it becomes false\n",
        "\n",
        "\n"
      ],
      "metadata": {
        "colab": {
          "base_uri": "https://localhost:8080/"
        },
        "id": "rzZnAUWzi6qY",
        "outputId": "1656cf04-7554-495d-9154-10d3fb679f33"
      },
      "execution_count": null,
      "outputs": [
        {
          "output_type": "stream",
          "name": "stdout",
          "text": [
            "100 is greater than 10\n",
            "99 is greater than 10\n",
            "98 is greater than 10\n",
            "97 is greater than 10\n",
            "96 is greater than 10\n",
            "95 is greater than 10\n",
            "94 is greater than 10\n",
            "93 is greater than 10\n",
            "92 is greater than 10\n",
            "91 is greater than 10\n",
            "90 is greater than 10\n",
            "89 is greater than 10\n",
            "88 is greater than 10\n",
            "87 is greater than 10\n",
            "86 is greater than 10\n",
            "85 is greater than 10\n",
            "84 is greater than 10\n",
            "83 is greater than 10\n",
            "82 is greater than 10\n",
            "81 is greater than 10\n",
            "80 is greater than 10\n",
            "79 is greater than 10\n",
            "78 is greater than 10\n",
            "77 is greater than 10\n",
            "76 is greater than 10\n",
            "75 is greater than 10\n",
            "74 is greater than 10\n",
            "73 is greater than 10\n",
            "72 is greater than 10\n",
            "71 is greater than 10\n",
            "70 is greater than 10\n",
            "69 is greater than 10\n",
            "68 is greater than 10\n",
            "67 is greater than 10\n",
            "66 is greater than 10\n",
            "65 is greater than 10\n",
            "64 is greater than 10\n",
            "63 is greater than 10\n",
            "62 is greater than 10\n",
            "61 is greater than 10\n",
            "60 is greater than 10\n",
            "59 is greater than 10\n",
            "58 is greater than 10\n",
            "57 is greater than 10\n",
            "56 is greater than 10\n",
            "55 is greater than 10\n",
            "54 is greater than 10\n",
            "53 is greater than 10\n",
            "52 is greater than 10\n",
            "51 is greater than 10\n",
            "50 is greater than 10\n",
            "49 is greater than 10\n",
            "48 is greater than 10\n",
            "47 is greater than 10\n",
            "46 is greater than 10\n",
            "45 is greater than 10\n",
            "44 is greater than 10\n",
            "43 is greater than 10\n",
            "42 is greater than 10\n",
            "41 is greater than 10\n",
            "40 is greater than 10\n",
            "39 is greater than 10\n",
            "38 is greater than 10\n",
            "37 is greater than 10\n",
            "36 is greater than 10\n",
            "35 is greater than 10\n",
            "34 is greater than 10\n",
            "33 is greater than 10\n",
            "32 is greater than 10\n",
            "31 is greater than 10\n",
            "30 is greater than 10\n",
            "29 is greater than 10\n",
            "28 is greater than 10\n",
            "27 is greater than 10\n",
            "26 is greater than 10\n",
            "25 is greater than 10\n",
            "24 is greater than 10\n",
            "23 is greater than 10\n",
            "22 is greater than 10\n",
            "21 is greater than 10\n",
            "20 is greater than 10\n",
            "19 is greater than 10\n",
            "18 is greater than 10\n",
            "17 is greater than 10\n",
            "16 is greater than 10\n",
            "15 is greater than 10\n",
            "14 is greater than 10\n",
            "13 is greater than 10\n",
            "12 is greater than 10\n",
            "11 is greater than 10\n"
          ]
        }
      ]
    },
    {
      "cell_type": "code",
      "source": [
        "a= 10\n",
        "\n",
        "while a < 100:\n",
        "  print(a, 'is less than 100')\n",
        "  a+= 10"
      ],
      "metadata": {
        "colab": {
          "base_uri": "https://localhost:8080/"
        },
        "id": "UEiz85D2kDnb",
        "outputId": "4aeefffe-0128-4281-b879-35362dccad57"
      },
      "execution_count": null,
      "outputs": [
        {
          "output_type": "stream",
          "name": "stdout",
          "text": [
            "10 is less than 100\n",
            "20 is less than 100\n",
            "30 is less than 100\n",
            "40 is less than 100\n",
            "50 is less than 100\n",
            "60 is less than 100\n",
            "70 is less than 100\n",
            "80 is less than 100\n",
            "90 is less than 100\n"
          ]
        }
      ]
    },
    {
      "cell_type": "code",
      "source": [
        "#increase\n",
        "i= 50\n",
        "while i< 200:\n",
        "  print(i,'is less than 200')\n",
        "  i+=10\n",
        "\n",
        "#decrease of 20\n",
        "i= 280\n",
        "while i> 200:\n",
        "  print(i,'is greater than 200')\n",
        "  i-=20\n",
        "\n",
        "\n",
        "\n"
      ],
      "metadata": {
        "colab": {
          "base_uri": "https://localhost:8080/"
        },
        "id": "w3kbDK84k1I-",
        "outputId": "bf2e3b5e-d76d-47d6-f749-1ea723008a7a"
      },
      "execution_count": null,
      "outputs": [
        {
          "output_type": "stream",
          "name": "stdout",
          "text": [
            "50 is less than 200\n",
            "60 is less than 200\n",
            "70 is less than 200\n",
            "80 is less than 200\n",
            "90 is less than 200\n",
            "100 is less than 200\n",
            "110 is less than 200\n",
            "120 is less than 200\n",
            "130 is less than 200\n",
            "140 is less than 200\n",
            "150 is less than 200\n",
            "160 is less than 200\n",
            "170 is less than 200\n",
            "180 is less than 200\n",
            "190 is less than 200\n",
            "280 is greater than 200\n",
            "260 is greater than 200\n",
            "240 is greater than 200\n",
            "220 is greater than 200\n"
          ]
        }
      ]
    },
    {
      "cell_type": "code",
      "source": [
        "#break, continue, pass\n",
        "\n",
        "\n",
        "#break\n",
        "a= 10\n",
        "\n",
        "while a < 100:\n",
        "  if a == 50:\n",
        "    break     #the moment the value becomes 50 this terminates the loop\n",
        "  print(a, 'is less than 100')\n",
        "  a+= 10\n",
        "\n",
        "\n",
        "\n",
        "\n"
      ],
      "metadata": {
        "colab": {
          "base_uri": "https://localhost:8080/"
        },
        "id": "bLlyRdljl0O8",
        "outputId": "ecd024cd-3251-48ad-f3b4-4467f4eba048"
      },
      "execution_count": null,
      "outputs": [
        {
          "output_type": "stream",
          "name": "stdout",
          "text": [
            "10 is less than 100\n",
            "20 is less than 100\n",
            "30 is less than 100\n",
            "40 is less than 100\n"
          ]
        }
      ]
    },
    {
      "cell_type": "code",
      "source": [
        "#continue\n",
        "\n",
        "a= 10\n",
        "\n",
        "while a < 100:\n",
        "  a+= 10 #this stops the loop at 90\n",
        "\n",
        "  if a == 50:\n",
        "    continue      #this skips over 50 and continues the loop to 100\n",
        "\n",
        "  print(a, 'is less than 100')\n"
      ],
      "metadata": {
        "id": "8pOC2H6ho9MX",
        "colab": {
          "base_uri": "https://localhost:8080/"
        },
        "outputId": "f5d2725f-a24c-428b-e849-f9222c759ec9"
      },
      "execution_count": 51,
      "outputs": [
        {
          "output_type": "stream",
          "name": "stdout",
          "text": [
            "20 is less than 100\n",
            "30 is less than 100\n",
            "40 is less than 100\n",
            "60 is less than 100\n",
            "70 is less than 100\n",
            "80 is less than 100\n",
            "90 is less than 100\n",
            "100 is less than 100\n"
          ]
        }
      ]
    },
    {
      "cell_type": "code",
      "source": [
        "#pass\n",
        "\n",
        "a= 200\n",
        "\n",
        "while (a<500):    #pass will excute code you dont want to write\n",
        "  pass"
      ],
      "metadata": {
        "id": "chQyyDwZpJz0",
        "colab": {
          "base_uri": "https://localhost:8080/",
          "height": 232
        },
        "outputId": "3fbc5ce1-1824-47ee-aadb-7bfd5486ebbe"
      },
      "execution_count": 52,
      "outputs": [
        {
          "output_type": "error",
          "ename": "KeyboardInterrupt",
          "evalue": "ignored",
          "traceback": [
            "\u001b[0;31m---------------------------------------------------------------------------\u001b[0m",
            "\u001b[0;31mKeyboardInterrupt\u001b[0m                         Traceback (most recent call last)",
            "\u001b[0;32m<ipython-input-52-a2b54f61aaff>\u001b[0m in \u001b[0;36m<cell line: 5>\u001b[0;34m()\u001b[0m\n\u001b[1;32m      3\u001b[0m \u001b[0ma\u001b[0m\u001b[0;34m=\u001b[0m \u001b[0;36m200\u001b[0m\u001b[0;34m\u001b[0m\u001b[0;34m\u001b[0m\u001b[0m\n\u001b[1;32m      4\u001b[0m \u001b[0;34m\u001b[0m\u001b[0m\n\u001b[0;32m----> 5\u001b[0;31m \u001b[0;32mwhile\u001b[0m \u001b[0;34m(\u001b[0m\u001b[0ma\u001b[0m\u001b[0;34m<\u001b[0m\u001b[0;36m500\u001b[0m\u001b[0;34m)\u001b[0m\u001b[0;34m:\u001b[0m\u001b[0;34m\u001b[0m\u001b[0;34m\u001b[0m\u001b[0m\n\u001b[0m\u001b[1;32m      6\u001b[0m   \u001b[0;32mpass\u001b[0m\u001b[0;34m\u001b[0m\u001b[0;34m\u001b[0m\u001b[0m\n",
            "\u001b[0;31mKeyboardInterrupt\u001b[0m: "
          ]
        }
      ]
    },
    {
      "cell_type": "code",
      "source": [
        "#write a program that starts from 0 and goes up to 100 and find odd and even numbers; use while loop\n",
        "\n",
        "#STUDY THIS ONE\n",
        "\n",
        "a = 100\n",
        "while a >= 0:\n",
        "  a -= 1\n",
        "  if a%2==0:\n",
        "    print(a, 'is even number')\n",
        "  else:\n",
        "      print(a, 'is odd number')\n"
      ],
      "metadata": {
        "colab": {
          "base_uri": "https://localhost:8080/"
        },
        "id": "Fq7Mph5VrmXd",
        "outputId": "81fb1888-c672-4830-92dc-4afae901d388"
      },
      "execution_count": 92,
      "outputs": [
        {
          "output_type": "stream",
          "name": "stdout",
          "text": [
            "99 is odd number\n",
            "98 is even number\n",
            "97 is odd number\n",
            "96 is even number\n",
            "95 is odd number\n",
            "94 is even number\n",
            "93 is odd number\n",
            "92 is even number\n",
            "91 is odd number\n",
            "90 is even number\n",
            "89 is odd number\n",
            "88 is even number\n",
            "87 is odd number\n",
            "86 is even number\n",
            "85 is odd number\n",
            "84 is even number\n",
            "83 is odd number\n",
            "82 is even number\n",
            "81 is odd number\n",
            "80 is even number\n",
            "79 is odd number\n",
            "78 is even number\n",
            "77 is odd number\n",
            "76 is even number\n",
            "75 is odd number\n",
            "74 is even number\n",
            "73 is odd number\n",
            "72 is even number\n",
            "71 is odd number\n",
            "70 is even number\n",
            "69 is odd number\n",
            "68 is even number\n",
            "67 is odd number\n",
            "66 is even number\n",
            "65 is odd number\n",
            "64 is even number\n",
            "63 is odd number\n",
            "62 is even number\n",
            "61 is odd number\n",
            "60 is even number\n",
            "59 is odd number\n",
            "58 is even number\n",
            "57 is odd number\n",
            "56 is even number\n",
            "55 is odd number\n",
            "54 is even number\n",
            "53 is odd number\n",
            "52 is even number\n",
            "51 is odd number\n",
            "50 is even number\n",
            "49 is odd number\n",
            "48 is even number\n",
            "47 is odd number\n",
            "46 is even number\n",
            "45 is odd number\n",
            "44 is even number\n",
            "43 is odd number\n",
            "42 is even number\n",
            "41 is odd number\n",
            "40 is even number\n",
            "39 is odd number\n",
            "38 is even number\n",
            "37 is odd number\n",
            "36 is even number\n",
            "35 is odd number\n",
            "34 is even number\n",
            "33 is odd number\n",
            "32 is even number\n",
            "31 is odd number\n",
            "30 is even number\n",
            "29 is odd number\n",
            "28 is even number\n",
            "27 is odd number\n",
            "26 is even number\n",
            "25 is odd number\n",
            "24 is even number\n",
            "23 is odd number\n",
            "22 is even number\n",
            "21 is odd number\n",
            "20 is even number\n",
            "19 is odd number\n",
            "18 is even number\n",
            "17 is odd number\n",
            "16 is even number\n",
            "15 is odd number\n",
            "14 is even number\n",
            "13 is odd number\n",
            "12 is even number\n",
            "11 is odd number\n",
            "10 is even number\n",
            "9 is odd number\n",
            "8 is even number\n",
            "7 is odd number\n",
            "6 is even number\n",
            "5 is odd number\n",
            "4 is even number\n",
            "3 is odd number\n",
            "2 is even number\n",
            "1 is odd number\n",
            "0 is even number\n",
            "-1 is odd number\n"
          ]
        }
      ]
    },
    {
      "cell_type": "code",
      "source": [
        "total = 0\n",
        "num= int(input(\"enter a number\"))\n",
        "\n",
        "while num !=0:\n",
        "  total+=num\n",
        "  num= int(input(\"enter a number\"))\n",
        "print(total)\n",
        "\n",
        "\n",
        "#we are taking input and loop is running till the condition is true, so it becomes false when the value of num equals 0"
      ],
      "metadata": {
        "colab": {
          "base_uri": "https://localhost:8080/"
        },
        "id": "RD6kOLRztENK",
        "outputId": "d84916fe-f7dc-4151-80af-cf64fc65e12d"
      },
      "execution_count": 94,
      "outputs": [
        {
          "output_type": "stream",
          "name": "stdout",
          "text": [
            "enter a number1\n",
            "enter a number2\n",
            "enter a number3\n",
            "enter a number4\n",
            "enter a number5\n",
            "enter a number55\n",
            "enter a number66\n",
            "enter a number777\n",
            "enter a number888\n",
            "enter a number999\n",
            "enter a number0\n",
            "2800\n"
          ]
        }
      ]
    },
    {
      "cell_type": "code",
      "source": [
        "#you have to count the number of people and see if the voting age is greater than 18 and give count of thosse greater than 18\n",
        "\n",
        "\n",
        "count_under= 0\n",
        "age= int(input(\"enter your age\"))\n",
        "\n",
        "while age >=18:\n",
        "  count_under +=1\n",
        "  age= int(input(\"enter your age\"))\n",
        "\n",
        "print(count_under)\n"
      ],
      "metadata": {
        "colab": {
          "base_uri": "https://localhost:8080/"
        },
        "id": "7_AXPTXgxWGL",
        "outputId": "6daaba76-f564-43a6-bbe8-cef497376f58"
      },
      "execution_count": 103,
      "outputs": [
        {
          "output_type": "stream",
          "name": "stdout",
          "text": [
            "enter your age45\n",
            "enter your age56\n",
            "enter your age67\n",
            "enter your age10\n",
            "3\n"
          ]
        }
      ]
    },
    {
      "cell_type": "code",
      "source": [
        "#use the pop function to delete the elements one by one in the list\n",
        "\n",
        "lst1= [1,2,3,4,5,6,7,8,9,10,11,22,33,44,55,66,77,88,99,110,12,23,34,45,56,67,78,89,90]\n",
        "\n",
        "while lst1:\n",
        "  print(lst1.pop())\n",
        "\n",
        "\n",
        "\n",
        "\n",
        "\n",
        "\n"
      ],
      "metadata": {
        "colab": {
          "base_uri": "https://localhost:8080/",
          "height": 250
        },
        "id": "u9fJIXbdy7ef",
        "outputId": "2fc41629-cafe-4220-a475-dfe86f23122f"
      },
      "execution_count": 110,
      "outputs": [
        {
          "output_type": "error",
          "ename": "KeyboardInterrupt",
          "evalue": "ignored",
          "traceback": [
            "\u001b[0;31m---------------------------------------------------------------------------\u001b[0m",
            "\u001b[0;31mKeyboardInterrupt\u001b[0m                         Traceback (most recent call last)",
            "\u001b[0;32m<ipython-input-110-7ce163b09037>\u001b[0m in \u001b[0;36m<cell line: 6>\u001b[0;34m()\u001b[0m\n\u001b[1;32m      5\u001b[0m \u001b[0;34m\u001b[0m\u001b[0m\n\u001b[1;32m      6\u001b[0m \u001b[0;32mwhile\u001b[0m \u001b[0mlst1\u001b[0m\u001b[0;34m:\u001b[0m\u001b[0;34m\u001b[0m\u001b[0;34m\u001b[0m\u001b[0m\n\u001b[0;32m----> 7\u001b[0;31m   \u001b[0;32mif\u001b[0m \u001b[0mlst1\u001b[0m \u001b[0;34m!=\u001b[0m \u001b[0mlst1\u001b[0m\u001b[0;34m:\u001b[0m\u001b[0;34m\u001b[0m\u001b[0;34m\u001b[0m\u001b[0m\n\u001b[0m\u001b[1;32m      8\u001b[0m     \u001b[0mprint\u001b[0m \u001b[0;34m(\u001b[0m\u001b[0mlst1\u001b[0m\u001b[0;34m.\u001b[0m\u001b[0mpop\u001b[0m\u001b[0;34m(\u001b[0m\u001b[0;34m)\u001b[0m\u001b[0;34m)\u001b[0m\u001b[0;34m\u001b[0m\u001b[0;34m\u001b[0m\u001b[0m\n\u001b[1;32m      9\u001b[0m \u001b[0;34m\u001b[0m\u001b[0m\n",
            "\u001b[0;31mKeyboardInterrupt\u001b[0m: "
          ]
        }
      ]
    },
    {
      "cell_type": "code",
      "source": [
        "#write a program where number is diviable by 5 and 7 both\n",
        "\n",
        "num1= int(input(\"enter a number\"))\n",
        "\n",
        "while (num1%5==0) and (num1%7==0):\n",
        "  print(num1,'is divisble by 5 and 7')\n",
        "  break\n",
        "else:\n",
        "  print(num1,'is not divisble by 5 and 7')"
      ],
      "metadata": {
        "colab": {
          "base_uri": "https://localhost:8080/"
        },
        "id": "eXZ4VJAl213S",
        "outputId": "57c6d1bc-a9b7-48de-efe4-e1afa14d74cb"
      },
      "execution_count": 117,
      "outputs": [
        {
          "output_type": "stream",
          "name": "stdout",
          "text": [
            "enter a number350\n",
            "350 is divisble by 5 and 7\n"
          ]
        }
      ]
    },
    {
      "cell_type": "code",
      "source": [],
      "metadata": {
        "id": "IalxkIJM6JMz"
      },
      "execution_count": 115,
      "outputs": []
    }
  ]
}