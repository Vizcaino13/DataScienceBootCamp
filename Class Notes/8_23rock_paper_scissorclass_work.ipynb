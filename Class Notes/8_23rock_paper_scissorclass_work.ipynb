{
  "nbformat": 4,
  "nbformat_minor": 0,
  "metadata": {
    "colab": {
      "provenance": []
    },
    "kernelspec": {
      "name": "python3",
      "display_name": "Python 3"
    },
    "language_info": {
      "name": "python"
    }
  },
  "cells": [
    {
      "cell_type": "code",
      "execution_count": 1,
      "metadata": {
        "id": "YTHD4lFOVxut"
      },
      "outputs": [],
      "source": [
        "# Rules\n",
        "#The game should only stop when the user wins! If its a tie or user loses game should continue\n",
        "#Rock smashes scissors.\n",
        "#Paper covers rock.\n",
        "#Scissors cut paper.\n",
        "\n",
        "#3 choices in total\n",
        "# 1 rock\n",
        "# 2 paper\n",
        "# 3 scissors\n",
        "\n",
        "\n",
        "# rock beats scissors\n",
        "# scissors beats paper\n",
        "# paper beats rock\n",
        "# if they have the same choice its a tie\n",
        "\n",
        "#this game has to be played by user and computer, the user has to win to exit the game"
      ]
    },
    {
      "cell_type": "code",
      "source": [
        "import random\n",
        "\n",
        "possible_actions=[\"rock\",\"paper\", \"scissors\"]\n",
        "computer_action=random.choice(possible_actions)\n",
        "computer_action"
      ],
      "metadata": {
        "colab": {
          "base_uri": "https://localhost:8080/",
          "height": 35
        },
        "id": "1yKP5aAEXMFx",
        "outputId": "d19002de-ddf5-4be1-9ec3-634dcbd65bfe"
      },
      "execution_count": 4,
      "outputs": [
        {
          "output_type": "execute_result",
          "data": {
            "text/plain": [
              "'rock'"
            ],
            "application/vnd.google.colaboratory.intrinsic+json": {
              "type": "string"
            }
          },
          "metadata": {},
          "execution_count": 4
        }
      ]
    },
    {
      "cell_type": "code",
      "source": [
        "import random\n",
        "\n",
        "possible_actions=[\"rock\",\"paper\", \"scissors\"]\n",
        "computer_action=random.choice(possible_actions)\n",
        "computer_action\n",
        "\n",
        "user_choice=input(\"Make a choice rock, paper , scissors\")\n",
        "\n",
        "def user_option(user_choice):\n",
        "    if user_choice== \"rock\" and computer_action == \"scissors\":\n",
        "      return \"rock beats scissors: the user won\"\n",
        "    elif user_choice== \"scissors\" and computer_action == \"paper\":\n",
        "        return \"scissors beats paper: the user won\"\n",
        "    elif user_choice== \"paper\" and computer_action == \"rock\":\n",
        "            return \"paper beats rock: the user won\"\n",
        "    elif user_choice == computer_action:\n",
        "            print(\"this is a tie\")\n",
        "    else:\n",
        "              print(\"the computer won\")\n",
        "\n",
        "who_wins= user_option(user_choice)"
      ],
      "metadata": {
        "colab": {
          "base_uri": "https://localhost:8080/",
          "height": 399
        },
        "id": "IAtyKJoNXsgo",
        "outputId": "de749a9a-d4b2-4cb4-f98f-aede87d2880c"
      },
      "execution_count": 89,
      "outputs": [
        {
          "output_type": "error",
          "ename": "KeyboardInterrupt",
          "evalue": "ignored",
          "traceback": [
            "\u001b[0;31m---------------------------------------------------------------------------\u001b[0m",
            "\u001b[0;31mKeyboardInterrupt\u001b[0m                         Traceback (most recent call last)",
            "\u001b[0;32m<ipython-input-89-58b1328c7f14>\u001b[0m in \u001b[0;36m<cell line: 7>\u001b[0;34m()\u001b[0m\n\u001b[1;32m      5\u001b[0m \u001b[0mcomputer_action\u001b[0m\u001b[0;34m\u001b[0m\u001b[0;34m\u001b[0m\u001b[0m\n\u001b[1;32m      6\u001b[0m \u001b[0;34m\u001b[0m\u001b[0m\n\u001b[0;32m----> 7\u001b[0;31m \u001b[0muser_choice\u001b[0m\u001b[0;34m=\u001b[0m\u001b[0minput\u001b[0m\u001b[0;34m(\u001b[0m\u001b[0;34m\"Make a choice rock, paper , scissors\"\u001b[0m\u001b[0;34m)\u001b[0m\u001b[0;34m\u001b[0m\u001b[0;34m\u001b[0m\u001b[0m\n\u001b[0m\u001b[1;32m      8\u001b[0m \u001b[0;34m\u001b[0m\u001b[0m\n\u001b[1;32m      9\u001b[0m \u001b[0;32mdef\u001b[0m \u001b[0muser_option\u001b[0m\u001b[0;34m(\u001b[0m\u001b[0muser_choice\u001b[0m\u001b[0;34m)\u001b[0m\u001b[0;34m:\u001b[0m\u001b[0;34m\u001b[0m\u001b[0;34m\u001b[0m\u001b[0m\n",
            "\u001b[0;32m/usr/local/lib/python3.10/dist-packages/ipykernel/kernelbase.py\u001b[0m in \u001b[0;36mraw_input\u001b[0;34m(self, prompt)\u001b[0m\n\u001b[1;32m    849\u001b[0m                 \u001b[0;34m\"raw_input was called, but this frontend does not support input requests.\"\u001b[0m\u001b[0;34m\u001b[0m\u001b[0;34m\u001b[0m\u001b[0m\n\u001b[1;32m    850\u001b[0m             )\n\u001b[0;32m--> 851\u001b[0;31m         return self._input_request(str(prompt),\n\u001b[0m\u001b[1;32m    852\u001b[0m             \u001b[0mself\u001b[0m\u001b[0;34m.\u001b[0m\u001b[0m_parent_ident\u001b[0m\u001b[0;34m,\u001b[0m\u001b[0;34m\u001b[0m\u001b[0;34m\u001b[0m\u001b[0m\n\u001b[1;32m    853\u001b[0m             \u001b[0mself\u001b[0m\u001b[0;34m.\u001b[0m\u001b[0m_parent_header\u001b[0m\u001b[0;34m,\u001b[0m\u001b[0;34m\u001b[0m\u001b[0;34m\u001b[0m\u001b[0m\n",
            "\u001b[0;32m/usr/local/lib/python3.10/dist-packages/ipykernel/kernelbase.py\u001b[0m in \u001b[0;36m_input_request\u001b[0;34m(self, prompt, ident, parent, password)\u001b[0m\n\u001b[1;32m    893\u001b[0m             \u001b[0;32mexcept\u001b[0m \u001b[0mKeyboardInterrupt\u001b[0m\u001b[0;34m:\u001b[0m\u001b[0;34m\u001b[0m\u001b[0;34m\u001b[0m\u001b[0m\n\u001b[1;32m    894\u001b[0m                 \u001b[0;31m# re-raise KeyboardInterrupt, to truncate traceback\u001b[0m\u001b[0;34m\u001b[0m\u001b[0;34m\u001b[0m\u001b[0m\n\u001b[0;32m--> 895\u001b[0;31m                 \u001b[0;32mraise\u001b[0m \u001b[0mKeyboardInterrupt\u001b[0m\u001b[0;34m(\u001b[0m\u001b[0;34m\"Interrupted by user\"\u001b[0m\u001b[0;34m)\u001b[0m \u001b[0;32mfrom\u001b[0m \u001b[0;32mNone\u001b[0m\u001b[0;34m\u001b[0m\u001b[0;34m\u001b[0m\u001b[0m\n\u001b[0m\u001b[1;32m    896\u001b[0m             \u001b[0;32mexcept\u001b[0m \u001b[0mException\u001b[0m \u001b[0;32mas\u001b[0m \u001b[0me\u001b[0m\u001b[0;34m:\u001b[0m\u001b[0;34m\u001b[0m\u001b[0;34m\u001b[0m\u001b[0m\n\u001b[1;32m    897\u001b[0m                 \u001b[0mself\u001b[0m\u001b[0;34m.\u001b[0m\u001b[0mlog\u001b[0m\u001b[0;34m.\u001b[0m\u001b[0mwarning\u001b[0m\u001b[0;34m(\u001b[0m\u001b[0;34m\"Invalid Message:\"\u001b[0m\u001b[0;34m,\u001b[0m \u001b[0mexc_info\u001b[0m\u001b[0;34m=\u001b[0m\u001b[0;32mTrue\u001b[0m\u001b[0;34m)\u001b[0m\u001b[0;34m\u001b[0m\u001b[0;34m\u001b[0m\u001b[0m\n",
            "\u001b[0;31mKeyboardInterrupt\u001b[0m: Interrupted by user"
          ]
        }
      ]
    },
    {
      "cell_type": "code",
      "source": [
        "\n",
        "if user_choice == computer_action:\n",
        "  print(\"this is a tie\")"
      ],
      "metadata": {
        "id": "yFsl6t40Yxr0"
      },
      "execution_count": 84,
      "outputs": []
    },
    {
      "cell_type": "code",
      "source": [
        "import random\n",
        "\n",
        "possible_actions=[\"rock\",\"paper\", \"scissors\"]\n",
        "computer_action=random.choice(possible_actions)\n",
        "computer_action\n",
        "\n",
        "user_choice=input(\"Make a choice rock, paper , scissors\")\n",
        "\n",
        "def combo(user_choice):\n",
        "  for k in user_choice and computer_action:\n",
        "    if user_choice == \"rock\"  and computer_action ==\"scissors\":\n",
        "      print(\"user choice win\")\n",
        "\n",
        "combo(user_choice)"
      ],
      "metadata": {
        "colab": {
          "base_uri": "https://localhost:8080/"
        },
        "id": "JcNnAYzPZCQJ",
        "outputId": "a15d2769-4321-4446-d6ac-b41b0140befe"
      },
      "execution_count": 68,
      "outputs": [
        {
          "name": "stdout",
          "output_type": "stream",
          "text": [
            "Make a choice rock, paper , scissorspaper\n"
          ]
        }
      ]
    },
    {
      "cell_type": "code",
      "source": [],
      "metadata": {
        "colab": {
          "base_uri": "https://localhost:8080/"
        },
        "id": "qstEDtxhe5cE",
        "outputId": "e9d81886-0e9a-440d-a2e3-227c6662ad94"
      },
      "execution_count": 73,
      "outputs": [
        {
          "output_type": "stream",
          "name": "stdout",
          "text": [
            "Make a choice: rock, paper, scissors rock\n",
            "You chose rock and the computer chose rock. Result: It's a tie\n"
          ]
        }
      ]
    },
    {
      "cell_type": "code",
      "source": [
        "#diff one\n",
        "\n",
        "import random\n",
        "\n",
        "possible_actions=[\"rock\",\"paper\", \"scissors\"]\n",
        "computer_action=random.choice(possible_actions)\n",
        "computer_action\n",
        "user_win= False\n",
        "\n",
        "while not user_win:\n",
        "  user_choice=input(\"Make a choice rock, paper , scissors\")\n",
        "\n",
        "  if user_choice.lower() == 'end':\n",
        "    break\n",
        "def user_option(user_choice):\n",
        "    if user_choice== \"rock\" and computer_action == \"scissors\":\n",
        "      return \"rock beats scissors: the user won\"\n",
        "    elif user_choice== \"scissors\" and computer_action == \"paper\":\n",
        "        return \"scissors beats paper: the user won\"\n",
        "    elif user_choice== \"paper\" and computer_action == \"rock\":\n",
        "        return \"paper beats rock: the user won\"\n",
        "    elif user_choice == computer_action:\n",
        "        return \"this is a tie\"\n",
        "    else:\n",
        "        return \"the computer won\"\n",
        "\n",
        "who_wins= user_option(user_choice)\n",
        "print(\"your choice\", user_choice, \"the compuers choice\", computer_action,\"result\", who_wins)\n",
        "\n",
        "if \"user won\" in who_wins.lower():\n",
        "        user_win = True\n"
      ],
      "metadata": {
        "colab": {
          "base_uri": "https://localhost:8080/"
        },
        "id": "PGdHXWQcgczP",
        "outputId": "1e8a1a44-c983-4c17-be6d-7d8baa7a53b9"
      },
      "execution_count": null,
      "outputs": [
        {
          "name": "stdout",
          "output_type": "stream",
          "text": [
            "Make a choice rock, paper , scissorspaper\n",
            "Make a choice rock, paper , scissorspaper\n",
            "Make a choice rock, paper , scissorspaper\n",
            "Make a choice rock, paper , scissorspaper\n"
          ]
        }
      ]
    },
    {
      "cell_type": "code",
      "source": [
        "\n",
        "import random\n",
        "\n",
        "possible_actions = [\"rock\", \"paper\", \"scissors\"]\n",
        "computer_action = random.choice(possible_actions)\n",
        "user_win = False\n",
        "\n",
        "while not user_win:\n",
        "    user_choice = input(\"Make a choice: rock, paper, scissors (or type 'quit' to exit) \")\n",
        "\n",
        "    if user_choice.lower() == 'quit':\n",
        "        break  # Exit the loop if the user types 'quit'\n",
        "\n",
        "    def user_option(user_choice):\n",
        "        if user_choice == \"rock\" and computer_action == \"scissors\":\n",
        "            return \"Rock beats scissors: the user won\"\n",
        "        elif user_choice == \"scissors\" and computer_action == \"paper\":\n",
        "            return \"Scissors beats paper: the user won\"\n",
        "        elif user_choice == \"paper\" and computer_action == \"rock\":\n",
        "            return \"Paper beats rock: the user won\"\n",
        "        elif user_choice == computer_action:\n",
        "            return \"It's a tie\"\n",
        "        else:\n",
        "            return \"The computer won\"\n",
        "\n",
        "    who_wins = user_option(user_choice)\n",
        "    print(f\"You chose {user_choice} and the computer chose {computer_action}. Result: {who_wins}\")\n",
        "\n",
        "    if \"user won\" in who_wins.lower():\n",
        "        user_win = True\n",
        "\n"
      ],
      "metadata": {
        "colab": {
          "base_uri": "https://localhost:8080/",
          "height": 399
        },
        "id": "LJSy_nBYiaLN",
        "outputId": "bfd13cc2-d29b-4e53-8582-2356534d2f81"
      },
      "execution_count": 123,
      "outputs": [
        {
          "output_type": "error",
          "ename": "KeyboardInterrupt",
          "evalue": "ignored",
          "traceback": [
            "\u001b[0;31m---------------------------------------------------------------------------\u001b[0m",
            "\u001b[0;31mKeyboardInterrupt\u001b[0m                         Traceback (most recent call last)",
            "\u001b[0;32m<ipython-input-123-920644c1b024>\u001b[0m in \u001b[0;36m<cell line: 7>\u001b[0;34m()\u001b[0m\n\u001b[1;32m      6\u001b[0m \u001b[0;34m\u001b[0m\u001b[0m\n\u001b[1;32m      7\u001b[0m \u001b[0;32mwhile\u001b[0m \u001b[0;32mnot\u001b[0m \u001b[0muser_win\u001b[0m\u001b[0;34m:\u001b[0m\u001b[0;34m\u001b[0m\u001b[0;34m\u001b[0m\u001b[0m\n\u001b[0;32m----> 8\u001b[0;31m     \u001b[0muser_choice\u001b[0m \u001b[0;34m=\u001b[0m \u001b[0minput\u001b[0m\u001b[0;34m(\u001b[0m\u001b[0;34m\"Make a choice: rock, paper, scissors (or type 'quit' to exit) \"\u001b[0m\u001b[0;34m)\u001b[0m\u001b[0;34m\u001b[0m\u001b[0;34m\u001b[0m\u001b[0m\n\u001b[0m\u001b[1;32m      9\u001b[0m \u001b[0;34m\u001b[0m\u001b[0m\n\u001b[1;32m     10\u001b[0m     \u001b[0;32mif\u001b[0m \u001b[0muser_choice\u001b[0m\u001b[0;34m.\u001b[0m\u001b[0mlower\u001b[0m\u001b[0;34m(\u001b[0m\u001b[0;34m)\u001b[0m \u001b[0;34m==\u001b[0m \u001b[0;34m'quit'\u001b[0m\u001b[0;34m:\u001b[0m\u001b[0;34m\u001b[0m\u001b[0;34m\u001b[0m\u001b[0m\n",
            "\u001b[0;32m/usr/local/lib/python3.10/dist-packages/ipykernel/kernelbase.py\u001b[0m in \u001b[0;36mraw_input\u001b[0;34m(self, prompt)\u001b[0m\n\u001b[1;32m    849\u001b[0m                 \u001b[0;34m\"raw_input was called, but this frontend does not support input requests.\"\u001b[0m\u001b[0;34m\u001b[0m\u001b[0;34m\u001b[0m\u001b[0m\n\u001b[1;32m    850\u001b[0m             )\n\u001b[0;32m--> 851\u001b[0;31m         return self._input_request(str(prompt),\n\u001b[0m\u001b[1;32m    852\u001b[0m             \u001b[0mself\u001b[0m\u001b[0;34m.\u001b[0m\u001b[0m_parent_ident\u001b[0m\u001b[0;34m,\u001b[0m\u001b[0;34m\u001b[0m\u001b[0;34m\u001b[0m\u001b[0m\n\u001b[1;32m    853\u001b[0m             \u001b[0mself\u001b[0m\u001b[0;34m.\u001b[0m\u001b[0m_parent_header\u001b[0m\u001b[0;34m,\u001b[0m\u001b[0;34m\u001b[0m\u001b[0;34m\u001b[0m\u001b[0m\n",
            "\u001b[0;32m/usr/local/lib/python3.10/dist-packages/ipykernel/kernelbase.py\u001b[0m in \u001b[0;36m_input_request\u001b[0;34m(self, prompt, ident, parent, password)\u001b[0m\n\u001b[1;32m    893\u001b[0m             \u001b[0;32mexcept\u001b[0m \u001b[0mKeyboardInterrupt\u001b[0m\u001b[0;34m:\u001b[0m\u001b[0;34m\u001b[0m\u001b[0;34m\u001b[0m\u001b[0m\n\u001b[1;32m    894\u001b[0m                 \u001b[0;31m# re-raise KeyboardInterrupt, to truncate traceback\u001b[0m\u001b[0;34m\u001b[0m\u001b[0;34m\u001b[0m\u001b[0m\n\u001b[0;32m--> 895\u001b[0;31m                 \u001b[0;32mraise\u001b[0m \u001b[0mKeyboardInterrupt\u001b[0m\u001b[0;34m(\u001b[0m\u001b[0;34m\"Interrupted by user\"\u001b[0m\u001b[0;34m)\u001b[0m \u001b[0;32mfrom\u001b[0m \u001b[0;32mNone\u001b[0m\u001b[0;34m\u001b[0m\u001b[0;34m\u001b[0m\u001b[0m\n\u001b[0m\u001b[1;32m    896\u001b[0m             \u001b[0;32mexcept\u001b[0m \u001b[0mException\u001b[0m \u001b[0;32mas\u001b[0m \u001b[0me\u001b[0m\u001b[0;34m:\u001b[0m\u001b[0;34m\u001b[0m\u001b[0;34m\u001b[0m\u001b[0m\n\u001b[1;32m    897\u001b[0m                 \u001b[0mself\u001b[0m\u001b[0;34m.\u001b[0m\u001b[0mlog\u001b[0m\u001b[0;34m.\u001b[0m\u001b[0mwarning\u001b[0m\u001b[0;34m(\u001b[0m\u001b[0;34m\"Invalid Message:\"\u001b[0m\u001b[0;34m,\u001b[0m \u001b[0mexc_info\u001b[0m\u001b[0;34m=\u001b[0m\u001b[0;32mTrue\u001b[0m\u001b[0;34m)\u001b[0m\u001b[0;34m\u001b[0m\u001b[0;34m\u001b[0m\u001b[0m\n",
            "\u001b[0;31mKeyboardInterrupt\u001b[0m: Interrupted by user"
          ]
        }
      ]
    },
    {
      "cell_type": "code",
      "source": [],
      "metadata": {
        "id": "VnqF9Lq3o1g0"
      },
      "execution_count": null,
      "outputs": []
    }
  ]
}