{
  "nbformat": 4,
  "nbformat_minor": 0,
  "metadata": {
    "colab": {
      "provenance": []
    },
    "kernelspec": {
      "name": "python3",
      "display_name": "Python 3"
    },
    "language_info": {
      "name": "python"
    }
  },
  "cells": [
    {
      "cell_type": "code",
      "execution_count": 1,
      "metadata": {
        "id": "RJkZG3zzH378"
      },
      "outputs": [],
      "source": [
        "#file handinhg is for day to day logs to maintail the logs in the systems\n",
        "\n",
        " #for creating file file the mode is x\n",
        "\n",
        "\n",
        " #while loop works for if the condotion is true and once that becomes false then it stops working\n",
        "\n",
        " #for loop you have a condion, will work for a amount of times you choose, so like in the range\n"
      ]
    },
    {
      "cell_type": "code",
      "source": [
        "#pandas library was developed on numpy, pandas is on numpy, it has inhertited all features,just with new features added on it\n",
        "#seaborn is upon matplotlib, seaborn has inheritated all features on matplotlib\n",
        "#Keras is upon tensorflow this is for Machine learing\n",
        "#keras is the gift wrapper for tensorflow\n",
        "#scikit-learn is collection of all algortimns(related librariaries and apis) of machine learing"
      ],
      "metadata": {
        "id": "pMNFThTOKQ5y"
      },
      "execution_count": null,
      "outputs": []
    }
  ]
}