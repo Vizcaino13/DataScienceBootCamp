{
  "nbformat": 4,
  "nbformat_minor": 0,
  "metadata": {
    "colab": {
      "provenance": []
    },
    "kernelspec": {
      "name": "python3",
      "display_name": "Python 3"
    },
    "language_info": {
      "name": "python"
    }
  },
  "cells": [
    {
      "cell_type": "code",
      "source": [
        "# Create a Shape class with subclasses like Circle, Rectangle, and Triangle.\n",
        "#  Implement methods to calculate area and perimeter for each shape.\n",
        "\n",
        "#abstract class, a blueprint or lay out for the function\n",
        "\n",
        "#correct way\n",
        "class Shape:\n",
        "\n",
        "  def calculate_arera(self):\n",
        "    pass\n",
        "\n",
        "  def calculate_perimeter(self):\n",
        "    pass\n",
        "\n",
        "class Rectangle(Shape):\n",
        "  def __init__(self,length,width):\n",
        "    self.width=width\n",
        "    self.length=length\n",
        "\n",
        "  def calculate_area(self):\n",
        "    return self.length*self.width\n",
        "\n",
        "  def calculate_perimete(self):\n",
        "    return 2*(self.length*self.width)\n",
        "\n",
        "class Circle(Shape):\n",
        "  def __init__(self,radius):\n",
        "    self.radius=radius\n",
        "\n",
        "  def calculate_area(self):\n",
        "    return 3.14*self.radius**2\n",
        "\n",
        "  def calculate_perimete(self):\n",
        "    return 2*3.14*self.radius\n",
        "\n",
        "class Triangle(Shape):\n",
        "  def __init__(self,base,height,side1,side2,side3):\n",
        "    self.base=base\n",
        "    self.height=height\n",
        "    self.side1=side1\n",
        "    self.side2=side2\n",
        "    self.side3=side3\n",
        "\n",
        "  def calculate_area(self):\n",
        "    return 5*self.base*self.height\n",
        "\n",
        "  def calculate_perimete(self):\n",
        "    return self.side1+self.side2+self.side3\n",
        "\n"
      ],
      "metadata": {
        "id": "7RYnkLhWdtjE"
      },
      "execution_count": null,
      "outputs": []
    },
    {
      "cell_type": "code",
      "source": [
        "circleobj=Circle(5)\n",
        "print(circleobj.calculate_area())\n",
        "print(circleobj.calculate_perimete())"
      ],
      "metadata": {
        "colab": {
          "base_uri": "https://localhost:8080/"
        },
        "id": "ArV7dztvgwwT",
        "outputId": "566f6c20-6c63-4314-8f72-84b5b60c2ba0"
      },
      "execution_count": null,
      "outputs": [
        {
          "output_type": "stream",
          "name": "stdout",
          "text": [
            "78.5\n",
            "31.400000000000002\n"
          ]
        }
      ]
    },
    {
      "cell_type": "code",
      "execution_count": null,
      "metadata": {
        "colab": {
          "base_uri": "https://localhost:8080/",
          "height": 339
        },
        "id": "uawO06qDUMUQ",
        "outputId": "a1f4492f-c6a6-4fc0-c369-b8efd3b0b661"
      },
      "outputs": [
        {
          "output_type": "stream",
          "name": "stdout",
          "text": [
            "enter the length 6\n",
            "enter the witdth 8\n",
            "this is the area of rectangle is  48\n",
            "this is the perimeter of rectangle is  28\n",
            "Enter circle's radius length: 7\n",
            "this is the area of circle is  153.86\n",
            "this is the perimeter of circle is  43.96\n"
          ]
        },
        {
          "output_type": "error",
          "ename": "AttributeError",
          "evalue": "ignored",
          "traceback": [
            "\u001b[0;31m---------------------------------------------------------------------------\u001b[0m",
            "\u001b[0;31mAttributeError\u001b[0m                            Traceback (most recent call last)",
            "\u001b[0;32m<ipython-input-41-e06cb5dae9ec>\u001b[0m in \u001b[0;36m<cell line: 37>\u001b[0;34m()\u001b[0m\n\u001b[1;32m     35\u001b[0m   \u001b[0mprint\u001b[0m\u001b[0;34m(\u001b[0m\u001b[0;34m\"this is the perimeter of circle is \"\u001b[0m\u001b[0;34m,\u001b[0m \u001b[0mcircle_perm\u001b[0m\u001b[0;34m)\u001b[0m\u001b[0;34m\u001b[0m\u001b[0;34m\u001b[0m\u001b[0m\n\u001b[1;32m     36\u001b[0m \u001b[0;34m\u001b[0m\u001b[0m\n\u001b[0;32m---> 37\u001b[0;31m \u001b[0mShape\u001b[0m\u001b[0;34m.\u001b[0m\u001b[0mprint_area_perimeter\u001b[0m\u001b[0;34m(\u001b[0m\u001b[0mCircle\u001b[0m\u001b[0;34m)\u001b[0m\u001b[0;34m\u001b[0m\u001b[0;34m\u001b[0m\u001b[0m\n\u001b[0m",
            "\u001b[0;31mAttributeError\u001b[0m: type object 'Shape' has no attribute 'print_area_perimeter'"
          ]
        }
      ],
      "source": [
        "\n",
        "# Create a Shape class with subclasses like Circle, Rectangle, and Triangle.\n",
        "#  Implement methods to calculate area and perimeter for each shape.\n",
        "\n",
        "\n",
        "#my way\n",
        "class Shape:\n",
        " def __init__(self,area, parameter):\n",
        "  self.area=area\n",
        "  self.parameter=parameter\n",
        "  def print_area_perimeter(self):\n",
        "    print(\"this is the area of each\", Rectangle)\n",
        "    print(\"this is the area of each\", Circle)\n",
        "\n",
        "class Rectangle(Shape):\n",
        "  l= int(input(\"enter the length \"))\n",
        "  w= int(input(\"enter the witdth \"))\n",
        "  for i in (l,w):\n",
        "    if l==w:\n",
        "      print(\"thats not a rectangle\")\n",
        "  else:\n",
        "    rect_area = l * w\n",
        "    rect_perm= 2*(l + w)\n",
        "    print(\"this is the area of rectangle is \", rect_area)\n",
        "    print(\"this is the perimeter of rectangle is \", rect_perm)\n",
        "\n",
        "class Circle(Shape):\n",
        "  r = int(input(\"Enter circle's radius length: \"))\n",
        "  pi = 3.14\n",
        "  circ_area = pi * r * r\n",
        "  circle_perm= 2*pi*r\n",
        "  print(\"this is the area of circle is \", circ_area)\n",
        "  print(\"this is the perimeter of circle is \", circle_perm)\n",
        "\n",
        "class Triangle(Shape):\n",
        "  h = int(input(\"Enter triangle's height length: \"))\n",
        "  w = int(input(\"Enter triangle's width length: \"))\n",
        "  l = int(input(\"Enter triangle's length: \"))\n",
        "  tri_area = 0.5 * w * h\n",
        "  tri_perm= w+h+l\n",
        "  print(\"this is the area of triange is \", tri_area)\n",
        "  print(\"this is the perimeter of triangle is \", tri_perm)\n"
      ]
    },
    {
      "cell_type": "code",
      "source": [
        "\n",
        "#1) Online Shopping Cart: Develop an Item class and a ShoppingCart class.\n",
        "#The ShoppingCart class should allow adding items, removing items,\n",
        "#calculating the total cost, and applying discounts.\n",
        "\n",
        "#correct answer\n",
        "\n",
        "class Item:\n",
        "  def __init__(self,name,price):\n",
        "    self.name=name.lower()\n",
        "    self.price=price\n",
        "\n",
        "class ShoppingCart:\n",
        "  def __init__(self):\n",
        "    self.cart_items=[]\n",
        "\n",
        "  def add_items(self,items):\n",
        "    self.cart_items.append(items)\n",
        "\n",
        "  def remove_items(self,item_name):\n",
        "    boolean=False\n",
        "    for cart_item in self.cart_items:\n",
        "      if item_name.lower() == cart_item.name:\n",
        "        self.cart_items.remove(cart_item)\n",
        "        boolean=True\n",
        "        print(\"Item removed from the results\")\n",
        "        break\n",
        "\n",
        "    if not boolean:\n",
        "      print(\"No such Item found\")\n",
        "\n",
        "  def cart_total(self):\n",
        "    sum=0\n",
        "    for cart_item in self.cart_items:\n",
        "      sum=sum+cart_item.price\n",
        "    print(\"Your Total is :- \",sum)\n",
        "    return sum\n",
        "\n",
        "  def discounts(self,discount_percentage):\n",
        "    discount_price=0\n",
        "    if discount_percentage>0 and discount_percentage<100:\n",
        "      total=self.cart_total()\n",
        "      discount_price=total-(total*discount_percentage)/100\n",
        "    else:\n",
        "      discount_price=self.cart_total()\n",
        "    print(\"Total After Discount is\",discount_price)"
      ],
      "metadata": {
        "id": "HZpKloh1ctj8"
      },
      "execution_count": 2,
      "outputs": []
    },
    {
      "cell_type": "code",
      "source": [
        "item1=Item(\"Laptop\",1000)\n",
        "item2=Item(\"TV\",200)\n",
        "item3=Item(\"PS5\",10000)\n",
        "my_cart=ShoppingCart()\n",
        "my_cart.add_items(item1)\n",
        "my_cart.add_items(item2)\n",
        "my_cart.add_items(item3)\n",
        "my_cart.cart_total()\n",
        "my_cart.remove_items(\"Laptop\")\n",
        "my_cart.discounts(20)"
      ],
      "metadata": {
        "colab": {
          "base_uri": "https://localhost:8080/"
        },
        "id": "dF9pdEClhaFJ",
        "outputId": "b814df08-fd7c-4039-e515-4aa49797d5c4"
      },
      "execution_count": 3,
      "outputs": [
        {
          "output_type": "stream",
          "name": "stdout",
          "text": [
            "Your Total is :-  11200\n",
            "Item removed from the results\n",
            "Your Total is :-  10200\n",
            "Total After Discount is 8160.0\n"
          ]
        }
      ]
    },
    {
      "cell_type": "code",
      "source": [
        "#my attempt\n",
        "\n",
        "class Shopping_Cart:\n",
        "  def __init__(self):\n",
        "    self.items=[]\n",
        "\n",
        "  def print_adding_items(self,new_items,cost):\n",
        "    combo={new_items:cost}\n",
        "    if combo not in self.items:\n",
        "      self.items.append(combo)\n",
        "      print(f\"{combo} has been added to your cart.\")\n",
        "    else:\n",
        "        print(f\"this has{combo}already\")\n",
        "\n",
        "  def print_items(self):\n",
        "        print(\"Items in your cart:\")\n",
        "        for i in self.items:\n",
        "            print(i)\n",
        "\n",
        "\n",
        "  def total_cost(self):\n",
        "    print(\"This is your total:\")\n",
        "    for i in self.items:\n",
        "      all_values= i.values()\n",
        "      sum_values= sum(all_values)\n",
        "      print(sum_values)\n",
        "\n",
        "  def print_removing_items(self,new_items,cost):\n",
        "    combo={new_items:cost}\n",
        "    if combo in self.items:\n",
        "      self.items.remove(combo)\n",
        "      print(f\"{combo} has been removed from your cart.\")\n",
        "\n",
        "    def print_items(self):\n",
        "        print(\"Items in your cart:\")\n",
        "        for item in self.items:\n",
        "            print(item)\n",
        "\n",
        "\n",
        "class add_items(Shopping_Cart):\n",
        "  def print_adding_items(self, new_items,cost):\n",
        "    super().print_adding_items(new_items,cost)\n",
        "\n",
        "\n",
        "\n",
        "\n",
        "\n",
        "\n",
        "#combo={new_items:cost}\n",
        "\n",
        "  # def remove_items:\n",
        "\n",
        "  # def total_cost:\n",
        "\n",
        "  # def discounts:"
      ],
      "metadata": {
        "id": "2Im9XhIyUZlW"
      },
      "execution_count": null,
      "outputs": []
    },
    {
      "cell_type": "code",
      "source": [
        "add_itemobj=add_items()\n",
        "add_itemobj.print_adding_items(\"pants\",6)\n",
        "add_itemobj.print_adding_items(\"shirt\",8)\n",
        "add_itemobj.print_adding_items(\"skirt\",6)\n",
        "add_itemobj.print_items()\n",
        "add_itemobj.print_removing_items(\"pants\",6)\n",
        "add_itemobj.print_items()\n",
        "add_itemobj.total_cost()"
      ],
      "metadata": {
        "colab": {
          "base_uri": "https://localhost:8080/"
        },
        "id": "V8U_f1PyHlkH",
        "outputId": "ccff0fe3-c73d-4917-e53c-70aaa6979630"
      },
      "execution_count": null,
      "outputs": [
        {
          "output_type": "stream",
          "name": "stdout",
          "text": [
            "{'pants': 6} has been added to your cart.\n",
            "{'shirt': 8} has been added to your cart.\n",
            "{'skirt': 6} has been added to your cart.\n",
            "Items in your cart:\n",
            "{'pants': 6}\n",
            "{'shirt': 8}\n",
            "{'skirt': 6}\n",
            "{'pants': 6} has been removed from your cart.\n",
            "Items in your cart:\n",
            "{'shirt': 8}\n",
            "{'skirt': 6}\n",
            "This is your total:\n",
            "8\n",
            "6\n"
          ]
        }
      ]
    },
    {
      "cell_type": "code",
      "source": [],
      "metadata": {
        "id": "bYXXUgICpfjF"
      },
      "execution_count": null,
      "outputs": []
    },
    {
      "cell_type": "code",
      "source": [],
      "metadata": {
        "colab": {
          "base_uri": "https://localhost:8080/"
        },
        "id": "Wc81XJmaibbD",
        "outputId": "5d45b5a4-f718-4124-b00a-52be5a6b3aab"
      },
      "execution_count": null,
      "outputs": [
        {
          "output_type": "stream",
          "name": "stdout",
          "text": [
            "3\n"
          ]
        }
      ]
    },
    {
      "cell_type": "code",
      "source": [],
      "metadata": {
        "id": "sKC9OTI2icAz"
      },
      "execution_count": null,
      "outputs": []
    }
  ]
}