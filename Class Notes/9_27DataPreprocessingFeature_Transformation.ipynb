{
  "nbformat": 4,
  "nbformat_minor": 0,
  "metadata": {
    "colab": {
      "provenance": []
    },
    "kernelspec": {
      "name": "python3",
      "display_name": "Python 3"
    },
    "language_info": {
      "name": "python"
    }
  },
  "cells": [
    {
      "cell_type": "markdown",
      "source": [
        "#Data Preprocesing steps\n",
        "\n",
        "#1.)Import Libraries"
      ],
      "metadata": {
        "id": "QzrUXtze-MJd"
      }
    },
    {
      "cell_type": "code",
      "execution_count": null,
      "metadata": {
        "id": "Y0vTrV8u909f"
      },
      "outputs": [],
      "source": [
        "#these are the mandatory libraries in machine learning, these are the default\n",
        "#it is not necissaru to have libraries to be called in the first position , it can be called at anywhere in your code.\n",
        "import numpy as np\n",
        "import pandas as pd\n",
        "import matplotlib.pyplot as plt"
      ]
    },
    {
      "cell_type": "markdown",
      "source": [
        "#2.)Import the Dataset"
      ],
      "metadata": {
        "id": "3iAo7Rxw_26t"
      }
    },
    {
      "cell_type": "code",
      "source": [
        "path=\"/content/Data.xlsx\"\n",
        "\n",
        "df=pd.read_excel(path)\n",
        "\n",
        "df\n",
        "\n",
        "\n"
      ],
      "metadata": {
        "colab": {
          "base_uri": "https://localhost:8080/",
          "height": 417
        },
        "id": "bmIbwuj9-5rR",
        "outputId": "a7969334-a37d-444d-968d-7416c1112605"
      },
      "execution_count": null,
      "outputs": [
        {
          "output_type": "error",
          "ename": "FileNotFoundError",
          "evalue": "ignored",
          "traceback": [
            "\u001b[0;31m---------------------------------------------------------------------------\u001b[0m",
            "\u001b[0;31mFileNotFoundError\u001b[0m                         Traceback (most recent call last)",
            "\u001b[0;32m<ipython-input-3-ebff4bff7fc5>\u001b[0m in \u001b[0;36m<cell line: 3>\u001b[0;34m()\u001b[0m\n\u001b[1;32m      1\u001b[0m \u001b[0mpath\u001b[0m\u001b[0;34m=\u001b[0m\u001b[0;34m\"/content/Data.xlsx\"\u001b[0m\u001b[0;34m\u001b[0m\u001b[0;34m\u001b[0m\u001b[0m\n\u001b[1;32m      2\u001b[0m \u001b[0;34m\u001b[0m\u001b[0m\n\u001b[0;32m----> 3\u001b[0;31m \u001b[0mdf\u001b[0m\u001b[0;34m=\u001b[0m\u001b[0mpd\u001b[0m\u001b[0;34m.\u001b[0m\u001b[0mread_excel\u001b[0m\u001b[0;34m(\u001b[0m\u001b[0mpath\u001b[0m\u001b[0;34m)\u001b[0m\u001b[0;34m\u001b[0m\u001b[0;34m\u001b[0m\u001b[0m\n\u001b[0m\u001b[1;32m      4\u001b[0m \u001b[0;34m\u001b[0m\u001b[0m\n\u001b[1;32m      5\u001b[0m \u001b[0mdf\u001b[0m\u001b[0;34m\u001b[0m\u001b[0;34m\u001b[0m\u001b[0m\n",
            "\u001b[0;32m/usr/local/lib/python3.10/dist-packages/pandas/util/_decorators.py\u001b[0m in \u001b[0;36mwrapper\u001b[0;34m(*args, **kwargs)\u001b[0m\n\u001b[1;32m    209\u001b[0m                 \u001b[0;32melse\u001b[0m\u001b[0;34m:\u001b[0m\u001b[0;34m\u001b[0m\u001b[0;34m\u001b[0m\u001b[0m\n\u001b[1;32m    210\u001b[0m                     \u001b[0mkwargs\u001b[0m\u001b[0;34m[\u001b[0m\u001b[0mnew_arg_name\u001b[0m\u001b[0;34m]\u001b[0m \u001b[0;34m=\u001b[0m \u001b[0mnew_arg_value\u001b[0m\u001b[0;34m\u001b[0m\u001b[0;34m\u001b[0m\u001b[0m\n\u001b[0;32m--> 211\u001b[0;31m             \u001b[0;32mreturn\u001b[0m \u001b[0mfunc\u001b[0m\u001b[0;34m(\u001b[0m\u001b[0;34m*\u001b[0m\u001b[0margs\u001b[0m\u001b[0;34m,\u001b[0m \u001b[0;34m**\u001b[0m\u001b[0mkwargs\u001b[0m\u001b[0;34m)\u001b[0m\u001b[0;34m\u001b[0m\u001b[0;34m\u001b[0m\u001b[0m\n\u001b[0m\u001b[1;32m    212\u001b[0m \u001b[0;34m\u001b[0m\u001b[0m\n\u001b[1;32m    213\u001b[0m         \u001b[0;32mreturn\u001b[0m \u001b[0mcast\u001b[0m\u001b[0;34m(\u001b[0m\u001b[0mF\u001b[0m\u001b[0;34m,\u001b[0m \u001b[0mwrapper\u001b[0m\u001b[0;34m)\u001b[0m\u001b[0;34m\u001b[0m\u001b[0;34m\u001b[0m\u001b[0m\n",
            "\u001b[0;32m/usr/local/lib/python3.10/dist-packages/pandas/util/_decorators.py\u001b[0m in \u001b[0;36mwrapper\u001b[0;34m(*args, **kwargs)\u001b[0m\n\u001b[1;32m    329\u001b[0m                     \u001b[0mstacklevel\u001b[0m\u001b[0;34m=\u001b[0m\u001b[0mfind_stack_level\u001b[0m\u001b[0;34m(\u001b[0m\u001b[0;34m)\u001b[0m\u001b[0;34m,\u001b[0m\u001b[0;34m\u001b[0m\u001b[0;34m\u001b[0m\u001b[0m\n\u001b[1;32m    330\u001b[0m                 )\n\u001b[0;32m--> 331\u001b[0;31m             \u001b[0;32mreturn\u001b[0m \u001b[0mfunc\u001b[0m\u001b[0;34m(\u001b[0m\u001b[0;34m*\u001b[0m\u001b[0margs\u001b[0m\u001b[0;34m,\u001b[0m \u001b[0;34m**\u001b[0m\u001b[0mkwargs\u001b[0m\u001b[0;34m)\u001b[0m\u001b[0;34m\u001b[0m\u001b[0;34m\u001b[0m\u001b[0m\n\u001b[0m\u001b[1;32m    332\u001b[0m \u001b[0;34m\u001b[0m\u001b[0m\n\u001b[1;32m    333\u001b[0m         \u001b[0;31m# error: \"Callable[[VarArg(Any), KwArg(Any)], Any]\" has no\u001b[0m\u001b[0;34m\u001b[0m\u001b[0;34m\u001b[0m\u001b[0m\n",
            "\u001b[0;32m/usr/local/lib/python3.10/dist-packages/pandas/io/excel/_base.py\u001b[0m in \u001b[0;36mread_excel\u001b[0;34m(io, sheet_name, header, names, index_col, usecols, squeeze, dtype, engine, converters, true_values, false_values, skiprows, nrows, na_values, keep_default_na, na_filter, verbose, parse_dates, date_parser, thousands, decimal, comment, skipfooter, convert_float, mangle_dupe_cols, storage_options)\u001b[0m\n\u001b[1;32m    480\u001b[0m     \u001b[0;32mif\u001b[0m \u001b[0;32mnot\u001b[0m \u001b[0misinstance\u001b[0m\u001b[0;34m(\u001b[0m\u001b[0mio\u001b[0m\u001b[0;34m,\u001b[0m \u001b[0mExcelFile\u001b[0m\u001b[0;34m)\u001b[0m\u001b[0;34m:\u001b[0m\u001b[0;34m\u001b[0m\u001b[0;34m\u001b[0m\u001b[0m\n\u001b[1;32m    481\u001b[0m         \u001b[0mshould_close\u001b[0m \u001b[0;34m=\u001b[0m \u001b[0;32mTrue\u001b[0m\u001b[0;34m\u001b[0m\u001b[0;34m\u001b[0m\u001b[0m\n\u001b[0;32m--> 482\u001b[0;31m         \u001b[0mio\u001b[0m \u001b[0;34m=\u001b[0m \u001b[0mExcelFile\u001b[0m\u001b[0;34m(\u001b[0m\u001b[0mio\u001b[0m\u001b[0;34m,\u001b[0m \u001b[0mstorage_options\u001b[0m\u001b[0;34m=\u001b[0m\u001b[0mstorage_options\u001b[0m\u001b[0;34m,\u001b[0m \u001b[0mengine\u001b[0m\u001b[0;34m=\u001b[0m\u001b[0mengine\u001b[0m\u001b[0;34m)\u001b[0m\u001b[0;34m\u001b[0m\u001b[0;34m\u001b[0m\u001b[0m\n\u001b[0m\u001b[1;32m    483\u001b[0m     \u001b[0;32melif\u001b[0m \u001b[0mengine\u001b[0m \u001b[0;32mand\u001b[0m \u001b[0mengine\u001b[0m \u001b[0;34m!=\u001b[0m \u001b[0mio\u001b[0m\u001b[0;34m.\u001b[0m\u001b[0mengine\u001b[0m\u001b[0;34m:\u001b[0m\u001b[0;34m\u001b[0m\u001b[0;34m\u001b[0m\u001b[0m\n\u001b[1;32m    484\u001b[0m         raise ValueError(\n",
            "\u001b[0;32m/usr/local/lib/python3.10/dist-packages/pandas/io/excel/_base.py\u001b[0m in \u001b[0;36m__init__\u001b[0;34m(self, path_or_buffer, engine, storage_options)\u001b[0m\n\u001b[1;32m   1650\u001b[0m                 \u001b[0mext\u001b[0m \u001b[0;34m=\u001b[0m \u001b[0;34m\"xls\"\u001b[0m\u001b[0;34m\u001b[0m\u001b[0;34m\u001b[0m\u001b[0m\n\u001b[1;32m   1651\u001b[0m             \u001b[0;32melse\u001b[0m\u001b[0;34m:\u001b[0m\u001b[0;34m\u001b[0m\u001b[0;34m\u001b[0m\u001b[0m\n\u001b[0;32m-> 1652\u001b[0;31m                 ext = inspect_excel_format(\n\u001b[0m\u001b[1;32m   1653\u001b[0m                     \u001b[0mcontent_or_path\u001b[0m\u001b[0;34m=\u001b[0m\u001b[0mpath_or_buffer\u001b[0m\u001b[0;34m,\u001b[0m \u001b[0mstorage_options\u001b[0m\u001b[0;34m=\u001b[0m\u001b[0mstorage_options\u001b[0m\u001b[0;34m\u001b[0m\u001b[0;34m\u001b[0m\u001b[0m\n\u001b[1;32m   1654\u001b[0m                 )\n",
            "\u001b[0;32m/usr/local/lib/python3.10/dist-packages/pandas/io/excel/_base.py\u001b[0m in \u001b[0;36minspect_excel_format\u001b[0;34m(content_or_path, storage_options)\u001b[0m\n\u001b[1;32m   1523\u001b[0m         \u001b[0mcontent_or_path\u001b[0m \u001b[0;34m=\u001b[0m \u001b[0mBytesIO\u001b[0m\u001b[0;34m(\u001b[0m\u001b[0mcontent_or_path\u001b[0m\u001b[0;34m)\u001b[0m\u001b[0;34m\u001b[0m\u001b[0;34m\u001b[0m\u001b[0m\n\u001b[1;32m   1524\u001b[0m \u001b[0;34m\u001b[0m\u001b[0m\n\u001b[0;32m-> 1525\u001b[0;31m     with get_handle(\n\u001b[0m\u001b[1;32m   1526\u001b[0m         \u001b[0mcontent_or_path\u001b[0m\u001b[0;34m,\u001b[0m \u001b[0;34m\"rb\"\u001b[0m\u001b[0;34m,\u001b[0m \u001b[0mstorage_options\u001b[0m\u001b[0;34m=\u001b[0m\u001b[0mstorage_options\u001b[0m\u001b[0;34m,\u001b[0m \u001b[0mis_text\u001b[0m\u001b[0;34m=\u001b[0m\u001b[0;32mFalse\u001b[0m\u001b[0;34m\u001b[0m\u001b[0;34m\u001b[0m\u001b[0m\n\u001b[1;32m   1527\u001b[0m     ) as handle:\n",
            "\u001b[0;32m/usr/local/lib/python3.10/dist-packages/pandas/io/common.py\u001b[0m in \u001b[0;36mget_handle\u001b[0;34m(path_or_buf, mode, encoding, compression, memory_map, is_text, errors, storage_options)\u001b[0m\n\u001b[1;32m    863\u001b[0m         \u001b[0;32melse\u001b[0m\u001b[0;34m:\u001b[0m\u001b[0;34m\u001b[0m\u001b[0;34m\u001b[0m\u001b[0m\n\u001b[1;32m    864\u001b[0m             \u001b[0;31m# Binary mode\u001b[0m\u001b[0;34m\u001b[0m\u001b[0;34m\u001b[0m\u001b[0m\n\u001b[0;32m--> 865\u001b[0;31m             \u001b[0mhandle\u001b[0m \u001b[0;34m=\u001b[0m \u001b[0mopen\u001b[0m\u001b[0;34m(\u001b[0m\u001b[0mhandle\u001b[0m\u001b[0;34m,\u001b[0m \u001b[0mioargs\u001b[0m\u001b[0;34m.\u001b[0m\u001b[0mmode\u001b[0m\u001b[0;34m)\u001b[0m\u001b[0;34m\u001b[0m\u001b[0;34m\u001b[0m\u001b[0m\n\u001b[0m\u001b[1;32m    866\u001b[0m         \u001b[0mhandles\u001b[0m\u001b[0;34m.\u001b[0m\u001b[0mappend\u001b[0m\u001b[0;34m(\u001b[0m\u001b[0mhandle\u001b[0m\u001b[0;34m)\u001b[0m\u001b[0;34m\u001b[0m\u001b[0;34m\u001b[0m\u001b[0m\n\u001b[1;32m    867\u001b[0m \u001b[0;34m\u001b[0m\u001b[0m\n",
            "\u001b[0;31mFileNotFoundError\u001b[0m: [Errno 2] No such file or directory: '/content/Data.xlsx'"
          ]
        }
      ]
    },
    {
      "cell_type": "code",
      "source": [
        "#data preprocessing takes nearly 60-80 percent of time. understandint the data is the most important thing\n",
        "#column index 0-2 is indpendent index 3 (Purchased)is the dependent column\n",
        "\n",
        "X=df.iloc[:, 0:3].values\n",
        "y=df.iloc[:, -1].values"
      ],
      "metadata": {
        "id": "KNLjXx-Z_nzQ"
      },
      "execution_count": null,
      "outputs": []
    },
    {
      "cell_type": "code",
      "source": [
        "X #shows all independent values"
      ],
      "metadata": {
        "id": "rGgcGxkbCmNS"
      },
      "execution_count": null,
      "outputs": []
    },
    {
      "cell_type": "code",
      "source": [
        "y #shows dependent value"
      ],
      "metadata": {
        "id": "d0rHBEDsC-BR"
      },
      "execution_count": null,
      "outputs": []
    },
    {
      "cell_type": "markdown",
      "source": [
        "#3)Manage Missing Data, work on missing values\n",
        "\n",
        "###Working on Nan values, the scikit-learn does not work with nan values\n",
        "###How to manage missing values, 2 things will be done:\n",
        "* selecting dependent and indepent values"
      ],
      "metadata": {
        "id": "mjwPLtjADdZj"
      }
    },
    {
      "cell_type": "code",
      "source": [
        " #sklearn is the library, the package/api is called impute and within impute theres a class called SimpleImputer\n",
        "\n",
        "from sklearn.impute import SimpleImputer\n",
        "\n",
        "#syntax\n",
        "# sklearn.impute.SimpleImputer(*, missing_values=nan, strategy='mean', fill_value=None, copy=True, add_indicator=False, keep_empty_features=False)\n",
        "\n",
        "\n",
        "#most important parameter- strategy, so different strategies to replace the nan value\n",
        "\n",
        "#mean- after doing the mean of the column, you can replace the nan with the mean\n",
        "#median- after arragning the values in descind or ascending values, get the middle number, you can replace the nan with the median\n",
        "#most_frequent-  most frequent value,  you can replace the nan with the most frequent value\n",
        "#constant- The \"constant\" strategy allows you to specify a constant value using the fill_value parameter. Missing values in the dataset will be replaced with this specified constant valu\n",
        "\n",
        "#based on your team you will dicuss the strategies on how to fill out the missing data"
      ],
      "metadata": {
        "id": "cPDTpvH-DA__"
      },
      "execution_count": null,
      "outputs": []
    },
    {
      "cell_type": "code",
      "source": [
        "df"
      ],
      "metadata": {
        "id": "IqH_v46OKWGt"
      },
      "execution_count": null,
      "outputs": []
    },
    {
      "cell_type": "markdown",
      "source": [
        "# Managing Missing values:\n",
        "#strategy='mean'\n"
      ],
      "metadata": {
        "id": "MBbuwCr3LPWS"
      }
    },
    {
      "cell_type": "code",
      "source": [
        "from sklearn.impute import SimpleImputer\n",
        "imputer = SimpleImputer(missing_values=np.nan, strategy='mean')\n",
        "imputer.fit(X[:, 1:3])\n",
        "X[:, 1:3] = imputer.transform(X[:, 1:3])"
      ],
      "metadata": {
        "id": "9TNxRhshEmxX"
      },
      "execution_count": null,
      "outputs": []
    },
    {
      "cell_type": "code",
      "source": [
        "X #this result shows the missing values replaced with the mean"
      ],
      "metadata": {
        "id": "H-a1Ium_KwwI"
      },
      "execution_count": null,
      "outputs": []
    },
    {
      "cell_type": "markdown",
      "source": [
        "# Managing Missing values:\n",
        "#strategy='median'\n"
      ],
      "metadata": {
        "id": "2LAG1zSMLcAf"
      }
    },
    {
      "cell_type": "code",
      "source": [
        "from sklearn.impute import SimpleImputer\n",
        "imputer = SimpleImputer(missing_values=np.nan, strategy='median')\n",
        "imputer.fit(X[:, 1:3])\n",
        "X[:, 1:3] = imputer.transform(X[:, 1:3])\n",
        "X"
      ],
      "metadata": {
        "id": "6o8qa2eOLBnE"
      },
      "execution_count": null,
      "outputs": []
    },
    {
      "cell_type": "code",
      "source": [
        "#column 1, non numeric values, Country to numeric values\n",
        "\n",
        "\n",
        "# ['France', 44.0, 72000.0],\n",
        "#        ['Spain', 27.0, 48000.0],\n",
        "#        ['Germany', 30.0, 54000.0],\n",
        "#        ['Spain', 38.0, 61000.0],\n",
        "#        ['Germany', 40.0, 61000.0],\n",
        "#        ['France', 35.0, 58000.0],\n",
        "#        ['Spain', 38.0, 52000.0],\n",
        "#        ['France', 48.0, 79000.0],\n",
        "#        ['Germany', 50.0, 83000.0],\n",
        "#        ['France', 37.0, 67000.0]],\n",
        "\n",
        "#    f s g\n",
        "#f   1 0 0\n",
        "#s   0 1 0\n",
        "#g   0 0 1\n",
        "\n",
        "\n",
        "# countries will be replaced by dummy varibles in pandas library , or in sklearn will be called one hot encoder\n",
        "# ( converting non numeric values to numeric )\n",
        "\n",
        "#so in this example france numreric value will be 1,0,0, spain is 0,1,0, and germany is 0,0,1"
      ],
      "metadata": {
        "id": "FaEVpo9ALjmq"
      },
      "execution_count": null,
      "outputs": []
    },
    {
      "cell_type": "markdown",
      "source": [
        "#4)Encoding Categorical Data\n",
        "one hot encoder sklearn"
      ],
      "metadata": {
        "id": "GRHQu16BRmW1"
      }
    },
    {
      "cell_type": "code",
      "source": [
        "from sklearn.compose import ColumnTransformer\n",
        "from sklearn.preprocessing import OneHotEncoder\n",
        "ct = ColumnTransformer(transformers=[('encoder', OneHotEncoder(), [0])], remainder='passthrough')\n",
        "X = np.array(ct.fit_transform(X))\n",
        "X #this replaces the countries into numerical data\n",
        "\n",
        "# so france is now 0.0, 1.0, 0.0, 0.0,\n",
        "\n",
        "# spain is 1.0, 0.0, 0.0, 1.0\n",
        "\n",
        "# germany is 1.0, 0.0, 1.0, 0.0"
      ],
      "metadata": {
        "id": "lfYMQBaKR-Sl"
      },
      "execution_count": null,
      "outputs": []
    },
    {
      "cell_type": "markdown",
      "source": [
        "#Encoding the Dependent Variable"
      ],
      "metadata": {
        "id": "VQLT0u23JWJ0"
      }
    },
    {
      "cell_type": "code",
      "source": [
        "from sklearn.preprocessing import LabelEncoder\n",
        "le = LabelEncoder()\n",
        "y = le.fit_transform(y)"
      ],
      "metadata": {
        "id": "W9UcWaSZJhxD"
      },
      "execution_count": null,
      "outputs": []
    },
    {
      "cell_type": "markdown",
      "source": [
        "##splitting the data into train and test sets\n",
        "\n"
      ],
      "metadata": {
        "id": "Gkj2orZpI9bS"
      }
    },
    {
      "cell_type": "code",
      "source": [
        "from sklearn.model_selection import train_test_split #training is teaching the algorithm what kind of data will come\n",
        "X_train, X_test, y_train, y_test = train_test_split(X, y, test_size=0.2, random_state=0)\n",
        "\n",
        "#The training set is used to teach your machine learning algorithm,\n",
        "#and the testing set is used to evaluate how well it has learned and can make predictions on new, unseen data.\n",
        "# random_state=0 is used to ensure reproducibility. You are selecting one set of values like 8 rows of training purpose ,\n",
        "#it will remain condstant and many for testing purpose\n",
        "#By setting it to a specific value (in this case, 0),\n",
        "# you'll get the same random split every time you run the code. This can be helpful for debugging and sharing results\n",
        "\n",
        "#each random state has a fixed state of random values ,\n",
        "#so if the state is 1 then all the values in the state will be the same but set to that state so it is fixed"
      ],
      "metadata": {
        "id": "51-0T1kcJV5a"
      },
      "execution_count": null,
      "outputs": []
    },
    {
      "cell_type": "code",
      "source": [
        "X_train, X_test, y_train, y_test"
      ],
      "metadata": {
        "id": "UHl_a9gVKtG9"
      },
      "execution_count": null,
      "outputs": []
    },
    {
      "cell_type": "markdown",
      "source": [
        "#Feature Selection\n",
        "\n",
        "* it converts all unit data into one format"
      ],
      "metadata": {
        "id": "lh8tyWY7ZLkH"
      }
    },
    {
      "cell_type": "code",
      "source": [
        "from sklearn.preprocessing import StandardScaler #trying to apply changes on existing data\n",
        "sc= StandardScaler()\n",
        "X_train[:, 3:] = sc.fit_transform(X_train[:, 3:])\n",
        "X_test[:, 3:] = sc.transform(X_test[:, 3:])\n",
        "#this is convering the data into machine readable format, this is the final form\n",
        "\n",
        "#this is canging age and salary"
      ],
      "metadata": {
        "id": "APMTiFZtZDbf"
      },
      "execution_count": null,
      "outputs": []
    },
    {
      "cell_type": "code",
      "source": [
        "X_train\n"
      ],
      "metadata": {
        "id": "4EiJy7-WSlQR"
      },
      "execution_count": null,
      "outputs": []
    },
    {
      "cell_type": "code",
      "source": [
        "#importing libraries\n",
        "\n",
        "import numpy as np\n",
        "import pandas as pd\n",
        "import matplotlib.pyplot as plt\n",
        "from sklearn.impute import SimpleImputer\n"
      ],
      "metadata": {
        "id": "7YRQii1_a4q7"
      },
      "execution_count": null,
      "outputs": []
    },
    {
      "cell_type": "code",
      "source": [
        "#import the dataset\n",
        "\n",
        "path=\"/content/Data3.xlsx\"\n",
        "\n",
        "df=pd.read_excel(path)\n",
        "df"
      ],
      "metadata": {
        "colab": {
          "base_uri": "https://localhost:8080/",
          "height": 363
        },
        "id": "zSI5UcDmd3vP",
        "outputId": "47e04163-b6e7-4dde-b8e5-408edb791ebe"
      },
      "execution_count": null,
      "outputs": [
        {
          "output_type": "execute_result",
          "data": {
            "text/plain": [
              "   Country   Age   Salary Most_Freq Constant Purchased\n",
              "0   France  44.0  72000.0      Pune    India        No\n",
              "1    Spain  27.0  48000.0      Pune    India       Yes\n",
              "2  Germany  30.0  54000.0    Mumbai    India        No\n",
              "3    Spain  38.0  61000.0      Pune    India        No\n",
              "4  Germany  40.0      NaN      Pune    India       Yes\n",
              "5   France  35.0  58000.0    Nagpur    India       Yes\n",
              "6    Spain   NaN  52000.0      Pune    India        No\n",
              "7   France  48.0  79000.0       NaN    India       Yes\n",
              "8  Germany  50.0  83000.0    Mumbai    India        No\n",
              "9   France  37.0  67000.0      Pune      NaN       Yes"
            ],
            "text/html": [
              "\n",
              "  <div id=\"df-feefe4a3-c481-4a33-9bac-ca29fc9c8a6d\" class=\"colab-df-container\">\n",
              "    <div>\n",
              "<style scoped>\n",
              "    .dataframe tbody tr th:only-of-type {\n",
              "        vertical-align: middle;\n",
              "    }\n",
              "\n",
              "    .dataframe tbody tr th {\n",
              "        vertical-align: top;\n",
              "    }\n",
              "\n",
              "    .dataframe thead th {\n",
              "        text-align: right;\n",
              "    }\n",
              "</style>\n",
              "<table border=\"1\" class=\"dataframe\">\n",
              "  <thead>\n",
              "    <tr style=\"text-align: right;\">\n",
              "      <th></th>\n",
              "      <th>Country</th>\n",
              "      <th>Age</th>\n",
              "      <th>Salary</th>\n",
              "      <th>Most_Freq</th>\n",
              "      <th>Constant</th>\n",
              "      <th>Purchased</th>\n",
              "    </tr>\n",
              "  </thead>\n",
              "  <tbody>\n",
              "    <tr>\n",
              "      <th>0</th>\n",
              "      <td>France</td>\n",
              "      <td>44.0</td>\n",
              "      <td>72000.0</td>\n",
              "      <td>Pune</td>\n",
              "      <td>India</td>\n",
              "      <td>No</td>\n",
              "    </tr>\n",
              "    <tr>\n",
              "      <th>1</th>\n",
              "      <td>Spain</td>\n",
              "      <td>27.0</td>\n",
              "      <td>48000.0</td>\n",
              "      <td>Pune</td>\n",
              "      <td>India</td>\n",
              "      <td>Yes</td>\n",
              "    </tr>\n",
              "    <tr>\n",
              "      <th>2</th>\n",
              "      <td>Germany</td>\n",
              "      <td>30.0</td>\n",
              "      <td>54000.0</td>\n",
              "      <td>Mumbai</td>\n",
              "      <td>India</td>\n",
              "      <td>No</td>\n",
              "    </tr>\n",
              "    <tr>\n",
              "      <th>3</th>\n",
              "      <td>Spain</td>\n",
              "      <td>38.0</td>\n",
              "      <td>61000.0</td>\n",
              "      <td>Pune</td>\n",
              "      <td>India</td>\n",
              "      <td>No</td>\n",
              "    </tr>\n",
              "    <tr>\n",
              "      <th>4</th>\n",
              "      <td>Germany</td>\n",
              "      <td>40.0</td>\n",
              "      <td>NaN</td>\n",
              "      <td>Pune</td>\n",
              "      <td>India</td>\n",
              "      <td>Yes</td>\n",
              "    </tr>\n",
              "    <tr>\n",
              "      <th>5</th>\n",
              "      <td>France</td>\n",
              "      <td>35.0</td>\n",
              "      <td>58000.0</td>\n",
              "      <td>Nagpur</td>\n",
              "      <td>India</td>\n",
              "      <td>Yes</td>\n",
              "    </tr>\n",
              "    <tr>\n",
              "      <th>6</th>\n",
              "      <td>Spain</td>\n",
              "      <td>NaN</td>\n",
              "      <td>52000.0</td>\n",
              "      <td>Pune</td>\n",
              "      <td>India</td>\n",
              "      <td>No</td>\n",
              "    </tr>\n",
              "    <tr>\n",
              "      <th>7</th>\n",
              "      <td>France</td>\n",
              "      <td>48.0</td>\n",
              "      <td>79000.0</td>\n",
              "      <td>NaN</td>\n",
              "      <td>India</td>\n",
              "      <td>Yes</td>\n",
              "    </tr>\n",
              "    <tr>\n",
              "      <th>8</th>\n",
              "      <td>Germany</td>\n",
              "      <td>50.0</td>\n",
              "      <td>83000.0</td>\n",
              "      <td>Mumbai</td>\n",
              "      <td>India</td>\n",
              "      <td>No</td>\n",
              "    </tr>\n",
              "    <tr>\n",
              "      <th>9</th>\n",
              "      <td>France</td>\n",
              "      <td>37.0</td>\n",
              "      <td>67000.0</td>\n",
              "      <td>Pune</td>\n",
              "      <td>NaN</td>\n",
              "      <td>Yes</td>\n",
              "    </tr>\n",
              "  </tbody>\n",
              "</table>\n",
              "</div>\n",
              "    <div class=\"colab-df-buttons\">\n",
              "\n",
              "  <div class=\"colab-df-container\">\n",
              "    <button class=\"colab-df-convert\" onclick=\"convertToInteractive('df-feefe4a3-c481-4a33-9bac-ca29fc9c8a6d')\"\n",
              "            title=\"Convert this dataframe to an interactive table.\"\n",
              "            style=\"display:none;\">\n",
              "\n",
              "  <svg xmlns=\"http://www.w3.org/2000/svg\" height=\"24px\" viewBox=\"0 -960 960 960\">\n",
              "    <path d=\"M120-120v-720h720v720H120Zm60-500h600v-160H180v160Zm220 220h160v-160H400v160Zm0 220h160v-160H400v160ZM180-400h160v-160H180v160Zm440 0h160v-160H620v160ZM180-180h160v-160H180v160Zm440 0h160v-160H620v160Z\"/>\n",
              "  </svg>\n",
              "    </button>\n",
              "\n",
              "  <style>\n",
              "    .colab-df-container {\n",
              "      display:flex;\n",
              "      gap: 12px;\n",
              "    }\n",
              "\n",
              "    .colab-df-convert {\n",
              "      background-color: #E8F0FE;\n",
              "      border: none;\n",
              "      border-radius: 50%;\n",
              "      cursor: pointer;\n",
              "      display: none;\n",
              "      fill: #1967D2;\n",
              "      height: 32px;\n",
              "      padding: 0 0 0 0;\n",
              "      width: 32px;\n",
              "    }\n",
              "\n",
              "    .colab-df-convert:hover {\n",
              "      background-color: #E2EBFA;\n",
              "      box-shadow: 0px 1px 2px rgba(60, 64, 67, 0.3), 0px 1px 3px 1px rgba(60, 64, 67, 0.15);\n",
              "      fill: #174EA6;\n",
              "    }\n",
              "\n",
              "    .colab-df-buttons div {\n",
              "      margin-bottom: 4px;\n",
              "    }\n",
              "\n",
              "    [theme=dark] .colab-df-convert {\n",
              "      background-color: #3B4455;\n",
              "      fill: #D2E3FC;\n",
              "    }\n",
              "\n",
              "    [theme=dark] .colab-df-convert:hover {\n",
              "      background-color: #434B5C;\n",
              "      box-shadow: 0px 1px 3px 1px rgba(0, 0, 0, 0.15);\n",
              "      filter: drop-shadow(0px 1px 2px rgba(0, 0, 0, 0.3));\n",
              "      fill: #FFFFFF;\n",
              "    }\n",
              "  </style>\n",
              "\n",
              "    <script>\n",
              "      const buttonEl =\n",
              "        document.querySelector('#df-feefe4a3-c481-4a33-9bac-ca29fc9c8a6d button.colab-df-convert');\n",
              "      buttonEl.style.display =\n",
              "        google.colab.kernel.accessAllowed ? 'block' : 'none';\n",
              "\n",
              "      async function convertToInteractive(key) {\n",
              "        const element = document.querySelector('#df-feefe4a3-c481-4a33-9bac-ca29fc9c8a6d');\n",
              "        const dataTable =\n",
              "          await google.colab.kernel.invokeFunction('convertToInteractive',\n",
              "                                                    [key], {});\n",
              "        if (!dataTable) return;\n",
              "\n",
              "        const docLinkHtml = 'Like what you see? Visit the ' +\n",
              "          '<a target=\"_blank\" href=https://colab.research.google.com/notebooks/data_table.ipynb>data table notebook</a>'\n",
              "          + ' to learn more about interactive tables.';\n",
              "        element.innerHTML = '';\n",
              "        dataTable['output_type'] = 'display_data';\n",
              "        await google.colab.output.renderOutput(dataTable, element);\n",
              "        const docLink = document.createElement('div');\n",
              "        docLink.innerHTML = docLinkHtml;\n",
              "        element.appendChild(docLink);\n",
              "      }\n",
              "    </script>\n",
              "  </div>\n",
              "\n",
              "\n",
              "<div id=\"df-99366cca-53eb-47a6-87d2-e439511414b9\">\n",
              "  <button class=\"colab-df-quickchart\" onclick=\"quickchart('df-99366cca-53eb-47a6-87d2-e439511414b9')\"\n",
              "            title=\"Suggest charts.\"\n",
              "            style=\"display:none;\">\n",
              "\n",
              "<svg xmlns=\"http://www.w3.org/2000/svg\" height=\"24px\"viewBox=\"0 0 24 24\"\n",
              "     width=\"24px\">\n",
              "    <g>\n",
              "        <path d=\"M19 3H5c-1.1 0-2 .9-2 2v14c0 1.1.9 2 2 2h14c1.1 0 2-.9 2-2V5c0-1.1-.9-2-2-2zM9 17H7v-7h2v7zm4 0h-2V7h2v10zm4 0h-2v-4h2v4z\"/>\n",
              "    </g>\n",
              "</svg>\n",
              "  </button>\n",
              "\n",
              "<style>\n",
              "  .colab-df-quickchart {\n",
              "      --bg-color: #E8F0FE;\n",
              "      --fill-color: #1967D2;\n",
              "      --hover-bg-color: #E2EBFA;\n",
              "      --hover-fill-color: #174EA6;\n",
              "      --disabled-fill-color: #AAA;\n",
              "      --disabled-bg-color: #DDD;\n",
              "  }\n",
              "\n",
              "  [theme=dark] .colab-df-quickchart {\n",
              "      --bg-color: #3B4455;\n",
              "      --fill-color: #D2E3FC;\n",
              "      --hover-bg-color: #434B5C;\n",
              "      --hover-fill-color: #FFFFFF;\n",
              "      --disabled-bg-color: #3B4455;\n",
              "      --disabled-fill-color: #666;\n",
              "  }\n",
              "\n",
              "  .colab-df-quickchart {\n",
              "    background-color: var(--bg-color);\n",
              "    border: none;\n",
              "    border-radius: 50%;\n",
              "    cursor: pointer;\n",
              "    display: none;\n",
              "    fill: var(--fill-color);\n",
              "    height: 32px;\n",
              "    padding: 0;\n",
              "    width: 32px;\n",
              "  }\n",
              "\n",
              "  .colab-df-quickchart:hover {\n",
              "    background-color: var(--hover-bg-color);\n",
              "    box-shadow: 0 1px 2px rgba(60, 64, 67, 0.3), 0 1px 3px 1px rgba(60, 64, 67, 0.15);\n",
              "    fill: var(--button-hover-fill-color);\n",
              "  }\n",
              "\n",
              "  .colab-df-quickchart-complete:disabled,\n",
              "  .colab-df-quickchart-complete:disabled:hover {\n",
              "    background-color: var(--disabled-bg-color);\n",
              "    fill: var(--disabled-fill-color);\n",
              "    box-shadow: none;\n",
              "  }\n",
              "\n",
              "  .colab-df-spinner {\n",
              "    border: 2px solid var(--fill-color);\n",
              "    border-color: transparent;\n",
              "    border-bottom-color: var(--fill-color);\n",
              "    animation:\n",
              "      spin 1s steps(1) infinite;\n",
              "  }\n",
              "\n",
              "  @keyframes spin {\n",
              "    0% {\n",
              "      border-color: transparent;\n",
              "      border-bottom-color: var(--fill-color);\n",
              "      border-left-color: var(--fill-color);\n",
              "    }\n",
              "    20% {\n",
              "      border-color: transparent;\n",
              "      border-left-color: var(--fill-color);\n",
              "      border-top-color: var(--fill-color);\n",
              "    }\n",
              "    30% {\n",
              "      border-color: transparent;\n",
              "      border-left-color: var(--fill-color);\n",
              "      border-top-color: var(--fill-color);\n",
              "      border-right-color: var(--fill-color);\n",
              "    }\n",
              "    40% {\n",
              "      border-color: transparent;\n",
              "      border-right-color: var(--fill-color);\n",
              "      border-top-color: var(--fill-color);\n",
              "    }\n",
              "    60% {\n",
              "      border-color: transparent;\n",
              "      border-right-color: var(--fill-color);\n",
              "    }\n",
              "    80% {\n",
              "      border-color: transparent;\n",
              "      border-right-color: var(--fill-color);\n",
              "      border-bottom-color: var(--fill-color);\n",
              "    }\n",
              "    90% {\n",
              "      border-color: transparent;\n",
              "      border-bottom-color: var(--fill-color);\n",
              "    }\n",
              "  }\n",
              "</style>\n",
              "\n",
              "  <script>\n",
              "    async function quickchart(key) {\n",
              "      const quickchartButtonEl =\n",
              "        document.querySelector('#' + key + ' button');\n",
              "      quickchartButtonEl.disabled = true;  // To prevent multiple clicks.\n",
              "      quickchartButtonEl.classList.add('colab-df-spinner');\n",
              "      try {\n",
              "        const charts = await google.colab.kernel.invokeFunction(\n",
              "            'suggestCharts', [key], {});\n",
              "      } catch (error) {\n",
              "        console.error('Error during call to suggestCharts:', error);\n",
              "      }\n",
              "      quickchartButtonEl.classList.remove('colab-df-spinner');\n",
              "      quickchartButtonEl.classList.add('colab-df-quickchart-complete');\n",
              "    }\n",
              "    (() => {\n",
              "      let quickchartButtonEl =\n",
              "        document.querySelector('#df-99366cca-53eb-47a6-87d2-e439511414b9 button');\n",
              "      quickchartButtonEl.style.display =\n",
              "        google.colab.kernel.accessAllowed ? 'block' : 'none';\n",
              "    })();\n",
              "  </script>\n",
              "</div>\n",
              "    </div>\n",
              "  </div>\n"
            ]
          },
          "metadata": {},
          "execution_count": 41
        }
      ]
    },
    {
      "cell_type": "code",
      "source": [
        "#what columns are independent vs dependent\n",
        "\n",
        "ind= df.iloc[:,:5].values\n",
        "ind\n",
        "\n",
        "dep=df.iloc[:, -1]\n",
        "dep"
      ],
      "metadata": {
        "colab": {
          "base_uri": "https://localhost:8080/"
        },
        "id": "cyVG3I5leEGt",
        "outputId": "6ba3d90d-7c83-4386-908b-9842580f95a3"
      },
      "execution_count": null,
      "outputs": [
        {
          "output_type": "execute_result",
          "data": {
            "text/plain": [
              "0     No\n",
              "1    Yes\n",
              "2     No\n",
              "3     No\n",
              "4    Yes\n",
              "5    Yes\n",
              "6     No\n",
              "7    Yes\n",
              "8     No\n",
              "9    Yes\n",
              "Name: Purchased, dtype: object"
            ]
          },
          "metadata": {},
          "execution_count": 42
        }
      ]
    },
    {
      "cell_type": "code",
      "source": [
        "ind"
      ],
      "metadata": {
        "colab": {
          "base_uri": "https://localhost:8080/"
        },
        "id": "NDxkn98geZEz",
        "outputId": "b7931ebf-6da3-40da-b246-49b25a69bec2"
      },
      "execution_count": null,
      "outputs": [
        {
          "output_type": "execute_result",
          "data": {
            "text/plain": [
              "array([['France', 44.0, 72000.0, 'Pune', 'India'],\n",
              "       ['Spain', 27.0, 48000.0, 'Pune', 'India'],\n",
              "       ['Germany', 30.0, 54000.0, 'Mumbai', 'India'],\n",
              "       ['Spain', 38.0, 61000.0, 'Pune', 'India'],\n",
              "       ['Germany', 40.0, nan, 'Pune', 'India'],\n",
              "       ['France', 35.0, 58000.0, 'Nagpur', 'India'],\n",
              "       ['Spain', nan, 52000.0, 'Pune', 'India'],\n",
              "       ['France', 48.0, 79000.0, nan, 'India'],\n",
              "       ['Germany', 50.0, 83000.0, 'Mumbai', 'India'],\n",
              "       ['France', 37.0, 67000.0, 'Pune', nan]], dtype=object)"
            ]
          },
          "metadata": {},
          "execution_count": 43
        }
      ]
    },
    {
      "cell_type": "code",
      "source": [
        "dep"
      ],
      "metadata": {
        "colab": {
          "base_uri": "https://localhost:8080/"
        },
        "id": "97rgUHkXe4a7",
        "outputId": "9c219b4f-e201-4131-e8e7-bf2010ab7f40"
      },
      "execution_count": null,
      "outputs": [
        {
          "output_type": "execute_result",
          "data": {
            "text/plain": [
              "0     No\n",
              "1    Yes\n",
              "2     No\n",
              "3     No\n",
              "4    Yes\n",
              "5    Yes\n",
              "6     No\n",
              "7    Yes\n",
              "8     No\n",
              "9    Yes\n",
              "Name: Purchased, dtype: object"
            ]
          },
          "metadata": {},
          "execution_count": 44
        }
      ]
    },
    {
      "cell_type": "code",
      "source": [
        "#handling null values\n",
        "\n",
        "#mean for numerical\n",
        "\n",
        "from sklearn.impute import SimpleImputer\n",
        "\n",
        "from sklearn.impute import SimpleImputer\n",
        "imputer = SimpleImputer(missing_values=np.nan, strategy='mean')\n",
        "imputer.fit(ind[:, 1:3])\n",
        "ind[:, 1:3] = imputer.transform(ind[:, 1:3])"
      ],
      "metadata": {
        "id": "LWHHf075e5Dt"
      },
      "execution_count": null,
      "outputs": []
    },
    {
      "cell_type": "code",
      "source": [
        "ind"
      ],
      "metadata": {
        "colab": {
          "base_uri": "https://localhost:8080/"
        },
        "id": "8d2NitAefmuT",
        "outputId": "a260a465-5c4b-435d-8a17-a41bc549d1e5"
      },
      "execution_count": null,
      "outputs": [
        {
          "output_type": "execute_result",
          "data": {
            "text/plain": [
              "array([['France', 44.0, 72000.0, 'Pune', 'India'],\n",
              "       ['Spain', 27.0, 48000.0, 'Pune', 'India'],\n",
              "       ['Germany', 30.0, 54000.0, 'Mumbai', 'India'],\n",
              "       ['Spain', 38.0, 61000.0, 'Pune', 'India'],\n",
              "       ['Germany', 40.0, 63777.77777777778, 'Pune', 'India'],\n",
              "       ['France', 35.0, 58000.0, 'Nagpur', 'India'],\n",
              "       ['Spain', 38.77777777777778, 52000.0, 'Pune', 'India'],\n",
              "       ['France', 48.0, 79000.0, nan, 'India'],\n",
              "       ['Germany', 50.0, 83000.0, 'Mumbai', 'India'],\n",
              "       ['France', 37.0, 67000.0, 'Pune', nan]], dtype=object)"
            ]
          },
          "metadata": {},
          "execution_count": 46
        }
      ]
    },
    {
      "cell_type": "code",
      "source": [
        "#most frequent for non numerical\n",
        "from sklearn.impute import SimpleImputer\n",
        "\n",
        "from sklearn.impute import SimpleImputer\n",
        "imputer = SimpleImputer(missing_values=np.nan, strategy='most_frequent')\n",
        "imputer.fit(ind[:, 3:5])\n",
        "ind[:, 3:5] = imputer.transform(ind[:, 3:5])"
      ],
      "metadata": {
        "id": "Pbmc63lefv4d"
      },
      "execution_count": null,
      "outputs": []
    },
    {
      "cell_type": "code",
      "source": [
        "ind"
      ],
      "metadata": {
        "colab": {
          "base_uri": "https://localhost:8080/"
        },
        "id": "C5ar7ST2gNER",
        "outputId": "469e0dc1-f3b5-42e9-9ded-dd7fab6fe6cc"
      },
      "execution_count": null,
      "outputs": [
        {
          "output_type": "execute_result",
          "data": {
            "text/plain": [
              "array([['France', 44.0, 72000.0, 'Pune', 'India'],\n",
              "       ['Spain', 27.0, 48000.0, 'Pune', 'India'],\n",
              "       ['Germany', 30.0, 54000.0, 'Mumbai', 'India'],\n",
              "       ['Spain', 38.0, 61000.0, 'Pune', 'India'],\n",
              "       ['Germany', 40.0, 63777.77777777778, 'Pune', 'India'],\n",
              "       ['France', 35.0, 58000.0, 'Nagpur', 'India'],\n",
              "       ['Spain', 38.77777777777778, 52000.0, 'Pune', 'India'],\n",
              "       ['France', 48.0, 79000.0, 'Pune', 'India'],\n",
              "       ['Germany', 50.0, 83000.0, 'Mumbai', 'India'],\n",
              "       ['France', 37.0, 67000.0, 'Pune', 'India']], dtype=object)"
            ]
          },
          "metadata": {},
          "execution_count": 48
        }
      ]
    },
    {
      "cell_type": "code",
      "source": [
        "#encoding categorical data , independent\n",
        "#this is not creating binary numbers this is just regular numbers\n",
        "from sklearn.compose import ColumnTransformer\n",
        "from sklearn.preprocessing import OneHotEncoder\n",
        "ct = ColumnTransformer(transformers=[('encoder', OneHotEncoder(), [0,3,4])], remainder='passthrough')\n",
        "ind = np.array(ct.fit_transform(ind))\n",
        "ind"
      ],
      "metadata": {
        "id": "1BcwkL3WgXPM",
        "colab": {
          "base_uri": "https://localhost:8080/"
        },
        "outputId": "9bf08fef-6e65-45dc-d0d1-54a93e174597"
      },
      "execution_count": null,
      "outputs": [
        {
          "output_type": "execute_result",
          "data": {
            "text/plain": [
              "array([[1.0, 0.0, 0.0, 0.0, 0.0, 1.0, 1.0, 44.0, 72000.0],\n",
              "       [0.0, 0.0, 1.0, 0.0, 0.0, 1.0, 1.0, 27.0, 48000.0],\n",
              "       [0.0, 1.0, 0.0, 1.0, 0.0, 0.0, 1.0, 30.0, 54000.0],\n",
              "       [0.0, 0.0, 1.0, 0.0, 0.0, 1.0, 1.0, 38.0, 61000.0],\n",
              "       [0.0, 1.0, 0.0, 0.0, 0.0, 1.0, 1.0, 40.0, 63777.77777777778],\n",
              "       [1.0, 0.0, 0.0, 0.0, 1.0, 0.0, 1.0, 35.0, 58000.0],\n",
              "       [0.0, 0.0, 1.0, 0.0, 0.0, 1.0, 1.0, 38.77777777777778, 52000.0],\n",
              "       [1.0, 0.0, 0.0, 0.0, 0.0, 1.0, 1.0, 48.0, 79000.0],\n",
              "       [0.0, 1.0, 0.0, 1.0, 0.0, 0.0, 1.0, 50.0, 83000.0],\n",
              "       [1.0, 0.0, 0.0, 0.0, 0.0, 1.0, 1.0, 37.0, 67000.0]], dtype=object)"
            ]
          },
          "metadata": {},
          "execution_count": 49
        }
      ]
    },
    {
      "cell_type": "code",
      "source": [
        "#encoding dependent\n",
        "\n",
        "from sklearn.preprocessing import LabelEncoder\n",
        "le = LabelEncoder()\n",
        "dep = le.fit_transform(dep)\n",
        "dep"
      ],
      "metadata": {
        "id": "0_gaFe78hKNZ",
        "colab": {
          "base_uri": "https://localhost:8080/"
        },
        "outputId": "e6917a09-3b6f-4b5c-fa93-0707e8e48b00"
      },
      "execution_count": null,
      "outputs": [
        {
          "output_type": "execute_result",
          "data": {
            "text/plain": [
              "array([0, 1, 0, 0, 1, 1, 0, 1, 0, 1])"
            ]
          },
          "metadata": {},
          "execution_count": 50
        }
      ]
    },
    {
      "cell_type": "code",
      "source": [
        "#splitting the data into train and test sets\n",
        "\n",
        "from sklearn.model_selection import train_test_split #training is teaching the algorithm what kind of data will come\n",
        "ind_train, ind_test, dep_train, dep_test = train_test_split(ind, dep, test_size=0.2, random_state=0)\n",
        "ind_train, ind_test, dep_train, dep_test"
      ],
      "metadata": {
        "colab": {
          "base_uri": "https://localhost:8080/"
        },
        "id": "0t7YvkHLXEYs",
        "outputId": "9d5774c4-7690-4721-ef6e-80c892e8c478"
      },
      "execution_count": null,
      "outputs": [
        {
          "output_type": "execute_result",
          "data": {
            "text/plain": [
              "(array([[0.0, 1.0, 0.0, 0.0, 0.0, 1.0, 1.0, 40.0, 63777.77777777778],\n",
              "        [1.0, 0.0, 0.0, 0.0, 0.0, 1.0, 1.0, 37.0, 67000.0],\n",
              "        [0.0, 0.0, 1.0, 0.0, 0.0, 1.0, 1.0, 27.0, 48000.0],\n",
              "        [0.0, 0.0, 1.0, 0.0, 0.0, 1.0, 1.0, 38.77777777777778, 52000.0],\n",
              "        [1.0, 0.0, 0.0, 0.0, 0.0, 1.0, 1.0, 48.0, 79000.0],\n",
              "        [0.0, 0.0, 1.0, 0.0, 0.0, 1.0, 1.0, 38.0, 61000.0],\n",
              "        [1.0, 0.0, 0.0, 0.0, 0.0, 1.0, 1.0, 44.0, 72000.0],\n",
              "        [1.0, 0.0, 0.0, 0.0, 1.0, 0.0, 1.0, 35.0, 58000.0]], dtype=object),\n",
              " array([[0.0, 1.0, 0.0, 1.0, 0.0, 0.0, 1.0, 30.0, 54000.0],\n",
              "        [0.0, 1.0, 0.0, 1.0, 0.0, 0.0, 1.0, 50.0, 83000.0]], dtype=object),\n",
              " array([1, 1, 1, 0, 1, 0, 0, 1]),\n",
              " array([0, 0]))"
            ]
          },
          "metadata": {},
          "execution_count": 51
        }
      ]
    },
    {
      "cell_type": "code",
      "source": [
        "from sklearn.preprocessing import StandardScaler #trying to apply changes on existing data\n",
        "sc= StandardScaler()\n",
        "ind_train[:, 7:] = sc.fit_transform(ind_train[:, 7:])\n",
        "ind_test[:, 7:] = sc.transform(ind_test[:, 7:])\n",
        "\n",
        "#applying commonon unit for age and salary"
      ],
      "metadata": {
        "id": "9nZ-9keHXQ-p"
      },
      "execution_count": null,
      "outputs": []
    },
    {
      "cell_type": "code",
      "source": [
        "ind_train, ind_test"
      ],
      "metadata": {
        "colab": {
          "base_uri": "https://localhost:8080/"
        },
        "id": "_RbpvpBAYjE3",
        "outputId": "15632af3-db13-4213-fc3c-f3f4163280c2"
      },
      "execution_count": null,
      "outputs": [
        {
          "output_type": "execute_result",
          "data": {
            "text/plain": [
              "(array([[0.0, 1.0, 0.0, 0.0, 0.0, 1.0, 1.0, 0.2630675731713538,\n",
              "         0.12381478548381812],\n",
              "        [1.0, 0.0, 0.0, 0.0, 0.0, 1.0, 1.0, -0.25350147960148617,\n",
              "         0.4617563176278852],\n",
              "        [0.0, 0.0, 1.0, 0.0, 0.0, 1.0, 1.0, -1.9753983221776195,\n",
              "         -1.5309334063940299],\n",
              "        [0.0, 0.0, 1.0, 0.0, 0.0, 1.0, 1.0, 0.05261351463427101,\n",
              "         -1.111419780284153],\n",
              "        [1.0, 0.0, 0.0, 0.0, 0.0, 1.0, 1.0, 1.6405850472322605,\n",
              "         1.7202971959575157],\n",
              "        [0.0, 0.0, 1.0, 0.0, 0.0, 1.0, 1.0, -0.08131179534387283,\n",
              "         -0.16751412153693002],\n",
              "        [1.0, 0.0, 0.0, 0.0, 0.0, 1.0, 1.0, 0.9518263102018072,\n",
              "         0.9861483502652313],\n",
              "        [1.0, 0.0, 0.0, 0.0, 1.0, 0.0, 1.0, -0.5978808481167128,\n",
              "         -0.48214934111933766]], dtype=object),\n",
              " array([[0.0, 1.0, 0.0, 1.0, 0.0, 0.0, 1.0, -1.4588292694047795,\n",
              "         -0.9016629672292145],\n",
              "        [0.0, 1.0, 0.0, 1.0, 0.0, 0.0, 1.0, 1.984964415747487,\n",
              "         2.1398108220673926]], dtype=object))"
            ]
          },
          "metadata": {},
          "execution_count": 58
        }
      ]
    },
    {
      "cell_type": "code",
      "source": [],
      "metadata": {
        "id": "Wo3o29IQa4Vs"
      },
      "execution_count": null,
      "outputs": []
    }
  ]
}