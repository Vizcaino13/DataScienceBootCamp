{
  "nbformat": 4,
  "nbformat_minor": 0,
  "metadata": {
    "colab": {
      "provenance": []
    },
    "kernelspec": {
      "name": "python3",
      "display_name": "Python 3"
    },
    "language_info": {
      "name": "python"
    }
  },
  "cells": [
    {
      "cell_type": "code",
      "execution_count": null,
      "metadata": {
        "id": "0ne5L5Ao2EFM"
      },
      "outputs": [],
      "source": [
        "#inheritence: passing on characteristics or abilities from one thing to another, just like how children inherit traits from their parents.\n",
        "#great grandparentclass\n",
        "class transportation:\n",
        "  pass\n",
        "\n",
        " #grandparent\n",
        "class air(transportation):\n",
        "\n",
        "\n",
        "class water(transportation):\n",
        "\n",
        "\n",
        "class land(transportation):\n",
        "#parent\n",
        "class wheeler(land):\n",
        "  pass\n",
        "  class wheeler2(land):\n",
        "  pass\n",
        "  class wheeler3(land):\n",
        "  pass\n",
        "  class wheeler4(land):\n",
        "  pass\n",
        "  class wheeler5(land):\n",
        "  pass\n",
        "  class wheeler6(land):\n",
        "  pass\n",
        "  class wheeler7(land):\n",
        "  pass\n",
        " #child\n",
        " class gas(wheeler):\n",
        "  pass\n",
        "\n",
        " class petrol(wheeler):\n",
        "  pass\n",
        "\n",
        "class electric(wheeler):\n",
        "  pass\n",
        "\n",
        "  class battery(wheeler):\n",
        "  pass"
      ]
    },
    {
      "cell_type": "code",
      "source": [
        "#multiple inheritance has two parents so inheritnace two classes"
      ],
      "metadata": {
        "id": "91KcehuF35eR"
      },
      "execution_count": null,
      "outputs": []
    },
    {
      "cell_type": "code",
      "source": [
        "class mother:\n",
        "  def __init__(self):\n",
        "    pass\n",
        "\n",
        "class father:\n",
        "  def __init__(self):\n",
        "    pass\n",
        "\n",
        "\n",
        "class daughter(mother,father):\n",
        "  def __init__(self):\n",
        "    pass\n",
        "\n",
        "class son(mother,father):\n",
        "  def __init__(self):\n",
        "    pass"
      ],
      "metadata": {
        "id": "HmOfMWsB5CvJ"
      },
      "execution_count": 1,
      "outputs": []
    },
    {
      "cell_type": "code",
      "source": [
        "class mother:\n",
        "  def __init__(self,fname,lname):\n",
        "    self.fname=fname\n",
        "    self.lname=lname\n",
        "    pass\n",
        "  def printname(self):\n",
        "    print(\"mother class:\",self.fname, \"\",self.lname )\n",
        "\n",
        "class father:\n",
        "  def __init__(self,age,favcolor):\n",
        "    self.age=age\n",
        "    self.favcolor=favcolor\n",
        "    pass\n",
        "  def printname(self):\n",
        "    print(\"father class:\",self.age,\"\",self.favcolor )\n",
        "\n",
        "\n",
        "class daughter(mother,father):\n",
        "  def __init__(self, fname,lname,age,favcolor):\n",
        "    self.fname=fname\n",
        "    self.lname=lname\n",
        "    self.age=age\n",
        "    self.favcolor=favcolor\n",
        "    print(\"daughter class:\",self.fname, \"\",self.lname, self.age,\"\",self.favcolor )\n",
        "\n",
        "class son(mother,father):\n",
        "  def __init__(self, fname,lname,age,favcolor):\n",
        "    self.fname=fname\n",
        "    self.lname=lname\n",
        "    self.age=age\n",
        "    self.favcolor=favcolor\n",
        "  def print_it(self):\n",
        "    print(\"son class:\", self.fname,self.lname,self.age,self.favcolor )"
      ],
      "metadata": {
        "id": "CA1nWSrV5eIu"
      },
      "execution_count": 43,
      "outputs": []
    },
    {
      "cell_type": "code",
      "source": [
        "obj1=daughter(\"ash\",\"ciz\", 56, \"blue\")"
      ],
      "metadata": {
        "colab": {
          "base_uri": "https://localhost:8080/"
        },
        "id": "7P_hhi7O6Ou5",
        "outputId": "f1fea358-ad6c-499c-aeec-c45f0c09b5c2"
      },
      "execution_count": 20,
      "outputs": [
        {
          "output_type": "stream",
          "name": "stdout",
          "text": [
            "daughter class: ash  ciz 56  blue\n"
          ]
        }
      ]
    },
    {
      "cell_type": "code",
      "source": [
        "ob2=son(\"guy\", \"last\",78,\"red\")"
      ],
      "metadata": {
        "id": "G77U4og766Eh"
      },
      "execution_count": 44,
      "outputs": []
    },
    {
      "cell_type": "code",
      "source": [],
      "metadata": {
        "id": "cXDECu63L_Fr"
      },
      "execution_count": null,
      "outputs": []
    },
    {
      "cell_type": "code",
      "source": [
        "ob2.print_it()"
      ],
      "metadata": {
        "colab": {
          "base_uri": "https://localhost:8080/"
        },
        "id": "XW0CzyqI8pCH",
        "outputId": "e6720881-4e17-4985-b046-dc850512085e"
      },
      "execution_count": 45,
      "outputs": [
        {
          "output_type": "stream",
          "name": "stdout",
          "text": [
            "son class: guy last 78 red\n"
          ]
        }
      ]
    },
    {
      "cell_type": "code",
      "source": [
        "#anything indicated in class before def  is a class variable\n",
        "#instance variable- overirdes the class varaible\n",
        "\n",
        "class a:\n",
        "  var_a1 = \"This is my first print statement inside class a \" #this is a class variable\n",
        "  def __init__(self):\n",
        "    self.var_a2 = \"This my second print statement inside function __init__ of class a\" #instance variable is the .var_a2\n",
        "    self.var_a1 = \"Instance variable in class a\"\n",
        "    self.var_tmp1 = \"This is var_tmp1 inside class a\"\n",
        "\n",
        "class b(a):\n",
        "  var_b1 = \"this is my third print statement inside class b \"\n",
        "  def __init__(self):\n",
        "\n",
        "    self.var_b2 = \"This is my fouth print statement inside function __init__ of class b\"\n",
        "    self.var_a1 = \"Instance variable in class b\"\n",
        "    self.var_tmp1 = \"This is var_tmp1 inside class b\"\n",
        "    super().__init__() #pulls all varibles,values instance, overall variables from parent class a anf put it to class b"
      ],
      "metadata": {
        "id": "frNU9KEA9zc7"
      },
      "execution_count": 50,
      "outputs": []
    },
    {
      "cell_type": "code",
      "source": [
        "obj_a = a()\n",
        "obj_b = b()\n",
        "\n",
        "print(obj_a.var_a1)\n",
        "print(obj_a.var_tmp1)\n",
        "print(obj_b.var_a1)\n",
        "print(obj_b.var_a2)\n",
        "print(obj_b.var_b1)\n",
        "print(obj_b.var_b2)\n",
        "print(obj_b.var_tmp1)"
      ],
      "metadata": {
        "colab": {
          "base_uri": "https://localhost:8080/"
        },
        "id": "Jx217OstA10r",
        "outputId": "06f9ec85-d0cf-4007-a8a7-c1811ab178ea"
      },
      "execution_count": 51,
      "outputs": [
        {
          "output_type": "stream",
          "name": "stdout",
          "text": [
            "Instance variable in class a\n",
            "This is var_tmp1 inside class a\n",
            "Instance variable in class a\n",
            "This my second print statement inside function __init__ of class a\n",
            "this is my third print statement inside class b \n",
            "This is my fouth print statement inside function __init__ of class b\n",
            "This is var_tmp1 inside class a\n"
          ]
        }
      ]
    },
    {
      "cell_type": "code",
      "source": [
        "class desserts:\n",
        "  types_desserts = \"This is a text introducing desserts\" #this is a class variable\n",
        "  def __init__(self):\n",
        "    self.cookies = \" this is cookies in class dessert\" #instance variable is the .var_a2\n",
        "    self.cake = \"this is cake in class dessert\"\n",
        "    self.ice_cream = \"this is ice_cream in class dessert\"\n",
        "\n",
        "class sweets(desserts):\n",
        "  sweets_var = \" this is the element in sweets variable\"\n",
        "  def __init__(self):\n",
        "\n",
        "    self.cookies = \"this is cookies in class sweets\"\n",
        "    self.candy = \"this is candy in class sweets\"\n",
        "    self.lolipop = \"This lolipop inside class sweets\"\n",
        "    self.cookies = \"this is cookies in class sweets\"\n",
        "    super().__init__() #pulls all varibles,values instance, overall variables from parent class a anf put it to class b"
      ],
      "metadata": {
        "id": "8oCpr_twA62C"
      },
      "execution_count": 64,
      "outputs": []
    },
    {
      "cell_type": "code",
      "source": [
        "obj_desserts= desserts()\n",
        "obj_sweets = sweets()"
      ],
      "metadata": {
        "id": "CwVZNmH0PUuC"
      },
      "execution_count": 65,
      "outputs": []
    },
    {
      "cell_type": "code",
      "source": [
        "print(obj_desserts.cookies)\n",
        "print(obj_desserts.cookies) #since this is a instance variable in parent class it will only print for the parent class\n",
        "print(obj_desserts.cake)\n",
        "print(obj_desserts.ice_cream)\n",
        "\n",
        "print(obj_sweets.cookies) #it wont print for the child class\n",
        "print(obj_sweets.candy)\n",
        "print(obj_sweets.lolipop)\n",
        "print(obj_sweets.ice_cream) #this one is also only printing the parent statement"
      ],
      "metadata": {
        "colab": {
          "base_uri": "https://localhost:8080/"
        },
        "id": "ZnI-wX8JPdSU",
        "outputId": "13754d05-04eb-462f-d83d-195a20170c50"
      },
      "execution_count": 67,
      "outputs": [
        {
          "output_type": "stream",
          "name": "stdout",
          "text": [
            " this is cookies in class dessert\n",
            " this is cookies in class dessert\n",
            "this is cake in class dessert\n",
            "this is ice_cream in class dessert\n",
            " this is cookies in class dessert\n",
            "this is candy in class sweets\n",
            "This lolipop inside class sweets\n",
            "this is ice_cream in class dessert\n"
          ]
        }
      ]
    },
    {
      "cell_type": "code",
      "source": [],
      "metadata": {
        "colab": {
          "base_uri": "https://localhost:8080/"
        },
        "id": "ecMDGc94PmM7",
        "outputId": "3aa8e550-969b-4b5d-b000-adeea467ab6f"
      },
      "execution_count": 62,
      "outputs": [
        {
          "output_type": "stream",
          "name": "stdout",
          "text": [
            "this is cookies in class sweets\n"
          ]
        }
      ]
    },
    {
      "cell_type": "code",
      "source": [],
      "metadata": {
        "id": "EATk0hZHPo8R"
      },
      "execution_count": null,
      "outputs": []
    }
  ]
}