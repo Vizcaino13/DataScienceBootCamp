{
  "nbformat": 4,
  "nbformat_minor": 0,
  "metadata": {
    "colab": {
      "provenance": []
    },
    "kernelspec": {
      "name": "python3",
      "display_name": "Python 3"
    },
    "language_info": {
      "name": "python"
    }
  },
  "cells": [
    {
      "cell_type": "code",
      "execution_count": 1,
      "metadata": {
        "id": "bGanv-5oIzsV"
      },
      "outputs": [],
      "source": [
        "numbers = [1, 2, 3, 4, 5]\n",
        "square_dict = {num: num**2 for num in numbers}"
      ]
    },
    {
      "cell_type": "code",
      "source": [
        "square_dict"
      ],
      "metadata": {
        "colab": {
          "base_uri": "https://localhost:8080/"
        },
        "id": "WxB7KEeQI2oV",
        "outputId": "c5815180-d7ea-4ad9-8aa4-fa74780c205a"
      },
      "execution_count": 2,
      "outputs": [
        {
          "output_type": "execute_result",
          "data": {
            "text/plain": [
              "{1: 1, 2: 4, 3: 9, 4: 16, 5: 25}"
            ]
          },
          "metadata": {},
          "execution_count": 2
        }
      ]
    },
    {
      "cell_type": "code",
      "source": [
        "words = [\"apple\", \"banana\", \"cherry\", \"date\"]\n",
        "word_lengths = {word: len(word) for word in words}"
      ],
      "metadata": {
        "id": "lDlYfQ2aI36C"
      },
      "execution_count": 3,
      "outputs": []
    },
    {
      "cell_type": "code",
      "source": [
        "square_dict"
      ],
      "metadata": {
        "colab": {
          "base_uri": "https://localhost:8080/"
        },
        "id": "ZRLXx8oJJEH5",
        "outputId": "13d6887c-70a8-4398-d9df-260c59d5e8e3"
      },
      "execution_count": 4,
      "outputs": [
        {
          "output_type": "execute_result",
          "data": {
            "text/plain": [
              "{1: 1, 2: 4, 3: 9, 4: 16, 5: 25}"
            ]
          },
          "metadata": {},
          "execution_count": 4
        }
      ]
    },
    {
      "cell_type": "code",
      "source": [
        "# sets"
      ],
      "metadata": {
        "id": "OqtLgeUwJU3M"
      },
      "execution_count": null,
      "outputs": []
    },
    {
      "cell_type": "code",
      "source": [
        "numbers = [1, 2, 3, 4, 5, 6, 7, 8, 9, 10]\n",
        "even_set = {num for num in numbers if num % 2 == 0}"
      ],
      "metadata": {
        "id": "pCn4dn--JO8g"
      },
      "execution_count": 5,
      "outputs": []
    },
    {
      "cell_type": "code",
      "source": [
        "even_set"
      ],
      "metadata": {
        "colab": {
          "base_uri": "https://localhost:8080/"
        },
        "id": "r1lDbcpwJRs9",
        "outputId": "b3612c4f-8e43-428b-bae8-9b8e176183e9"
      },
      "execution_count": 6,
      "outputs": [
        {
          "output_type": "execute_result",
          "data": {
            "text/plain": [
              "{2, 4, 6, 8, 10}"
            ]
          },
          "metadata": {},
          "execution_count": 6
        }
      ]
    },
    {
      "cell_type": "code",
      "source": [
        "sentence = \"The quick brown fox jumps over the lazy dog\"\n",
        "vowel_set = {char.lower() for char in sentence if char.lower() in sentence}"
      ],
      "metadata": {
        "id": "T2LCAovNJThn"
      },
      "execution_count": 9,
      "outputs": []
    },
    {
      "cell_type": "code",
      "source": [
        "vowel_set"
      ],
      "metadata": {
        "colab": {
          "base_uri": "https://localhost:8080/"
        },
        "id": "mkkz9sCPJcvN",
        "outputId": "f55292e5-a1a0-4776-cedc-5f9e83fd5792"
      },
      "execution_count": 10,
      "outputs": [
        {
          "output_type": "execute_result",
          "data": {
            "text/plain": [
              "{' ',\n",
              " 'a',\n",
              " 'b',\n",
              " 'c',\n",
              " 'd',\n",
              " 'e',\n",
              " 'f',\n",
              " 'g',\n",
              " 'h',\n",
              " 'i',\n",
              " 'j',\n",
              " 'k',\n",
              " 'l',\n",
              " 'm',\n",
              " 'n',\n",
              " 'o',\n",
              " 'p',\n",
              " 'q',\n",
              " 'r',\n",
              " 's',\n",
              " 't',\n",
              " 'u',\n",
              " 'v',\n",
              " 'w',\n",
              " 'x',\n",
              " 'y',\n",
              " 'z'}"
            ]
          },
          "metadata": {},
          "execution_count": 10
        }
      ]
    },
    {
      "cell_type": "code",
      "source": [
        "words = [\"apple\", \"banana\", \"cherry\", \"date\"]\n",
        "unique_first_letters = {word[0].lower() for word in words}"
      ],
      "metadata": {
        "id": "3BDgGyIRJeRP"
      },
      "execution_count": 11,
      "outputs": []
    },
    {
      "cell_type": "code",
      "source": [
        "unique_first_letters"
      ],
      "metadata": {
        "colab": {
          "base_uri": "https://localhost:8080/"
        },
        "id": "-UTMjNM9JogA",
        "outputId": "8c94992e-ca70-4c81-ea91-9948cad31ee2"
      },
      "execution_count": 12,
      "outputs": [
        {
          "output_type": "execute_result",
          "data": {
            "text/plain": [
              "{'a', 'b', 'c', 'd'}"
            ]
          },
          "metadata": {},
          "execution_count": 12
        }
      ]
    },
    {
      "cell_type": "code",
      "source": [
        "#generators\n",
        "numbers = [1, 2, 3, 4, 5]\n",
        "square_generator = (num**2 for num in numbers)"
      ],
      "metadata": {
        "id": "Yj4Ky77WJpt2"
      },
      "execution_count": 19,
      "outputs": []
    },
    {
      "cell_type": "code",
      "source": [
        "square_list = list(square_generator)\n",
        "print(square_list)"
      ],
      "metadata": {
        "colab": {
          "base_uri": "https://localhost:8080/"
        },
        "id": "krV6HkaqJx8C",
        "outputId": "06e6ec69-51b2-4063-8996-b1d9afef28a1"
      },
      "execution_count": 23,
      "outputs": [
        {
          "output_type": "stream",
          "name": "stdout",
          "text": [
            "[1, 4, 9, 16, 25]\n"
          ]
        }
      ]
    },
    {
      "cell_type": "code",
      "source": [
        "numbers = [1, 2, 3, 4, 5, 6, 7, 8, 9, 10]\n",
        "filtered_generator = (num for num in numbers if num % 2 == 0)"
      ],
      "metadata": {
        "id": "-sO8soaYJ0oZ"
      },
      "execution_count": 24,
      "outputs": []
    },
    {
      "cell_type": "code",
      "source": [
        "filtered_generator= list(filtered_generator)\n",
        "print(filtered_generator)"
      ],
      "metadata": {
        "colab": {
          "base_uri": "https://localhost:8080/"
        },
        "id": "G0-oAEEwKcdo",
        "outputId": "991f3a82-98d9-4e90-bd44-5055f3f928fd"
      },
      "execution_count": 25,
      "outputs": [
        {
          "output_type": "stream",
          "name": "stdout",
          "text": [
            "[2, 4, 6, 8, 10]\n"
          ]
        }
      ]
    },
    {
      "cell_type": "markdown",
      "source": [
        "#Lambda review- it is an anynoums function.\n"
      ],
      "metadata": {
        "id": "grekzkUGMw7i"
      }
    },
    {
      "cell_type": "code",
      "source": [
        "# lambda\n",
        "\n",
        "x=lambda x,y: x*y              #x and y are the tow inputs and you preform operations on them\n",
        "x(12,23)                             #then ypu are passing values to your program\n",
        "\n"
      ],
      "metadata": {
        "colab": {
          "base_uri": "https://localhost:8080/"
        },
        "id": "wu6gt5hUKiiF",
        "outputId": "d49e007c-cb99-4814-8682-8c54cd56e9ba"
      },
      "execution_count": 26,
      "outputs": [
        {
          "output_type": "execute_result",
          "data": {
            "text/plain": [
              "276"
            ]
          },
          "metadata": {},
          "execution_count": 26
        }
      ]
    },
    {
      "cell_type": "code",
      "source": [
        "str1=\"python programming\"\n",
        "x=lambda str1: str1.upper() #in this function we are passing the varaible str1 and passing the upper operation to it\n",
        "x(str1)"
      ],
      "metadata": {
        "colab": {
          "base_uri": "https://localhost:8080/",
          "height": 35
        },
        "id": "wNhI6GwBNW27",
        "outputId": "4f6ae66e-66ad-4dd8-8056-ace690c06f4e"
      },
      "execution_count": 29,
      "outputs": [
        {
          "output_type": "execute_result",
          "data": {
            "text/plain": [
              "'PYTHON PROGRAMMING'"
            ],
            "application/vnd.google.colaboratory.intrinsic+json": {
              "type": "string"
            }
          },
          "metadata": {},
          "execution_count": 29
        }
      ]
    },
    {
      "cell_type": "code",
      "source": [
        "x=lambda a,b: a if (a>b) else b #we are passing two values, and using the if else, so if a is greater than b it prints if not b prints\n",
        "x(12,23)"
      ],
      "metadata": {
        "colab": {
          "base_uri": "https://localhost:8080/"
        },
        "id": "gPNkqBc7N5Zd",
        "outputId": "f73ef040-43e9-4c00-973e-7e9999b28a26"
      },
      "execution_count": 32,
      "outputs": [
        {
          "output_type": "execute_result",
          "data": {
            "text/plain": [
              "23"
            ]
          },
          "metadata": {},
          "execution_count": 32
        }
      ]
    },
    {
      "cell_type": "code",
      "source": [
        "#*args **kwargs\n",
        "\n",
        "def func_one(a,b):\n",
        "  return a *b\n",
        "\n",
        "\n",
        "func_one(12,23)"
      ],
      "metadata": {
        "colab": {
          "base_uri": "https://localhost:8080/"
        },
        "id": "-rw--EV6OfA-",
        "outputId": "8e428a8f-d5e1-45e5-bf72-120554fb0f00"
      },
      "execution_count": 33,
      "outputs": [
        {
          "output_type": "execute_result",
          "data": {
            "text/plain": [
              "276"
            ]
          },
          "metadata": {},
          "execution_count": 33
        }
      ]
    },
    {
      "cell_type": "code",
      "source": [
        "def func_two(*args): #*args is not a key word, you can replace args, its just best practice to do so\n",
        "  return args\n",
        "\n",
        "func_two(12,23,45,56,76,89,45,56,76,89)"
      ],
      "metadata": {
        "colab": {
          "base_uri": "https://localhost:8080/"
        },
        "id": "CJe51BTQPy0Q",
        "outputId": "e1a14429-b887-4517-f66a-c961b2c566bf"
      },
      "execution_count": 35,
      "outputs": [
        {
          "output_type": "execute_result",
          "data": {
            "text/plain": [
              "(12, 23, 45, 56, 76, 89, 45, 56, 76, 89)"
            ]
          },
          "metadata": {},
          "execution_count": 35
        }
      ]
    },
    {
      "cell_type": "code",
      "source": [
        "# **kwargs\n",
        "\n",
        "\n",
        "def func_three(**kwargs):\n",
        "  return kwargs\n",
        ""
      ],
      "metadata": {
        "id": "ay3FY8VgQjEa"
      },
      "execution_count": 36,
      "outputs": []
    },
    {
      "cell_type": "code",
      "source": [
        "func_three(a=\"apple\",b=\"banana\", c=\"cherries\", d=\"dates\", e=\"eggfruit\")"
      ],
      "metadata": {
        "colab": {
          "base_uri": "https://localhost:8080/"
        },
        "id": "Ka7N1vJ0R1tB",
        "outputId": "0ce044d2-90ef-40ca-a047-05e418b4311a"
      },
      "execution_count": 37,
      "outputs": [
        {
          "output_type": "execute_result",
          "data": {
            "text/plain": [
              "{'a': 'apple', 'b': 'banana', 'c': 'cherries', 'd': 'dates', 'e': 'eggfruit'}"
            ]
          },
          "metadata": {},
          "execution_count": 37
        }
      ]
    },
    {
      "cell_type": "code",
      "source": [
        "def func_for(a,b, *args, **kwargs):\n",
        "  return a,b, args, kwargs"
      ],
      "metadata": {
        "id": "CNIb-0oVSASB"
      },
      "execution_count": 38,
      "outputs": []
    },
    {
      "cell_type": "code",
      "source": [
        "func_for(\"apple\", \"bat\", 1,2,3,3,4,5,6,7, c=\"cheese\", d=\"dog\")"
      ],
      "metadata": {
        "colab": {
          "base_uri": "https://localhost:8080/"
        },
        "id": "md1p88kHStK4",
        "outputId": "f64d6332-0ae2-4e6c-f663-7b9dd88e0319"
      },
      "execution_count": 39,
      "outputs": [
        {
          "output_type": "execute_result",
          "data": {
            "text/plain": [
              "('apple', 'bat', (1, 2, 3, 3, 4, 5, 6, 7), {'c': 'cheese', 'd': 'dog'})"
            ]
          },
          "metadata": {},
          "execution_count": 39
        }
      ]
    },
    {
      "cell_type": "code",
      "source": [
        "import pandas as pd"
      ],
      "metadata": {
        "id": "imENuXlpS7k9"
      },
      "execution_count": 40,
      "outputs": []
    },
    {
      "cell_type": "code",
      "source": [
        "path= \"\" #path is from where we want to read the file"
      ],
      "metadata": {
        "id": "yYCARy-yTNZT"
      },
      "execution_count": 41,
      "outputs": []
    },
    {
      "cell_type": "code",
      "source": [
        "df_bf=pd.read_cvs(path)"
      ],
      "metadata": {
        "id": "Y7fBKPJbTcyk"
      },
      "execution_count": null,
      "outputs": []
    },
    {
      "cell_type": "code",
      "source": [
        "df_bf"
      ],
      "metadata": {
        "id": "OqLkI5CKU0BI"
      },
      "execution_count": null,
      "outputs": []
    },
    {
      "cell_type": "code",
      "source": [
        "df_bf.to_excel(\"blackfriday_excel.xlsx\") #makes the file a excel file"
      ],
      "metadata": {
        "id": "Kh8pIN0fU2Wb"
      },
      "execution_count": null,
      "outputs": []
    }
  ]
}