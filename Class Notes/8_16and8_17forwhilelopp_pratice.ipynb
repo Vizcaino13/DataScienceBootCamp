{
  "nbformat": 4,
  "nbformat_minor": 0,
  "metadata": {
    "colab": {
      "provenance": []
    },
    "kernelspec": {
      "name": "python3",
      "display_name": "Python 3"
    },
    "language_info": {
      "name": "python"
    }
  },
  "cells": [
    {
      "cell_type": "code",
      "execution_count": null,
      "metadata": {
        "colab": {
          "base_uri": "https://localhost:8080/"
        },
        "id": "ldwRmHwMUiru",
        "outputId": "27211ff3-82e5-4e72-cdfc-dc5b5a935437"
      },
      "outputs": [
        {
          "output_type": "stream",
          "name": "stdout",
          "text": [
            "1\n",
            "6\n",
            "3\n",
            "8\n",
            "3\n",
            "92\n",
            "6\n",
            "85\n",
            "25\n",
            "71\n",
            "65\n"
          ]
        }
      ],
      "source": [
        "\n",
        "#1st way to do a loop\n",
        "lst1 = [1,6,3,8,3,92,6,85,25,71,65]\n",
        "for i in lst1:     #i picks up each element and it gets printed out\n",
        "  print(i)\n"
      ]
    },
    {
      "cell_type": "code",
      "source": [
        "lst1 = [1,6,3,8,3,92,6,85,25,71,65]\n",
        "#2nd way to do the for loop with index\n",
        "for ind in range(len(lst1)):     #i picks up each element and it gets printed out\n",
        "  print(ind)\n"
      ],
      "metadata": {
        "colab": {
          "base_uri": "https://localhost:8080/"
        },
        "id": "x-MyJjjwU1sJ",
        "outputId": "34ec9834-a543-44f7-b695-7373b776e10b"
      },
      "execution_count": null,
      "outputs": [
        {
          "output_type": "stream",
          "name": "stdout",
          "text": [
            "0\n",
            "1\n",
            "2\n",
            "3\n",
            "4\n",
            "5\n",
            "6\n",
            "7\n",
            "8\n",
            "9\n",
            "10\n"
          ]
        }
      ]
    },
    {
      "cell_type": "code",
      "source": [
        "# 3.print a list in reverse order using for loop\n",
        "\n",
        "#1st way to do a loop\n",
        "a_list = [1, 6, 3, 8, 3, 92, 6, 85, 25, 71, 65]\n",
        "unique = []\n",
        "\n",
        "for i in reversed(a_list):\n",
        "    if i in unique:\n",
        "        repeated.append(i)\n",
        "    else:\n",
        "        unique.append(i)\n",
        "\n",
        "print(\"Unique values in reverse order:\", unique)\n",
        "\n"
      ],
      "metadata": {
        "colab": {
          "base_uri": "https://localhost:8080/"
        },
        "id": "0eBqXX-nV0JS",
        "outputId": "5bff0268-8285-4494-8e3c-0c2e5ddd5cec"
      },
      "execution_count": null,
      "outputs": [
        {
          "output_type": "stream",
          "name": "stdout",
          "text": [
            "Unique values in reverse order: [65, 71, 25, 85, 6, 92, 3, 8, 1]\n"
          ]
        }
      ]
    },
    {
      "cell_type": "code",
      "source": [
        "# 3.print a list in reverse order using for loop\n",
        "\n",
        "a = [1, 2, 3, 4, 5, 6, 7]\n",
        "reversed_list = []\n",
        "\n",
        "for k in range(len(a) - 1, -1, -1):\n",
        "    reversed_list.append(a[k])\n",
        "\n",
        "print(reversed_list)\n",
        "\n",
        "\n",
        "\n",
        "# another way to do it\n",
        "print('===============================================')\n",
        "b= [1, 2, 3, 4, 5, 6, 7]\n",
        "for i in b[::-1]:\n",
        "  print(i)\n"
      ],
      "metadata": {
        "colab": {
          "base_uri": "https://localhost:8080/"
        },
        "id": "xQQGSNTUcGhu",
        "outputId": "1a774a1e-b750-483d-a2ad-445688ea946f"
      },
      "execution_count": null,
      "outputs": [
        {
          "output_type": "stream",
          "name": "stdout",
          "text": [
            "[7, 6, 5, 4, 3, 2, 1]\n",
            "===============================================\n",
            "7\n",
            "6\n",
            "5\n",
            "4\n",
            "3\n",
            "2\n",
            "1\n"
          ]
        }
      ]
    },
    {
      "cell_type": "code",
      "source": [
        "#Question 2) Print all prime numbers below 100\n",
        "listprime=[]\n",
        "for i in range(2, 100):\n",
        "  if not i % 2 == 0:\n",
        "    listprime.append(i)\n",
        "    if s in listprime:\n",
        "      print(s, \"is a prime number\")"
      ],
      "metadata": {
        "colab": {
          "base_uri": "https://localhost:8080/"
        },
        "id": "s9tvnF5-WdEz",
        "outputId": "11cfc42f-e9c0-4fd7-9262-687d3eec9ef8"
      },
      "execution_count": null,
      "outputs": [
        {
          "output_type": "stream",
          "name": "stdout",
          "text": [
            "3 is a prime number\n",
            "3 is a prime number\n",
            "3 is a prime number\n",
            "3 is a prime number\n",
            "3 is a prime number\n",
            "3 is a prime number\n",
            "3 is a prime number\n",
            "3 is a prime number\n",
            "3 is a prime number\n",
            "3 is a prime number\n",
            "3 is a prime number\n",
            "3 is a prime number\n",
            "3 is a prime number\n",
            "3 is a prime number\n",
            "3 is a prime number\n",
            "3 is a prime number\n",
            "3 is a prime number\n",
            "3 is a prime number\n",
            "3 is a prime number\n",
            "3 is a prime number\n",
            "3 is a prime number\n",
            "3 is a prime number\n",
            "3 is a prime number\n",
            "3 is a prime number\n",
            "3 is a prime number\n",
            "3 is a prime number\n",
            "3 is a prime number\n",
            "3 is a prime number\n",
            "3 is a prime number\n",
            "3 is a prime number\n",
            "3 is a prime number\n",
            "3 is a prime number\n",
            "3 is a prime number\n",
            "3 is a prime number\n",
            "3 is a prime number\n",
            "3 is a prime number\n",
            "3 is a prime number\n",
            "3 is a prime number\n",
            "3 is a prime number\n",
            "3 is a prime number\n",
            "3 is a prime number\n",
            "3 is a prime number\n",
            "3 is a prime number\n",
            "3 is a prime number\n",
            "3 is a prime number\n",
            "3 is a prime number\n",
            "3 is a prime number\n",
            "3 is a prime number\n",
            "3 is a prime number\n"
          ]
        }
      ]
    },
    {
      "cell_type": "code",
      "source": [
        "#Question 2) Print all prime numbers below 100\n",
        "listprime = []\n",
        "\n",
        "for i in range(2, 100):\n",
        "    flag = True\n",
        "\n",
        "    for s in range(2, i):\n",
        "        if i % s == 0:\n",
        "            flag = False\n",
        "            break\n",
        "\n",
        "    if flag:\n",
        "        listprime.append(i)\n",
        "\n",
        "for prime in listprime:\n",
        "    print(prime, \"this is a prime number\")\n"
      ],
      "metadata": {
        "colab": {
          "base_uri": "https://localhost:8080/"
        },
        "id": "C_69iO5hYCv8",
        "outputId": "d0c882da-2591-40e8-ab28-6eaf43d959ca"
      },
      "execution_count": null,
      "outputs": [
        {
          "output_type": "stream",
          "name": "stdout",
          "text": [
            "2 this is a prime number\n",
            "3 this is a prime number\n",
            "5 this is a prime number\n",
            "7 this is a prime number\n",
            "11 this is a prime number\n",
            "13 this is a prime number\n",
            "17 this is a prime number\n",
            "19 this is a prime number\n",
            "23 this is a prime number\n",
            "29 this is a prime number\n",
            "31 this is a prime number\n",
            "37 this is a prime number\n",
            "41 this is a prime number\n",
            "43 this is a prime number\n",
            "47 this is a prime number\n",
            "53 this is a prime number\n",
            "59 this is a prime number\n",
            "61 this is a prime number\n",
            "67 this is a prime number\n",
            "71 this is a prime number\n",
            "73 this is a prime number\n",
            "79 this is a prime number\n",
            "83 this is a prime number\n",
            "89 this is a prime number\n",
            "97 this is a prime number\n"
          ]
        }
      ]
    },
    {
      "cell_type": "code",
      "source": [
        "# 4.print multiplication table of 13 using for loop\n",
        "\n",
        "numbera= 13\n",
        "for count in range(0,30):\n",
        "  print(count, 'x', numbera, '=:',count *numbera)\n",
        "\n"
      ],
      "metadata": {
        "colab": {
          "base_uri": "https://localhost:8080/"
        },
        "id": "zeCU_AeNY1IC",
        "outputId": "3a04e026-0f75-4645-bd98-7543e66663b1"
      },
      "execution_count": null,
      "outputs": [
        {
          "output_type": "stream",
          "name": "stdout",
          "text": [
            "0 x 13 =: 0\n",
            "1 x 13 =: 13\n",
            "2 x 13 =: 26\n",
            "3 x 13 =: 39\n",
            "4 x 13 =: 52\n",
            "5 x 13 =: 65\n",
            "6 x 13 =: 78\n",
            "7 x 13 =: 91\n",
            "8 x 13 =: 104\n",
            "9 x 13 =: 117\n",
            "10 x 13 =: 130\n",
            "11 x 13 =: 143\n",
            "12 x 13 =: 156\n",
            "13 x 13 =: 169\n",
            "14 x 13 =: 182\n",
            "15 x 13 =: 195\n",
            "16 x 13 =: 208\n",
            "17 x 13 =: 221\n",
            "18 x 13 =: 234\n",
            "19 x 13 =: 247\n",
            "20 x 13 =: 260\n",
            "21 x 13 =: 273\n",
            "22 x 13 =: 286\n",
            "23 x 13 =: 299\n",
            "24 x 13 =: 312\n",
            "25 x 13 =: 325\n",
            "26 x 13 =: 338\n",
            "27 x 13 =: 351\n",
            "28 x 13 =: 364\n",
            "29 x 13 =: 377\n"
          ]
        }
      ]
    },
    {
      "cell_type": "code",
      "source": [
        "#Python program to count the total number of digits in a number.\n",
        "\n",
        "#review this one\n",
        "a=0\n",
        "numbr=input(\"place number\")\n",
        "for count1 in str(a):\n",
        "  a = a+1\n",
        "  print( a)\n"
      ],
      "metadata": {
        "id": "sTIOzA9XeuBs",
        "colab": {
          "base_uri": "https://localhost:8080/",
          "height": 399
        },
        "outputId": "0c87914d-42de-4606-e79e-64124eec3a76"
      },
      "execution_count": null,
      "outputs": [
        {
          "output_type": "error",
          "ename": "KeyboardInterrupt",
          "evalue": "ignored",
          "traceback": [
            "\u001b[0;31m---------------------------------------------------------------------------\u001b[0m",
            "\u001b[0;31mKeyboardInterrupt\u001b[0m                         Traceback (most recent call last)",
            "\u001b[0;32m<ipython-input-122-a1822015a633>\u001b[0m in \u001b[0;36m<cell line: 3>\u001b[0;34m()\u001b[0m\n\u001b[1;32m      1\u001b[0m \u001b[0;31m#Python program to count the total number of digits in a number.\u001b[0m\u001b[0;34m\u001b[0m\u001b[0;34m\u001b[0m\u001b[0m\n\u001b[1;32m      2\u001b[0m \u001b[0ma\u001b[0m\u001b[0;34m=\u001b[0m\u001b[0;36m0\u001b[0m\u001b[0;34m\u001b[0m\u001b[0;34m\u001b[0m\u001b[0m\n\u001b[0;32m----> 3\u001b[0;31m \u001b[0mnumbr\u001b[0m\u001b[0;34m=\u001b[0m\u001b[0minput\u001b[0m\u001b[0;34m(\u001b[0m\u001b[0;34m\"place number\"\u001b[0m\u001b[0;34m)\u001b[0m\u001b[0;34m\u001b[0m\u001b[0;34m\u001b[0m\u001b[0m\n\u001b[0m\u001b[1;32m      4\u001b[0m \u001b[0;32mfor\u001b[0m \u001b[0mcount1\u001b[0m \u001b[0;32min\u001b[0m \u001b[0mstr\u001b[0m\u001b[0;34m(\u001b[0m\u001b[0ma\u001b[0m\u001b[0;34m)\u001b[0m\u001b[0;34m:\u001b[0m\u001b[0;34m\u001b[0m\u001b[0;34m\u001b[0m\u001b[0m\n\u001b[1;32m      5\u001b[0m   \u001b[0ma\u001b[0m \u001b[0;34m=\u001b[0m \u001b[0ma\u001b[0m\u001b[0;34m+\u001b[0m\u001b[0;36m1\u001b[0m\u001b[0;34m\u001b[0m\u001b[0;34m\u001b[0m\u001b[0m\n",
            "\u001b[0;32m/usr/local/lib/python3.10/dist-packages/ipykernel/kernelbase.py\u001b[0m in \u001b[0;36mraw_input\u001b[0;34m(self, prompt)\u001b[0m\n\u001b[1;32m    849\u001b[0m                 \u001b[0;34m\"raw_input was called, but this frontend does not support input requests.\"\u001b[0m\u001b[0;34m\u001b[0m\u001b[0;34m\u001b[0m\u001b[0m\n\u001b[1;32m    850\u001b[0m             )\n\u001b[0;32m--> 851\u001b[0;31m         return self._input_request(str(prompt),\n\u001b[0m\u001b[1;32m    852\u001b[0m             \u001b[0mself\u001b[0m\u001b[0;34m.\u001b[0m\u001b[0m_parent_ident\u001b[0m\u001b[0;34m,\u001b[0m\u001b[0;34m\u001b[0m\u001b[0;34m\u001b[0m\u001b[0m\n\u001b[1;32m    853\u001b[0m             \u001b[0mself\u001b[0m\u001b[0;34m.\u001b[0m\u001b[0m_parent_header\u001b[0m\u001b[0;34m,\u001b[0m\u001b[0;34m\u001b[0m\u001b[0;34m\u001b[0m\u001b[0m\n",
            "\u001b[0;32m/usr/local/lib/python3.10/dist-packages/ipykernel/kernelbase.py\u001b[0m in \u001b[0;36m_input_request\u001b[0;34m(self, prompt, ident, parent, password)\u001b[0m\n\u001b[1;32m    893\u001b[0m             \u001b[0;32mexcept\u001b[0m \u001b[0mKeyboardInterrupt\u001b[0m\u001b[0;34m:\u001b[0m\u001b[0;34m\u001b[0m\u001b[0;34m\u001b[0m\u001b[0m\n\u001b[1;32m    894\u001b[0m                 \u001b[0;31m# re-raise KeyboardInterrupt, to truncate traceback\u001b[0m\u001b[0;34m\u001b[0m\u001b[0;34m\u001b[0m\u001b[0m\n\u001b[0;32m--> 895\u001b[0;31m                 \u001b[0;32mraise\u001b[0m \u001b[0mKeyboardInterrupt\u001b[0m\u001b[0;34m(\u001b[0m\u001b[0;34m\"Interrupted by user\"\u001b[0m\u001b[0;34m)\u001b[0m \u001b[0;32mfrom\u001b[0m \u001b[0;32mNone\u001b[0m\u001b[0;34m\u001b[0m\u001b[0;34m\u001b[0m\u001b[0m\n\u001b[0m\u001b[1;32m    896\u001b[0m             \u001b[0;32mexcept\u001b[0m \u001b[0mException\u001b[0m \u001b[0;32mas\u001b[0m \u001b[0me\u001b[0m\u001b[0;34m:\u001b[0m\u001b[0;34m\u001b[0m\u001b[0;34m\u001b[0m\u001b[0m\n\u001b[1;32m    897\u001b[0m                 \u001b[0mself\u001b[0m\u001b[0;34m.\u001b[0m\u001b[0mlog\u001b[0m\u001b[0;34m.\u001b[0m\u001b[0mwarning\u001b[0m\u001b[0;34m(\u001b[0m\u001b[0;34m\"Invalid Message:\"\u001b[0m\u001b[0;34m,\u001b[0m \u001b[0mexc_info\u001b[0m\u001b[0;34m=\u001b[0m\u001b[0;32mTrue\u001b[0m\u001b[0;34m)\u001b[0m\u001b[0;34m\u001b[0m\u001b[0;34m\u001b[0m\u001b[0m\n",
            "\u001b[0;31mKeyboardInterrupt\u001b[0m: Interrupted by user"
          ]
        }
      ]
    },
    {
      "cell_type": "code",
      "source": [
        "#Write a program to find greatest common divisor (GCD) or highest common factor (HCF) of given two numbers.\n",
        "#my answer\n",
        "numbr=int(input(\"place number\"))\n",
        "numbr2=int(input(\"place number\"))\n",
        "for i in range(100):\n",
        "  numbr%i==0 and numbr2%i==0\n",
        "  print(\"dis\")\n",
        "\n"
      ],
      "metadata": {
        "colab": {
          "base_uri": "https://localhost:8080/",
          "height": 399
        },
        "id": "UHxtojh1fVHa",
        "outputId": "14d6c707-621a-4fe0-c6c3-c430ca9177e0"
      },
      "execution_count": null,
      "outputs": [
        {
          "output_type": "error",
          "ename": "KeyboardInterrupt",
          "evalue": "ignored",
          "traceback": [
            "\u001b[0;31m---------------------------------------------------------------------------\u001b[0m",
            "\u001b[0;31mKeyboardInterrupt\u001b[0m                         Traceback (most recent call last)",
            "\u001b[0;32m<ipython-input-115-a4e8f4e8a275>\u001b[0m in \u001b[0;36m<cell line: 3>\u001b[0;34m()\u001b[0m\n\u001b[1;32m      1\u001b[0m \u001b[0;31m#Write a program to find greatest common divisor (GCD) or highest common factor (HCF) of given two numbers.\u001b[0m\u001b[0;34m\u001b[0m\u001b[0;34m\u001b[0m\u001b[0m\n\u001b[1;32m      2\u001b[0m \u001b[0;34m\u001b[0m\u001b[0m\n\u001b[0;32m----> 3\u001b[0;31m \u001b[0mnumbr\u001b[0m\u001b[0;34m=\u001b[0m\u001b[0mint\u001b[0m\u001b[0;34m(\u001b[0m\u001b[0minput\u001b[0m\u001b[0;34m(\u001b[0m\u001b[0;34m\"place number\"\u001b[0m\u001b[0;34m)\u001b[0m\u001b[0;34m)\u001b[0m\u001b[0;34m\u001b[0m\u001b[0;34m\u001b[0m\u001b[0m\n\u001b[0m\u001b[1;32m      4\u001b[0m \u001b[0mnumbr2\u001b[0m\u001b[0;34m=\u001b[0m\u001b[0mint\u001b[0m\u001b[0;34m(\u001b[0m\u001b[0minput\u001b[0m\u001b[0;34m(\u001b[0m\u001b[0;34m\"place number\"\u001b[0m\u001b[0;34m)\u001b[0m\u001b[0;34m)\u001b[0m\u001b[0;34m\u001b[0m\u001b[0;34m\u001b[0m\u001b[0m\n\u001b[1;32m      5\u001b[0m \u001b[0;32mfor\u001b[0m \u001b[0mi\u001b[0m \u001b[0;32min\u001b[0m \u001b[0mrange\u001b[0m\u001b[0;34m(\u001b[0m\u001b[0;36m100\u001b[0m\u001b[0;34m)\u001b[0m\u001b[0;34m:\u001b[0m\u001b[0;34m\u001b[0m\u001b[0;34m\u001b[0m\u001b[0m\n",
            "\u001b[0;32m/usr/local/lib/python3.10/dist-packages/ipykernel/kernelbase.py\u001b[0m in \u001b[0;36mraw_input\u001b[0;34m(self, prompt)\u001b[0m\n\u001b[1;32m    849\u001b[0m                 \u001b[0;34m\"raw_input was called, but this frontend does not support input requests.\"\u001b[0m\u001b[0;34m\u001b[0m\u001b[0;34m\u001b[0m\u001b[0m\n\u001b[1;32m    850\u001b[0m             )\n\u001b[0;32m--> 851\u001b[0;31m         return self._input_request(str(prompt),\n\u001b[0m\u001b[1;32m    852\u001b[0m             \u001b[0mself\u001b[0m\u001b[0;34m.\u001b[0m\u001b[0m_parent_ident\u001b[0m\u001b[0;34m,\u001b[0m\u001b[0;34m\u001b[0m\u001b[0;34m\u001b[0m\u001b[0m\n\u001b[1;32m    853\u001b[0m             \u001b[0mself\u001b[0m\u001b[0;34m.\u001b[0m\u001b[0m_parent_header\u001b[0m\u001b[0;34m,\u001b[0m\u001b[0;34m\u001b[0m\u001b[0;34m\u001b[0m\u001b[0m\n",
            "\u001b[0;32m/usr/local/lib/python3.10/dist-packages/ipykernel/kernelbase.py\u001b[0m in \u001b[0;36m_input_request\u001b[0;34m(self, prompt, ident, parent, password)\u001b[0m\n\u001b[1;32m    893\u001b[0m             \u001b[0;32mexcept\u001b[0m \u001b[0mKeyboardInterrupt\u001b[0m\u001b[0;34m:\u001b[0m\u001b[0;34m\u001b[0m\u001b[0;34m\u001b[0m\u001b[0m\n\u001b[1;32m    894\u001b[0m                 \u001b[0;31m# re-raise KeyboardInterrupt, to truncate traceback\u001b[0m\u001b[0;34m\u001b[0m\u001b[0;34m\u001b[0m\u001b[0m\n\u001b[0;32m--> 895\u001b[0;31m                 \u001b[0;32mraise\u001b[0m \u001b[0mKeyboardInterrupt\u001b[0m\u001b[0;34m(\u001b[0m\u001b[0;34m\"Interrupted by user\"\u001b[0m\u001b[0;34m)\u001b[0m \u001b[0;32mfrom\u001b[0m \u001b[0;32mNone\u001b[0m\u001b[0;34m\u001b[0m\u001b[0;34m\u001b[0m\u001b[0m\n\u001b[0m\u001b[1;32m    896\u001b[0m             \u001b[0;32mexcept\u001b[0m \u001b[0mException\u001b[0m \u001b[0;32mas\u001b[0m \u001b[0me\u001b[0m\u001b[0;34m:\u001b[0m\u001b[0;34m\u001b[0m\u001b[0;34m\u001b[0m\u001b[0m\n\u001b[1;32m    897\u001b[0m                 \u001b[0mself\u001b[0m\u001b[0;34m.\u001b[0m\u001b[0mlog\u001b[0m\u001b[0;34m.\u001b[0m\u001b[0mwarning\u001b[0m\u001b[0;34m(\u001b[0m\u001b[0;34m\"Invalid Message:\"\u001b[0m\u001b[0;34m,\u001b[0m \u001b[0mexc_info\u001b[0m\u001b[0;34m=\u001b[0m\u001b[0;32mTrue\u001b[0m\u001b[0;34m)\u001b[0m\u001b[0;34m\u001b[0m\u001b[0;34m\u001b[0m\u001b[0m\n",
            "\u001b[0;31mKeyboardInterrupt\u001b[0m: Interrupted by user"
          ]
        }
      ]
    },
    {
      "cell_type": "code",
      "source": [
        "#Write a program to find greatest common divisor (GCD) or highest common factor (HCF) of given two numbers.\n",
        "\n",
        "#his answer, review\n",
        "a=int(input(\"first number\"))\n",
        "b=int(input(\"second number\"))\n",
        "\n",
        "smallest_number=min(a,b) #find out the smallest between the two\n",
        "\n",
        "for k in range(smallest_number,-1,-1):\n",
        "  if a%k==0 and b%k==0:\n",
        "    print(\"the Gcd is \",k)\n",
        "    break"
      ],
      "metadata": {
        "id": "xiEkXPaLkHlr",
        "colab": {
          "base_uri": "https://localhost:8080/",
          "height": 399
        },
        "outputId": "3c1b4f72-be98-4fc1-c647-6ab6ea38705f"
      },
      "execution_count": null,
      "outputs": [
        {
          "output_type": "error",
          "ename": "KeyboardInterrupt",
          "evalue": "ignored",
          "traceback": [
            "\u001b[0;31m---------------------------------------------------------------------------\u001b[0m",
            "\u001b[0;31mKeyboardInterrupt\u001b[0m                         Traceback (most recent call last)",
            "\u001b[0;32m<ipython-input-125-7680e5e36cdb>\u001b[0m in \u001b[0;36m<cell line: 2>\u001b[0;34m()\u001b[0m\n\u001b[1;32m      1\u001b[0m \u001b[0;31m#Write a program to find greatest common divisor (GCD) or highest common factor (HCF) of given two numbers.\u001b[0m\u001b[0;34m\u001b[0m\u001b[0;34m\u001b[0m\u001b[0m\n\u001b[0;32m----> 2\u001b[0;31m \u001b[0ma\u001b[0m\u001b[0;34m=\u001b[0m\u001b[0mint\u001b[0m\u001b[0;34m(\u001b[0m\u001b[0minput\u001b[0m\u001b[0;34m(\u001b[0m\u001b[0;34m\"first number\"\u001b[0m\u001b[0;34m)\u001b[0m\u001b[0;34m)\u001b[0m\u001b[0;34m\u001b[0m\u001b[0;34m\u001b[0m\u001b[0m\n\u001b[0m\u001b[1;32m      3\u001b[0m \u001b[0mb\u001b[0m\u001b[0;34m=\u001b[0m\u001b[0mint\u001b[0m\u001b[0;34m(\u001b[0m\u001b[0minput\u001b[0m\u001b[0;34m(\u001b[0m\u001b[0;34m\"second number\"\u001b[0m\u001b[0;34m)\u001b[0m\u001b[0;34m)\u001b[0m\u001b[0;34m\u001b[0m\u001b[0;34m\u001b[0m\u001b[0m\n\u001b[1;32m      4\u001b[0m \u001b[0;34m\u001b[0m\u001b[0m\n\u001b[1;32m      5\u001b[0m \u001b[0msmallest_number\u001b[0m\u001b[0;34m=\u001b[0m\u001b[0mmin\u001b[0m\u001b[0;34m(\u001b[0m\u001b[0ma\u001b[0m\u001b[0;34m,\u001b[0m\u001b[0mb\u001b[0m\u001b[0;34m)\u001b[0m \u001b[0;31m#find out the smallest between the two\u001b[0m\u001b[0;34m\u001b[0m\u001b[0;34m\u001b[0m\u001b[0m\n",
            "\u001b[0;32m/usr/local/lib/python3.10/dist-packages/ipykernel/kernelbase.py\u001b[0m in \u001b[0;36mraw_input\u001b[0;34m(self, prompt)\u001b[0m\n\u001b[1;32m    849\u001b[0m                 \u001b[0;34m\"raw_input was called, but this frontend does not support input requests.\"\u001b[0m\u001b[0;34m\u001b[0m\u001b[0;34m\u001b[0m\u001b[0m\n\u001b[1;32m    850\u001b[0m             )\n\u001b[0;32m--> 851\u001b[0;31m         return self._input_request(str(prompt),\n\u001b[0m\u001b[1;32m    852\u001b[0m             \u001b[0mself\u001b[0m\u001b[0;34m.\u001b[0m\u001b[0m_parent_ident\u001b[0m\u001b[0;34m,\u001b[0m\u001b[0;34m\u001b[0m\u001b[0;34m\u001b[0m\u001b[0m\n\u001b[1;32m    853\u001b[0m             \u001b[0mself\u001b[0m\u001b[0;34m.\u001b[0m\u001b[0m_parent_header\u001b[0m\u001b[0;34m,\u001b[0m\u001b[0;34m\u001b[0m\u001b[0;34m\u001b[0m\u001b[0m\n",
            "\u001b[0;32m/usr/local/lib/python3.10/dist-packages/ipykernel/kernelbase.py\u001b[0m in \u001b[0;36m_input_request\u001b[0;34m(self, prompt, ident, parent, password)\u001b[0m\n\u001b[1;32m    893\u001b[0m             \u001b[0;32mexcept\u001b[0m \u001b[0mKeyboardInterrupt\u001b[0m\u001b[0;34m:\u001b[0m\u001b[0;34m\u001b[0m\u001b[0;34m\u001b[0m\u001b[0m\n\u001b[1;32m    894\u001b[0m                 \u001b[0;31m# re-raise KeyboardInterrupt, to truncate traceback\u001b[0m\u001b[0;34m\u001b[0m\u001b[0;34m\u001b[0m\u001b[0m\n\u001b[0;32m--> 895\u001b[0;31m                 \u001b[0;32mraise\u001b[0m \u001b[0mKeyboardInterrupt\u001b[0m\u001b[0;34m(\u001b[0m\u001b[0;34m\"Interrupted by user\"\u001b[0m\u001b[0;34m)\u001b[0m \u001b[0;32mfrom\u001b[0m \u001b[0;32mNone\u001b[0m\u001b[0;34m\u001b[0m\u001b[0;34m\u001b[0m\u001b[0m\n\u001b[0m\u001b[1;32m    896\u001b[0m             \u001b[0;32mexcept\u001b[0m \u001b[0mException\u001b[0m \u001b[0;32mas\u001b[0m \u001b[0me\u001b[0m\u001b[0;34m:\u001b[0m\u001b[0;34m\u001b[0m\u001b[0;34m\u001b[0m\u001b[0m\n\u001b[1;32m    897\u001b[0m                 \u001b[0mself\u001b[0m\u001b[0;34m.\u001b[0m\u001b[0mlog\u001b[0m\u001b[0;34m.\u001b[0m\u001b[0mwarning\u001b[0m\u001b[0;34m(\u001b[0m\u001b[0;34m\"Invalid Message:\"\u001b[0m\u001b[0;34m,\u001b[0m \u001b[0mexc_info\u001b[0m\u001b[0;34m=\u001b[0m\u001b[0;32mTrue\u001b[0m\u001b[0;34m)\u001b[0m\u001b[0;34m\u001b[0m\u001b[0;34m\u001b[0m\u001b[0m\n",
            "\u001b[0;31mKeyboardInterrupt\u001b[0m: Interrupted by user"
          ]
        }
      ]
    },
    {
      "cell_type": "code",
      "source": [
        "5 + 2 * 3 / 2\n"
      ],
      "metadata": {
        "colab": {
          "base_uri": "https://localhost:8080/"
        },
        "id": "k08HZD5rnc0r",
        "outputId": "c80f3b50-74b1-4848-f8bb-2c61a45746b0"
      },
      "execution_count": null,
      "outputs": [
        {
          "output_type": "execute_result",
          "data": {
            "text/plain": [
              "8.0"
            ]
          },
          "metadata": {},
          "execution_count": 126
        }
      ]
    },
    {
      "cell_type": "code",
      "source": [
        "\n",
        "\n",
        "#Question 1 ) Write a program in Python to display the Factorial of a number.multiply all the integers together from 5 down to 1\n",
        "\n",
        "num = int(input(\"enter number\"))\n",
        "fact= 1\n",
        "for i in range(1,num+1):\n",
        "  fact= fact*i\n",
        "  print(f\"factual value:{fact}\")\n",
        "  print(f\"value of i:{i}\")"
      ],
      "metadata": {
        "id": "UVTm5kp6sIGl",
        "colab": {
          "base_uri": "https://localhost:8080/"
        },
        "outputId": "d9e52946-4092-461f-a32c-0cbc3d8b2f60"
      },
      "execution_count": null,
      "outputs": [
        {
          "output_type": "stream",
          "name": "stdout",
          "text": [
            "enter number8\n",
            "factual value:1\n",
            "value of i:1\n",
            "factual value:2\n",
            "value of i:2\n",
            "factual value:6\n",
            "value of i:3\n",
            "factual value:24\n",
            "value of i:4\n",
            "factual value:120\n",
            "value of i:5\n",
            "factual value:720\n",
            "value of i:6\n",
            "factual value:5040\n",
            "value of i:7\n",
            "factual value:40320\n",
            "value of i:8\n"
          ]
        }
      ]
    },
    {
      "cell_type": "code",
      "source": [
        "#WAP to separate positive and negative number from a list.\n",
        "\n",
        "\n",
        "lst2=[2,-6,9,-7,8,-2,9,10,67,-8,-3,87,-43,87]\n",
        "\n",
        "for i in lst2:\n",
        "  if i >= 0:\n",
        "    print(\"this number is positive:\",i)\n",
        "  else:\n",
        "    print(\"this number is negative:\",i)\n",
        "\n",
        "\n",
        "\n",
        "\n",
        "\n"
      ],
      "metadata": {
        "colab": {
          "base_uri": "https://localhost:8080/"
        },
        "id": "TevY1Qqcn5rg",
        "outputId": "1d6dfa2b-bec1-4028-b5cf-be01c8341c9b"
      },
      "execution_count": null,
      "outputs": [
        {
          "output_type": "stream",
          "name": "stdout",
          "text": [
            "this number is positive: 2\n",
            "this number is negative: -6\n",
            "this number is positive: 9\n",
            "this number is negative: -7\n",
            "this number is positive: 8\n",
            "this number is negative: -2\n",
            "this number is positive: 9\n",
            "this number is positive: 10\n",
            "this number is positive: 67\n",
            "this number is negative: -8\n",
            "this number is negative: -3\n",
            "this number is positive: 87\n",
            "this number is negative: -43\n",
            "this number is positive: 87\n"
          ]
        }
      ]
    },
    {
      "cell_type": "code",
      "source": [
        "#another way to do this but in list form\n",
        "\n",
        "lst2 = [2, -6, 9, -7, 8, -2, 9, 10, 67, -8, -3, 87, -43, 87]\n",
        "post = []\n",
        "neg = []\n",
        "\n",
        "for i in lst2:\n",
        "    if i >= 0:\n",
        "        post.append(i)\n",
        "        print(i)\n",
        "    else:\n",
        "        neg.append(i)\n",
        "        print(i)\n"
      ],
      "metadata": {
        "colab": {
          "base_uri": "https://localhost:8080/"
        },
        "id": "wWG2NUTtw6nb",
        "outputId": "81ac6427-7a2a-40a1-e244-3a4aed1cc955"
      },
      "execution_count": null,
      "outputs": [
        {
          "output_type": "stream",
          "name": "stdout",
          "text": [
            "2\n",
            "-6\n",
            "9\n",
            "-7\n",
            "8\n",
            "-2\n",
            "9\n",
            "10\n",
            "67\n",
            "-8\n",
            "-3\n",
            "87\n",
            "-43\n",
            "87\n"
          ]
        }
      ]
    },
    {
      "cell_type": "code",
      "source": [
        "#display fibonnaci series upto 10 terms\n",
        "\n",
        "a=0\n",
        "b=1\n",
        "c=a+b\n",
        "for i in range(0,10):\n",
        "  c=a+b\n",
        "  a=b\n",
        "  b=c\n",
        "  print(c)\n",
        "\n",
        "\n"
      ],
      "metadata": {
        "colab": {
          "base_uri": "https://localhost:8080/"
        },
        "id": "9vOWnstetd6R",
        "outputId": "4f4103f3-834e-45ca-fb48-1f09749e3ba0"
      },
      "execution_count": null,
      "outputs": [
        {
          "output_type": "stream",
          "name": "stdout",
          "text": [
            "1\n",
            "2\n",
            "3\n",
            "5\n",
            "8\n",
            "13\n",
            "21\n",
            "34\n",
            "55\n",
            "89\n"
          ]
        }
      ]
    },
    {
      "cell_type": "code",
      "source": [
        "fibonacci_list=[0,1]\n",
        "\n",
        "num_term=int(input(\"number of terms:\"))\n",
        "while len(fibonacci_list)<num_term:\n",
        "  next_term=fibonacci_list[-1]+fibonacci_list[-2]\n",
        "  fibonacci_list.append(next_term)\n",
        "  print(fibonacci_list)"
      ],
      "metadata": {
        "colab": {
          "base_uri": "https://localhost:8080/"
        },
        "id": "e5tvOYQBzKRe",
        "outputId": "62998be7-117e-4b07-8072-b0f52746e229"
      },
      "execution_count": null,
      "outputs": [
        {
          "output_type": "stream",
          "name": "stdout",
          "text": [
            "number of terms:10\n",
            "[0, 1, 1]\n",
            "[0, 1, 1, 2]\n",
            "[0, 1, 1, 2, 3]\n",
            "[0, 1, 1, 2, 3, 5]\n",
            "[0, 1, 1, 2, 3, 5, 8]\n",
            "[0, 1, 1, 2, 3, 5, 8, 13]\n",
            "[0, 1, 1, 2, 3, 5, 8, 13, 21]\n",
            "[0, 1, 1, 2, 3, 5, 8, 13, 21, 34]\n"
          ]
        }
      ]
    },
    {
      "cell_type": "code",
      "source": [],
      "metadata": {
        "id": "I30nfX3-0yaB"
      },
      "execution_count": null,
      "outputs": []
    }
  ]
}