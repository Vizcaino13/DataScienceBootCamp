{
  "nbformat": 4,
  "nbformat_minor": 0,
  "metadata": {
    "colab": {
      "provenance": []
    },
    "kernelspec": {
      "name": "python3",
      "display_name": "Python 3"
    },
    "language_info": {
      "name": "python"
    }
  },
  "cells": [
    {
      "cell_type": "code",
      "execution_count": null,
      "metadata": {
        "id": "3qRczOXdASlC"
      },
      "outputs": [],
      "source": [
        "# Topics\n",
        "\n",
        "# 1.over loading\n",
        "# 2.over ridding\n",
        "# 3.opeartor over loading\n",
        "# 4.polymorphism\n",
        "# 4.encapsulation"
      ]
    },
    {
      "cell_type": "code",
      "source": [
        "print(10+12) #it is preforming addition on it"
      ],
      "metadata": {
        "colab": {
          "base_uri": "https://localhost:8080/"
        },
        "id": "IPk9cwpeBA__",
        "outputId": "e17bbe9e-ddc9-45b0-b7bc-7d4647843113"
      },
      "execution_count": null,
      "outputs": [
        {
          "output_type": "stream",
          "name": "stdout",
          "text": [
            "22\n"
          ]
        }
      ]
    },
    {
      "cell_type": "code",
      "source": [
        "print(3.1451+3.1451)"
      ],
      "metadata": {
        "colab": {
          "base_uri": "https://localhost:8080/"
        },
        "id": "CYJWBW8MBtbu",
        "outputId": "dee82548-e14b-41a1-abd9-c23134c193fe"
      },
      "execution_count": null,
      "outputs": [
        {
          "output_type": "stream",
          "name": "stdout",
          "text": [
            "6.2902\n"
          ]
        }
      ]
    },
    {
      "cell_type": "code",
      "source": [
        "print(\"python\"+\"programming\") #concatinatig"
      ],
      "metadata": {
        "colab": {
          "base_uri": "https://localhost:8080/"
        },
        "id": "Jtp_nf1SB1Hj",
        "outputId": "8d164786-25fb-4bc8-bd54-662b1a50738a"
      },
      "execution_count": null,
      "outputs": [
        {
          "output_type": "stream",
          "name": "stdout",
          "text": [
            "pythonprogramming\n"
          ]
        }
      ]
    },
    {
      "cell_type": "code",
      "source": [
        "print([12,23,34,45]+[56,67,78,89,90]) #The word polymorphism means having many forms.\n",
        "#In programming, polymorphism means the same function name (but different signatures) being used for different types."
      ],
      "metadata": {
        "colab": {
          "base_uri": "https://localhost:8080/"
        },
        "id": "BA6CN3WUCAxu",
        "outputId": "fc911186-9ae9-47b9-e8de-f244c6ae6d99"
      },
      "execution_count": null,
      "outputs": [
        {
          "output_type": "stream",
          "name": "stdout",
          "text": [
            "[12, 23, 34, 45, 56, 67, 78, 89, 90]\n"
          ]
        }
      ]
    },
    {
      "cell_type": "code",
      "source": [
        "l = \"python programming\"\n",
        "\n",
        "print(len(l))\n",
        "\n",
        "l=[12, 23, 34, 45, 56, 67, 78, 89, 90]\n",
        "print(len(l))\n",
        "\n",
        "l=(11,22,33,44,55,66,77,88,99,110)\n",
        "print(len(l))\n",
        "\n",
        "l={\"a\":\"apple\", \"b\":\"banana\", \"c\":\"cherries\"}"
      ],
      "metadata": {
        "colab": {
          "base_uri": "https://localhost:8080/"
        },
        "id": "8-YDAGV4CL8D",
        "outputId": "0641761f-30f3-4f61-cce7-3817684edf67"
      },
      "execution_count": null,
      "outputs": [
        {
          "output_type": "stream",
          "name": "stdout",
          "text": [
            "18\n",
            "9\n",
            "10\n"
          ]
        }
      ]
    },
    {
      "cell_type": "code",
      "source": [
        "class person:     #parent calss\n",
        "  def __init__(self, fname, mname, lname):\n",
        "    pass\n",
        "  def print_details (self):\n",
        "    print(self.fname, self.mname, self.lname)\n",
        "\n",
        "class student(person):     #parent calss\n",
        "  def __init__(self, fname, mname, lname):\n",
        "    pass\n",
        "  def print_details (self):\n",
        "    print(self.fname, self.mname, self.lname)"
      ],
      "metadata": {
        "id": "mwZUgTEyDJgO"
      },
      "execution_count": null,
      "outputs": []
    },
    {
      "cell_type": "code",
      "source": [
        "#example of polymorphism\n",
        "class Car:\n",
        "  def __init__(self, brand, model):\n",
        "    self.brand = brand\n",
        "    self.model = model\n",
        "\n",
        "  def move(self):\n",
        "    print(\"Drive!\")\n",
        "\n",
        "class Boat:\n",
        "  def __init__(self, brand, model):\n",
        "    self.brand = brand\n",
        "    self.model = model\n",
        "\n",
        "  def move(self):\n",
        "    print(\"Sail!\")\n",
        "\n",
        "class Plane:\n",
        "  def __init__(self, brand, model):\n",
        "    self.brand = brand\n",
        "    self.model = model\n",
        "\n",
        "  def move(self):\n",
        "    print(\"Fly!\")\n",
        "\n",
        "car1 = Car(\"Ford\", \"Mustang\")       #Create a Car class\n",
        "boat1 = Boat(\"Ibiza\", \"Touring 20\") #Create a Boat class\n",
        "plane1 = Plane(\"Boeing\", \"747\")     #Create a Plane class\n",
        "\n",
        "for x in (car1, boat1, plane1): #for each iteration in each object, it calls the object and their move function\n",
        "  x.move()\n",
        "\n",
        "\n",
        "  #all different class there are 3. car boat and plane. in all three calsses theres a function called move , this is interpreting polymorphism.\n",
        "  #the for loop is calling a particular object and calling the move function for its perspectuve class"
      ],
      "metadata": {
        "id": "rhCdAVlvEvIb",
        "outputId": "0c47250f-6809-4f38-d30f-402f9bd83852",
        "colab": {
          "base_uri": "https://localhost:8080/"
        }
      },
      "execution_count": null,
      "outputs": [
        {
          "output_type": "stream",
          "name": "stdout",
          "text": [
            "Drive!\n",
            "Sail!\n",
            "Fly!\n"
          ]
        }
      ]
    },
    {
      "cell_type": "code",
      "source": [
        "#parent class\n",
        "class vechile:\n",
        "  def __init__(self, brand,model):\n",
        "    self.brand=brand\n",
        "    self.model=model\n",
        "\n",
        "  def move(self):\n",
        "    print(\"move!!\")\n",
        "\n",
        "#child classes\n",
        "class Car(vechile):\n",
        "  def move(self):\n",
        "    print(\"Drive!\")\n",
        "\n",
        "class Boat(vechile):\n",
        "  def move(self):\n",
        "    print(\"Sail!\")\n",
        "\n",
        "class Plane(vechile):\n",
        "  def move(self):\n",
        "    print(\"Fly!\")\n",
        "\n",
        "car1 = Car(\"Ford\", \"Mustang\")       #Create a Car class\n",
        "boat1 = Boat(\"Ibiza\", \"Touring 20\") #Create a Boat class\n",
        "plane1 = Plane(\"Boeing\", \"747\")     #Create a Plane class\n",
        "\n",
        "for i in (car1,boat1,plane1):\n",
        "  print(i.brand)\n",
        "  print(i.model)\n",
        "  i.move()\n",
        "\n",
        "\n",
        "#inheritance, overriding, polymorphism shown here\n",
        "\n",
        "#since the child classes inherient the parent classes variables\n",
        "#when you do the loop at the bottom it calls the objects per class(one by one) that you made and prints all the brands and models and the move method,\n",
        "# but it's worth noting that they also inherit the methods. This means that each child class not only has its own move method\n",
        "#(which overrides the one inherited from the parent class) but also has access to any other methods defined in the parent class.\n",
        "#since it loops through each class\n",
        "\n",
        "\n",
        "#the move method is also polymorphism\n"
      ],
      "metadata": {
        "colab": {
          "base_uri": "https://localhost:8080/"
        },
        "id": "fgfMhZpLFTxX",
        "outputId": "ad52f5b8-eccb-4491-c9bf-d20925d693ae"
      },
      "execution_count": null,
      "outputs": [
        {
          "output_type": "stream",
          "name": "stdout",
          "text": [
            "Ford\n",
            "Mustang\n",
            "Drive!\n",
            "Ibiza\n",
            "Touring 20\n",
            "Sail!\n",
            "Boeing\n",
            "747\n",
            "Fly!\n"
          ]
        }
      ]
    },
    {
      "cell_type": "code",
      "source": [
        "class Desserts:\n",
        "  def __init__(self,type_of,flavor,cost) :\n",
        "   self.type_of=type_of\n",
        "   self.flavor=flavor\n",
        "   self.cost=cost\n",
        "\n",
        "  def treat(self):\n",
        "    print(\"these make desserts\")\n",
        "\n",
        "class cake(Desserts):\n",
        "  def treat(self):\n",
        "    print(\"there are lots of cakes\")\n",
        "\n",
        "class cookies(Desserts):\n",
        "  def treat(self):\n",
        "    print(\"there are so many types of cookies \")\n",
        "\n",
        "class ice_cream(Desserts):\n",
        "  def treat(self):\n",
        "    print(\"so many ice cream\")\n",
        "\n",
        "class pudding(Desserts):\n",
        "  def treat(self):\n",
        "    print(\"pudding is great\")\n",
        "\n",
        "\n",
        "objcake=cake(\"german cake\", \"cherry\", 28.99)\n",
        "objcookie=cookies(\"chocolate chip\", \"chocolate\", 3.50)\n",
        "objice_cream=ice_cream(\"pumpkin spice\", \"pumpkin\", 6.00)\n",
        "objpudding=pudding(\"passion fruit pudding \", \"passion fruit\", 4.39)\n",
        "\n",
        "for i in (objcake,objcookie,objice_cream,objpudding):\n",
        "  print(i.type_of)\n",
        "  print(i.flavor)\n",
        "  print(i.cost)\n",
        "  i.treat()\n",
        "  print(\"======================\")"
      ],
      "metadata": {
        "colab": {
          "base_uri": "https://localhost:8080/"
        },
        "id": "PVqIwiDYJYG9",
        "outputId": "643a2001-00f6-4e7c-ec00-619358c44764"
      },
      "execution_count": null,
      "outputs": [
        {
          "output_type": "stream",
          "name": "stdout",
          "text": [
            "german cake\n",
            "cherry\n",
            "28.99\n",
            "there are lots of cakes\n",
            "======================\n",
            "chocolate chip\n",
            "chocolate\n",
            "3.5\n",
            "there are so many types of cookies \n",
            "======================\n",
            "pumpkin spice\n",
            "pumpkin\n",
            "6.0\n",
            "so many ice cream\n",
            "======================\n",
            "passion fruit pudding \n",
            "passion fruit\n",
            "4.39\n",
            "pudding is great\n",
            "======================\n"
          ]
        }
      ]
    },
    {
      "cell_type": "code",
      "source": [],
      "metadata": {
        "id": "PE55_R4wRr5g"
      },
      "execution_count": null,
      "outputs": []
    }
  ]
}