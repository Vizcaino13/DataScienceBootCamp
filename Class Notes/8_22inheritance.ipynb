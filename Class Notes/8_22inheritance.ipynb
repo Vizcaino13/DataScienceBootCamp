{
  "nbformat": 4,
  "nbformat_minor": 0,
  "metadata": {
    "colab": {
      "provenance": []
    },
    "kernelspec": {
      "name": "python3",
      "display_name": "Python 3"
    },
    "language_info": {
      "name": "python"
    }
  },
  "cells": [
    {
      "cell_type": "code",
      "execution_count": null,
      "metadata": {
        "id": "3qHKGTpAstlo"
      },
      "outputs": [],
      "source": [
        "#parent class inherirants from its parents class"
      ]
    },
    {
      "cell_type": "code",
      "source": [
        "#inheritence: passing on characteristics or abilities from one thing to another, just like how children inherit traits from their parents.\n",
        "#great grandparentclass\n",
        "class transportation:\n",
        "  pass\n",
        "\n",
        " #grandparent\n",
        "class air(transportation):\n",
        "\n",
        "\n",
        "class water(transportation):\n",
        "\n",
        "\n",
        "class land(transportation):\n",
        "#parent\n",
        "class wheeler(land):\n",
        "  pass\n",
        "  class wheeler2(land):\n",
        "  pass\n",
        "  class wheeler3(land):\n",
        "  pass\n",
        "  class wheeler4(land):\n",
        "  pass\n",
        "  class wheeler5(land):\n",
        "  pass\n",
        "  class wheeler6(land):\n",
        "  pass\n",
        "  class wheeler7(land):\n",
        "  pass\n",
        " #child\n",
        " class gas(wheeler):\n",
        "  pass\n",
        "\n",
        " class petrol(wheeler):\n",
        "  pass\n",
        "\n",
        "class electric(wheeler):\n",
        "  pass\n",
        "\n",
        "  class battery(wheeler):\n",
        "  pass"
      ],
      "metadata": {
        "id": "hwi_TUhd2Yfx"
      },
      "execution_count": null,
      "outputs": []
    },
    {
      "cell_type": "code",
      "source": [
        "class person:\n",
        "  def __init__(self, fname, lname):\n",
        "    self.fname=fname\n",
        "    self.lname=lname\n",
        "\n",
        "  def printname(self):\n",
        "    print(self.fname, \"\",self.lname )"
      ],
      "metadata": {
        "id": "NwquW5yctEU2"
      },
      "execution_count": null,
      "outputs": []
    },
    {
      "cell_type": "code",
      "source": [
        "obj1=person(\"Ash\", \"Viz\")"
      ],
      "metadata": {
        "id": "95p1cnHTtlba"
      },
      "execution_count": null,
      "outputs": []
    },
    {
      "cell_type": "code",
      "source": [
        "obj1.printname()"
      ],
      "metadata": {
        "colab": {
          "base_uri": "https://localhost:8080/"
        },
        "id": "svb93J-itZ_Y",
        "outputId": "26346162-0e40-46ce-e978-39c19dc0a954"
      },
      "execution_count": null,
      "outputs": [
        {
          "output_type": "stream",
          "name": "stdout",
          "text": [
            "Ash  Viz\n"
          ]
        }
      ]
    },
    {
      "cell_type": "code",
      "source": [
        "class person:\n",
        "  def __init__(self, fname, lname):\n",
        "    self.fname=fname\n",
        "    self.lname=lname\n",
        "\n",
        "  def printname(self):\n",
        "    print(self.fname, \"\",self.lname )"
      ],
      "metadata": {
        "id": "SPntL0lNtwA3"
      },
      "execution_count": null,
      "outputs": []
    },
    {
      "cell_type": "code",
      "source": [
        "class childclass(person):   #this is inhertiting everything from the person class\n",
        "  pass"
      ],
      "metadata": {
        "id": "EcygWBXst9pl"
      },
      "execution_count": null,
      "outputs": []
    },
    {
      "cell_type": "code",
      "source": [
        "obj2=childclass(\"ash\", \"viz\")"
      ],
      "metadata": {
        "id": "nhEVZ9bguFya"
      },
      "execution_count": null,
      "outputs": []
    },
    {
      "cell_type": "code",
      "source": [
        "obj2.printname()"
      ],
      "metadata": {
        "colab": {
          "base_uri": "https://localhost:8080/"
        },
        "id": "vweOGOo-uOUQ",
        "outputId": "a67d7dd3-dd45-40bc-f4da-122cafc6ae79"
      },
      "execution_count": null,
      "outputs": [
        {
          "output_type": "stream",
          "name": "stdout",
          "text": [
            "ash  viz\n"
          ]
        }
      ]
    },
    {
      "cell_type": "code",
      "source": [
        "class person:\n",
        "  def __init__(self, fname, lname):\n",
        "    self.fname=fname\n",
        "    self.lname=lname\n",
        "\n",
        "  def printname(self):\n",
        "    print(\"class person:\",self.fname, \"\",self.lname )"
      ],
      "metadata": {
        "id": "G943qxq_uSPc"
      },
      "execution_count": null,
      "outputs": []
    },
    {
      "cell_type": "code",
      "source": [
        "class childclass(person):\n",
        "  def __init__(self,fname,lname):\n",
        "    self.fname=fname\n",
        "    self.lname=lname\n",
        "\n",
        "  def printname(self):\n",
        "    print(\"class childclass(person):\", self.fname, \"\",self.lname )\n"
      ],
      "metadata": {
        "id": "OhLYoBRqwsI9"
      },
      "execution_count": null,
      "outputs": []
    },
    {
      "cell_type": "code",
      "source": [
        "obj1=childclass(\"ash\", \"viz\")"
      ],
      "metadata": {
        "id": "79u_GmE6xLL5"
      },
      "execution_count": null,
      "outputs": []
    },
    {
      "cell_type": "code",
      "source": [
        "obj1.printname()"
      ],
      "metadata": {
        "colab": {
          "base_uri": "https://localhost:8080/"
        },
        "id": "0BrlnkaaxQtX",
        "outputId": "e1f1f4f0-2407-4f2e-8d2f-d2234f781f3f"
      },
      "execution_count": null,
      "outputs": [
        {
          "output_type": "stream",
          "name": "stdout",
          "text": [
            "class childclass(person): ash  viz\n"
          ]
        }
      ]
    },
    {
      "cell_type": "code",
      "source": [
        "class person:\n",
        "  def __init__(self, fname, lname):\n",
        "    self.fname=fname\n",
        "    self.lname=lname\n",
        "\n",
        "  def printname(self):\n",
        "    print(\"class person:\",self.fname, \"\",self.lname )"
      ],
      "metadata": {
        "id": "oCOkPuGaxRd9"
      },
      "execution_count": null,
      "outputs": []
    },
    {
      "cell_type": "code",
      "source": [
        "class childclass(person):\n",
        "  def __init__(self,fname, lname):\n",
        "    self.fname=fname\n",
        "    self.lname=lname\n"
      ],
      "metadata": {
        "id": "7vXiykmTx1dK"
      },
      "execution_count": null,
      "outputs": []
    },
    {
      "cell_type": "code",
      "source": [
        "obj1=childclass(\"ash\", \"viz\")"
      ],
      "metadata": {
        "id": "mZEQVRe2yDU8"
      },
      "execution_count": null,
      "outputs": []
    },
    {
      "cell_type": "code",
      "source": [
        "obj1.printname()"
      ],
      "metadata": {
        "colab": {
          "base_uri": "https://localhost:8080/"
        },
        "id": "YGGhlKebyLAU",
        "outputId": "2f0a42a6-f23e-4859-bf12-7d5ab6e983da"
      },
      "execution_count": null,
      "outputs": [
        {
          "output_type": "stream",
          "name": "stdout",
          "text": [
            "class person: ash  viz\n"
          ]
        }
      ]
    },
    {
      "cell_type": "code",
      "source": [
        "class parent:\n",
        "  def __init__(self, age, height, location):\n",
        "    self.age=age\n",
        "    self.height=height\n",
        "    self.location=location\n",
        "\n",
        "  def info(self):\n",
        "    print(\"my age is:\", self.age,  \"and i am \", self.height,\"inches\" \"   \" \"and I am from\", self.location)"
      ],
      "metadata": {
        "id": "45J2bPKwyW4J"
      },
      "execution_count": null,
      "outputs": []
    },
    {
      "cell_type": "code",
      "source": [
        "class child(parent):\n",
        "  def __init__(self, age, height, location):\n",
        "    self.age=age\n",
        "    self.height=height\n",
        "    self.location=location"
      ],
      "metadata": {
        "id": "tIYDO094092k"
      },
      "execution_count": null,
      "outputs": []
    },
    {
      "cell_type": "code",
      "source": [
        "obj1=child(82, 56 , \"NYC\")"
      ],
      "metadata": {
        "id": "4cqCR-OK1GDB"
      },
      "execution_count": null,
      "outputs": []
    },
    {
      "cell_type": "code",
      "source": [
        "obj1.info()"
      ],
      "metadata": {
        "colab": {
          "base_uri": "https://localhost:8080/"
        },
        "id": "Vib_f2JA1Ue0",
        "outputId": "0228b987-3e24-4418-b71b-c1c4092b4a6a"
      },
      "execution_count": null,
      "outputs": [
        {
          "output_type": "stream",
          "name": "stdout",
          "text": [
            "my age is: 82 and i am  56 inches   and I am from NYC\n"
          ]
        }
      ]
    },
    {
      "cell_type": "code",
      "source": [
        "#parent class\n",
        "class Person:\n",
        "  def __init__(self, fname, lname):\n",
        "    self.fname=fname\n",
        "    self.lname=lname\n",
        "\n",
        "  def printname(self):\n",
        "    print(\"class person:\",self.fname, \"\",self.lname )"
      ],
      "metadata": {
        "id": "vkjIoUeX1XpX"
      },
      "execution_count": null,
      "outputs": []
    },
    {
      "cell_type": "code",
      "source": [
        "#child class with super inbuilt function,that will make the child class inherit all the methods and properties from its parent:\n",
        "class Student(Person):\n",
        "  def __init__(self, fname, lname):\n",
        "    super().__init__(fname, lname)"
      ],
      "metadata": {
        "id": "TpAZ1o7E-rua"
      },
      "execution_count": null,
      "outputs": []
    },
    {
      "cell_type": "code",
      "source": [
        "obj1=Student(\"Ash\", \"ciz\")"
      ],
      "metadata": {
        "id": "psHzmdEg_Nuu"
      },
      "execution_count": null,
      "outputs": []
    },
    {
      "cell_type": "code",
      "source": [
        "obj1.printname() #this is running from the parent class"
      ],
      "metadata": {
        "colab": {
          "base_uri": "https://localhost:8080/"
        },
        "id": "kVCuS4sv_VU8",
        "outputId": "3eb10d82-f12d-46ef-adf8-121ef47b0713"
      },
      "execution_count": null,
      "outputs": [
        {
          "output_type": "stream",
          "name": "stdout",
          "text": [
            "class person: Ash  ciz\n"
          ]
        }
      ]
    },
    {
      "cell_type": "code",
      "source": [
        "class Car:\n",
        "  def __init__(self, name, model):\n",
        "    self.name=name\n",
        "    self.model=model\n",
        "  def print_details(self):\n",
        "    print(\"class car:\",self.name,self.model )"
      ],
      "metadata": {
        "id": "bKTV6Pn5_Y0H"
      },
      "execution_count": null,
      "outputs": []
    },
    {
      "cell_type": "code",
      "source": [
        "class Audi(Car):\n",
        "  def __init__(self, name, model):\n",
        "    super().__init__(name,model)\n"
      ],
      "metadata": {
        "id": "F1vVF0SAA0fD"
      },
      "execution_count": null,
      "outputs": []
    },
    {
      "cell_type": "code",
      "source": [
        "obj1= Audi(\"Audiq7\",2007 )"
      ],
      "metadata": {
        "id": "mqzRUiEGBEWN"
      },
      "execution_count": null,
      "outputs": []
    },
    {
      "cell_type": "code",
      "source": [
        "obj1.print_details()"
      ],
      "metadata": {
        "colab": {
          "base_uri": "https://localhost:8080/"
        },
        "id": "q0L1YKv3BNcS",
        "outputId": "41f8855d-12c7-4be4-d0ea-60948c823323"
      },
      "execution_count": null,
      "outputs": [
        {
          "output_type": "stream",
          "name": "stdout",
          "text": [
            "class car: Audiq7 2007\n"
          ]
        }
      ]
    },
    {
      "cell_type": "code",
      "source": [
        "class Audi(Car):\n",
        "  def __init__(self, name, model, make):\n",
        "    super().__init__(name,model)\n",
        "    self.make=1978\n",
        "\n",
        "  def print_details(self):\n",
        "    print(\"class car:\",self.name, self.model, self.make)"
      ],
      "metadata": {
        "id": "KbgwOT7YBd5D"
      },
      "execution_count": null,
      "outputs": []
    },
    {
      "cell_type": "code",
      "source": [
        "obj1= Audi(\"Audiq7\", 2007, 1978)"
      ],
      "metadata": {
        "id": "z_Nn6SJ-B9Vn"
      },
      "execution_count": null,
      "outputs": []
    },
    {
      "cell_type": "code",
      "source": [
        "obj1.print_details()"
      ],
      "metadata": {
        "colab": {
          "base_uri": "https://localhost:8080/"
        },
        "id": "522Xs_HECLB3",
        "outputId": "15208710-f942-4156-c085-b2c1563103c1"
      },
      "execution_count": null,
      "outputs": [
        {
          "output_type": "stream",
          "name": "stdout",
          "text": [
            "class car: Audiq7 2007 1978\n"
          ]
        }
      ]
    },
    {
      "cell_type": "code",
      "source": [
        "class Countries:\n",
        "  def __init__(self, name, currency):\n",
        "    self.name=name\n",
        "    self.currency=currency\n",
        "\n",
        "  def country_info(self):\n",
        "    print(\"Country:\", self.name,\"Currency:\", self.currency )"
      ],
      "metadata": {
        "id": "Fu2lRtOpDTIZ"
      },
      "execution_count": null,
      "outputs": []
    },
    {
      "cell_type": "code",
      "source": [
        "class Capitals(Countries):\n",
        "  def __init__(self, name, currency, captiol):\n",
        "    super().__init__(name, currency)\n",
        "    self.captiol=captiol\n",
        "  def captiol_info(self):\n",
        "    print(\"caps:\",self.captiol  )"
      ],
      "metadata": {
        "id": "064kYoQWD0FA"
      },
      "execution_count": null,
      "outputs": []
    },
    {
      "cell_type": "code",
      "source": [
        "obj1=Capitals(\"Dominican Rep\", \"Peso\", \"Santo Domingo\")"
      ],
      "metadata": {
        "id": "vqdHFG5kEGBC"
      },
      "execution_count": null,
      "outputs": []
    },
    {
      "cell_type": "code",
      "source": [
        "obj1.country_info()\n",
        "obj1.captiol_info()"
      ],
      "metadata": {
        "colab": {
          "base_uri": "https://localhost:8080/"
        },
        "id": "3vDo8iYIEV1_",
        "outputId": "c243d544-5e9b-426c-9657-ab70b522f99f"
      },
      "execution_count": null,
      "outputs": [
        {
          "output_type": "stream",
          "name": "stdout",
          "text": [
            "Country: Dominican Rep Currency: Peso\n",
            "caps: Santo Domingo\n"
          ]
        }
      ]
    },
    {
      "cell_type": "code",
      "source": [],
      "metadata": {
        "id": "WTZO_byJE6Wg"
      },
      "execution_count": null,
      "outputs": []
    }
  ]
}