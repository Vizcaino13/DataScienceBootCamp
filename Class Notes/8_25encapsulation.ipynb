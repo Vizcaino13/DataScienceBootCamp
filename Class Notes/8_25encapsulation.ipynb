{
  "nbformat": 4,
  "nbformat_minor": 0,
  "metadata": {
    "colab": {
      "provenance": []
    },
    "kernelspec": {
      "name": "python3",
      "display_name": "Python 3"
    },
    "language_info": {
      "name": "python"
    }
  },
  "cells": [
    {
      "cell_type": "code",
      "execution_count": 2,
      "metadata": {
        "id": "5UPLi_sSJYQ4"
      },
      "outputs": [],
      "source": [
        "# Encapsultaion: hiding the code and actual code from end user. so like an atm you take out the money and put your pin and do alot of different things\n",
        "# you don't know the code going on in the background. Yoou're just adding your input.\n",
        "\n",
        "\n",
        "class transport:\n",
        "  def __init__(self, brand,mode_name,year):\n",
        "    self.brandofvehicle=brand\n",
        "    self.modelofvehicle=mode_name\n",
        "    self.yeaofmanufact=year\n",
        "\n",
        "  def print_details(self):\n",
        "    print(self.brandofvehicle, self.modelofvehicle,self.yeaofmanufact )"
      ]
    },
    {
      "cell_type": "code",
      "source": [
        "obj1=transport(\"Toyota\", \"camery\", 2014)"
      ],
      "metadata": {
        "id": "5G8AlqEDOBBy"
      },
      "execution_count": 3,
      "outputs": []
    },
    {
      "cell_type": "code",
      "source": [
        "obj1.print_details()"
      ],
      "metadata": {
        "colab": {
          "base_uri": "https://localhost:8080/"
        },
        "id": "ITUstqR1OKZ_",
        "outputId": "a878a9c2-dc77-4fec-b92a-e642699c95c8"
      },
      "execution_count": 4,
      "outputs": [
        {
          "output_type": "stream",
          "name": "stdout",
          "text": [
            "Toyota camery 2014\n"
          ]
        }
      ]
    },
    {
      "cell_type": "code",
      "source": [
        "# Parent class\n",
        "class HairProducts:\n",
        "    def __init__(self, hair_dryer, flat_iron, water):\n",
        "        self.hair_dryer = hair_dryer\n",
        "        self.flat_iron = flat_iron\n",
        "        self.water = water\n",
        "\n",
        "    def print_details(self):\n",
        "        print(\"Hair Dryer:\", self.hair_dryer)\n",
        "        print(\"Flat Iron:\", self.flat_iron)\n",
        "        print(\"Water:\", self.water)\n",
        "\n",
        "# Child classes\n",
        "class StraightHair(HairProducts):\n",
        "    def __init__(self, hair_dryer, flat_iron, water, heat):\n",
        "        super().__init__(hair_dryer, flat_iron, water)\n",
        "        self.heat = heat\n",
        "\n",
        "    def move(self):\n",
        "        print(\"Straight hair\")\n",
        "\n",
        "class CurlyHair(HairProducts):\n",
        "    def __init__(self, hair_dryer, flat_iron, water, cool_air):\n",
        "        super().__init__(hair_dryer, flat_iron, water)\n",
        "        self.cool_air = cool_air\n",
        "\n",
        "    def move(self):\n",
        "        print(\"Curly hair\")\n",
        "\n",
        "class WavyHair(HairProducts):\n",
        "    def __init__(self, hair_dryer, flat_iron, water, scrunch):\n",
        "        super().__init__(hair_dryer, flat_iron, water)\n",
        "        self.scrunch = scrunch\n",
        "\n",
        "    def move(self):\n",
        "        print(\"Wavy hair\")\n",
        "\n",
        "# Create instances of child classes\n",
        "straight_obj = StraightHair(\"Dyson\", \"Conair\", \"Regular water\", \"High heat\")\n",
        "curly_obj = CurlyHair(\"Babyliss\", \"Chi\", \"Distilled water\", \"Cool air\")\n",
        "wavy_obj = WavyHair(\"Revlon\", \"GHD\", \"Filtered water\", \"Scrunching\")\n",
        "\n",
        "# Print details of child objects\n",
        "straight_obj.print_details()\n",
        "straight_obj.move()\n",
        "\n",
        "curly_obj.print_details()\n",
        "curly_obj.move()\n",
        "\n",
        "wavy_obj.print_details()\n",
        "wavy_obj.move()\n"
      ],
      "metadata": {
        "colab": {
          "base_uri": "https://localhost:8080/"
        },
        "id": "5Jp4GcFKOPEC",
        "outputId": "6a07b83a-fab4-42dc-8fc5-b7f750278ecd"
      },
      "execution_count": 10,
      "outputs": [
        {
          "output_type": "stream",
          "name": "stdout",
          "text": [
            "Hair Dryer: Dyson\n",
            "Flat Iron: Conair\n",
            "Water: Regular water\n",
            "Straight hair\n",
            "Hair Dryer: Babyliss\n",
            "Flat Iron: Chi\n",
            "Water: Distilled water\n",
            "Curly hair\n",
            "Hair Dryer: Revlon\n",
            "Flat Iron: GHD\n",
            "Water: Filtered water\n",
            "Wavy hair\n"
          ]
        }
      ]
    },
    {
      "cell_type": "code",
      "source": [
        "\n",
        "# #exception handing\n",
        "\n",
        "# 1.built in exception\n",
        "\n",
        "# 2.user define exception\n"
      ],
      "metadata": {
        "id": "kRm0W0bQPqWm"
      },
      "execution_count": 11,
      "outputs": []
    },
    {
      "cell_type": "code",
      "source": [
        "f=open(\"mytextfile1.txt\",\"x\")"
      ],
      "metadata": {
        "id": "ul_5TVHgTPFR"
      },
      "execution_count": 12,
      "outputs": []
    },
    {
      "cell_type": "code",
      "source": [
        "f=open(\"mytextfile2.txt\",\"r\")"
      ],
      "metadata": {
        "colab": {
          "base_uri": "https://localhost:8080/",
          "height": 179
        },
        "id": "5KVlr1J_TeBy",
        "outputId": "af69aad6-31cb-47c9-d84c-94abccf0190e"
      },
      "execution_count": 20,
      "outputs": [
        {
          "output_type": "error",
          "ename": "FileNotFoundError",
          "evalue": "ignored",
          "traceback": [
            "\u001b[0;31m---------------------------------------------------------------------------\u001b[0m",
            "\u001b[0;31mFileNotFoundError\u001b[0m                         Traceback (most recent call last)",
            "\u001b[0;32m<ipython-input-20-ee2964481062>\u001b[0m in \u001b[0;36m<cell line: 1>\u001b[0;34m()\u001b[0m\n\u001b[0;32m----> 1\u001b[0;31m \u001b[0mf\u001b[0m\u001b[0;34m=\u001b[0m\u001b[0mopen\u001b[0m\u001b[0;34m(\u001b[0m\u001b[0;34m\"mytextfile2.txt\"\u001b[0m\u001b[0;34m,\u001b[0m\u001b[0;34m\"r\"\u001b[0m\u001b[0;34m)\u001b[0m\u001b[0;34m\u001b[0m\u001b[0;34m\u001b[0m\u001b[0m\n\u001b[0m",
            "\u001b[0;31mFileNotFoundError\u001b[0m: [Errno 2] No such file or directory: 'mytextfile2.txt'"
          ]
        }
      ]
    },
    {
      "cell_type": "code",
      "source": [
        "#universal exception\n",
        "\n",
        "try:\n",
        "  f=open(\"mytextfile2.txt\",\"r\")\n",
        "except FileNotFoundError as fnfe:\n",
        "  print(\"FileNotFoundError\", fnfe)\n",
        "except Exception as e:\n",
        "    print(\"Exception \", e)"
      ],
      "metadata": {
        "colab": {
          "base_uri": "https://localhost:8080/"
        },
        "id": "AOHw6WiKTxlV",
        "outputId": "c554a5e3-5156-4d03-e706-1db888f4e407"
      },
      "execution_count": 42,
      "outputs": [
        {
          "output_type": "stream",
          "name": "stdout",
          "text": [
            "FileNotFoundError [Errno 2] No such file or directory: 'mytextfile2.txt'\n"
          ]
        }
      ]
    },
    {
      "cell_type": "code",
      "source": [
        "ZeroDivisionError\n",
        "try:\n",
        "    # f = open(\"mytextfile2.txt\", \"r\")\n",
        "    a = 10 / 0\n",
        "except FileNotFoundError as fnfe:\n",
        "    print(\"FileNotFoundError\", fnfe)\n",
        "except ZeroDivisionError as zde:\n",
        "    print(\"ZeroDivisionError\", zde)\n",
        "except Exception as e:\n",
        "    print(\"Exception\", e)\n",
        "\n"
      ],
      "metadata": {
        "colab": {
          "base_uri": "https://localhost:8080/"
        },
        "id": "HJ20C8gnUDNE",
        "outputId": "88de531c-7b49-4e0d-b7ac-558610b83f2d"
      },
      "execution_count": 47,
      "outputs": [
        {
          "output_type": "stream",
          "name": "stdout",
          "text": [
            "ZeroDivisionError division by zero\n"
          ]
        }
      ]
    },
    {
      "cell_type": "code",
      "source": [
        "ZeroDivisionError\n",
        "try:\n",
        "    # f = open(\"mytextfile2.txt\", \"r\")\n",
        "    a = 10 / 0\n",
        "except ArithmeticError as fnfe:\n",
        "    print(\"ArithmeticError\", fnfe)\n",
        "except FileNotFoundError as fnfe:\n",
        "    print(\"FileNotFoundError\", fnfe)\n",
        "except ZeroDivisionError as zde:\n",
        "    print(\"ZeroDivisionError\", zde)\n",
        "except Exception as e:\n",
        "    print(\"Exception\", e)\n"
      ],
      "metadata": {
        "colab": {
          "base_uri": "https://localhost:8080/"
        },
        "id": "i8Ji61tMU_uL",
        "outputId": "3cec62b2-a289-42fb-b85c-289c53c98430"
      },
      "execution_count": 46,
      "outputs": [
        {
          "output_type": "stream",
          "name": "stdout",
          "text": [
            "ArithmeticError division by zero\n"
          ]
        }
      ]
    },
    {
      "cell_type": "code",
      "source": [
        "#write a program 8 0r ten exceptions\n",
        "\n",
        "item= num+2"
      ],
      "metadata": {
        "colab": {
          "base_uri": "https://localhost:8080/",
          "height": 214
        },
        "id": "65ADlED_WMiy",
        "outputId": "25384d81-e451-48b5-cb9b-ce108e9f9ba6"
      },
      "execution_count": 52,
      "outputs": [
        {
          "output_type": "error",
          "ename": "NameError",
          "evalue": "ignored",
          "traceback": [
            "\u001b[0;31m---------------------------------------------------------------------------\u001b[0m",
            "\u001b[0;31mNameError\u001b[0m                                 Traceback (most recent call last)",
            "\u001b[0;32m<ipython-input-52-aa2ea5d0e23e>\u001b[0m in \u001b[0;36m<cell line: 3>\u001b[0;34m()\u001b[0m\n\u001b[1;32m      1\u001b[0m \u001b[0;31m#write a program 8 0r ten exceptions\u001b[0m\u001b[0;34m\u001b[0m\u001b[0;34m\u001b[0m\u001b[0m\n\u001b[1;32m      2\u001b[0m \u001b[0;34m\u001b[0m\u001b[0m\n\u001b[0;32m----> 3\u001b[0;31m \u001b[0mitem\u001b[0m\u001b[0;34m=\u001b[0m \u001b[0mnum\u001b[0m\u001b[0;34m+\u001b[0m\u001b[0;36m2\u001b[0m\u001b[0;34m\u001b[0m\u001b[0;34m\u001b[0m\u001b[0m\n\u001b[0m",
            "\u001b[0;31mNameError\u001b[0m: name 'num' is not defined"
          ]
        }
      ]
    },
    {
      "cell_type": "code",
      "source": [
        "\n",
        "try:\n",
        "    '28' + 2\n",
        "    item = num + 2\n",
        "    z = x/y\n",
        "    x = int(input(\"Please enter a number: \"))\n",
        "    while h:\n",
        "      h = int(input(\"\"))\n",
        "    open(\"unknown.sqlite\")\n",
        "except ValueError as vee:\n",
        "    print(\"ValueError\", vee)\n",
        "except TypeError as tye:\n",
        "    print(\"TypeError\", tye)\n",
        "except ZeroDivisionError as zde:\n",
        "    print(\"ZeroDivisionError\", zde)\n",
        "except NameError as nner:\n",
        "    print(\"NameError\", nner)\n",
        "except FileNotFoundError as fne:\n",
        "    print(\"FileNotFoundError\", fne)\n",
        "except Exception as e:\n",
        "    print(\"Exception\", e)\n",
        "\n"
      ],
      "metadata": {
        "colab": {
          "base_uri": "https://localhost:8080/"
        },
        "id": "9BnLhdNTX6hc",
        "outputId": "7588efd1-af14-4461-8737-da8bbdbb2953"
      },
      "execution_count": 118,
      "outputs": [
        {
          "output_type": "stream",
          "name": "stdout",
          "text": [
            "TypeError can only concatenate str (not \"int\") to str\n"
          ]
        }
      ]
    },
    {
      "cell_type": "code",
      "source": [
        "try:\n",
        "  item = num + 2\n",
        "except NameError as nner:\n",
        "    print(\"NameError: fix the name\", nner)"
      ],
      "metadata": {
        "colab": {
          "base_uri": "https://localhost:8080/"
        },
        "id": "jHleYEjfYPHr",
        "outputId": "f0cd110e-e876-4c77-8987-463becd2067b"
      },
      "execution_count": 105,
      "outputs": [
        {
          "output_type": "stream",
          "name": "stdout",
          "text": [
            "NameError name 'num' is not defined\n"
          ]
        }
      ]
    },
    {
      "cell_type": "code",
      "source": [
        "try:\n",
        "  z = x/y\n",
        "\n",
        "except ZeroDivisionError as zde:\n",
        "    print(\"ZeroDivisionError\", zde)"
      ],
      "metadata": {
        "colab": {
          "base_uri": "https://localhost:8080/"
        },
        "id": "YLEKtwo0YoBy",
        "outputId": "1cd29e19-b844-479b-c6bc-b969e203114a"
      },
      "execution_count": 107,
      "outputs": [
        {
          "output_type": "stream",
          "name": "stdout",
          "text": [
            "ZeroDivisionError division by zero\n"
          ]
        }
      ]
    },
    {
      "cell_type": "code",
      "source": [
        "try:\n",
        "  open(\"unknown.sqlite\")\n",
        "\n",
        "except FileNotFoundError as fne:\n",
        "    print(\"FileNotFoundError\", fne)"
      ],
      "metadata": {
        "colab": {
          "base_uri": "https://localhost:8080/"
        },
        "id": "wlOqkvkGbIiw",
        "outputId": "bc4161b8-6dc9-4ed0-e195-2ec2479fdc04"
      },
      "execution_count": 109,
      "outputs": [
        {
          "output_type": "stream",
          "name": "stdout",
          "text": [
            "FileNotFoundError [Errno 2] No such file or directory: 'unknown.sqlite'\n"
          ]
        }
      ]
    },
    {
      "cell_type": "code",
      "source": [
        "try:\n",
        "    x = int(input(\"Please enter a number: \"))\n",
        "    while h:\n",
        "      h = int(input(\"\"))\n",
        "\n",
        "except ValueError as vee:\n",
        "    print(\"ValueError\", vee)"
      ],
      "metadata": {
        "colab": {
          "base_uri": "https://localhost:8080/"
        },
        "id": "S_ZjADnZc9zB",
        "outputId": "f610cdf3-2f59-4a95-f57d-fdfd49d00132"
      },
      "execution_count": 119,
      "outputs": [
        {
          "output_type": "stream",
          "name": "stdout",
          "text": [
            "Please enter a number: i\n",
            "ValueError invalid literal for int() with base 10: 'i'\n"
          ]
        }
      ]
    },
    {
      "cell_type": "code",
      "source": [
        "#user define exception\n",
        "#your exception is parent class of this one\n",
        "\n",
        "\n",
        "class user_define_exception1(Exception):\n",
        "  pass"
      ],
      "metadata": {
        "id": "Xp2_zDQ4dBsi"
      },
      "execution_count": 120,
      "outputs": []
    },
    {
      "cell_type": "code",
      "source": [
        "try:\n",
        "  print(\"my first user define exception\", 12/0)\n",
        "except user_define_exception1 as ude1:\n",
        "  print(\"user_define_exception1\", ude1)\n",
        "except Exception as e:\n",
        "  print(\"Exception\", e)"
      ],
      "metadata": {
        "colab": {
          "base_uri": "https://localhost:8080/"
        },
        "id": "XPVWdyODexNh",
        "outputId": "5b6ce29e-0bc3-4fed-90d9-7cfc9581078a"
      },
      "execution_count": 122,
      "outputs": [
        {
          "output_type": "stream",
          "name": "stdout",
          "text": [
            "Exception division by zero\n"
          ]
        }
      ]
    },
    {
      "cell_type": "code",
      "source": [
        "#need to validate that this person is eligible for voting or not, if they are of age you can vote, if under age then you cannot\n",
        "\n",
        "class Ageofvoting(Exception):\n",
        "  \"raise when the inputr is les than 18\"\n",
        "  pass\n",
        "\n",
        "number =18 #not needed in the code just for show\n",
        "try:\n",
        "  input_num=int(input(\"enter age \"))\n",
        "  if input_num < 18:\n",
        "    raise Ageofvoting #allow to raise accept with certain values\n",
        "  else:\n",
        "       (\"eligible for voting \")\n",
        "except Ageofvoting as aov:\n",
        "  print(\"exception as invaliad age \")"
      ],
      "metadata": {
        "colab": {
          "base_uri": "https://localhost:8080/"
        },
        "id": "VjJ_PYV6fJF8",
        "outputId": "283f8054-33be-4dd8-8141-da9830aa1599"
      },
      "execution_count": 128,
      "outputs": [
        {
          "name": "stdout",
          "output_type": "stream",
          "text": [
            "enter age 19\n"
          ]
        }
      ]
    },
    {
      "cell_type": "code",
      "source": [
        "\n",
        "class height_for_ride(Exception):\n",
        "  \"if you are shorter than 59 inches you cannot ride the roller coaster \"S\n",
        "  pass\n",
        "\n",
        "number =18 #not needed in the code just for show\n",
        "try:\n",
        "  height_num=int(input(\"enter your height\"))\n",
        "  if height_num < 59:\n",
        "    raise height_for_ride\n",
        "  else:\n",
        "      print(\"you can ride the coaster \")\n",
        "except height_for_ride as hop:\n",
        "  print(\"exception as: you are too short to get on the roller coaster \")"
      ],
      "metadata": {
        "colab": {
          "base_uri": "https://localhost:8080/"
        },
        "id": "x3g1RpN14sFv",
        "outputId": "e3277264-ca53-409f-c68c-5f8c4de28768"
      },
      "execution_count": 137,
      "outputs": [
        {
          "output_type": "stream",
          "name": "stdout",
          "text": [
            "enter your height60\n",
            "you can ride the coaster \n"
          ]
        }
      ]
    },
    {
      "cell_type": "code",
      "source": [],
      "metadata": {
        "id": "1UEQmnhA4D0r"
      },
      "execution_count": 137,
      "outputs": []
    }
  ]
}