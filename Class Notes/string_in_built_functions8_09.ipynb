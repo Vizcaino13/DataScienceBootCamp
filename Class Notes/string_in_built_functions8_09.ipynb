{
  "nbformat": 4,
  "nbformat_minor": 0,
  "metadata": {
    "colab": {
      "provenance": []
    },
    "kernelspec": {
      "name": "python3",
      "display_name": "Python 3"
    },
    "language_info": {
      "name": "python"
    }
  },
  "cells": [
    {
      "cell_type": "code",
      "execution_count": null,
      "metadata": {
        "colab": {
          "base_uri": "https://localhost:8080/"
        },
        "id": "V30VLDwPR_gE",
        "outputId": "2b8029ca-a195-464f-f9fd-d12a81e9fe60"
      },
      "outputs": [
        {
          "output_type": "stream",
          "name": "stdout",
          "text": [
            "hlowrd\n"
          ]
        }
      ],
      "source": [
        "#string slicing [start:stop:step]\n",
        "\n",
        "temp_str=\"hello world\"\n",
        "print(temp_str[::2])"
      ]
    },
    {
      "cell_type": "code",
      "source": [
        "#funtion  is magic, we will use all the time to find out all functions avaible , it is given by python to the users inbuilt functions\n",
        "dir(temp_str)\n",
        "#dir (directory function)gives you a list of all functions that you can use"
      ],
      "metadata": {
        "colab": {
          "base_uri": "https://localhost:8080/"
        },
        "id": "-aWxzxxaSY2q",
        "outputId": "d48cb753-7e21-4547-aa17-70cb56c8d392"
      },
      "execution_count": null,
      "outputs": [
        {
          "output_type": "execute_result",
          "data": {
            "text/plain": [
              "['__add__',\n",
              " '__class__',\n",
              " '__contains__',\n",
              " '__delattr__',\n",
              " '__dir__',\n",
              " '__doc__',\n",
              " '__eq__',\n",
              " '__format__',\n",
              " '__ge__',\n",
              " '__getattribute__',\n",
              " '__getitem__',\n",
              " '__getnewargs__',\n",
              " '__gt__',\n",
              " '__hash__',\n",
              " '__init__',\n",
              " '__init_subclass__',\n",
              " '__iter__',\n",
              " '__le__',\n",
              " '__len__',\n",
              " '__lt__',\n",
              " '__mod__',\n",
              " '__mul__',\n",
              " '__ne__',\n",
              " '__new__',\n",
              " '__reduce__',\n",
              " '__reduce_ex__',\n",
              " '__repr__',\n",
              " '__rmod__',\n",
              " '__rmul__',\n",
              " '__setattr__',\n",
              " '__sizeof__',\n",
              " '__str__',\n",
              " '__subclasshook__',\n",
              " 'capitalize',\n",
              " 'casefold',\n",
              " 'center',\n",
              " 'count',\n",
              " 'encode',\n",
              " 'endswith',\n",
              " 'expandtabs',\n",
              " 'find',\n",
              " 'format',\n",
              " 'format_map',\n",
              " 'index',\n",
              " 'isalnum',\n",
              " 'isalpha',\n",
              " 'isascii',\n",
              " 'isdecimal',\n",
              " 'isdigit',\n",
              " 'isidentifier',\n",
              " 'islower',\n",
              " 'isnumeric',\n",
              " 'isprintable',\n",
              " 'isspace',\n",
              " 'istitle',\n",
              " 'isupper',\n",
              " 'join',\n",
              " 'ljust',\n",
              " 'lower',\n",
              " 'lstrip',\n",
              " 'maketrans',\n",
              " 'partition',\n",
              " 'removeprefix',\n",
              " 'removesuffix',\n",
              " 'replace',\n",
              " 'rfind',\n",
              " 'rindex',\n",
              " 'rjust',\n",
              " 'rpartition',\n",
              " 'rsplit',\n",
              " 'rstrip',\n",
              " 'split',\n",
              " 'splitlines',\n",
              " 'startswith',\n",
              " 'strip',\n",
              " 'swapcase',\n",
              " 'title',\n",
              " 'translate',\n",
              " 'upper',\n",
              " 'zfill']"
            ]
          },
          "metadata": {},
          "execution_count": 2
        }
      ]
    },
    {
      "cell_type": "code",
      "source": [
        "#this function captiolizes the first ketter of the string\n",
        "\n",
        "temp_str=\"hello world\"\n",
        "\n",
        "print(temp_str.capitalize())\n",
        "\n",
        "print(temp_str.())\n",
        "\n"
      ],
      "metadata": {
        "colab": {
          "base_uri": "https://localhost:8080/"
        },
        "id": "KxOs3qRYTCLh",
        "outputId": "c4f39021-d756-4c56-a3c7-cf4f8e607fb5"
      },
      "execution_count": null,
      "outputs": [
        {
          "output_type": "stream",
          "name": "stdout",
          "text": [
            "Hello world\n"
          ]
        }
      ]
    },
    {
      "cell_type": "code",
      "source": [
        "#this will lower case any part of the string\n",
        "temp_str=\"HeLlo world\"\n",
        "\n",
        "print(temp_str.casefold())"
      ],
      "metadata": {
        "colab": {
          "base_uri": "https://localhost:8080/"
        },
        "id": "c2iH8FEoTnD2",
        "outputId": "b0ebbb22-fe31-4d2a-df4d-a97146aa63ce"
      },
      "execution_count": null,
      "outputs": [
        {
          "output_type": "stream",
          "name": "stdout",
          "text": [
            "hello world\n"
          ]
        }
      ]
    },
    {
      "cell_type": "code",
      "source": [
        "#this intrdouces/increases more characters to the string, so it is 11 already so this added more to it so as you can see it adds stars from the right to the left so 7 stars are added. if theres nothing \" \" then it just adds space\n",
        "temp_str=\"HeLlo world\"\n",
        "print(temp_str.center(18, \"*\"))"
      ],
      "metadata": {
        "colab": {
          "base_uri": "https://localhost:8080/"
        },
        "id": "3vbDL4qZUVOU",
        "outputId": "23e45c70-29a8-494f-933a-6d0a10a2407d"
      },
      "execution_count": null,
      "outputs": [
        {
          "output_type": "stream",
          "name": "stdout",
          "text": [
            "***HeLlo world****\n"
          ]
        }
      ]
    },
    {
      "cell_type": "code",
      "source": [
        "#returns how many times a substring(smaller part of the string) appears in the given range by default, so it counts how many times a substring appears. it is case sensative\n",
        "\n",
        "temp_str=\"HeLlo world how is it going? Hello all good?\"\n",
        "\n",
        "print(temp_str.count(\"Hello\"))\n",
        "print(temp_str.count(\"HeLlo\"))\n",
        "\n",
        "#how to give range\n",
        "\n",
        "\n",
        "#count (value,start,end) #startt and end are optional if not given full string\n",
        "temp_str_2= \"hello world how is it going? hello all good\"\n",
        "\n",
        "\n",
        "print(temp_str_2.count(\"hello\", 2)) #this counts hello from the second index since the first word hello gets cut off on llo, it just ends up counting the second hello, and displays as only 1 hello avaible\n",
        "print(temp_str_2 [2:5]) #this is just regular slicing\n",
        "print(temp_str_2.count(\"hello\")) #this counts how many hellos appear"
      ],
      "metadata": {
        "colab": {
          "base_uri": "https://localhost:8080/"
        },
        "id": "9GlcXY0OUsFP",
        "outputId": "8c3f2c0f-00ca-49ff-9727-bd599ee599b6"
      },
      "execution_count": null,
      "outputs": [
        {
          "output_type": "stream",
          "name": "stdout",
          "text": [
            "1\n",
            "1\n",
            "1\n",
            "llo\n",
            "2\n"
          ]
        }
      ]
    },
    {
      "cell_type": "code",
      "source": [
        "#this look into what the string ends with and gives you true or false if its actually there\n",
        "\n",
        "temp_str_2= \"hello world how is it going? hello all good !\"\n",
        "print(temp_str_2.endswith(\"!\"))\n",
        "print(temp_str_2.endswith(\"llo\",0,5)) # indexes at 0 and ends at 5, so it is true\n",
        "print(temp_str_2.endswith(\"wo\",0,5))   #false\n",
        "temp_str_3= \"hello world how is it going? hello all good !\"\n",
        "print(temp_str_3.endswith(\"god\")) #false since god is not the last thing\n",
        "print(temp_str_3.endswith(\"good\",0,len(temp_str_3)-1))\n",
        "\n",
        "print(len(temp_str_3))"
      ],
      "metadata": {
        "colab": {
          "base_uri": "https://localhost:8080/"
        },
        "id": "9GsyfHBHXCIx",
        "outputId": "473dd091-2882-4d85-ece1-a9ffbe0d0cc2"
      },
      "execution_count": null,
      "outputs": [
        {
          "output_type": "stream",
          "name": "stdout",
          "text": [
            "True\n",
            "True\n",
            "False\n",
            "False\n",
            "False\n",
            "45\n"
          ]
        }
      ]
    },
    {
      "cell_type": "code",
      "source": [
        "#find returns the index of the substring where its mentioned first\n",
        "temp_str_3= \"hello world how is it going? hello all good !\"\n",
        "print(temp_str_3.find(\"how\"))\n",
        "\n"
      ],
      "metadata": {
        "colab": {
          "base_uri": "https://localhost:8080/"
        },
        "id": "Wq_YURUSbr57",
        "outputId": "e2dae3af-58b6-4dd3-dae3-10d5a0df0130"
      },
      "execution_count": null,
      "outputs": [
        {
          "output_type": "stream",
          "name": "stdout",
          "text": [
            "12\n"
          ]
        }
      ]
    },
    {
      "cell_type": "code",
      "source": [
        "#format you can input info\n",
        "\n",
        "temp_str4= \"Hello my name is {fname}, I am a {jobtitle}!\"\n",
        "\n",
        "print(temp_str4.format(fname=\"Ash\",jobtitle=\"Data scientist\"))\n",
        "\n",
        "temp_str6= \"Hello my name is {0}, I am a {1}!\" #this is indexing replacement\n",
        "\n",
        "print(temp_str6.format(\"Ash\",\"Data scientist\"))\n"
      ],
      "metadata": {
        "colab": {
          "base_uri": "https://localhost:8080/"
        },
        "id": "6dY_EmEKdowk",
        "outputId": "3f2bf03c-c92c-41dd-ea6f-511701fc0b84"
      },
      "execution_count": null,
      "outputs": [
        {
          "output_type": "stream",
          "name": "stdout",
          "text": [
            "Hello my name is Ash, I am a Data scientist!\n",
            "Hello my name is Ash, I am a Data scientist!\n"
          ]
        }
      ]
    },
    {
      "cell_type": "code",
      "source": [
        "#look ino functions\n",
        "# format map\n",
        "#2 expand tabs\n",
        "\n"
      ],
      "metadata": {
        "id": "XA_VNtc0e6NG"
      },
      "execution_count": null,
      "outputs": []
    },
    {
      "cell_type": "code",
      "source": [
        "#replica of the find function , except this will not return a -1 once it finds something this one will return an error\n",
        "\n",
        "temp_str_3= \"hello world how is it going? hello all good !\"\n",
        "\n",
        "temp_str_3.index('p')"
      ],
      "metadata": {
        "colab": {
          "base_uri": "https://localhost:8080/",
          "height": 214
        },
        "id": "TUMD4GD6hplT",
        "outputId": "9b10bab1-0f8b-4ba4-91a1-372206f2df24"
      },
      "execution_count": null,
      "outputs": [
        {
          "output_type": "error",
          "ename": "ValueError",
          "evalue": "ignored",
          "traceback": [
            "\u001b[0;31m---------------------------------------------------------------------------\u001b[0m",
            "\u001b[0;31mValueError\u001b[0m                                Traceback (most recent call last)",
            "\u001b[0;32m<ipython-input-67-be17c9624ade>\u001b[0m in \u001b[0;36m<cell line: 5>\u001b[0;34m()\u001b[0m\n\u001b[1;32m      3\u001b[0m \u001b[0mtemp_str_3\u001b[0m\u001b[0;34m=\u001b[0m \u001b[0;34m\"hello world how is it going? hello all good !\"\u001b[0m\u001b[0;34m\u001b[0m\u001b[0;34m\u001b[0m\u001b[0m\n\u001b[1;32m      4\u001b[0m \u001b[0;34m\u001b[0m\u001b[0m\n\u001b[0;32m----> 5\u001b[0;31m \u001b[0mtemp_str_3\u001b[0m\u001b[0;34m.\u001b[0m\u001b[0mindex\u001b[0m\u001b[0;34m(\u001b[0m\u001b[0;34m'p'\u001b[0m\u001b[0;34m)\u001b[0m\u001b[0;34m\u001b[0m\u001b[0;34m\u001b[0m\u001b[0m\n\u001b[0m",
            "\u001b[0;31mValueError\u001b[0m: substring not found"
          ]
        }
      ]
    },
    {
      "cell_type": "code",
      "source": [
        "#returns true if only numbers and alpahbets are present else returns false\n",
        "temp_str_3= \"hello world how is it going? hello all good!\"\n",
        "temp_str_7= \"hellowo7l78ho\"\n",
        "print(temp_str_3.isalnum())\n",
        "print(temp_str_7.isalnum())"
      ],
      "metadata": {
        "colab": {
          "base_uri": "https://localhost:8080/"
        },
        "id": "xNv55BrpiE8Q",
        "outputId": "ef21c2df-9519-4c34-cf19-f7da97a5d201"
      },
      "execution_count": null,
      "outputs": [
        {
          "output_type": "stream",
          "name": "stdout",
          "text": [
            "False\n",
            "True\n"
          ]
        }
      ]
    },
    {
      "cell_type": "code",
      "source": [
        "#isalpha checking if its only aplabet then it returns true, so not even spaces\n",
        "temp_str_3= \"hello world how is it going? hello all good!\"\n",
        "temp_str_7= \"hellowo7l78ho\"\n",
        "temp_str_9= \"helloygasjh\"\n",
        "\n",
        "print(temp_str_3.isalpha())\n",
        "print(temp_str_7.isalpha())\n",
        "print(temp_str_9.isalpha())"
      ],
      "metadata": {
        "colab": {
          "base_uri": "https://localhost:8080/"
        },
        "id": "QOyFDob2ivaY",
        "outputId": "73f4a342-78d9-42d8-c5d0-4be8e4628e31"
      },
      "execution_count": null,
      "outputs": [
        {
          "output_type": "stream",
          "name": "stdout",
          "text": [
            "False\n",
            "False\n",
            "True\n"
          ]
        }
      ]
    },
    {
      "cell_type": "code",
      "source": [
        "#isdecimal this returns true if there are numbers in the string 0-9, also works for unique code\n",
        "\n",
        "temp_str_3= \"hello world how is it going? hello all good!\"\n",
        "string2= \"234567890\"\n",
        "unicode_0= \"\\u0030\"\n",
        "print(temp_str_3.isdecimal())\n",
        "print(string2.isdecimal())\n",
        "print(unicode_0.isdecimal())\n",
        "\n"
      ],
      "metadata": {
        "colab": {
          "base_uri": "https://localhost:8080/"
        },
        "id": "_OEa43JmjqIM",
        "outputId": "3beec927-daac-4904-df74-2dfeace1ad41"
      },
      "execution_count": 1,
      "outputs": [
        {
          "output_type": "stream",
          "name": "stdout",
          "text": [
            "False\n",
            "True\n",
            "True\n",
            "False\n"
          ]
        }
      ]
    },
    {
      "cell_type": "code",
      "source": [
        "#isdigit this is very similar to isdecimal\n",
        "\n",
        "temp_str_3= \"hello world how is it going? hello all good!\"\n",
        "string2= \"234567890\"\n",
        "print(temp_str_3.isdigit())\n",
        "print(string2.isdigit())"
      ],
      "metadata": {
        "colab": {
          "base_uri": "https://localhost:8080/"
        },
        "id": "_jOpMA3ckqRF",
        "outputId": "01cd2404-cbdf-4777-9583-acd490c49409"
      },
      "execution_count": null,
      "outputs": [
        {
          "output_type": "stream",
          "name": "stdout",
          "text": [
            "False\n",
            "True\n"
          ]
        }
      ]
    },
    {
      "cell_type": "code",
      "source": [
        "#returns do not work with a squared number if it is isdecimal\n",
        "\n",
        "temp_str_4= \"\\u00B2\"\n",
        "print(\"km\\u00B2\")\n",
        "print(temp_str_4.isdecimal())\n",
        "print(temp_str_4.isdigit())"
      ],
      "metadata": {
        "id": "FLS8O-C-lPMq",
        "colab": {
          "base_uri": "https://localhost:8080/"
        },
        "outputId": "404bd7ce-97e6-4c54-ae00-24263c8f81f8"
      },
      "execution_count": 3,
      "outputs": [
        {
          "output_type": "stream",
          "name": "stdout",
          "text": [
            "km²\n",
            "False\n",
            "True\n"
          ]
        }
      ]
    },
    {
      "cell_type": "code",
      "source": [
        "#isidentifier identifies/returns true for the special words/key words such as if,else, for, why, and, not, int, so words used in an operationn, or variables\n",
        "temp_str='Hello world'\n",
        "print(temp_str.isidentifier())\n",
        "\n",
        "temp_st2='if'\n",
        "\n",
        "print(temp_st2.isidentifier())"
      ],
      "metadata": {
        "colab": {
          "base_uri": "https://localhost:8080/"
        },
        "id": "7IcGfstxaVFG",
        "outputId": "16fff7dd-5c6b-43ff-90a9-4bf9c408c794"
      },
      "execution_count": 12,
      "outputs": [
        {
          "output_type": "stream",
          "name": "stdout",
          "text": [
            "False\n",
            "True\n"
          ]
        }
      ]
    },
    {
      "cell_type": "code",
      "source": [
        "#tells you if the complete string is lower case or not\n",
        "\n",
        "temp_str='Hello world'\n",
        "print(temp_str.islower())\n",
        "\n",
        "temp_str2='hello world'\n",
        "print(temp_str2.islower())"
      ],
      "metadata": {
        "colab": {
          "base_uri": "https://localhost:8080/"
        },
        "id": "GASz0xSpa7XF",
        "outputId": "d30a7da7-3f76-4e19-f5ac-5f35e648c5c5"
      },
      "execution_count": 15,
      "outputs": [
        {
          "output_type": "stream",
          "name": "stdout",
          "text": [
            "False\n",
            "True\n"
          ]
        }
      ]
    },
    {
      "cell_type": "code",
      "source": [
        "#isspace is a function that returns true for white space\n",
        "\n",
        "temp_str='Hello world'\n",
        "print(temp_str.isspace())\n",
        "\n",
        "temp_str2=' '\n",
        "print(temp_str2.isspace())\n"
      ],
      "metadata": {
        "colab": {
          "base_uri": "https://localhost:8080/"
        },
        "id": "GcaoHPT0b9Gq",
        "outputId": "985b4bdd-8541-45fd-f22b-05b3deab1e24"
      },
      "execution_count": 17,
      "outputs": [
        {
          "output_type": "stream",
          "name": "stdout",
          "text": [
            "False\n",
            "True\n"
          ]
        }
      ]
    },
    {
      "cell_type": "code",
      "source": [
        "#istitle checks if the word is titled so beginning of each word it is upper case\n",
        "\n",
        "temp_str='Hello World'\n",
        "print(temp_str.istitle())\n",
        "\n",
        "temp_st2='hello World'\n",
        "print(temp_str2.istitle())"
      ],
      "metadata": {
        "colab": {
          "base_uri": "https://localhost:8080/"
        },
        "id": "AU4IzEADdm_h",
        "outputId": "84bc79ae-2811-4d06-9672-1166df7d25a4"
      },
      "execution_count": 20,
      "outputs": [
        {
          "output_type": "stream",
          "name": "stdout",
          "text": [
            "True\n",
            "False\n"
          ]
        }
      ]
    },
    {
      "cell_type": "code",
      "source": [
        "#isupper is if all the alpahets avaible are uppercase\n",
        "\n",
        "temp_str='Hello World'\n",
        "print(temp_str.isupper())\n",
        "\n",
        "temp_str2='HELLO'\n",
        "print(temp_str2.isupper())\n"
      ],
      "metadata": {
        "colab": {
          "base_uri": "https://localhost:8080/"
        },
        "id": "-dvZVL8eeFe1",
        "outputId": "0804a8ef-1656-4bfa-90ee-6c2287b1f773"
      },
      "execution_count": 27,
      "outputs": [
        {
          "output_type": "stream",
          "name": "stdout",
          "text": [
            "False\n",
            "True\n"
          ]
        }
      ]
    },
    {
      "cell_type": "code",
      "source": [
        "#A list is not homogenous .. join\n",
        "\n",
        "#iterables are list tuple, first value is taken then it adds in the #\n",
        "list_temp=[\"Hello\", \"World\", \"How\", \"are\", \"you \"]\n",
        "print(\"##\".join(list_temp))"
      ],
      "metadata": {
        "colab": {
          "base_uri": "https://localhost:8080/"
        },
        "id": "cnFh6Q0tfXds",
        "outputId": "e9d13ead-bd85-4e5a-cd0d-81a7f5488962"
      },
      "execution_count": 31,
      "outputs": [
        {
          "output_type": "stream",
          "name": "stdout",
          "text": [
            "Hello##World##How##are##you \n"
          ]
        }
      ]
    },
    {
      "cell_type": "code",
      "source": [
        "#lower changes the words lower case , only words for english characters\n",
        "temp_str='Hello WOrld'\n",
        "print(temp_str.lower())\n",
        "string_german='ß'\n",
        "print(string_german.lower())\n",
        "print(string_german.casefold())"
      ],
      "metadata": {
        "colab": {
          "base_uri": "https://localhost:8080/"
        },
        "id": "WPXCQRUZgv3E",
        "outputId": "6bbadf5f-72b5-435a-cb7d-9549537ac9b8"
      },
      "execution_count": 38,
      "outputs": [
        {
          "output_type": "stream",
          "name": "stdout",
          "text": [
            "hello world\n",
            "ß\n",
            "ss\n"
          ]
        }
      ]
    },
    {
      "cell_type": "code",
      "source": [
        "#lstrip :this removes the white spaces on the left of a string\n",
        "\n",
        "temp_str='                      Hello WOrld'\n",
        "print(temp_str.lstrip())"
      ],
      "metadata": {
        "colab": {
          "base_uri": "https://localhost:8080/"
        },
        "id": "JHQ2cBFAhkq7",
        "outputId": "ea9f3a6b-d906-442f-adbb-18f0540434d7"
      },
      "execution_count": 40,
      "outputs": [
        {
          "output_type": "stream",
          "name": "stdout",
          "text": [
            "Hello WOrld\n"
          ]
        }
      ]
    },
    {
      "cell_type": "code",
      "source": [
        "#rstrip :this removes the white spaces on the right of a string\n",
        "\n",
        "temp_str='Hello WOrld                   '\n",
        "print(temp_str.rstrip())"
      ],
      "metadata": {
        "colab": {
          "base_uri": "https://localhost:8080/"
        },
        "id": "wM1k3XhHll2C",
        "outputId": "5e1481d0-fd49-4d30-8151-2d9cd8940f04"
      },
      "execution_count": 52,
      "outputs": [
        {
          "output_type": "stream",
          "name": "stdout",
          "text": [
            "Hello WOrld\n"
          ]
        }
      ]
    },
    {
      "cell_type": "markdown",
      "source": [],
      "metadata": {
        "id": "j5U4MP7Lu-o9"
      }
    },
    {
      "cell_type": "code",
      "source": [
        "#partition this looks for the words that you want to partiician by, it will changed the index of it\n",
        "\n",
        "temp_str='i could eat apples all day'\n",
        "print(temp_str.partition(\"apples\"))\n",
        "\n"
      ],
      "metadata": {
        "colab": {
          "base_uri": "https://localhost:8080/"
        },
        "id": "KlrCe5bBirWJ",
        "outputId": "323f9387-78e0-4bd3-feb9-f538e5d6070e"
      },
      "execution_count": 43,
      "outputs": [
        {
          "output_type": "stream",
          "name": "stdout",
          "text": [
            "('i could eat ', 'apples', ' all day')\n"
          ]
        }
      ]
    },
    {
      "cell_type": "code",
      "source": [
        "#replace is very important this removes the word and replace it with another word\n",
        "temp_str='i could eat apples all day thats all i can say'\n",
        "print(temp_str.replace(\"all\",\"horse%%\").replace(\"eat\",\"sleep\"))"
      ],
      "metadata": {
        "colab": {
          "base_uri": "https://localhost:8080/"
        },
        "id": "eDHrjP5micTd",
        "outputId": "9580b477-a7de-443f-aea8-051a044aea5f"
      },
      "execution_count": 50,
      "outputs": [
        {
          "output_type": "stream",
          "name": "stdout",
          "text": [
            "i could sleep apples horse%% day thats horse%% i can say\n"
          ]
        }
      ]
    },
    {
      "cell_type": "code",
      "source": [
        "#split very important splits all the words to its own strings and you can even do it by comma too\n",
        "\n",
        "temp_str='i could eat apples all day thats all i can say'\n",
        "print(temp_str.split())\n",
        "\n",
        "temp_str='i could eat apples all day, thats all i can say'\n",
        "print(temp_str.split(\",\"))"
      ],
      "metadata": {
        "colab": {
          "base_uri": "https://localhost:8080/"
        },
        "id": "BTP4hYpPknjC",
        "outputId": "b4977b0e-e990-42fd-dcaf-37fb61ac447c"
      },
      "execution_count": 60,
      "outputs": [
        {
          "output_type": "stream",
          "name": "stdout",
          "text": [
            "['i', 'could', 'eat', 'apples', 'all', 'day', 'thats', 'all', 'i', 'can', 'say']\n",
            "['i could eat apples all day', ' thats all i can say']\n"
          ]
        }
      ]
    },
    {
      "cell_type": "code",
      "source": [
        "# startswith checks if really starts with the condition you say\n",
        "temp_str='i could eat apples all day, thats all i can say'\n",
        "print(temp_str.startswith(\"i\"))\n",
        "print(temp_str.startswith(\"could\"))\n",
        "print(temp_str.startswith(\"could\",2)) #this is true because could starts at the 2nd index"
      ],
      "metadata": {
        "colab": {
          "base_uri": "https://localhost:8080/"
        },
        "id": "Pwv32eHyl7jE",
        "outputId": "682a0df7-812a-4123-f0eb-34795fa41388"
      },
      "execution_count": 62,
      "outputs": [
        {
          "output_type": "stream",
          "name": "stdout",
          "text": [
            "True\n",
            "False\n",
            "True\n"
          ]
        }
      ]
    },
    {
      "cell_type": "code",
      "source": [
        "#strip removes white spaces on both right and left sides\n",
        "\n",
        "temp_str='        Hello WOrld                   '\n",
        "print(temp_str.strip())"
      ],
      "metadata": {
        "colab": {
          "base_uri": "https://localhost:8080/"
        },
        "id": "xa_qyIekm9zO",
        "outputId": "afe85bc2-b76e-4980-84d1-51863b657d34"
      },
      "execution_count": 66,
      "outputs": [
        {
          "output_type": "stream",
          "name": "stdout",
          "text": [
            "Hello WOrld\n"
          ]
        }
      ]
    },
    {
      "cell_type": "code",
      "source": [
        "#swapcase this alters the cases of words so if it us upper then it will become lower\n",
        "\n",
        "temp_str='i cOULd eat ApplES all day, tHAts all i can say'\n",
        "print(temp_str.swapcase())"
      ],
      "metadata": {
        "colab": {
          "base_uri": "https://localhost:8080/"
        },
        "id": "QYQNcAelneU3",
        "outputId": "3e5b9f29-28d2-4e84-e736-28499e003043"
      },
      "execution_count": 69,
      "outputs": [
        {
          "output_type": "stream",
          "name": "stdout",
          "text": [
            "I CoulD EAT aPPLes ALL DAY, ThaTS ALL I CAN SAY\n"
          ]
        }
      ]
    },
    {
      "cell_type": "code",
      "source": [
        "#title: this uppercases all the first words to uppercase like a title of a book\n",
        "\n",
        "temp_str='i could eat apples all day, thats all i can say'\n",
        "\n",
        "print(temp_str.title())"
      ],
      "metadata": {
        "colab": {
          "base_uri": "https://localhost:8080/"
        },
        "id": "wzj6ZeP7nzRn",
        "outputId": "98d4b599-64bf-4870-d42e-398807644c0b"
      },
      "execution_count": 71,
      "outputs": [
        {
          "output_type": "stream",
          "name": "stdout",
          "text": [
            "I Could Eat Apples All Day, Thats All I Can Say\n"
          ]
        }
      ]
    },
    {
      "cell_type": "code",
      "source": [
        "\n",
        "#dictionary cannot have any duplicates it will take the only recent value, dictionary only works with keys\n",
        "temp_str={83:80,83:78}\n",
        "print(temp_str)\n",
        "\n",
        "temp_str2={\"brand\":\"Ford\",\"model\":\"mustang\",\"year\":\"1964\", \"year\":\"2022\"  }\n",
        "\n",
        "print(temp_str2)\n",
        "\n",
        "print(temp_str2[\"model\"])\n",
        "\n",
        "#using the dict keyword it creats a dictionary for you\n",
        "thisdict= dict(name=\"john\", age=34, country=\"England\")\n",
        "print (thisdict)"
      ],
      "metadata": {
        "colab": {
          "base_uri": "https://localhost:8080/"
        },
        "id": "vHdnmtPBoBXR",
        "outputId": "1c7cbe6d-f2e3-44c2-afc6-3effd5c9829c"
      },
      "execution_count": 79,
      "outputs": [
        {
          "output_type": "stream",
          "name": "stdout",
          "text": [
            "{83: 78}\n",
            "{'brand': 'Ford', 'model': 'mustang', 'year': '2022'}\n",
            "mustang\n",
            "{'name': 'john', 'age': 34, 'country': 'England'}\n"
          ]
        }
      ]
    },
    {
      "cell_type": "code",
      "source": [
        "#translate ascii code of S is 83 so if we replace it with 80 then it is p if captiolized\n",
        "\n",
        "temp_dict={83:80,72:77}\n",
        "temp_str=\"Hello Sam!\"\n",
        "print(temp_str.translate(temp_dict))\n",
        "\n"
      ],
      "metadata": {
        "colab": {
          "base_uri": "https://localhost:8080/"
        },
        "id": "c2594UmXpwNK",
        "outputId": "bedd455e-b10c-4c9f-999a-bfd385c6acff"
      },
      "execution_count": 95,
      "outputs": [
        {
          "output_type": "stream",
          "name": "stdout",
          "text": [
            "Mello Pam!\n"
          ]
        }
      ]
    },
    {
      "cell_type": "code",
      "source": [
        " #Uppercase turns everytghing to uppercase\n",
        "\n",
        "temp_str='i could eat apples all day, thats all i can say'\n",
        "\n",
        "temp_str.upper()\n"
      ],
      "metadata": {
        "colab": {
          "base_uri": "https://localhost:8080/",
          "height": 35
        },
        "id": "XSV64-U_qEVF",
        "outputId": "ff684a50-8aab-49cd-a545-79bf91a8b6d8"
      },
      "execution_count": 98,
      "outputs": [
        {
          "output_type": "execute_result",
          "data": {
            "text/plain": [
              "'I COULD EAT APPLES ALL DAY, THATS ALL I CAN SAY'"
            ],
            "application/vnd.google.colaboratory.intrinsic+json": {
              "type": "string"
            }
          },
          "metadata": {},
          "execution_count": 98
        }
      ]
    },
    {
      "cell_type": "code",
      "source": [
        "#zfill this adds zeros to the string, so if the string is 47 and you put 50 itll only add 3 zero\n",
        "\n",
        "temp_str='i could eat apples all day, thats all i can say'\n",
        "\n",
        "print(len(temp_str))\n",
        "\n",
        "print(temp_str.zfill(50))"
      ],
      "metadata": {
        "colab": {
          "base_uri": "https://localhost:8080/"
        },
        "id": "y9pMDTSFt7pU",
        "outputId": "97d50030-406c-4ace-d301-51fc69b713c2"
      },
      "execution_count": 102,
      "outputs": [
        {
          "output_type": "stream",
          "name": "stdout",
          "text": [
            "47\n",
            "000i could eat apples all day, thats all i can say\n"
          ]
        }
      ]
    },
    {
      "cell_type": "code",
      "source": [],
      "metadata": {
        "id": "sr7QtL4duF61"
      },
      "execution_count": null,
      "outputs": []
    }
  ]
}