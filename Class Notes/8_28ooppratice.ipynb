{
  "nbformat": 4,
  "nbformat_minor": 0,
  "metadata": {
    "colab": {
      "provenance": []
    },
    "kernelspec": {
      "name": "python3",
      "display_name": "Python 3"
    },
    "language_info": {
      "name": "python"
    }
  },
  "cells": [
    {
      "cell_type": "code",
      "execution_count": 16,
      "metadata": {
        "id": "liuMoHDOIITk"
      },
      "outputs": [],
      "source": [
        "#Bank Account: Create a BankAccount class with methods to deposit, withdraw, and get the current balance.\n",
        "#Ensure that the balance can't go negative.\n",
        "class BankAccount:\n",
        "  def __init__(self,balance=0):\n",
        "    self.balance=balance\n",
        "\n",
        "  def deposit(self,amount):\n",
        "    if amount>0:\n",
        "      print(\"Deposit Successful\")\n",
        "      self.balance=self.balance+amount\n",
        "      print(\"Your Current Balance is \",self.balance)\n",
        "    else:\n",
        "      print(\"Invalid Amount please enter value greater than 0\")\n",
        "      print(\"Your Current Balance is \",self.balance)\n",
        "\n",
        "  def withdraw(self,amount):\n",
        "    if self.balance>=amount:\n",
        "      self.balance=self.balance-amount\n",
        "      print(\"Withdraw Successful\")\n",
        "      print(\"Your Current Balance is \",self.balance)\n",
        "    else:\n",
        "      print(\"Can not withdraw more than current balance\")\n",
        "      print(\"Your Current Balance is \",self.balance)\n",
        "\n",
        "  def get_current_balance(self):\n",
        "    print(\"Your Current Balance is \",self.balance)\n"
      ]
    },
    {
      "cell_type": "code",
      "source": [
        "bankaccout=BankAccount(1000)\n",
        "bankaccout.deposit(7000)\n",
        "bankaccout.withdraw(8000)\n",
        "bankaccout.get_current_balance()"
      ],
      "metadata": {
        "colab": {
          "base_uri": "https://localhost:8080/"
        },
        "id": "b2uhV4p7QT0r",
        "outputId": "b66a538e-49cb-4ef2-f7ad-07559b4444e2"
      },
      "execution_count": 17,
      "outputs": [
        {
          "output_type": "stream",
          "name": "stdout",
          "text": [
            "Deposit Successful\n",
            "Your Current Balance is  8000\n",
            "Withdraw Successful\n",
            "Your Current Balance is  0\n",
            "Your Current Balance is  0\n"
          ]
        }
      ]
    },
    {
      "cell_type": "code",
      "source": [
        "# Library Catalog: Implement a Library class with methods to add books,\n",
        "# lend books, and return books. Keep track of available and borrowed books.\n",
        "\n",
        "# My attempt\n",
        "class Library:\n",
        "  def __init__(self,books_avail =[]):\n",
        "    self.books_avail=books_avail\n",
        "\n",
        "  def add_books(self, new_book):\n",
        "    if new_book!= self.books_avail:\n",
        "      self.books_avail=self.books_avail+new_book\n",
        "      print(\"you are adding a new book\", self.books_avail.append())\n",
        "    else:\n",
        "      print(\"this book exists in this library already\")\n",
        "\n",
        "  def lending_books(give_book):\n",
        "    if give_book == self.books_avail:\n",
        "      self.books_avail=self.books_avail- give_book\n",
        "      print(\"you are being lent a book\", give_book)\n",
        "    else:\n",
        "      print(\"this book exists in this library already\")\n",
        "\n",
        "  def book_count(self):\n",
        "    print(\"we have lent out  \", lending_books)\n",
        "    print(\"we have added  \", add_books)\n"
      ],
      "metadata": {
        "id": "FOUC_S8EQ3gE"
      },
      "execution_count": 34,
      "outputs": []
    },
    {
      "cell_type": "code",
      "source": [],
      "metadata": {
        "colab": {
          "base_uri": "https://localhost:8080/",
          "height": 339
        },
        "id": "a5Bl8jpTUC39",
        "outputId": "dd52714f-6d42-4b88-dc73-fc2d2fd0b94e"
      },
      "execution_count": 38,
      "outputs": [
        {
          "output_type": "error",
          "ename": "AttributeError",
          "evalue": "ignored",
          "traceback": [
            "\u001b[0;31m---------------------------------------------------------------------------\u001b[0m",
            "\u001b[0;31mAttributeError\u001b[0m                            Traceback (most recent call last)",
            "\u001b[0;32m<ipython-input-38-70700068647d>\u001b[0m in \u001b[0;36m<cell line: 2>\u001b[0;34m()\u001b[0m\n\u001b[1;32m      1\u001b[0m \u001b[0mlib1\u001b[0m \u001b[0;34m=\u001b[0m \u001b[0mLibrary\u001b[0m\u001b[0;34m(\u001b[0m\u001b[0;34m\"harry\"\u001b[0m\u001b[0;34m)\u001b[0m\u001b[0;34m\u001b[0m\u001b[0;34m\u001b[0m\u001b[0m\n\u001b[0;32m----> 2\u001b[0;31m \u001b[0mlib1\u001b[0m\u001b[0;34m.\u001b[0m\u001b[0madd_books\u001b[0m\u001b[0;34m(\u001b[0m\u001b[0;34m\"bar\"\u001b[0m\u001b[0;34m)\u001b[0m\u001b[0;34m\u001b[0m\u001b[0;34m\u001b[0m\u001b[0m\n\u001b[0m\u001b[1;32m      3\u001b[0m \u001b[0mlib1\u001b[0m\u001b[0;34m.\u001b[0m\u001b[0mbook_count\u001b[0m\u001b[0;34m(\u001b[0m\u001b[0;34m)\u001b[0m\u001b[0;34m\u001b[0m\u001b[0;34m\u001b[0m\u001b[0m\n",
            "\u001b[0;32m<ipython-input-34-73bb4853ecd7>\u001b[0m in \u001b[0;36madd_books\u001b[0;34m(self, new_book)\u001b[0m\n\u001b[1;32m     10\u001b[0m     \u001b[0;32mif\u001b[0m \u001b[0mnew_book\u001b[0m\u001b[0;34m!=\u001b[0m \u001b[0mself\u001b[0m\u001b[0;34m.\u001b[0m\u001b[0mbooks_avail\u001b[0m\u001b[0;34m:\u001b[0m\u001b[0;34m\u001b[0m\u001b[0;34m\u001b[0m\u001b[0m\n\u001b[1;32m     11\u001b[0m       \u001b[0mself\u001b[0m\u001b[0;34m.\u001b[0m\u001b[0mbooks_avail\u001b[0m\u001b[0;34m=\u001b[0m\u001b[0mself\u001b[0m\u001b[0;34m.\u001b[0m\u001b[0mbooks_avail\u001b[0m\u001b[0;34m+\u001b[0m\u001b[0mnew_book\u001b[0m\u001b[0;34m\u001b[0m\u001b[0;34m\u001b[0m\u001b[0m\n\u001b[0;32m---> 12\u001b[0;31m       \u001b[0mprint\u001b[0m\u001b[0;34m(\u001b[0m\u001b[0;34m\"you are adding a new book\"\u001b[0m\u001b[0;34m,\u001b[0m \u001b[0mself\u001b[0m\u001b[0;34m.\u001b[0m\u001b[0mbooks_avail\u001b[0m\u001b[0;34m.\u001b[0m\u001b[0mappend\u001b[0m\u001b[0;34m(\u001b[0m\u001b[0;34m)\u001b[0m\u001b[0;34m)\u001b[0m\u001b[0;34m\u001b[0m\u001b[0;34m\u001b[0m\u001b[0m\n\u001b[0m\u001b[1;32m     13\u001b[0m     \u001b[0;32melse\u001b[0m\u001b[0;34m:\u001b[0m\u001b[0;34m\u001b[0m\u001b[0;34m\u001b[0m\u001b[0m\n\u001b[1;32m     14\u001b[0m       \u001b[0mprint\u001b[0m\u001b[0;34m(\u001b[0m\u001b[0;34m\"this book exists in this library already\"\u001b[0m\u001b[0;34m)\u001b[0m\u001b[0;34m\u001b[0m\u001b[0;34m\u001b[0m\u001b[0m\n",
            "\u001b[0;31mAttributeError\u001b[0m: 'str' object has no attribute 'append'"
          ]
        }
      ]
    },
    {
      "cell_type": "code",
      "source": [
        "#correct answer\n",
        "#Library Catalog: Implement a Library class with methods to add books, lend books, and return books.\n",
        "#Keep track of available and borrowed books.\n",
        "\n",
        "class Library:\n",
        "  def __init__(self,books=[]):\n",
        "    if type(books) ==list:\n",
        "      if len(books)>0:\n",
        "        self.books=[]+list(books)\n",
        "      else:\n",
        "        self.books=[]\n",
        "    else:\n",
        "      self.books=[]\n",
        "\n",
        "  def add_books(self,bookname):\n",
        "    self.books.append(str(bookname))\n",
        "\n",
        "  def lend_books(self,bookname):\n",
        "    try:\n",
        "      index=self.books.index(bookname)\n",
        "      self.books.pop(index)\n",
        "      print(\"Here we Found your book\")\n",
        "    except:\n",
        "      print(\"No Such Book in library catalog Please check available books\")\n",
        "\n",
        "  def return_book(self,bookname):\n",
        "    self.add_books(bookname)\n",
        "\n",
        "  def available_books(self):\n",
        "    print(\"Available books are\")\n",
        "    for k in  self.books:\n",
        "      print(k)\n"
      ],
      "metadata": {
        "id": "kO3gvDz0Udeb"
      },
      "execution_count": 42,
      "outputs": []
    },
    {
      "cell_type": "code",
      "source": [
        "library=Library(['harry potter','Lord of rings'])\n",
        "library.available_books()\n",
        "library.add_books('harry potter 2')\n",
        "library.add_books('harry potter 3')\n",
        "library.add_books('harry potter 4')\n",
        "library.available_books()\n",
        "library.lend_books(\"harry potter\")\n",
        "library.available_books()\n",
        "library.return_book(\"harry potter\")\n",
        "library.available_books()"
      ],
      "metadata": {
        "colab": {
          "base_uri": "https://localhost:8080/"
        },
        "id": "XzltLULxadki",
        "outputId": "110b4e26-62b1-4fec-eb92-47c3ab72013a"
      },
      "execution_count": 43,
      "outputs": [
        {
          "output_type": "stream",
          "name": "stdout",
          "text": [
            "Available books are\n",
            "harry potter\n",
            "Lord of rings\n",
            "Available books are\n",
            "harry potter\n",
            "Lord of rings\n",
            "harry potter 2\n",
            "harry potter 3\n",
            "harry potter 4\n",
            "Here we Found your book\n",
            "Available books are\n",
            "Lord of rings\n",
            "harry potter 2\n",
            "harry potter 3\n",
            "harry potter 4\n",
            "Available books are\n",
            "Lord of rings\n",
            "harry potter 2\n",
            "harry potter 3\n",
            "harry potter 4\n",
            "harry potter\n"
          ]
        }
      ]
    },
    {
      "cell_type": "code",
      "source": [],
      "metadata": {
        "id": "Qq-W1dMrfJnT"
      },
      "execution_count": null,
      "outputs": []
    }
  ]
}