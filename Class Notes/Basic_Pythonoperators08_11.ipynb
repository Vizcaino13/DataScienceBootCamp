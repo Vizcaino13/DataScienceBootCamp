{
  "nbformat": 4,
  "nbformat_minor": 0,
  "metadata": {
    "colab": {
      "provenance": []
    },
    "kernelspec": {
      "name": "python3",
      "display_name": "Python 3"
    },
    "language_info": {
      "name": "python"
    }
  },
  "cells": [
    {
      "cell_type": "markdown",
      "source": [
        "### **Friday August 11th**"
      ],
      "metadata": {
        "id": "DlNu78J1KtgR"
      }
    },
    {
      "cell_type": "code",
      "execution_count": 26,
      "metadata": {
        "colab": {
          "base_uri": "https://localhost:8080/"
        },
        "id": "o8b1QuvEEPx9",
        "outputId": "9eff178b-a007-4a8b-c006-fe27cd6961b4"
      },
      "outputs": [
        {
          "output_type": "stream",
          "name": "stdout",
          "text": [
            "2\n",
            "120\n",
            "80\n",
            "2000\n",
            "5.0\n",
            "0\n",
            "5\n",
            "10000000000000000000000000000000000000000\n"
          ]
        }
      ],
      "source": [
        "#basic python operators , these are arthemetic\n",
        "\n",
        "a=100\n",
        "b=20\n",
        "\n",
        "\n",
        "print(a+b)\n",
        "print(a-b)\n",
        "print(a*b)\n",
        "print(a/b)\n",
        "print(a%b) #modelous gives you a remainder\n",
        "print(a//b) #floor division rounds the number down to the nearest numbeer\n",
        "print(a**b) # a to the power of b"
      ]
    },
    {
      "cell_type": "code",
      "source": [
        "\n",
        "#basic python operators , comparision operators\n",
        "\n",
        "a=100\n",
        "b=20\n",
        "\n",
        "print(a==b) #a equal to b\n",
        "print(a!=b) #not equal to\n",
        "print(a>b) #a is greater than b\n",
        "print(a<b)  #a is less  than b\n",
        "print(a>=b) #a is greater than or equal to b\n",
        "print(a<=b) #a is less  than or equal to b"
      ],
      "metadata": {
        "colab": {
          "base_uri": "https://localhost:8080/"
        },
        "id": "UIAlA-_pE8cW",
        "outputId": "514ca440-0d0f-45d5-c726-dd5f366cf06e"
      },
      "execution_count": 13,
      "outputs": [
        {
          "output_type": "stream",
          "name": "stdout",
          "text": [
            "False\n",
            "True\n",
            "True\n",
            "False\n",
            "True\n",
            "False\n"
          ]
        }
      ]
    },
    {
      "cell_type": "code",
      "source": [
        "#assignment operators\n",
        "\n",
        "# a= a+b => a +=b\n",
        "#this changes the value of a to 100 plus 20\n",
        "a= 100\n",
        "b = 20\n",
        "\n",
        "a += b\n",
        "\n",
        "print(a, b)\n",
        "\n",
        "\n",
        "a= 100\n",
        "b = 20\n",
        "a -= b\n",
        "\n",
        "print(a, b)\n",
        "\n",
        "\n",
        "\n",
        "a= 100\n",
        "b = 20\n",
        "a *= b\n",
        "print(a, b)\n",
        "\n",
        "a= 100\n",
        "b = 20\n",
        "a /= b\n",
        "print(a, b)\n",
        "\n",
        "a= 100\n",
        "b = 20\n",
        "a %= b\n",
        "print(a, b)\n",
        "\n",
        "\n",
        "\n",
        "a= 100\n",
        "b = 20\n",
        "a //= b\n",
        "print(a, b)\n",
        "\n",
        "a= 100\n",
        "b = 20\n",
        "a **= b\n",
        "print(a, b)\n"
      ],
      "metadata": {
        "colab": {
          "base_uri": "https://localhost:8080/"
        },
        "id": "Ek176-CrGm8x",
        "outputId": "9bd97ca1-0634-4bf7-a8f5-fe936c08e4ab"
      },
      "execution_count": 25,
      "outputs": [
        {
          "output_type": "stream",
          "name": "stdout",
          "text": [
            "120 20\n",
            "80 20\n",
            "2000 20\n",
            "5.0 20\n",
            "0 20\n",
            "5 20\n",
            "10000000000000000000000000000000000000000 20\n"
          ]
        }
      ]
    },
    {
      "cell_type": "code",
      "source": [
        "#example arthemtic\n",
        "c=5\n",
        "d= 12\n",
        "print(c+d)\n",
        "print(c-d)\n",
        "print(c*d)\n",
        "print(c/d)\n",
        "print(c//d)\n",
        "print(c%d)\n",
        "print(c**d)\n",
        "\n",
        "#example compersaion operators\n",
        "print(c==d)\n",
        "print(c!=d)\n",
        "print(c>d)\n",
        "print(c<d)\n",
        "print(c>=d)\n",
        "print(c<=d)\n",
        "\n",
        "\n",
        "#example assignment operators\n",
        "c= 5\n",
        "d= 12\n",
        "c += d\n",
        "print(c,d)\n",
        "\n",
        "c= 5\n",
        "d= 12\n",
        "c -= d\n",
        "print(c,d)\n",
        "\n",
        "\n",
        "c= 5\n",
        "d= 12\n",
        "c **= d\n",
        "print(c,d)\n",
        "\n",
        "c= 5\n",
        "d= 12\n",
        "c *= d\n",
        "print(c,d)\n",
        "\n",
        "c= 5\n",
        "d= 12\n",
        "c %= d\n",
        "print(c,d)\n",
        "\n",
        "c= 5\n",
        "d= 12\n",
        "c //= d\n",
        "print(c,d)"
      ],
      "metadata": {
        "colab": {
          "base_uri": "https://localhost:8080/"
        },
        "id": "6YEgm0fDHPef",
        "outputId": "0a122be4-fba8-4c8a-b681-43d57d1ab04f"
      },
      "execution_count": 48,
      "outputs": [
        {
          "output_type": "stream",
          "name": "stdout",
          "text": [
            "17\n",
            "-7\n",
            "60\n",
            "0.4166666666666667\n",
            "0\n",
            "5\n",
            "244140625\n",
            "False\n",
            "True\n",
            "False\n",
            "True\n",
            "False\n",
            "True\n",
            "17 12\n",
            "-7 12\n",
            "244140625 12\n",
            "60 12\n",
            "5 12\n",
            "0 12\n"
          ]
        }
      ]
    },
    {
      "cell_type": "code",
      "source": [
        "# and  check conditons\n",
        "#if both conitions are true the the result will be true, if one is wrong then it makes it all false\n",
        "a= 100\n",
        "b = 20\n",
        "\n",
        "print(a> 80 and b< 80)\n",
        "print(a== 80 and b< 80)\n",
        "print(a<80 and b< 80)\n",
        "print(a>80 and b> 80)\n",
        "\n"
      ],
      "metadata": {
        "colab": {
          "base_uri": "https://localhost:8080/"
        },
        "id": "2ukp2VibJEBf",
        "outputId": "4e9948db-bef7-4e4e-ee87-6459026d0d37"
      },
      "execution_count": 57,
      "outputs": [
        {
          "output_type": "stream",
          "name": "stdout",
          "text": [
            "True\n",
            "False\n",
            "False\n",
            "False\n",
            "True\n",
            "True\n",
            "True\n",
            "True\n"
          ]
        }
      ]
    },
    {
      "cell_type": "code",
      "source": [
        "#incase of the Or operator if any condition is true then the whole thing will be true\n",
        "\n",
        "a= 100\n",
        "b = 20\n",
        "\n",
        "print(a>80 or b> 80)\n",
        "print(a== 80 or b< 80)\n",
        "print(a<80 or b< 80)\n",
        "print(a<80 or b> 80)\n"
      ],
      "metadata": {
        "colab": {
          "base_uri": "https://localhost:8080/"
        },
        "id": "a9hejdf3Lg9R",
        "outputId": "5cf8ca13-642c-404c-cbf7-8acd89238505"
      },
      "execution_count": 59,
      "outputs": [
        {
          "output_type": "stream",
          "name": "stdout",
          "text": [
            "True\n",
            "True\n",
            "True\n",
            "False\n"
          ]
        }
      ]
    },
    {
      "cell_type": "code",
      "source": [],
      "metadata": {
        "id": "rjCYx-dFMyzg"
      },
      "execution_count": null,
      "outputs": []
    },
    {
      "cell_type": "code",
      "source": [
        "\n",
        "#python membership operator checks if the value is avaible\n",
        "\n",
        "\n",
        "#so you can see 100 is in the list so it is true\n",
        "a= 100\n",
        "b = [100,200,300,400,500]\n",
        "\n",
        "print(a in b)\n",
        "\n",
        "\n",
        "#false\n",
        "a= 600\n",
        "b = [100,200,300,400,500]\n",
        "\n",
        "print (a in b)\n",
        "\n",
        "#not in\n",
        "#this comes out false because 100 is clearly in b\n",
        "a= 100\n",
        "b = [100,200,300,400,500]\n",
        "\n",
        "print(a not in b)\n",
        "\n",
        "\n",
        "#this comes out true because 600 is clearly not in b\n",
        "a= 600\n",
        "b = [100,200,300,400,500]\n",
        "\n",
        "print (a not in b)\n"
      ],
      "metadata": {
        "colab": {
          "base_uri": "https://localhost:8080/"
        },
        "id": "vpPE2FShMQJF",
        "outputId": "9cbe0216-16c6-4891-fb93-e33408065d43"
      },
      "execution_count": 69,
      "outputs": [
        {
          "output_type": "stream",
          "name": "stdout",
          "text": [
            "True\n",
            "False\n",
            "False\n",
            "True\n"
          ]
        }
      ]
    },
    {
      "cell_type": "code",
      "source": [
        "#identty operator , this is as equal to saying ==\n",
        "\n",
        "a= 100\n",
        "b = 20\n",
        "\n",
        "print(a is b)\n",
        "\n",
        "a= 100\n",
        "b = 20\n",
        "\n",
        "print(a is not b)"
      ],
      "metadata": {
        "colab": {
          "base_uri": "https://localhost:8080/"
        },
        "id": "xTb8DQv1MyjD",
        "outputId": "740211d5-a050-48fe-deb9-e7104bb81e49"
      },
      "execution_count": 72,
      "outputs": [
        {
          "output_type": "stream",
          "name": "stdout",
          "text": [
            "False\n",
            "True\n"
          ]
        }
      ]
    },
    {
      "cell_type": "code",
      "source": [],
      "metadata": {
        "id": "H-JgG6PZNkit"
      },
      "execution_count": null,
      "outputs": []
    }
  ]
}