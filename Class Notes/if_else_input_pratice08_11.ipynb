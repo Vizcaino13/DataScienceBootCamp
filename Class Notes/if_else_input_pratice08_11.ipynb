{
  "nbformat": 4,
  "nbformat_minor": 0,
  "metadata": {
    "colab": {
      "provenance": []
    },
    "kernelspec": {
      "name": "python3",
      "display_name": "Python 3"
    },
    "language_info": {
      "name": "python"
    }
  },
  "cells": [
    {
      "cell_type": "code",
      "execution_count": null,
      "metadata": {
        "id": "sUHuu78smY5e"
      },
      "outputs": [],
      "source": [
        "#1) check if a number is divisible by 7 or not\n",
        "\n",
        "#2) Write a program to print hello if number is multiple of five or 3 else print bye"
      ]
    },
    {
      "cell_type": "code",
      "source": [
        "#1) check if a number is divisible by 7 or not\n",
        "\n",
        "# the % checks if a number us diviable by something\n",
        "\n",
        "num=48\n",
        "\n",
        "if num%7 ==0:\n",
        "  print(\"number is divisble by 7\")\n",
        "else:\n",
        "    print(\"number not divisble by 7\")"
      ],
      "metadata": {
        "colab": {
          "base_uri": "https://localhost:8080/"
        },
        "id": "R4dRlxSFnC1z",
        "outputId": "c3ec3f6c-25d7-4914-a0db-8cd28ac6619d"
      },
      "execution_count": null,
      "outputs": [
        {
          "output_type": "stream",
          "name": "stdout",
          "text": [
            "number not divisble by 7\n"
          ]
        }
      ]
    },
    {
      "cell_type": "code",
      "source": [
        "#2) Write a program to print hello if number is multiple of five or 3 else print bye\n",
        "num1=65\n",
        "if num1%5 ==0 or num1%3 ==0:\n",
        "  print(\"Hello\")\n",
        "else:\n",
        "    print(\"Bye\")"
      ],
      "metadata": {
        "colab": {
          "base_uri": "https://localhost:8080/"
        },
        "id": "uW-QDPHknDA8",
        "outputId": "baa9f82c-448b-4b63-d6a2-2f96889b94fc"
      },
      "execution_count": null,
      "outputs": [
        {
          "output_type": "stream",
          "name": "stdout",
          "text": [
            "Hello\n"
          ]
        }
      ]
    },
    {
      "cell_type": "code",
      "source": [
        "#user input function, this actually helps you input a thing, this also converts things to inter and floats\n",
        "\n",
        "input_message= input(\"please enter a number :)\")\n",
        "print(input_message)\n",
        "input_message_int=int(input_message)\n",
        "input_message_float=float(input_message)\n"
      ],
      "metadata": {
        "id": "FGugUqSgoSib"
      },
      "execution_count": null,
      "outputs": []
    },
    {
      "cell_type": "code",
      "source": [
        "input_message_int=int(input_message)\n",
        "input_message_float=float(input_message)\n",
        "print(input_message_int)\n",
        "print(input_message_float)"
      ],
      "metadata": {
        "id": "5kNuWAgEsf3I"
      },
      "execution_count": null,
      "outputs": []
    },
    {
      "cell_type": "code",
      "source": [
        "#Write a python program that will check for the following conditions:\n",
        "\n",
        "#If the light is green – Car is allowed to go\n",
        "#If the light is yellow – Car has to wait\n",
        "#If the light is red – Car has to stop\n",
        "#Other signal – unrecognized signal. Example black, blue, etc…\n",
        "\n",
        "light= input(\"what color is the light? :\")\n",
        "if light == \"green\":\n",
        "  print(\"Car is allowed to go \")\n",
        "elif light == \"yellow\":\n",
        "    print(\"Car has to wait\")\n",
        "elif light == \"red\":\n",
        "    print(\"Car has to stop\")\n",
        "else:\n",
        "  print(\"unrecognized signal\")\n",
        "\n",
        "\n",
        "\n",
        "\n",
        "\n"
      ],
      "metadata": {
        "id": "ymB3c9NbtrcO"
      },
      "execution_count": null,
      "outputs": []
    },
    {
      "cell_type": "code",
      "source": [
        "\n",
        "\n",
        "#Write a program to trace your subject mark. Your program should fulfill the following conditions:\n",
        "\n",
        "#If the subject mark is below 0 and above 100, print “error: mark should be between 0 and 100 only”\n",
        "#Students will fail in the subject if their mark is below 50.\n",
        "#Students will pass in the subject if they score 50 and above.\n",
        "\n",
        "#If subject mark is between 50 and 60, grade student as good.\n",
        "#If subject mark is between 60 and 80, grade student as very good.\n",
        "#If subject mark is between 80 and 100, grade student as outstanding.\n",
        "\n",
        "#Make sure to print their mark in every statement to prove that the condition is fulfilled. Moreover, name, class, and section should be also displayed along with the marks.\n",
        "\n",
        "#like 1\n",
        "\n"
      ],
      "metadata": {
        "id": "qLVRPklBy7HM"
      },
      "execution_count": null,
      "outputs": []
    },
    {
      "cell_type": "code",
      "source": [
        "name= input('enter name:')\n",
        "clas= input('enter class:')\n",
        "section= input('enter section:')\n",
        "subject= input('enter subject:')\n",
        "mark= float(input('mark:'))\n",
        "\n",
        "if mark < 0 or mark > 100:\n",
        "  print(\"error: mark should be between 0 and 100 only\")\n",
        "elif mark < 50:\n",
        "  print(subject,\"mark is\", mark)\n",
        "  print(\"failed in\", subject)\n",
        "elif mark >=50:\n",
        "  print(subject,\"mark is\", mark)\n",
        "  print(\"passed in\", subject)\n",
        "\n",
        "  if mark >=50 and mark < 60:\n",
        "    print(\"you did good\", subject)\n",
        "  elif mark >=60 and mark < 80:\n",
        "    print(\"you did very good\", subject)\n",
        "  elif mark >=80 and mark < 100:\n",
        "    print(\"you did outstanding\", subject)\n",
        "\n",
        "\n",
        "\n",
        "\n",
        "\n"
      ],
      "metadata": {
        "id": "OuvSdUTFvjxq"
      },
      "execution_count": null,
      "outputs": []
    },
    {
      "cell_type": "code",
      "source": [
        "#hw. 1.A company decided to give bonus of 5% to employee if his/her year of service is more than 5 years. Ask user for their salary and year of service and print the net bonus amount.\n",
        "\n",
        "salary = float(input(\"what is salary? :\"))\n",
        "years = float(input(\"How long have you worked for us? :\"))\n",
        "\n",
        "if years > 5:\n",
        "  bonus= 0.05 * salary\n",
        "print(\"net bonus \", bonus)\n"
      ],
      "metadata": {
        "id": "ajzMzAUhwDHa"
      },
      "execution_count": null,
      "outputs": []
    },
    {
      "cell_type": "code",
      "source": [
        "#2. Take values of length and width of a rectangle from user and check if it is square or not.\n",
        "len = int(input(\"what is the length :\"))\n",
        "wid = int(input(\"what is the width:\"))\n",
        "\n",
        "if len == wid:\n",
        "  print(\"this is a square \")\n",
        "else:\n",
        "  print(\"this is a rectangle \")"
      ],
      "metadata": {
        "id": "HOlUO3L0xup_"
      },
      "execution_count": null,
      "outputs": []
    },
    {
      "cell_type": "code",
      "source": [
        "#3. Take two int values from user and print greatest among them.\n",
        "val1 = int(input(\"what is num 1:\"))\n",
        "val2 = int(input(\"what is num 2:\"))\n",
        "\n",
        "if val1 > val2:\n",
        "  print('val1 greater')\n",
        "else:\n",
        "    print(\"val2 greater\")\n",
        "\n",
        "\n",
        "\n",
        "#what if boith inters are the same , is it better to leave the code like this or ask something else\n",
        "#elif val2 > val1:\n",
        "    #print(\"val 2 is greater\")\n"
      ],
      "metadata": {
        "colab": {
          "base_uri": "https://localhost:8080/"
        },
        "id": "pK4tLJs34n0x",
        "outputId": "4c5a697a-f4ff-4d1b-9263-2bf15a8af3f7"
      },
      "execution_count": null,
      "outputs": [
        {
          "output_type": "stream",
          "name": "stdout",
          "text": [
            "what is num 1:4\n",
            "what is num 2:8\n",
            "val2 greater\n"
          ]
        }
      ]
    },
    {
      "cell_type": "code",
      "source": [
        "#4.A shop will give discount of 10% if the cost of purchased quantity is more than 1000.\n",
        "#Ask user for quantity.\n",
        "#Suppose, one item  will cost 100.\n",
        "#Judge and print total cost for user.\n",
        "\n",
        "quan = int(input(\"what quanity of the item:\"))\n",
        "\n",
        "if quan * 100 > 1000:\n",
        "  cost = quan * 100\n",
        "  discount= cost * 0.10\n",
        "  total_cost = cost - discount\n",
        "  print(\"total_cost\", total_cost)\n",
        "else:\n",
        "  cost = quan * 100\n",
        "  print(\"total_cost\", cost)\n"
      ],
      "metadata": {
        "id": "ktZhqGjG6Aoj",
        "colab": {
          "base_uri": "https://localhost:8080/"
        },
        "outputId": "e9de5625-26a2-4965-c05e-29f27508ee6e"
      },
      "execution_count": 4,
      "outputs": [
        {
          "output_type": "stream",
          "name": "stdout",
          "text": [
            "what quanity of the item:11\n",
            "total_cost 990.0\n"
          ]
        }
      ]
    },
    {
      "cell_type": "code",
      "source": [
        "#5.A school has following rules for grading system:\n",
        "#a. Below 25 - F\n",
        "#b. 25 to 45 - E\n",
        "#c. 45 to 50 - D\n",
        "#d. 50 to 60 - C\n",
        "#e. 60 to 80 - B\n",
        "#f. Above 80 - A\n",
        "#Ask user to enter marks and print the corresponding grade.\n",
        "\n",
        "mark = int(input(\"what is your mark:\"))\n",
        "\n",
        "if mark < 25:\n",
        "  print(\"F\")\n",
        "elif mark >= 25 and mark <45:\n",
        "  print(\"E\")\n",
        "elif mark >= 45 and mark <50:\n",
        "  print(\"D\")\n",
        "elif mark >= 50 and mark <60:\n",
        "  print(\"C\")\n",
        "elif mark >= 60 and mark <80:\n",
        "  print(\"B\")\n",
        "elif mark >= 80:\n",
        "  print(\"A\")\n",
        "\n",
        "\n",
        "\n"
      ],
      "metadata": {
        "id": "4lRUcDad-PLC",
        "colab": {
          "base_uri": "https://localhost:8080/"
        },
        "outputId": "64e28cbd-a144-4d74-f609-24dfacfd4978"
      },
      "execution_count": 5,
      "outputs": [
        {
          "output_type": "stream",
          "name": "stdout",
          "text": [
            "what is your mark:78\n",
            "B\n"
          ]
        }
      ]
    },
    {
      "cell_type": "code",
      "source": [
        "#6.Take input of age of 3 people by user and determine oldest and youngest among them.\n",
        "\n",
        "#this is too long in code\n",
        "\n",
        "age1 = int(input(\"user1: enter your age :\"))\n",
        "age2 = int(input(\"user2: enter your age :\"))\n",
        "age3 = int(input(\"user3:  enter your age :\"))\n",
        "\n",
        "if age1 > age2 and age1 > age3:\n",
        "  print (\" user 1 oldest \")\n",
        "\n",
        "elif age2 > age1 and age2 > age3:\n",
        "  print (\"user 2 is oldest \")\n",
        "\n",
        "elif age3 > age1 and age3 > age2:\n",
        "  print (\"user 3 oldest \")\n",
        "\n",
        "else:\n",
        "  print(\"two or more users are the oldest\")\n",
        "\n",
        "if age1 < age2 and age1 < age3:\n",
        "  print (\" user 1 youngest \")\n",
        "elif age2 < age1 and age2 < age3:\n",
        "  print (\"user 2 is youngest \")\n",
        "elif age3 < age1 and age3 < age2:\n",
        "  print (\"user 3 youngest \")\n",
        "else:\n",
        "  print(\"two or more users are the youngest\")\n",
        "\n",
        "\n",
        "\n"
      ],
      "metadata": {
        "id": "4kqgjB2LDUAT",
        "colab": {
          "base_uri": "https://localhost:8080/"
        },
        "outputId": "76b1c9a1-d9fc-4020-fe54-b90069da4256"
      },
      "execution_count": 6,
      "outputs": [
        {
          "output_type": "stream",
          "name": "stdout",
          "text": [
            "user1: enter your age :87\n",
            "user2: enter your age :45\n",
            "user3:  enter your age :9\n",
            " user 1 oldest \n",
            "user 3 youngest \n"
          ]
        }
      ]
    },
    {
      "cell_type": "code",
      "source": [
        "\n"
      ],
      "metadata": {
        "id": "Uo5gGnz2VY8R"
      },
      "execution_count": null,
      "outputs": []
    },
    {
      "cell_type": "code",
      "source": [
        "7. #Write a program to print absolute vlaue of a number entered by user. E.g.-\n",
        "#INPUT: 1        OUTPUT: 1\n",
        "#INPUT: -1        OUTPUT: 1\n",
        "\n",
        "#this is also wrong in the sense that it was not covered\n",
        "#this is the code for absoulte value abs()\n",
        "num = int(input(\" enter a number:\"))\n",
        "print(abs(num))\n",
        "\n",
        "\n"
      ],
      "metadata": {
        "id": "Exj1rWTpFad8"
      },
      "execution_count": null,
      "outputs": []
    },
    {
      "cell_type": "code",
      "source": [
        "#8.A student will not be allowed to sit in exam if his/her attendence is less than 75%.\n",
        "#Take following input from user\n",
        "#Number of classes held\n",
        "#Number of classes attended.\n",
        "#And print percentage of class attended\n",
        "#Is student is allowed to sit in exam or not\n",
        "\n",
        "Held = int(input(\" enter number classses held\"))\n",
        "Attended = int(input(\" enter number classses attended\"))\n",
        "\n",
        "pca= Attended/Held * 100\n",
        "print(\"percent of classes attened\", pca, \"%\")\n",
        "\n",
        "if pca <= 75:\n",
        "  print(\"not be allowed to sit in exam\")\n",
        "else:\n",
        "  print(\" you are allowed to sit in exam\")\n"
      ],
      "metadata": {
        "id": "YTUZYkEaGjjX",
        "colab": {
          "base_uri": "https://localhost:8080/"
        },
        "outputId": "d81dd92d-2e06-4a67-fa4d-6a6b382ca839"
      },
      "execution_count": 10,
      "outputs": [
        {
          "output_type": "stream",
          "name": "stdout",
          "text": [
            " enter number classses held75\n",
            " enter number classses attended75\n",
            "percent of classes attened 100.0 %\n",
            " you are allowed to sit in exam\n"
          ]
        }
      ]
    },
    {
      "cell_type": "code",
      "source": [
        "#9.Modify the above question to allow student to sit if he/she has medical cause. Ask user if he/she has medical cause or not ( 'Y' or 'N' ) and print accordingly.\n",
        "\n",
        "Held = int(input(\" enter number classses held\"))\n",
        "Attended = int(input(\" enter number classses attended\"))\n",
        "medical = input(\" do you have a medical cause (N/Y) \")\n",
        "\n",
        "pca= Attended/Held * 100\n",
        "print(\"percent of classes attened\", pca, \"%\")\n",
        "\n",
        "if medical == \"Y\":\n",
        "  print(\"you can sit for the exam\")\n",
        "elif pca >=75:\n",
        "  print (\"you are allowed to sit in the exam\")\n",
        "else:\n",
        "    print(\" you are not allowed to sit in exam\")\n",
        "\n",
        "\n",
        "\n",
        "\n"
      ],
      "metadata": {
        "id": "Sr3wmG4wNimS"
      },
      "execution_count": null,
      "outputs": []
    },
    {
      "cell_type": "code",
      "source": [],
      "metadata": {
        "id": "tJB4UdYwP3AJ"
      },
      "execution_count": null,
      "outputs": []
    }
  ]
}