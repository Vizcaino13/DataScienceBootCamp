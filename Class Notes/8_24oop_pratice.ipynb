{
  "nbformat": 4,
  "nbformat_minor": 0,
  "metadata": {
    "colab": {
      "provenance": []
    },
    "kernelspec": {
      "name": "python3",
      "display_name": "Python 3"
    },
    "language_info": {
      "name": "python"
    }
  },
  "cells": [
    {
      "cell_type": "code",
      "execution_count": null,
      "metadata": {
        "colab": {
          "base_uri": "https://localhost:8080/"
        },
        "id": "_JdtNZkfhyYi",
        "outputId": "12380ed2-86ec-46cb-fc07-bcc09edfa14c"
      },
      "outputs": [
        {
          "output_type": "stream",
          "name": "stdout",
          "text": [
            " 1 | 2 | 3 \n",
            "-----------\n",
            " 4 | 5 | 6 \n",
            "-----------\n",
            " 7 | 8 | 9 \n"
          ]
        }
      ],
      "source": [
        "\n",
        "\n",
        "#Create this Matrix and User should be able to replace any number with X\n",
        "\n",
        "def display_board(board_list):\n",
        "    print(\" {} | {} | {} \".format(board_list[0],board_list[1],board_list[2]))\n",
        "    print(\"-----------\")\n",
        "    print(\" {} | {} | {} \".format(board_list[3],board_list[4],board_list[5]))\n",
        "    print(\"-----------\")\n",
        "    print(\" {} | {} | {} \".format(board_list[6],board_list[7],board_list[8]))\n",
        "\n",
        "available = [num for num in range(1,10)]\n",
        "display_board(available)\n",
        "\n",
        "position_to_replace=int(input(\"Please choose between 1 and 9 :- \"))\n",
        "position_to_replace=available.index(position_to_replace)\n",
        "while True:\n",
        "  if position_to_replace<0 or position_to_replace>8:\n",
        "    print(\"Invalid Input\")\n",
        "    position_to_replace=int(input(\"Please choose between 1 and 9 :- \"))\n",
        "  else:\n",
        "    available[position_to_replace]=\"X\"\n",
        "    print(available)\n",
        "    break\n",
        "\n",
        "display_board(available)"
      ]
    },
    {
      "cell_type": "code",
      "source": [
        "#assignment: create a tic tac-toe game between computer and human, submit on tuesday\n",
        "\n",
        "\n",
        "#1 user will enter name\n",
        "#2 user will choose x or o\n",
        "#randomly first turn wil be decided\n",
        "#after each turn show board with replaced index by x or o\n",
        "#if no one wins and board is full say its a draw\n",
        "#win conditions are a horizontial match or vertical match or diagonal match\n",
        "#ask user if they want to play again at the end of the game\n",
        "\n",
        "\n"
      ],
      "metadata": {
        "id": "1juHfec9xgzs"
      },
      "execution_count": null,
      "outputs": []
    }
  ]
}