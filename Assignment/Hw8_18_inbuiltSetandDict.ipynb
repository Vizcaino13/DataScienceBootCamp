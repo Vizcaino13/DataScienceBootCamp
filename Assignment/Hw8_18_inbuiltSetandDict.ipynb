{
  "nbformat": 4,
  "nbformat_minor": 0,
  "metadata": {
    "colab": {
      "provenance": []
    },
    "kernelspec": {
      "name": "python3",
      "display_name": "Python 3"
    },
    "language_info": {
      "name": "python"
    }
  },
  "cells": [
    {
      "cell_type": "markdown",
      "source": [
        "### HW: use all the set inbuilt functions and dict inbuiltfunctions 08/18/2023"
      ],
      "metadata": {
        "id": "SqXxq7n6nTdg"
      }
    },
    {
      "cell_type": "markdown",
      "source": [
        "### Inbuilt Functions in Sets"
      ],
      "metadata": {
        "id": "Cqveby5znNEb"
      }
    },
    {
      "cell_type": "code",
      "execution_count": 1,
      "metadata": {
        "colab": {
          "base_uri": "https://localhost:8080/"
        },
        "id": "KVV2ZVekTwoQ",
        "outputId": "8284ed37-aaf4-4831-864d-62424365aea8"
      },
      "outputs": [
        {
          "output_type": "execute_result",
          "data": {
            "text/plain": [
              "['__and__',\n",
              " '__class__',\n",
              " '__class_getitem__',\n",
              " '__contains__',\n",
              " '__delattr__',\n",
              " '__dir__',\n",
              " '__doc__',\n",
              " '__eq__',\n",
              " '__format__',\n",
              " '__ge__',\n",
              " '__getattribute__',\n",
              " '__gt__',\n",
              " '__hash__',\n",
              " '__iand__',\n",
              " '__init__',\n",
              " '__init_subclass__',\n",
              " '__ior__',\n",
              " '__isub__',\n",
              " '__iter__',\n",
              " '__ixor__',\n",
              " '__le__',\n",
              " '__len__',\n",
              " '__lt__',\n",
              " '__ne__',\n",
              " '__new__',\n",
              " '__or__',\n",
              " '__rand__',\n",
              " '__reduce__',\n",
              " '__reduce_ex__',\n",
              " '__repr__',\n",
              " '__ror__',\n",
              " '__rsub__',\n",
              " '__rxor__',\n",
              " '__setattr__',\n",
              " '__sizeof__',\n",
              " '__str__',\n",
              " '__sub__',\n",
              " '__subclasshook__',\n",
              " '__xor__',\n",
              " 'add',\n",
              " 'clear',\n",
              " 'copy',\n",
              " 'difference',\n",
              " 'difference_update',\n",
              " 'discard',\n",
              " 'intersection',\n",
              " 'intersection_update',\n",
              " 'isdisjoint',\n",
              " 'issubset',\n",
              " 'issuperset',\n",
              " 'pop',\n",
              " 'remove',\n",
              " 'symmetric_difference',\n",
              " 'symmetric_difference_update',\n",
              " 'union',\n",
              " 'update']"
            ]
          },
          "metadata": {},
          "execution_count": 1
        }
      ],
      "source": [
        "#hw august 18 due before 12:00pm est . use all the set inbuilt functions and dict inbuiltfunctions\n",
        "\n",
        "set1= {1,2,45,78,97,2,9, 98,67,91,}\n",
        "\n",
        "dir(set1)"
      ]
    },
    {
      "cell_type": "code",
      "source": [
        "#add, this adds an element to a set only if its not there, if it is already there it wont add it\n",
        "set1= {1,2,3,4,5,6,7,8,9,10,12,13,14,15}\n",
        "\n",
        "set1.add(16)\n",
        "\n",
        "print(set1)\n",
        "\n",
        "print(\"==================================================================\")\n",
        "print(\"this code below not print the number, since it is already there:\")\n",
        "set1= {1,2,3,4,5,6,7,8,9,10,12,13,14,15}\n",
        "set1.add(12)\n",
        "\n",
        "print(set1)"
      ],
      "metadata": {
        "colab": {
          "base_uri": "https://localhost:8080/"
        },
        "id": "R5wGVxPWUI8M",
        "outputId": "85a58eb9-cd55-4388-b212-ec56b642c550"
      },
      "execution_count": 13,
      "outputs": [
        {
          "output_type": "stream",
          "name": "stdout",
          "text": [
            "{1, 2, 3, 4, 5, 6, 7, 8, 9, 10, 12, 13, 14, 15, 16}\n",
            "==================================================================\n",
            "this code below not print the number, since it is already there:\n",
            "{1, 2, 3, 4, 5, 6, 7, 8, 9, 10, 12, 13, 14, 15}\n"
          ]
        }
      ]
    },
    {
      "cell_type": "code",
      "source": [
        "#clear: this clears all elemts in the set\n",
        "\n",
        "set1= {1,2,3,4,5,6,7,8,9,10,12,13,14,15}\n",
        "print(\"this is before the clear\", set1)\n",
        "print(\"==================================================================\")\n",
        "set1.clear()\n",
        "\n",
        "print(\"this is after the clear\",set1)"
      ],
      "metadata": {
        "colab": {
          "base_uri": "https://localhost:8080/"
        },
        "id": "4blb7l7sVGh2",
        "outputId": "f68fff6f-4293-431a-f4ef-5e760c86c3bf"
      },
      "execution_count": 16,
      "outputs": [
        {
          "output_type": "stream",
          "name": "stdout",
          "text": [
            "this is before the clear {1, 2, 3, 4, 5, 6, 7, 8, 9, 10, 12, 13, 14, 15}\n",
            "==================================================================\n",
            "this is after the clear set()\n"
          ]
        }
      ]
    },
    {
      "cell_type": "code",
      "source": [
        "#copy: this copies all the elements in a set to another set\n",
        "\n",
        "set2={\"amy\", \"Sam\", \"Pam\", \"Jack\", \"Ash\", \"Jake\"}\n",
        "\n",
        "newset=set2.copy()\n",
        "print(\"this is the old set:\", set2)\n",
        "print(\"==================================================================\")\n",
        "print(\"this is the copied new set:\", newset)"
      ],
      "metadata": {
        "colab": {
          "base_uri": "https://localhost:8080/"
        },
        "id": "GqcBtkBHWbEH",
        "outputId": "f9d773d0-354e-4b4b-9eb3-01a30639cd52"
      },
      "execution_count": 18,
      "outputs": [
        {
          "output_type": "stream",
          "name": "stdout",
          "text": [
            "this is the old set: {'Ash', 'Pam', 'Jake', 'Sam', 'amy', 'Jack'}\n",
            "==================================================================\n",
            "this is the copied new set: {'Ash', 'Pam', 'Jake', 'Sam', 'amy', 'Jack'}\n"
          ]
        }
      ]
    },
    {
      "cell_type": "code",
      "source": [
        "#difference: this determines the difference of two sets and it will return elements unique to a set\n",
        "\n",
        "set2={\"amy\", \"Sam\", \"Pam\", \"jack\", \"Ash\", \"mark\"}\n",
        "set3={\"john\", \"Sam\", \"Pam\", \"jack\", \"Ash\", \"hilda\"}\n",
        "\n",
        "# differennces in set2 to set 3\n",
        "print(set2.difference(set3))\n",
        "# differennces in set3 to set2\n",
        "print(set3.difference(set2))"
      ],
      "metadata": {
        "colab": {
          "base_uri": "https://localhost:8080/"
        },
        "id": "9a71BdZtX8pJ",
        "outputId": "3d0901b6-2575-4e4c-edca-315764e46f66"
      },
      "execution_count": 21,
      "outputs": [
        {
          "output_type": "stream",
          "name": "stdout",
          "text": [
            "{'amy', 'mark'}\n",
            "{'hilda', 'john'}\n"
          ]
        }
      ]
    },
    {
      "cell_type": "code",
      "source": [
        "#difference_update: The difference_update() method computes the difference between two sets (set1- set2) and updates the set set1 with the resulting set\n",
        "\n",
        "set2={\"amy\", \"Sam\", \"Pam\", \"jack\", \"Ash\", \"mark\"}\n",
        "set3={\"john\", \"Sam\", \"Pam\", \"jack\", \"Ash\", \"hilda\"}\n",
        "\n",
        "set2.difference_update(set3)\n",
        "\n",
        "print(set2)"
      ],
      "metadata": {
        "colab": {
          "base_uri": "https://localhost:8080/"
        },
        "id": "YSFaDr2sZBG4",
        "outputId": "889c7a6e-6d52-4397-9edc-e94595f92b7c"
      },
      "execution_count": 22,
      "outputs": [
        {
          "output_type": "stream",
          "name": "stdout",
          "text": [
            "{'amy', 'mark'}\n"
          ]
        }
      ]
    },
    {
      "cell_type": "code",
      "source": [
        "#discard: it removes an element from the set\n",
        "\n",
        "set1= {1,2,3,4,5,6,7,8,9,10,12,13,14,15}\n",
        "\n",
        "print(\"this is before discard of the set:\", set1)\n",
        "print(\"==================================================================\")\n",
        "\n",
        "set1.discard(5)\n",
        "print(\"this is after the discard\", set1)"
      ],
      "metadata": {
        "colab": {
          "base_uri": "https://localhost:8080/"
        },
        "id": "oLjneDyXajVS",
        "outputId": "4eeed91e-81c4-47f3-eccc-98ba14def073"
      },
      "execution_count": 25,
      "outputs": [
        {
          "output_type": "stream",
          "name": "stdout",
          "text": [
            "this is before discard of the set: {1, 2, 3, 4, 5, 6, 7, 8, 9, 10, 12, 13, 14, 15}\n",
            "==================================================================\n",
            "this is after the discard {1, 2, 3, 4, 6, 7, 8, 9, 10, 12, 13, 14, 15}\n"
          ]
        }
      ]
    },
    {
      "cell_type": "code",
      "source": [
        "#intersection: returns elements that are common in both sets\n",
        "set2={\"amy\", \"Sam\", \"Pam\", \"jack\", \"Ash\", \"mark\"}\n",
        "set3={\"john\", \"Sam\", \"Pam\", \"jack\", \"Ash\", \"hilda\"}\n",
        "\n",
        "print(set2.intersection(set3))\n"
      ],
      "metadata": {
        "colab": {
          "base_uri": "https://localhost:8080/"
        },
        "id": "b8axKNDFdV4E",
        "outputId": "c96e1643-2a06-4660-ec23-6616df0f9bc4"
      },
      "execution_count": 29,
      "outputs": [
        {
          "output_type": "stream",
          "name": "stdout",
          "text": [
            "{'Sam', 'Ash', 'jack', 'Pam'}\n"
          ]
        }
      ]
    },
    {
      "cell_type": "code",
      "source": [
        "#intersection_update:returns elements that are common in both sets and updates the set to that,\n",
        "#so whatever both sets have in come that , the set you choose will be updated to that\n",
        "\n",
        " #intersection: returns elements that are common in both sets\n",
        "set2={\"amy\", \"Sam\", \"Pam\", \"jack\", \"Ash\", \"mark\"}\n",
        "set3={\"john\", \"Sam\", \"Pam\", \"jack\", \"Ash\", \"hilda\"}\n",
        "\n",
        "set2.intersection_update(set3)\n",
        "\n",
        "print(set2)\n"
      ],
      "metadata": {
        "colab": {
          "base_uri": "https://localhost:8080/"
        },
        "id": "fyx0pzmPd7gf",
        "outputId": "b8f65eff-71a1-49c3-dab8-70557274d561"
      },
      "execution_count": 34,
      "outputs": [
        {
          "output_type": "stream",
          "name": "stdout",
          "text": [
            "{'Sam', 'Ash', 'jack', 'Pam'}\n"
          ]
        }
      ]
    },
    {
      "cell_type": "code",
      "source": [
        "#isdisjoint: returns true if two sets don't have any elements in common , if it does have things in common it returns false\n",
        "\n",
        "set1= {1,2,3,4,5,6,7,8,9,10,12,13,14,15}\n",
        "\n",
        "set4={16,17,18,19,20,21,22,23,24,25,26}\n",
        "\n",
        "print(set1.isdisjoint(set4))\n",
        "\n"
      ],
      "metadata": {
        "colab": {
          "base_uri": "https://localhost:8080/"
        },
        "id": "lGmhmmFvfCGQ",
        "outputId": "e88cbc86-2e32-4f84-8ff5-9251ff1fd833"
      },
      "execution_count": 35,
      "outputs": [
        {
          "output_type": "stream",
          "name": "stdout",
          "text": [
            "True\n"
          ]
        }
      ]
    },
    {
      "cell_type": "code",
      "source": [
        "#issubset: returns true if all elements in set1 are seen in set2, if it is not present then its false\n",
        "\n",
        "set1= {1,2,3,4,5,6,7,8,9,10,12,13,14,15}\n",
        "set2={1,2,3,4,5,6,7,8,9,10,12,13,14,15,16,17,18}\n",
        "\n",
        "print(set1.issubset(set2))\n",
        "\n"
      ],
      "metadata": {
        "colab": {
          "base_uri": "https://localhost:8080/"
        },
        "id": "u79v_d91gBsm",
        "outputId": "b3d9ee49-ca1f-4f4d-dd1c-9f4d2310109c"
      },
      "execution_count": 37,
      "outputs": [
        {
          "output_type": "stream",
          "name": "stdout",
          "text": [
            "True\n"
          ]
        }
      ]
    },
    {
      "cell_type": "code",
      "source": [
        "#issuperset: if all elements in one set are in the other set.\n",
        "#set 1 issuperset of set 2 if all elements of  set 2 are in set1, if correct it will rerturn true\n",
        "\n",
        "set1={1,2,3,4,5,6,7,8,9,10,12,13,14,15,16,17,18}\n",
        "set2= {1,2,3,4,5,6,7,8,9,10,12,13,14,15}\n",
        "set3={5,6,7,8,9}\n",
        "set4={3,4,5,6,7,8,9}\n",
        "print(set1.issuperset(set2))\n",
        "\n",
        "#this prints false because all elements of set 4 is not in set 3\n",
        "print(set3.issuperset(set4))\n"
      ],
      "metadata": {
        "colab": {
          "base_uri": "https://localhost:8080/"
        },
        "id": "Jtpzg6aVgtGN",
        "outputId": "6a443305-1842-4eb2-d9ab-7e99bbfdbfe0"
      },
      "execution_count": 40,
      "outputs": [
        {
          "output_type": "stream",
          "name": "stdout",
          "text": [
            "True\n",
            "False\n"
          ]
        }
      ]
    },
    {
      "cell_type": "code",
      "source": [
        "#pop: removes any random elements from the set, it does not follow a certain guide\n",
        "set1={1,2,3,4,5,6,91,76}\n",
        "\n",
        "set1.pop()\n",
        "set1.pop()\n",
        "print(set1)"
      ],
      "metadata": {
        "colab": {
          "base_uri": "https://localhost:8080/"
        },
        "id": "FXSQ3Fenil4d",
        "outputId": "7585b818-9c56-4530-9da7-ecc263f71175"
      },
      "execution_count": 42,
      "outputs": [
        {
          "output_type": "stream",
          "name": "stdout",
          "text": [
            "{3, 4, 5, 6, 76, 91}\n"
          ]
        }
      ]
    },
    {
      "cell_type": "code",
      "source": [
        "#remove: this removes a spefic element from the set, so it removes what you want it to\n",
        "\n",
        "set2={\"amy\", \"Sam\", \"Pam\", \"jack\", \"Ash\", \"mark\"}\n",
        "\n",
        "set2.remove(\"Sam\")\n",
        "\n",
        "print(set2)"
      ],
      "metadata": {
        "colab": {
          "base_uri": "https://localhost:8080/"
        },
        "id": "BVLdhq-XjVqp",
        "outputId": "1836cc91-013f-436a-a4e2-dfcfa7344aee"
      },
      "execution_count": 43,
      "outputs": [
        {
          "output_type": "stream",
          "name": "stdout",
          "text": [
            "{'Ash', 'jack', 'Pam', 'amy', 'mark'}\n"
          ]
        }
      ]
    },
    {
      "cell_type": "code",
      "source": [
        "#symmetric_difference: it returns all the elements the sets don't have in common\n",
        "\n",
        "set2={\"amy\", \"Sam\", \"Pam\", \"jack\", \"Ash\", \"mark\"}\n",
        "set3={\"john\", \"Sam\", \"Pam\", \"jack\", \"Ash\", \"hilda\"}\n",
        "\n",
        "diff = set2.symmetric_difference(set3)\n",
        "print(diff)"
      ],
      "metadata": {
        "colab": {
          "base_uri": "https://localhost:8080/"
        },
        "id": "rd6zTsVRj-un",
        "outputId": "4b7cb7e2-6bb0-44fd-d71f-62e5682900bf"
      },
      "execution_count": 44,
      "outputs": [
        {
          "output_type": "stream",
          "name": "stdout",
          "text": [
            "{'john', 'hilda', 'amy', 'mark'}\n"
          ]
        }
      ]
    },
    {
      "cell_type": "code",
      "source": [
        "#symmetric_difference_update: it returns all the elements the sets don't have in common  and updates that set to those elements\n",
        "\n",
        "set2={\"amy\", \"Sam\", \"Pam\", \"jack\", \"Ash\", \"mark\"}\n",
        "set3={\"john\", \"Sam\", \"Pam\", \"jack\", \"Ash\", \"hilda\"}\n",
        "\n",
        "set2.symmetric_difference_update(set3)\n",
        "\n",
        "print(set2)\n",
        "\n",
        "\n"
      ],
      "metadata": {
        "colab": {
          "base_uri": "https://localhost:8080/"
        },
        "id": "YxhBpKNekfJB",
        "outputId": "c0216ea7-ed7a-4d3f-c6ab-882e4cb37856"
      },
      "execution_count": 49,
      "outputs": [
        {
          "output_type": "stream",
          "name": "stdout",
          "text": [
            "{'john', 'hilda', 'amy', 'mark'}\n"
          ]
        }
      ]
    },
    {
      "cell_type": "code",
      "source": [
        "#union: it returns a new set with the differences of elements in both sets together\n",
        "\n",
        "set2={\"amy\", \"Sam\", \"Pam\", \"jack\", \"Ash\", \"mark\"}\n",
        "set3={\"john\", \"Sam\", \"Pam\", \"jack\", \"Ash\", \"hilda\"}\n",
        "\n",
        "print('set2 U set3 = ', set2.union(set3))\n",
        "\n",
        "print(\"==========================================================\")\n",
        "print(\"Second example with numbers:\")\n",
        "set4={2,5,8,9,10}\n",
        "set5={6,5,21,11,10}\n",
        "\n",
        "\n",
        "print('set4 U set5 = ', set4.union(set5))\n"
      ],
      "metadata": {
        "colab": {
          "base_uri": "https://localhost:8080/"
        },
        "id": "j6RmeZ_4lHvU",
        "outputId": "41610740-d72e-4361-fa5c-bf6a5b03f8d2"
      },
      "execution_count": 52,
      "outputs": [
        {
          "output_type": "stream",
          "name": "stdout",
          "text": [
            "set2 U set3 =  {'Ash', 'jack', 'john', 'Pam', 'Sam', 'hilda', 'amy', 'mark'}\n",
            "==========================================================\n",
            "Second example with numbers:\n",
            "set4 U set5 =  {2, 5, 6, 8, 9, 10, 11, 21}\n"
          ]
        }
      ]
    },
    {
      "cell_type": "markdown",
      "source": [
        "### Inbuilt Functions in Dictionaries"
      ],
      "metadata": {
        "id": "NvBwh7WXm3XP"
      }
    },
    {
      "cell_type": "code",
      "source": [
        "dict1= {1:\"ham\",45:\"cheese\",9:\"salami\",2:\"9\"}\n",
        "\n",
        "dir(dict1)\n"
      ],
      "metadata": {
        "colab": {
          "base_uri": "https://localhost:8080/"
        },
        "id": "fyP2MKIHmOoR",
        "outputId": "f3a4b5c5-0307-4c0b-e2f1-8d2b1ef78c45"
      },
      "execution_count": 54,
      "outputs": [
        {
          "output_type": "execute_result",
          "data": {
            "text/plain": [
              "['__class__',\n",
              " '__class_getitem__',\n",
              " '__contains__',\n",
              " '__delattr__',\n",
              " '__delitem__',\n",
              " '__dir__',\n",
              " '__doc__',\n",
              " '__eq__',\n",
              " '__format__',\n",
              " '__ge__',\n",
              " '__getattribute__',\n",
              " '__getitem__',\n",
              " '__gt__',\n",
              " '__hash__',\n",
              " '__init__',\n",
              " '__init_subclass__',\n",
              " '__ior__',\n",
              " '__iter__',\n",
              " '__le__',\n",
              " '__len__',\n",
              " '__lt__',\n",
              " '__ne__',\n",
              " '__new__',\n",
              " '__or__',\n",
              " '__reduce__',\n",
              " '__reduce_ex__',\n",
              " '__repr__',\n",
              " '__reversed__',\n",
              " '__ror__',\n",
              " '__setattr__',\n",
              " '__setitem__',\n",
              " '__sizeof__',\n",
              " '__str__',\n",
              " '__subclasshook__',\n",
              " 'clear',\n",
              " 'copy',\n",
              " 'fromkeys',\n",
              " 'get',\n",
              " 'items',\n",
              " 'keys',\n",
              " 'pop',\n",
              " 'popitem',\n",
              " 'setdefault',\n",
              " 'update',\n",
              " 'values']"
            ]
          },
          "metadata": {},
          "execution_count": 54
        }
      ]
    },
    {
      "cell_type": "code",
      "source": [
        "#clear: this clears all elemts in the dictionary\n",
        "\n",
        "dict1= {\"ham\":1, \"cheese\":3.50, \"salami\":5, \"bread\":2.00}\n",
        "dict1.clear()\n",
        "print(dict1)\n",
        "\n"
      ],
      "metadata": {
        "colab": {
          "base_uri": "https://localhost:8080/"
        },
        "id": "M-D5fSy-m0TB",
        "outputId": "b547cd11-c9d0-4f7b-d875-30a8d09ac6b8"
      },
      "execution_count": 58,
      "outputs": [
        {
          "output_type": "stream",
          "name": "stdout",
          "text": [
            "{}\n"
          ]
        }
      ]
    },
    {
      "cell_type": "code",
      "source": [
        "#copy: copies one dictionary to another\n",
        "\n",
        "grocerydict1= {\"ham\":1, \"cheese\":3.50, \"salami\":5, \"bread\":2.00}\n",
        "\n",
        "copied_grocerydict1= grocerydict1.copy()\n",
        "\n",
        "\n",
        "print(\"this is the old grocery dictionary:\", grocerydict1)\n",
        "print(\"==================================================================\")\n",
        "print(\"this is the copied new grocery dictionary:\", copied_grocerydict1)"
      ],
      "metadata": {
        "colab": {
          "base_uri": "https://localhost:8080/"
        },
        "id": "xDNjaiQFozXD",
        "outputId": "2569cd4a-6058-45b7-c7a9-3b351b7ae4ad"
      },
      "execution_count": 61,
      "outputs": [
        {
          "output_type": "stream",
          "name": "stdout",
          "text": [
            "this is the old grocery dictionary: {'ham': 1, 'cheese': 3.5, 'salami': 5, 'bread': 2.0}\n",
            "==================================================================\n",
            "this is the copied new grocery dictionary: {'ham': 1, 'cheese': 3.5, 'salami': 5, 'bread': 2.0}\n"
          ]
        }
      ]
    },
    {
      "cell_type": "code",
      "source": [
        "#fromkeys: creats a dictonary from the keys and values\n",
        "\n",
        "#keys\n",
        "names = {'Sarah', 'Mark', 'Pam'}\n",
        "\n",
        "#value\n",
        "pay = 15.60\n",
        "\n",
        "# makes a dictionary with the given keys and values\n",
        "createddict = dict.fromkeys(names, pay)\n",
        "\n",
        "print(createddict)\n"
      ],
      "metadata": {
        "colab": {
          "base_uri": "https://localhost:8080/"
        },
        "id": "YJ0Z5JojpVrY",
        "outputId": "77cce86a-f6dc-4c8c-878f-24d9be2b4ccf"
      },
      "execution_count": 65,
      "outputs": [
        {
          "output_type": "stream",
          "name": "stdout",
          "text": [
            "{'Sarah': 15.6, 'Pam': 15.6, 'Mark': 15.6}\n"
          ]
        }
      ]
    },
    {
      "cell_type": "code",
      "source": [
        "#get: gives you the value of the key that you choose\n",
        "salary= {'Sarah': 25.67, 'Pam': 38.95, 'Mark': 15.6}\n",
        "\n",
        "pay= salary.get(\"Pam\")\n",
        "\n",
        "#this is prining out pam's pay\n",
        "print(pay)\n",
        "\n",
        "\n"
      ],
      "metadata": {
        "colab": {
          "base_uri": "https://localhost:8080/"
        },
        "id": "f_Hf_-97p8XL",
        "outputId": "01ccb0c6-b0ca-484c-cb8c-a9856a840b0d"
      },
      "execution_count": 69,
      "outputs": [
        {
          "output_type": "stream",
          "name": "stdout",
          "text": [
            "38.95\n"
          ]
        }
      ]
    },
    {
      "cell_type": "code",
      "source": [
        "#items: returns the key and values of the dicts\n",
        "\n",
        "grocerydict1= {\"ham\":1, \"cheese\":3.50, \"salami\":5, \"bread\":2.00}\n",
        "\n",
        "print(grocerydict1.items())\n",
        "\n"
      ],
      "metadata": {
        "colab": {
          "base_uri": "https://localhost:8080/"
        },
        "id": "WHI2oLmJrDOw",
        "outputId": "97a9d032-949e-43d9-d345-94d51eabb29d"
      },
      "execution_count": 70,
      "outputs": [
        {
          "output_type": "stream",
          "name": "stdout",
          "text": [
            "dict_items([('ham', 1), ('cheese', 3.5), ('salami', 5), ('bread', 2.0)])\n"
          ]
        }
      ]
    },
    {
      "cell_type": "code",
      "source": [
        "#keys: returns the list of keys\n",
        "\n",
        "grocerydict1= {\"ham\":1, \"cheese\":3.50, \"salami\":5, \"bread\":2.00}\n",
        "\n",
        "print(grocerydict1.keys())\n"
      ],
      "metadata": {
        "colab": {
          "base_uri": "https://localhost:8080/"
        },
        "id": "VWVX4VijrEGy",
        "outputId": "ed7c41fd-9816-4f61-83ca-60c8051aee2d"
      },
      "execution_count": 72,
      "outputs": [
        {
          "output_type": "stream",
          "name": "stdout",
          "text": [
            "dict_keys(['ham', 'cheese', 'salami', 'bread'])\n"
          ]
        }
      ]
    },
    {
      "cell_type": "code",
      "source": [
        "#pop removes the key and returns the value of the key that was popped\n",
        "\n",
        "salary= {'Sarah': 25.67, 'Pam': 38.95, 'Mark': 15.6}\n",
        "\n",
        "removedsal= salary.pop(\"Sarah\")\n",
        "\n",
        "print(removedsal)"
      ],
      "metadata": {
        "colab": {
          "base_uri": "https://localhost:8080/"
        },
        "id": "9_gpUJOFsWO7",
        "outputId": "df689ab4-25a4-4a36-826d-b278aa216a41"
      },
      "execution_count": 74,
      "outputs": [
        {
          "output_type": "stream",
          "name": "stdout",
          "text": [
            "25.67\n"
          ]
        }
      ]
    },
    {
      "cell_type": "code",
      "source": [
        "#pop item removes the last dict element (key: value)placed in the dict\n",
        "\n",
        "salary= {'Sarah': 25.67, 'Pam': 38.95, 'Mark': 15.6}\n",
        "\n",
        "removedsal= salary.popitem()\n",
        "\n",
        "\n",
        "print(removedsal)\n"
      ],
      "metadata": {
        "colab": {
          "base_uri": "https://localhost:8080/"
        },
        "id": "KwhwTnbYtM4l",
        "outputId": "2fa846f5-d99d-4283-a0a6-acef448ea167"
      },
      "execution_count": 75,
      "outputs": [
        {
          "output_type": "stream",
          "name": "stdout",
          "text": [
            "('Mark', 15.6)\n"
          ]
        }
      ]
    },
    {
      "cell_type": "code",
      "source": [
        "#setdefault: this adds a new element (key:value) to the dict if its not there already.\n",
        "#if the key already exists the orginal value will not be modifued/cannot be changed\n",
        "\n",
        "newdict= {\"name\":\"pam\", \"age\": 30, \"city\":\"new york\", \"years of experince\": 10, \"salary\": 50000}\n",
        "\n",
        "newdict.setdefault('height', 65)\n",
        "#this line i am attempting to change the value of name to ash but i cannot\n",
        "newdict.setdefault('name', \"Ash\")\n",
        "print(newdict)"
      ],
      "metadata": {
        "colab": {
          "base_uri": "https://localhost:8080/"
        },
        "id": "2YYQlNa6uFe7",
        "outputId": "cea7c827-ab63-4e3f-eace-fd377999ff9d"
      },
      "execution_count": 80,
      "outputs": [
        {
          "output_type": "stream",
          "name": "stdout",
          "text": [
            "{'name': 'pam', 'age': 30, 'city': 'new york', 'years of experince': 10, 'salary': 50000, 'height': 65}\n"
          ]
        }
      ]
    },
    {
      "cell_type": "code",
      "source": [
        "#update: updates the current dictonary with key:vale from another\n",
        "\n",
        "newdict= {\"name\":\"pam\", \"age\": 30, \"city\":\"new york\", \"years of experince\": 10, \"salary\": 50000}\n",
        "dict2={'height':65, \"previous employer\":\"google\"}\n",
        "\n",
        "newdict.update(dict2)\n",
        "\n",
        "print(newdict)"
      ],
      "metadata": {
        "colab": {
          "base_uri": "https://localhost:8080/"
        },
        "id": "XmKp0uHuv0rL",
        "outputId": "757581d6-6f1d-4339-d544-11a856fcfdf0"
      },
      "execution_count": 81,
      "outputs": [
        {
          "output_type": "stream",
          "name": "stdout",
          "text": [
            "{'name': 'pam', 'age': 30, 'city': 'new york', 'years of experince': 10, 'salary': 50000, 'height': 65, 'previous employer': 'google'}\n"
          ]
        }
      ]
    },
    {
      "cell_type": "code",
      "source": [
        "#values: returns all the values in the dictionary\n",
        "\n",
        "\n",
        "newdict= {\"name\":\"pam\", \"age\": 30, \"city\":\"new york\", \"years of experince\": 10, \"salary\": 50000}\n",
        "\n",
        "\n",
        "print(newdict.values())\n",
        "\n"
      ],
      "metadata": {
        "colab": {
          "base_uri": "https://localhost:8080/"
        },
        "id": "Dzo8Es-xxzOJ",
        "outputId": "5cb5eea1-4b7a-44e8-bc0c-32ecf7870303"
      },
      "execution_count": 83,
      "outputs": [
        {
          "output_type": "stream",
          "name": "stdout",
          "text": [
            "dict_values(['pam', 30, 'new york', 10, 50000])\n"
          ]
        }
      ]
    },
    {
      "cell_type": "code",
      "source": [],
      "metadata": {
        "id": "eEByZmicyJn0"
      },
      "execution_count": null,
      "outputs": []
    }
  ]
}