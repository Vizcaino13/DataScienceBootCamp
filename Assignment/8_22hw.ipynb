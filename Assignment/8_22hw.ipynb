{
  "nbformat": 4,
  "nbformat_minor": 0,
  "metadata": {
    "colab": {
      "provenance": []
    },
    "kernelspec": {
      "name": "python3",
      "display_name": "Python 3"
    },
    "language_info": {
      "name": "python"
    }
  },
  "cells": [
    {
      "cell_type": "code",
      "execution_count": 1,
      "metadata": {
        "colab": {
          "base_uri": "https://localhost:8080/",
          "height": 0
        },
        "id": "JnIouq6Hb2W1",
        "outputId": "51aed5f5-6482-4f91-872c-98f35027c772"
      },
      "outputs": [
        {
          "output_type": "stream",
          "name": "stdout",
          "text": [
            "Twin Primes: (3, 5)\n",
            "Twin Primes: (5, 7)\n",
            "Twin Primes: (11, 13)\n",
            "Twin Primes: (17, 19)\n",
            "Twin Primes: (29, 31)\n",
            "Twin Primes: (41, 43)\n",
            "Twin Primes: (59, 61)\n",
            "Twin Primes: (71, 73)\n",
            "Twin Primes: (101, 103)\n",
            "Twin Primes: (107, 109)\n",
            "Twin Primes: (137, 139)\n",
            "Twin Primes: (149, 151)\n",
            "Twin Primes: (179, 181)\n",
            "Twin Primes: (191, 193)\n",
            "Twin Primes: (197, 199)\n",
            "Twin Primes: (227, 229)\n",
            "Twin Primes: (239, 241)\n",
            "Twin Primes: (269, 271)\n",
            "Twin Primes: (281, 283)\n",
            "Twin Primes: (311, 313)\n",
            "Twin Primes: (347, 349)\n",
            "Twin Primes: (419, 421)\n",
            "Twin Primes: (431, 433)\n",
            "Twin Primes: (461, 463)\n",
            "Twin Primes: (521, 523)\n",
            "Twin Primes: (569, 571)\n",
            "Twin Primes: (599, 601)\n",
            "Twin Primes: (617, 619)\n",
            "Twin Primes: (641, 643)\n",
            "Twin Primes: (659, 661)\n",
            "Twin Primes: (809, 811)\n",
            "Twin Primes: (821, 823)\n",
            "Twin Primes: (827, 829)\n",
            "Twin Primes: (857, 859)\n",
            "Twin Primes: (881, 883)\n"
          ]
        }
      ],
      "source": [
        "#4) Write a program to print twin primes less than 1000.\n",
        "#If two consecutive odd numbers are both prime then they are known as twin primes\n",
        "\n",
        "\n",
        "def is_prime(prime_num):\n",
        "    if prime_num <= 1:\n",
        "        return False\n",
        "    for i in range(2, int(prime_num**0.5) + 1):\n",
        "        if prime_num % i == 0:\n",
        "            return False\n",
        "    return True\n",
        "\n",
        "def find_twin_primes(stop):\n",
        "    twin_primes = []\n",
        "    for odd_num in range(3, stop):\n",
        "        if is_prime(odd_num) and is_prime(odd_num - 2):\n",
        "            twin_primes.append((odd_num - 2, odd_num))\n",
        "    return twin_primes\n",
        "\n",
        "stop = 1000\n",
        "twin_prime_pairs = find_twin_primes(stop)\n",
        "for pair in twin_prime_pairs:\n",
        "    print(\"Twin Primes:\", pair)\n"
      ]
    },
    {
      "cell_type": "code",
      "source": [
        "#Write a program to find out the prime factorization of a number. Example: prime factorization  of 56 2 × 2 × 2 × 7\n",
        "def prime_factors(number):\n",
        "    factors = []\n",
        "    divisor = 2  # Start with the smallest prime number\n",
        "    while divisor <= number:\n",
        "        if number % divisor == 0:\n",
        "            factors.append(divisor)\n",
        "            number = number // divisor  # Reduce the number\n",
        "        else:\n",
        "            divisor += 1  # Move to the next potential divisor\n",
        "    return factors\n",
        "\n",
        "# Example usage:\n",
        "num_to_factorize = 56\n",
        "factors = prime_factors(num_to_factorize)\n",
        "print(\"Prime factorization of\", num_to_factorize, \":\", \" × \".join(map(str, factors)))\n"
      ],
      "metadata": {
        "colab": {
          "base_uri": "https://localhost:8080/",
          "height": 0
        },
        "id": "T5fD7JDWcAUp",
        "outputId": "f481123e-7a89-4f31-d8e0-529ff6534881"
      },
      "execution_count": 2,
      "outputs": [
        {
          "output_type": "stream",
          "name": "stdout",
          "text": [
            "Prime factorization of 56 : 2 × 2 × 2 × 7\n"
          ]
        }
      ]
    },
    {
      "cell_type": "code",
      "source": [
        "#Two different numbers are called amicable numbers if the sum of the proper divisors of each is equal to the other number. For example 220 and 284 are amicable numbers.like 1\n",
        "\n",
        "def divisors1(num):\n",
        "    divisors = []\n",
        "    for i in range(1, num):\n",
        "        if num % i == 0:\n",
        "            divisors.append(i)\n",
        "    return sum(divisors)\n",
        "\n",
        "def are_amicable_numbers(num1, num2):\n",
        "    sum1 = divisors1(num1)\n",
        "    sum2 = divisors1(num2)\n",
        "\n",
        "    return sum1 == num2 and sum2 == num1\n",
        "\n",
        "# Example usage:\n",
        "num1 = 220\n",
        "num2 = 284\n",
        "if are_amicable_numbers(num1, num2):\n",
        "    print(f\"{num1} and {num2} are amicable numbers.\")\n",
        "else:\n",
        "    print(f\"{num1} and {num2} are not amicable numbers.\")\n"
      ],
      "metadata": {
        "colab": {
          "base_uri": "https://localhost:8080/",
          "height": 0
        },
        "id": "lMwn5iw8cf9-",
        "outputId": "d1d265ab-8d22-436e-b988-a5bdce950768"
      },
      "execution_count": 5,
      "outputs": [
        {
          "output_type": "stream",
          "name": "stdout",
          "text": [
            "220 and 284 are amicable numbers.\n"
          ]
        }
      ]
    },
    {
      "cell_type": "code",
      "source": [],
      "metadata": {
        "id": "xqoftTIQcwCh"
      },
      "execution_count": null,
      "outputs": []
    }
  ]
}