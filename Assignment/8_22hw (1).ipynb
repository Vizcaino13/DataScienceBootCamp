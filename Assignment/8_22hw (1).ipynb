{
  "nbformat": 4,
  "nbformat_minor": 0,
  "metadata": {
    "colab": {
      "provenance": []
    },
    "kernelspec": {
      "name": "python3",
      "display_name": "Python 3"
    },
    "language_info": {
      "name": "python"
    }
  },
  "cells": [
    {
      "cell_type": "markdown",
      "source": [
        "#4) Write a program to print twin primes less than 1000.\n",
        "#If two consecutive odd numbers are both prime then they are known as twin primes\n",
        "\n",
        "#logical break down\n",
        "#first part is that we have to iterare till 1000\n",
        "#2nd part only check for odd numbers\n",
        "#3rd both numbers houkd be prime"
      ],
      "metadata": {
        "id": "TJv2nKoRbQgx"
      }
    },
    {
      "cell_type": "code",
      "execution_count": null,
      "metadata": {
        "id": "JnIouq6Hb2W1"
      },
      "outputs": [],
      "source": [
        "n=int(input(\"Enter the Max Range :- \"))\n",
        "\n",
        "def check_prime_number(num):#have a num\n",
        "  for i in range(2,num):#for loop starts at 2, stops athe num\n",
        "    if num%i==0: #if any number is divisable by i then its not prime so example i=2 so 4/2 so not prime, so itll hit the false return\n",
        "      return False\n",
        "  return True  #if it hists true then that means it is not diviable by i so a prime number\n",
        "\n",
        "\n",
        "def print_prime_pairs(n):\n",
        "  # We start from 3 which is first odd prime number and jump 2 places each for next odd number\n",
        "  for k in range(3,n,2): #3 is the first prime number go to n and skip 2 places for next odd number\n",
        "    if check_prime_number(k) and check_prime_number(k+2): #this checks if bother numbers are prime pairs, so lets say 5, 5+2, 7 so then prime pairs\n",
        "      print(\"Pair Prime Numbers\",k,k+2)\n",
        "\n",
        "print_prime_pairs(n)"
      ]
    },
    {
      "cell_type": "code",
      "source": [
        "#Write a program to find out the prime factorization of a number. Example: prime factorization  of 56 2 × 2 × 2 × 7\n",
        "n=int(input(\"Enter the Number for prime factorization\"))\n",
        "\n",
        "def prime_factors(num):\n",
        "  factors=[]\n",
        "  divisor=2\n",
        "  while num>1:\n",
        "    while num%divisor==0:\n",
        "      num=num/divisor\n",
        "      factors.append(str(divisor))\n",
        "    divisor=divisor+1\n",
        "  return factors\n",
        "\n",
        "def show_prime_factorization(n):\n",
        "  factors=prime_factors(n)\n",
        "  return \"x\".join(factors)\n",
        "\n",
        "show_prime_factorization(n)\n"
      ],
      "metadata": {
        "id": "T5fD7JDWcAUp"
      },
      "execution_count": null,
      "outputs": []
    },
    {
      "cell_type": "code",
      "source": [
        "#Two different numbers are called amicable numbers if the sum of the proper divisors of each is equal to the other number. For example 220 and 284 are amicable numbers.like 1\n",
        "x=int(input(\"Enter first number \"))\n",
        "y=int(input(\"Enter second number \"))\n",
        "\n",
        "def get_proper_divisors_sum(num):\n",
        "  sum=0\n",
        "  for k in range(1,num):\n",
        "    if num%k==0:\n",
        "      sum=sum+k\n",
        "  return sum\n",
        "\n",
        "\n",
        "def check_ambicale_numbers(x,y):\n",
        "  if get_proper_divisors_sum(x)==y and get_proper_divisors_sum(y)==x:\n",
        "    print(\"These are ambicale numbers\",x,y)\n",
        "  else:\n",
        "    print(\"Not ambicale number\")\n",
        "\n",
        "check_ambicale_numbers(x,y)"
      ],
      "metadata": {
        "id": "lMwn5iw8cf9-"
      },
      "execution_count": null,
      "outputs": []
    },
    {
      "cell_type": "code",
      "source": [],
      "metadata": {
        "id": "xqoftTIQcwCh"
      },
      "execution_count": null,
      "outputs": []
    }
  ]
}