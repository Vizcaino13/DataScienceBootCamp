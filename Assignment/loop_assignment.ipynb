{
  "nbformat": 4,
  "nbformat_minor": 0,
  "metadata": {
    "colab": {
      "provenance": []
    },
    "kernelspec": {
      "name": "python3",
      "display_name": "Python 3"
    },
    "language_info": {
      "name": "python"
    }
  },
  "cells": [
    {
      "cell_type": "code",
      "execution_count": null,
      "metadata": {
        "colab": {
          "base_uri": "https://localhost:8080/"
        },
        "id": "ufU04scSpvPl",
        "outputId": "b4a90eca-3d13-495a-a4d5-b91e87080ced"
      },
      "outputs": [
        {
          "output_type": "stream",
          "name": "stdout",
          "text": [
            "a's new switched num is:  80\n",
            "b's new switched num is:  20\n"
          ]
        }
      ],
      "source": [
        "#1) Swap two numbers using 3rd variable\n",
        "\n",
        "a=20\n",
        "b=80\n",
        "\n",
        "var3= a\n",
        "\n",
        "a=b\n",
        "\n",
        "b=var3\n",
        "\n",
        "\n",
        "print(\"a's new switched num is: \",a)\n",
        "print(\"b's new switched num is: \", b)"
      ]
    },
    {
      "cell_type": "code",
      "source": [
        "#2) Swap two numbers without using 3rd variable\n",
        "\n",
        "a = 20\n",
        "b = 80\n",
        "\n",
        "# Swap the values of a and b\n",
        "a, b = b, a\n",
        "\n",
        "print(\"a's new switched num is: \", a)\n",
        "print(\"b's new switched num is: \", b)\n"
      ],
      "metadata": {
        "colab": {
          "base_uri": "https://localhost:8080/"
        },
        "id": "mF8a9XdAqQSG",
        "outputId": "c47b1048-91dd-49b0-8b6f-a2689c54fa1c"
      },
      "execution_count": null,
      "outputs": [
        {
          "output_type": "stream",
          "name": "stdout",
          "text": [
            "a's new switched num is:  80\n",
            "b's new switched num is:  20\n"
          ]
        }
      ]
    },
    {
      "cell_type": "code",
      "source": [
        "#3) Remove duplicate elements from a list without converting to tuple\n",
        "\n",
        "lst1= [1,2,3,4,4,5,6,7,7,8,8,9]\n",
        "\n",
        "print(set(lst1))\n",
        "\n"
      ],
      "metadata": {
        "colab": {
          "base_uri": "https://localhost:8080/"
        },
        "id": "dBomYIgcrmvw",
        "outputId": "c0d1c2b6-5ffd-4255-9a63-a3d0c74a27e2"
      },
      "execution_count": null,
      "outputs": [
        {
          "output_type": "stream",
          "name": "stdout",
          "text": [
            "{1, 2, 3, 4, 5, 6, 7, 8, 9}\n"
          ]
        },
        {
          "output_type": "execute_result",
          "data": {
            "text/plain": [
              "list"
            ]
          },
          "metadata": {},
          "execution_count": 8
        }
      ]
    },
    {
      "cell_type": "code",
      "source": [
        "\n",
        "#3) Write a program to find greatest common divisor (GCD) or highest common factor (HCF) of given two numbers\n",
        "\n",
        "a = int(input(\"Enter a number: \"))\n",
        "b = int(input(\"Enter another number: \"))\n",
        "\n",
        "hcf = 1\n",
        "\n",
        "for i in range(1, min(a, b) + 1):\n",
        "    if a % i == 0 and b % i == 0:\n",
        "        hcf = i\n",
        "\n",
        "print(\"The highest common factor (HCF) of\", a, \"and\", b, \"is\", hcf)"
      ],
      "metadata": {
        "colab": {
          "base_uri": "https://localhost:8080/"
        },
        "id": "yGlJGOh9vMkH",
        "outputId": "3e693703-4f7d-4bd8-ce60-7e7c77a20673"
      },
      "execution_count": null,
      "outputs": [
        {
          "output_type": "stream",
          "name": "stdout",
          "text": [
            "Enter a number: 36\n",
            "Enter another number: 60\n",
            "The highest common factor (HCF) of 36 and 60 is 12\n"
          ]
        }
      ]
    },
    {
      "cell_type": "code",
      "source": [
        "#4.Write a loop to print following series\n",
        "\n",
        "\n",
        "for i in range(10,310,10):\n",
        "  print(i)"
      ],
      "metadata": {
        "colab": {
          "base_uri": "https://localhost:8080/"
        },
        "id": "22_Wj4ykzt3M",
        "outputId": "dbf69d3e-9123-47f8-bd1a-1952481b34b2"
      },
      "execution_count": null,
      "outputs": [
        {
          "output_type": "stream",
          "name": "stdout",
          "text": [
            "10\n",
            "20\n",
            "30\n",
            "40\n",
            "50\n",
            "60\n",
            "70\n",
            "80\n",
            "90\n",
            "100\n",
            "110\n",
            "120\n",
            "130\n",
            "140\n",
            "150\n",
            "160\n",
            "170\n",
            "180\n",
            "190\n",
            "200\n",
            "210\n",
            "220\n",
            "230\n",
            "240\n",
            "250\n",
            "260\n",
            "270\n",
            "280\n",
            "290\n",
            "300\n"
          ]
        }
      ]
    },
    {
      "cell_type": "code",
      "source": [
        "#5)Write a loop to print following series\n",
        "for i in range(105,1,-7):\n",
        "  print(i)\n",
        "\n",
        "\n"
      ],
      "metadata": {
        "colab": {
          "base_uri": "https://localhost:8080/"
        },
        "id": "L8T9bIEb0Cc0",
        "outputId": "c3a23c85-5a31-4f78-f7aa-b0b0c21db87c"
      },
      "execution_count": null,
      "outputs": [
        {
          "output_type": "stream",
          "name": "stdout",
          "text": [
            "105\n",
            "98\n",
            "91\n",
            "84\n",
            "77\n",
            "70\n",
            "63\n",
            "56\n",
            "49\n",
            "42\n",
            "35\n",
            "28\n",
            "21\n",
            "14\n",
            "7\n"
          ]
        }
      ]
    },
    {
      "cell_type": "code",
      "source": [
        "#6)Write a program to print number names of digits in a number like\n",
        "# SAMPLE INPUT 231 \t\tSAMPLE OUTPUT TWO THREE ONE\n",
        "\n",
        "\n",
        "digit_write = {\n",
        "    '0': 'ZERO',\n",
        "    '1': 'ONE',\n",
        "    '2': 'TWO',\n",
        "    '3': 'THREE',\n",
        "    '4': 'FOUR',\n",
        "    '5': 'FIVE',\n",
        "    '6': 'SIX',\n",
        "    '7': 'SEVEN',\n",
        "    '8': 'EIGHT',\n",
        "    '9': 'NINE'\n",
        "}\n",
        "\n",
        "number = input(\"Enter a number: \")\n",
        "\n",
        "\n",
        "number_names = []\n",
        "\n",
        "for i in number:\n",
        "\n",
        "    number_names.append(digit_write[i])\n",
        "\n",
        "\n",
        "writen_end = ' '.join(number_names)\n",
        "print(\"Number names:\", writen_end )\n"
      ],
      "metadata": {
        "colab": {
          "base_uri": "https://localhost:8080/"
        },
        "id": "MogkyjwD0QH8",
        "outputId": "4aa691bd-b886-4b64-fd8b-8d08f1913203"
      },
      "execution_count": null,
      "outputs": [
        {
          "output_type": "stream",
          "name": "stdout",
          "text": [
            "Enter a number: 887\n",
            "Number names: EIGHT EIGHT SEVEN\n"
          ]
        }
      ]
    },
    {
      "cell_type": "code",
      "source": [
        "#7)Write a program to print Fibonacci series till n terms take n =50\n",
        "\n",
        "num1, num2 = 0, 1\n",
        "\n",
        "while num1 <= 50:\n",
        "    print(num1, end=' ')\n",
        "    num1, num2 = num2, num1 + num2\n"
      ],
      "metadata": {
        "colab": {
          "base_uri": "https://localhost:8080/"
        },
        "id": "89tQIbxU2X7n",
        "outputId": "a9bec536-3bc5-47ca-c57c-b61adb67b3ac"
      },
      "execution_count": null,
      "outputs": [
        {
          "output_type": "stream",
          "name": "stdout",
          "text": [
            "0 1 1 2 3 5 8 13 21 34 "
          ]
        }
      ]
    },
    {
      "cell_type": "code",
      "source": [
        "#8) Write a program to print factorial of a number\n",
        "\n",
        "num = int(input(\"Enter a number: \"))\n",
        "fact= 1\n",
        "\n",
        "# Check if the input is negative\n",
        "if num < 0:\n",
        "    print(\"Factorial does not include negative numbers\")\n",
        "elif num == 0:\n",
        "    print(\"The factorial of 0 is 1.\")\n",
        "else:\n",
        "    for i in range(1, num + 1):\n",
        "        fact *= i\n",
        "\n",
        "    print(\"The factorial of\" , num ,\"is\", fact)\n",
        "\n",
        "\n"
      ],
      "metadata": {
        "colab": {
          "base_uri": "https://localhost:8080/"
        },
        "id": "m8ZyQJM03VhI",
        "outputId": "0eefa76d-2bcd-4765-dee7-44ac2af1db8b"
      },
      "execution_count": null,
      "outputs": [
        {
          "output_type": "stream",
          "name": "stdout",
          "text": [
            "Enter a number: 78\n",
            "The factorial of 78 is 11324281178206297831457521158732046228731749579488251990048962825668835325234200766245086213177344000000000000000000\n"
          ]
        }
      ]
    },
    {
      "cell_type": "code",
      "source": [
        "#9 write a program to check a number is Armstrong or not\n",
        "\n",
        "\n",
        "\n",
        "num1 = int(input(\"Enter a number:\"))\n",
        "original_num = num1\n",
        "\n",
        "\n",
        "num_digits = len(str(num1))\n",
        "\n",
        "\n",
        "arm_num = 0\n",
        "\n",
        "\n",
        "while num1 > 0:\n",
        "    digit = num1 % 10\n",
        "    arm_num += digit ** num_digits\n",
        "    num1 //= 10\n",
        "\n",
        "if arm_num == original_num:\n",
        "    print(\"The number is an Armstrong number:\", original_num)\n",
        "else:\n",
        "    print(\"The number is not an Armstrong number:\", original_num)\n"
      ],
      "metadata": {
        "id": "jZZGd3wS61kQ",
        "colab": {
          "base_uri": "https://localhost:8080/"
        },
        "outputId": "1d813f9f-985f-46e3-e023-07a2e8756b24"
      },
      "execution_count": null,
      "outputs": [
        {
          "output_type": "stream",
          "name": "stdout",
          "text": [
            "Enter a number:1634\n",
            "The number is an Armstrong number: 1634\n"
          ]
        }
      ]
    },
    {
      "cell_type": "code",
      "source": [
        "#10) Write a program to convert binary to decimal\n",
        "\n",
        "num=input(\"enter a  binary number\")\n",
        "\n",
        "dec_num= int(num, 2)\n",
        "print(f\" {num} was converted to a decimal:\", dec_num)\n",
        "\n"
      ],
      "metadata": {
        "colab": {
          "base_uri": "https://localhost:8080/"
        },
        "id": "ogrJX1AcDK2x",
        "outputId": "4725fa09-43a9-4281-f66d-7e696a6e14d4"
      },
      "execution_count": null,
      "outputs": [
        {
          "output_type": "stream",
          "name": "stdout",
          "text": [
            "enter a  binary number0b111011\n",
            " 0b111011 was converted to a decimal: 59\n"
          ]
        }
      ]
    },
    {
      "cell_type": "code",
      "source": [
        "#11) Write a program to convert decimal to binary\n",
        "\n",
        "num=input(\"enter a number\")\n",
        "\n",
        "bin_num= bin(int(num))\n",
        "print(f\" {num} was converted to a binary number:\", bin_num)\n"
      ],
      "metadata": {
        "colab": {
          "base_uri": "https://localhost:8080/"
        },
        "id": "mpRm08zmLsvR",
        "outputId": "59768759-10a8-4c44-f38e-f9b18e2c679c"
      },
      "execution_count": null,
      "outputs": [
        {
          "output_type": "stream",
          "name": "stdout",
          "text": [
            "enter a number59\n",
            " 59 was converted to a binary number: 0b111011\n"
          ]
        }
      ]
    },
    {
      "cell_type": "code",
      "source": [
        "#12) Write a program to check if number is palindrome on not (Without converting to string)\n",
        "\n",
        "num = int(input(\"Enter a number: \"))\n",
        "original_num = num\n",
        "reverse_num = 0\n",
        "\n",
        "while num > 0:\n",
        "    digit = num % 10\n",
        "    reverse_num = reverse_num * 10 + digit\n",
        "    num = num // 10\n",
        "\n",
        "if original_num == reverse_num:\n",
        "    print(f\"{original_num} is a palindrome.\")\n",
        "else:\n",
        "    print(f\"{original_num} is not a palindrome.\")\n"
      ],
      "metadata": {
        "colab": {
          "base_uri": "https://localhost:8080/"
        },
        "id": "bSQrKi2mQUKo",
        "outputId": "1fc79576-04c3-4c6a-d8b0-4960acdfcf8d"
      },
      "execution_count": null,
      "outputs": [
        {
          "output_type": "stream",
          "name": "stdout",
          "text": [
            "Enter a number: 875\n",
            "875 is not a palindrome.\n"
          ]
        }
      ]
    },
    {
      "cell_type": "code",
      "source": [
        "# 13) Write a program to print all numbers which are divisible by 13 but not by 3 between 100 and 500\n",
        "\n",
        "for i in range(100, 500):\n",
        "    if i % 13 == 0 and i % 3 != 0:\n",
        "        print(i)\n"
      ],
      "metadata": {
        "colab": {
          "base_uri": "https://localhost:8080/"
        },
        "id": "PgNfzxMUSPTs",
        "outputId": "e53860df-9c6f-4b14-8800-9aeeaed8e896"
      },
      "execution_count": null,
      "outputs": [
        {
          "output_type": "stream",
          "name": "stdout",
          "text": [
            "104\n",
            "130\n",
            "143\n",
            "169\n",
            "182\n",
            "208\n",
            "221\n",
            "247\n",
            "260\n",
            "286\n",
            "299\n",
            "325\n",
            "338\n",
            "364\n",
            "377\n",
            "403\n",
            "416\n",
            "442\n",
            "455\n",
            "481\n",
            "494\n"
          ]
        }
      ]
    },
    {
      "cell_type": "code",
      "source": [
        "#14) Write a Python program to convert temperatures to and from Celsius and Fahrenheit.\n",
        "\n",
        "Celsius=int(input(\"enter the temp in Celsius: \"))\n",
        "\n",
        "Fahrenheit= Celsius*(9/5)+32\n",
        "\n",
        "print(\"The Temp in Fahrenheit is: \",Fahrenheit)\n"
      ],
      "metadata": {
        "colab": {
          "base_uri": "https://localhost:8080/"
        },
        "id": "cz5-btfKoDjZ",
        "outputId": "81833de3-c5ad-4a3a-a44e-9e3ff99f0514"
      },
      "execution_count": null,
      "outputs": [
        {
          "output_type": "stream",
          "name": "stdout",
          "text": [
            "enter the temp in Celsius: 26\n",
            "The Temp in Fahrenheit is:  78.80000000000001\n"
          ]
        }
      ]
    },
    {
      "cell_type": "code",
      "source": [
        "#15 Write a Python program that takes two digits m (row) and n (column) as input and generates a two-dimensional array.\n",
        "#  The element value in the i-th row and j-th column of the array should be i*j. else it will be 0\n",
        "\n",
        "\n",
        "row_num = int(input(\"Input number of rows: \"))\n",
        "col_num = int(input(\"Input number of columns: \"))\n",
        "multi_list = [[0 for col in range(col_num)] for row in range(row_num)]\n",
        "\n",
        "for row in range(row_num):\n",
        "    for col in range(col_num):\n",
        "        multi_list[row][col] = row * col if row * col != 0 else 0\n",
        "\n",
        "print(multi_list)\n"
      ],
      "metadata": {
        "id": "Aa-WHBoCRl48"
      },
      "execution_count": null,
      "outputs": []
    },
    {
      "cell_type": "code",
      "source": [
        "# 16. Write a Python program that accepts a string and calculates the number of digits and letters.\n",
        "# Sample Data: Python 3.2\n",
        "# Expected Output:\n",
        "# Letters 6\n",
        "# Digits 2\n",
        "\n",
        "\n",
        "string = input(\"Enter a string: \")\n",
        "letters = 0\n",
        "digits = 0\n",
        "\n",
        "for i in string:\n",
        "    if i.isalpha():\n",
        "        letters += 1\n",
        "    elif i.isdigit():\n",
        "        digits += 1\n",
        "\n",
        "print(\"Letters\", letters)\n",
        "print(\"Digits\", digits)\n"
      ],
      "metadata": {
        "id": "L8lAin-ISLFs",
        "colab": {
          "base_uri": "https://localhost:8080/"
        },
        "outputId": "cf210760-0305-433f-dda6-f930c2ad56a9"
      },
      "execution_count": null,
      "outputs": [
        {
          "output_type": "stream",
          "name": "stdout",
          "text": [
            "Enter a string: Python 3.2\n",
            "Letters 6\n",
            "Digits 2\n"
          ]
        }
      ]
    },
    {
      "cell_type": "code",
      "source": [
        "# 17) Print all possible combination for a string or a word Sample input “ABC” Sample output BAC CAB CBA ACB BCA\n",
        "from itertools import permutations\n",
        "print([''.join(per) for per in permutations('ABC')])\n"
      ],
      "metadata": {
        "colab": {
          "base_uri": "https://localhost:8080/"
        },
        "id": "_uSR1_3-GjKv",
        "outputId": "8f1ff7ce-0900-44a5-9a5c-555c67c4c263"
      },
      "execution_count": null,
      "outputs": [
        {
          "output_type": "stream",
          "name": "stdout",
          "text": [
            "['ABC', 'ACB', 'BAC', 'BCA', 'CAB', 'CBA']\n"
          ]
        }
      ]
    },
    {
      "cell_type": "code",
      "source": [
        "# 18) Write a Python program to check if a triangle is equilateral, isosceles or scalene.\n",
        "# Take 3 inputs for each side Note : An equilateral triangle is a triangle in which all three sides are equal.\n",
        "# A scalene triangle is a triangle that has three unequal sides.\n",
        "# An isosceles triangle is a triangle with (at least) two equal sides.\n",
        "\n",
        "print(\"Enter the lengths of the sides of a triangle: \")\n",
        "side_a = int(input(\"Length of side A: \"))\n",
        "side_b = int(input(\"Length of side B: \"))\n",
        "side_c = int(input(\"Length of side C: \"))\n",
        "\n",
        "if side_a == side_b == side_c:\n",
        "    print(\"It's an equilateral triangle.\")\n",
        "elif side_a == side_b or side_b == side_c or side_c == side_a:\n",
        "    print(\"It's an isosceles triangle.\")\n",
        "else:\n",
        "    print(\"It's a scalene triangle.\")\n"
      ],
      "metadata": {
        "colab": {
          "base_uri": "https://localhost:8080/"
        },
        "id": "MATV8hfHI2dQ",
        "outputId": "5bd188fe-7fcc-40d2-efea-5f3e0fffbda5"
      },
      "execution_count": null,
      "outputs": [
        {
          "output_type": "stream",
          "name": "stdout",
          "text": [
            "Enter the lengths of the sides of a triangle: \n",
            "Length of side A: 2\n",
            "Length of side B: 3\n",
            "Length of side C: 8\n",
            "It's a scalene triangle.\n"
          ]
        }
      ]
    },
    {
      "cell_type": "code",
      "source": [
        "# 19) Write a Python program to get the next day of a given date.\n",
        "# Expected Output: Input a year: 2016 Input a month [1-12]: 08 Input a day [1-31]: 23\n",
        "# The next date is [yyyy-mm-dd] 2016-8-24\n",
        "\n",
        "year = int(input(\"Input a year: \"))\n",
        "month = int(input(\"Input a month [1-12]: \"))\n",
        "day = int(input(\"Input a day [1-31]: \"))\n",
        "\n",
        "# Check if it's the last day of the month\n",
        "if day == 31 and (month == 1 or month == 3 or month == 5 or month == 7 or month == 8 or month == 10):\n",
        "    next_day = 1\n",
        "    next_month = month + 1\n",
        "elif day == 30 and (month == 4 or month == 6 or month == 9 or month == 11):\n",
        "    next_day = 1\n",
        "    next_month = month + 1\n",
        "elif day == 28 and month == 2 and ((year % 4 != 0) or (year % 100 == 0 and year % 400 != 0)):\n",
        "    next_day = 1\n",
        "    next_month = 3\n",
        "elif day == 29 and month == 2 and (year % 4 == 0 and (year % 100 != 0 or year % 400 == 0)):\n",
        "    next_day = 1\n",
        "    next_month = 3\n",
        "else:\n",
        "    next_day = day + 1\n",
        "    next_month = month\n",
        "\n",
        "# Check if it's the last month of the year\n",
        "if next_month == 13:\n",
        "    next_month = 1\n",
        "    next_year = year + 1\n",
        "else:\n",
        "    next_year = year\n",
        "\n",
        "print(\"The next date is [yyyy-mm-dd]:\", f\"{next_year:04d}-{next_month:02d}-{next_day:02d}\")\n"
      ],
      "metadata": {
        "id": "vlCsdU3-NR2f"
      },
      "execution_count": null,
      "outputs": []
    }
  ]
}